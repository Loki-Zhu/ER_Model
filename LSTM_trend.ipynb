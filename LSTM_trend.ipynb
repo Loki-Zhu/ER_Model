{
 "cells": [
  {
   "metadata": {},
   "cell_type": "markdown",
   "source": "## LSTM测试",
   "id": "b7bbeee07669e3e9"
  },
  {
   "metadata": {
    "ExecuteTime": {
     "end_time": "2025-06-04T13:54:00.368682Z",
     "start_time": "2025-06-04T13:53:56.704728Z"
    }
   },
   "cell_type": "code",
   "source": [
    "import xgboost as xgb\n",
    "from sklearn.metrics import mean_squared_error, mean_absolute_error\n",
    "import matplotlib.pyplot as plt\n",
    "from datetime import date\n",
    "import requests\n",
    "from requests.auth import HTTPBasicAuth\n",
    "import pandas as pd\n",
    "import numpy as np\n",
    "import requests\n",
    "from requests.auth import HTTPBasicAuth\n",
    "from sklearn.metrics import accuracy_score, classification_report, confusion_matrix\n",
    "from datetime import datetime, timedelta\n",
    "import yfinance as yf\n",
    "import numpy as np\n",
    "import pandas as pd\n",
    "from sklearn.preprocessing import MinMaxScaler\n",
    "import torch\n",
    "from torch import nn\n",
    "from torch.utils.data import DataLoader, TensorDataset\n",
    "import matplotlib.pyplot as plt\n",
    "import joblib\n",
    "import random\n",
    "import os\n",
    "import tensorflow as tf"
   ],
   "id": "57637bdddb8d195",
   "outputs": [
    {
     "name": "stderr",
     "output_type": "stream",
     "text": [
      "/Users/loki/PycharmProjects/PythonProject5/.venv/lib/python3.9/site-packages/urllib3/__init__.py:35: NotOpenSSLWarning: urllib3 v2 only supports OpenSSL 1.1.1+, currently the 'ssl' module is compiled with 'LibreSSL 2.8.3'. See: https://github.com/urllib3/urllib3/issues/3020\n",
      "  warnings.warn(\n"
     ]
    }
   ],
   "execution_count": 1
  },
  {
   "metadata": {
    "ExecuteTime": {
     "end_time": "2025-06-04T14:00:49.420999Z",
     "start_time": "2025-06-04T14:00:49.408726Z"
    }
   },
   "cell_type": "code",
   "source": "today = pd.to_datetime(\"today\").normalize()",
   "id": "bd73c372bf4b1caf",
   "outputs": [],
   "execution_count": 26
  },
  {
   "metadata": {
    "ExecuteTime": {
     "end_time": "2025-06-04T13:54:00.627607Z",
     "start_time": "2025-06-04T13:54:00.423625Z"
    }
   },
   "cell_type": "code",
   "source": [
    "data = yf.download(\"CNYGBP=X\", start=\"2015-01-01\", end=today)\n",
    "all_test_df = data\n",
    "all_test_df['ER'] = (all_test_df['High'] + all_test_df['Low']) / 2\n",
    "all_test_df['inverse'] = 1/all_test_df['ER']\n",
    "er_df = all_test_df[['inverse']].rename(columns={\"Close\": \"CNY/GBP\"})"
   ],
   "id": "214af3e7512d4116",
   "outputs": [
    {
     "name": "stderr",
     "output_type": "stream",
     "text": [
      "[*********************100%***********************]  1 of 1 completed"
     ]
    },
    {
     "name": "stdout",
     "output_type": "stream",
     "text": [
      "YF.download() has changed argument auto_adjust default to True\n"
     ]
    },
    {
     "name": "stderr",
     "output_type": "stream",
     "text": [
      "\n"
     ]
    }
   ],
   "execution_count": 3
  },
  {
   "metadata": {
    "ExecuteTime": {
     "end_time": "2025-06-04T14:01:35.532717Z",
     "start_time": "2025-06-04T14:01:35.529043Z"
    }
   },
   "cell_type": "code",
   "source": "today + timedelta(days=1)",
   "id": "5cb488d3dc459067",
   "outputs": [
    {
     "data": {
      "text/plain": [
       "Timestamp('2025-06-05 00:00:00')"
      ]
     },
     "execution_count": 29,
     "metadata": {},
     "output_type": "execute_result"
    }
   ],
   "execution_count": 29
  },
  {
   "metadata": {
    "ExecuteTime": {
     "end_time": "2025-06-04T13:54:00.650393Z",
     "start_time": "2025-06-04T13:54:00.643103Z"
    }
   },
   "cell_type": "code",
   "source": "er_df.tail()",
   "id": "8ba92a0754261fd1",
   "outputs": [
    {
     "data": {
      "text/plain": [
       "Price        inverse\n",
       "Ticker              \n",
       "Date                \n",
       "2025-05-28  9.716332\n",
       "2025-05-29  9.699744\n",
       "2025-05-30  9.712132\n",
       "2025-06-02  9.703745\n",
       "2025-06-03  9.703745"
      ],
      "text/html": [
       "<div>\n",
       "<style scoped>\n",
       "    .dataframe tbody tr th:only-of-type {\n",
       "        vertical-align: middle;\n",
       "    }\n",
       "\n",
       "    .dataframe tbody tr th {\n",
       "        vertical-align: top;\n",
       "    }\n",
       "\n",
       "    .dataframe thead tr th {\n",
       "        text-align: left;\n",
       "    }\n",
       "\n",
       "    .dataframe thead tr:last-of-type th {\n",
       "        text-align: right;\n",
       "    }\n",
       "</style>\n",
       "<table border=\"1\" class=\"dataframe\">\n",
       "  <thead>\n",
       "    <tr>\n",
       "      <th>Price</th>\n",
       "      <th>inverse</th>\n",
       "    </tr>\n",
       "    <tr>\n",
       "      <th>Ticker</th>\n",
       "      <th></th>\n",
       "    </tr>\n",
       "    <tr>\n",
       "      <th>Date</th>\n",
       "      <th></th>\n",
       "    </tr>\n",
       "  </thead>\n",
       "  <tbody>\n",
       "    <tr>\n",
       "      <th>2025-05-28</th>\n",
       "      <td>9.716332</td>\n",
       "    </tr>\n",
       "    <tr>\n",
       "      <th>2025-05-29</th>\n",
       "      <td>9.699744</td>\n",
       "    </tr>\n",
       "    <tr>\n",
       "      <th>2025-05-30</th>\n",
       "      <td>9.712132</td>\n",
       "    </tr>\n",
       "    <tr>\n",
       "      <th>2025-06-02</th>\n",
       "      <td>9.703745</td>\n",
       "    </tr>\n",
       "    <tr>\n",
       "      <th>2025-06-03</th>\n",
       "      <td>9.703745</td>\n",
       "    </tr>\n",
       "  </tbody>\n",
       "</table>\n",
       "</div>"
      ]
     },
     "execution_count": 4,
     "metadata": {},
     "output_type": "execute_result"
    }
   ],
   "execution_count": 4
  },
  {
   "metadata": {
    "ExecuteTime": {
     "end_time": "2025-06-04T13:54:00.911228Z",
     "start_time": "2025-06-04T13:54:00.682557Z"
    }
   },
   "cell_type": "code",
   "source": [
    "policy_df = pd.read_excel(\"test_files/IR.xlsx\")\n",
    "policy_df['rate_diff'] = policy_df['UK'] - policy_df['CN']\n",
    "model_df = policy_df.copy()\n",
    "\n",
    "# 确保 Date 是 datetime 类型\n",
    "model_df['Date'] = pd.to_datetime(model_df['Date'])\n",
    "\n",
    "# 保留工作日（周一到周五）\n",
    "df_weekday = model_df[model_df['Date'].dt.dayofweek < 5].copy()\n",
    "\n",
    "# 按日期排序（可选）\n",
    "df_weekday = df_weekday.sort_values('Date').reset_index(drop=True)\n",
    "\n",
    "# 确保 Date 列格式一致\n",
    "df_weekday['Date'] = pd.to_datetime(df_weekday['Date']).dt.normalize()\n",
    "\n",
    "# 筛选 df_weekday 中仅保留那些出现在 er_df['Date'] 中的行\n",
    "df_weekday_aligned = df_weekday[df_weekday['Date'].isin(er_df.index)].copy()\n",
    "\n",
    "df_weekday_aligned = df_weekday_aligned.reset_index(drop=True)\n",
    "df_weekday_aligned.drop(['UK','CN'], axis=1, inplace=True)\n",
    "er_mid = er_df['inverse'].reset_index(drop=True)\n",
    "er_mid"
   ],
   "id": "6ede8eb89a10740d",
   "outputs": [
    {
     "data": {
      "text/plain": [
       "0       9.621861\n",
       "1       9.563429\n",
       "2       9.499834\n",
       "3       9.454924\n",
       "4       9.389671\n",
       "          ...   \n",
       "2709    9.716332\n",
       "2710    9.699744\n",
       "2711    9.712132\n",
       "2712    9.703745\n",
       "2713    9.703745\n",
       "Name: inverse, Length: 2714, dtype: float64"
      ]
     },
     "execution_count": 5,
     "metadata": {},
     "output_type": "execute_result"
    }
   ],
   "execution_count": 5
  },
  {
   "metadata": {
    "ExecuteTime": {
     "end_time": "2025-06-04T13:54:00.943514Z",
     "start_time": "2025-06-04T13:54:00.933469Z"
    }
   },
   "cell_type": "code",
   "source": [
    "while len(df_weekday_aligned) < len(er_mid):\n",
    "    last_date = df_weekday_aligned['Date'].iloc[-1]\n",
    "    # 获取下一个工作日（跳过周末）\n",
    "    next_workday = pd.date_range(start=last_date + pd.Timedelta(days=1), periods=1, freq='B')[0]\n",
    "\n",
    "    new_row = {col: np.nan for col in df_weekday_aligned.columns}\n",
    "    new_row['Date'] = next_workday\n",
    "    new_row['rate_diff'] = 1.15\n",
    "\n",
    "    df_weekday_aligned = pd.concat([df_weekday_aligned, pd.DataFrame([new_row])], ignore_index=True)\n",
    "df_weekday_aligned['ER'] = er_mid"
   ],
   "id": "e1bee81d9c3c3206",
   "outputs": [],
   "execution_count": 6
  },
  {
   "metadata": {
    "ExecuteTime": {
     "end_time": "2025-06-04T13:54:00.983022Z",
     "start_time": "2025-06-04T13:54:00.979694Z"
    }
   },
   "cell_type": "code",
   "source": [
    "df_weekday_aligned['trade_war'] = 0\n",
    "df_weekday_aligned.loc[(df_weekday_aligned['Date'] >= '2018-03-22') & (df_weekday_aligned['Date'] <= '2018-12-01'), 'trade_war'] = 1\n",
    "df_weekday_aligned.loc[(df_weekday_aligned['Date'] >= '2025-02-01') , 'trade_war'] = 1"
   ],
   "id": "69c611ba44573f7",
   "outputs": [],
   "execution_count": 7
  },
  {
   "metadata": {
    "ExecuteTime": {
     "end_time": "2025-06-04T13:54:01.029138Z",
     "start_time": "2025-06-04T13:54:01.025804Z"
    }
   },
   "cell_type": "code",
   "source": [
    "df_all = df_weekday_aligned\n",
    "df_all['Date'] = pd.to_datetime(df_all['Date'])"
   ],
   "id": "38b01600120b8a98",
   "outputs": [],
   "execution_count": 8
  },
  {
   "metadata": {
    "ExecuteTime": {
     "end_time": "2025-06-04T13:54:01.063830Z",
     "start_time": "2025-06-04T13:54:01.052719Z"
    }
   },
   "cell_type": "code",
   "source": [
    "df_all['prev_change'] = df_all['ER'].pct_change().fillna(0)\n",
    "\n",
    "# Create trend direction label (1 if next day up, 0 if down)\n",
    "df_all['trend_up'] = (df_all['ER'].diff().shift(-1) > 0).astype(int)\n",
    "#df_all['volatility_5'] = df_all['ER'].pct_change().rolling(window=5).std()\n",
    "\n",
    "df_all.dropna(inplace=True)  # drop last row if trend_up for next day is NaN\n",
    "\n",
    "# Display the final feature set\n",
    "display(df_all.tail(5))"
   ],
   "id": "6296c1379c76d0d9",
   "outputs": [
    {
     "data": {
      "text/plain": [
       "           Date  rate_diff        ER  trade_war  prev_change  trend_up\n",
       "2709 2025-05-28       1.15  9.716332          1    -0.004299         0\n",
       "2710 2025-05-29       1.15  9.699744          1    -0.001707         1\n",
       "2711 2025-05-30       1.15  9.712132          1     0.001277         0\n",
       "2712 2025-06-02       1.15  9.703745          1    -0.000864         0\n",
       "2713 2025-06-03       1.15  9.703745          1     0.000000         0"
      ],
      "text/html": [
       "<div>\n",
       "<style scoped>\n",
       "    .dataframe tbody tr th:only-of-type {\n",
       "        vertical-align: middle;\n",
       "    }\n",
       "\n",
       "    .dataframe tbody tr th {\n",
       "        vertical-align: top;\n",
       "    }\n",
       "\n",
       "    .dataframe thead th {\n",
       "        text-align: right;\n",
       "    }\n",
       "</style>\n",
       "<table border=\"1\" class=\"dataframe\">\n",
       "  <thead>\n",
       "    <tr style=\"text-align: right;\">\n",
       "      <th></th>\n",
       "      <th>Date</th>\n",
       "      <th>rate_diff</th>\n",
       "      <th>ER</th>\n",
       "      <th>trade_war</th>\n",
       "      <th>prev_change</th>\n",
       "      <th>trend_up</th>\n",
       "    </tr>\n",
       "  </thead>\n",
       "  <tbody>\n",
       "    <tr>\n",
       "      <th>2709</th>\n",
       "      <td>2025-05-28</td>\n",
       "      <td>1.15</td>\n",
       "      <td>9.716332</td>\n",
       "      <td>1</td>\n",
       "      <td>-0.004299</td>\n",
       "      <td>0</td>\n",
       "    </tr>\n",
       "    <tr>\n",
       "      <th>2710</th>\n",
       "      <td>2025-05-29</td>\n",
       "      <td>1.15</td>\n",
       "      <td>9.699744</td>\n",
       "      <td>1</td>\n",
       "      <td>-0.001707</td>\n",
       "      <td>1</td>\n",
       "    </tr>\n",
       "    <tr>\n",
       "      <th>2711</th>\n",
       "      <td>2025-05-30</td>\n",
       "      <td>1.15</td>\n",
       "      <td>9.712132</td>\n",
       "      <td>1</td>\n",
       "      <td>0.001277</td>\n",
       "      <td>0</td>\n",
       "    </tr>\n",
       "    <tr>\n",
       "      <th>2712</th>\n",
       "      <td>2025-06-02</td>\n",
       "      <td>1.15</td>\n",
       "      <td>9.703745</td>\n",
       "      <td>1</td>\n",
       "      <td>-0.000864</td>\n",
       "      <td>0</td>\n",
       "    </tr>\n",
       "    <tr>\n",
       "      <th>2713</th>\n",
       "      <td>2025-06-03</td>\n",
       "      <td>1.15</td>\n",
       "      <td>9.703745</td>\n",
       "      <td>1</td>\n",
       "      <td>0.000000</td>\n",
       "      <td>0</td>\n",
       "    </tr>\n",
       "  </tbody>\n",
       "</table>\n",
       "</div>"
      ]
     },
     "metadata": {},
     "output_type": "display_data"
    }
   ],
   "execution_count": 9
  },
  {
   "cell_type": "code",
   "id": "initial_id",
   "metadata": {
    "collapsed": true,
    "ExecuteTime": {
     "end_time": "2025-06-04T13:54:01.091838Z",
     "start_time": "2025-06-04T13:54:01.086994Z"
    }
   },
   "source": [
    "lstm_df = df_all.drop(['prev_change'], axis=1)\n",
    "\n",
    "lstm_df['Date'] = pd.to_datetime(lstm_df['Date'])  # 保证为 datetime 类型\n",
    "lstm_df = lstm_df.set_index('Date')  # 设置为 index"
   ],
   "outputs": [],
   "execution_count": 10
  },
  {
   "metadata": {
    "ExecuteTime": {
     "end_time": "2025-06-04T13:54:01.143624Z",
     "start_time": "2025-06-04T13:54:01.133092Z"
    }
   },
   "cell_type": "code",
   "source": [
    "np.random.seed(42)\n",
    "random.seed(42)\n",
    "os.environ['PYTHONHASHSEED'] = str(42)\n",
    "\n",
    "# 固定 TensorFlow 随机种子\n",
    "tf.random.set_seed(42)\n",
    "\n",
    "# 若用GPU，确保 TensorFlow 使用确定性算法\n",
    "# 注意：这会牺牲一定速度\n",
    "from tensorflow.keras import backend as K\n",
    "os.environ['TF_DETERMINISTIC_OPS'] = '1'"
   ],
   "id": "83a25333ac7c25ff",
   "outputs": [],
   "execution_count": 11
  },
  {
   "metadata": {
    "ExecuteTime": {
     "end_time": "2025-06-04T13:54:01.163693Z",
     "start_time": "2025-06-04T13:54:01.159648Z"
    }
   },
   "cell_type": "code",
   "source": [
    "lstm_df['Date'] = lstm_df.index\n",
    "today = pd.to_datetime(\"today\")\n",
    "cutoff = pd.to_datetime(\"2025-05-26\")"
   ],
   "id": "c2440f5dcd93dac3",
   "outputs": [],
   "execution_count": 12
  },
  {
   "metadata": {
    "ExecuteTime": {
     "end_time": "2025-06-04T13:54:01.186904Z",
     "start_time": "2025-06-04T13:54:01.179044Z"
    }
   },
   "cell_type": "code",
   "source": [
    "lstm_df['Date'] = pd.to_datetime(lstm_df['Date'])\n",
    "if today > cutoff + timedelta(days=30):\n",
    "    print(\"超过30天，重新训练模型...\")\n",
    "    lstm_df_model = lstm_df[lstm_df['Date'] < today]\n",
    "\n",
    "    lstm_df_model = lstm_df_model.drop(columns=['Date'], axis=1)\n",
    "    cutoff = today\n",
    "else:\n",
    "    lstm_df_model = lstm_df[lstm_df['Date'] < cutoff]\n",
    "    lstm_df_model = lstm_df_model.drop(['Date'], axis=1)\n",
    "lstm_df = lstm_df.drop(['Date'], axis=1)\n",
    "lstm_df_model.tail()"
   ],
   "id": "87d4c0f54e41e328",
   "outputs": [
    {
     "data": {
      "text/plain": [
       "            rate_diff        ER  trade_war  trend_up\n",
       "Date                                                \n",
       "2025-05-19       1.15  9.622694          1         1\n",
       "2025-05-20       1.15  9.636232          1         1\n",
       "2025-05-21       1.15  9.695136          1         0\n",
       "2025-05-22       1.15  9.663750          1         1\n",
       "2025-05-23       1.15  9.708879          1         1"
      ],
      "text/html": [
       "<div>\n",
       "<style scoped>\n",
       "    .dataframe tbody tr th:only-of-type {\n",
       "        vertical-align: middle;\n",
       "    }\n",
       "\n",
       "    .dataframe tbody tr th {\n",
       "        vertical-align: top;\n",
       "    }\n",
       "\n",
       "    .dataframe thead th {\n",
       "        text-align: right;\n",
       "    }\n",
       "</style>\n",
       "<table border=\"1\" class=\"dataframe\">\n",
       "  <thead>\n",
       "    <tr style=\"text-align: right;\">\n",
       "      <th></th>\n",
       "      <th>rate_diff</th>\n",
       "      <th>ER</th>\n",
       "      <th>trade_war</th>\n",
       "      <th>trend_up</th>\n",
       "    </tr>\n",
       "    <tr>\n",
       "      <th>Date</th>\n",
       "      <th></th>\n",
       "      <th></th>\n",
       "      <th></th>\n",
       "      <th></th>\n",
       "    </tr>\n",
       "  </thead>\n",
       "  <tbody>\n",
       "    <tr>\n",
       "      <th>2025-05-19</th>\n",
       "      <td>1.15</td>\n",
       "      <td>9.622694</td>\n",
       "      <td>1</td>\n",
       "      <td>1</td>\n",
       "    </tr>\n",
       "    <tr>\n",
       "      <th>2025-05-20</th>\n",
       "      <td>1.15</td>\n",
       "      <td>9.636232</td>\n",
       "      <td>1</td>\n",
       "      <td>1</td>\n",
       "    </tr>\n",
       "    <tr>\n",
       "      <th>2025-05-21</th>\n",
       "      <td>1.15</td>\n",
       "      <td>9.695136</td>\n",
       "      <td>1</td>\n",
       "      <td>0</td>\n",
       "    </tr>\n",
       "    <tr>\n",
       "      <th>2025-05-22</th>\n",
       "      <td>1.15</td>\n",
       "      <td>9.663750</td>\n",
       "      <td>1</td>\n",
       "      <td>1</td>\n",
       "    </tr>\n",
       "    <tr>\n",
       "      <th>2025-05-23</th>\n",
       "      <td>1.15</td>\n",
       "      <td>9.708879</td>\n",
       "      <td>1</td>\n",
       "      <td>1</td>\n",
       "    </tr>\n",
       "  </tbody>\n",
       "</table>\n",
       "</div>"
      ]
     },
     "execution_count": 13,
     "metadata": {},
     "output_type": "execute_result"
    }
   ],
   "execution_count": 13
  },
  {
   "metadata": {
    "ExecuteTime": {
     "end_time": "2025-06-04T13:54:19.446625Z",
     "start_time": "2025-06-04T13:54:01.226532Z"
    }
   },
   "cell_type": "code",
   "source": [
    "# Split data into training and testing sets using 80/20 ratio\n",
    "split_idx = int(len(lstm_df_model) * 0.91)\n",
    "train_df = lstm_df_model.iloc[:split_idx]\n",
    "test_df = lstm_df_model.iloc[split_idx:]\n",
    "\n",
    "# Separate features (X) and target (y)\n",
    "X_train = train_df.drop(['rate_diff'],axis=1) # 注意：这里只取特征列\n",
    "y_train = train_df['ER']\n",
    "X_test = test_df.drop(['rate_diff'],axis=1)\n",
    "y_test = test_df['ER']\n",
    "\n",
    "# Normalize features and target using Min-Max scaling (fit on training data only)\n",
    "feature_scaler = MinMaxScaler()\n",
    "target_scaler = MinMaxScaler()\n",
    "X_train_scaled = feature_scaler.fit_transform(X_train)\n",
    "X_test_scaled = feature_scaler.transform(X_test)\n",
    "y_train_scaled = target_scaler.fit_transform(y_train.values.reshape(-1, 1))\n",
    "y_test_scaled = target_scaler.transform(y_test.values.reshape(-1, 1))\n",
    "\n",
    "# Prepare data for LSTM: create sequences of length `lookback` for each training example\n",
    "lookback = 12  # use past 12 months to predict the next month\n",
    "X_train_seq, y_train_seq = [], []\n",
    "for i in range(lookback, len(X_train_scaled)):\n",
    "    # sequence of `lookback` feature vectors\n",
    "    X_train_seq.append(X_train_scaled[i-lookback:i])\n",
    "    # target is the exchange rate at this time (one month ahead of last input month)\n",
    "    y_train_seq.append(y_train_scaled[i])\n",
    "X_train_seq = np.array(X_train_seq)\n",
    "y_train_seq = np.array(y_train_seq)\n",
    "\n",
    "# Prepare sequences for the test set (using preceding data for initial sequence)\n",
    "X_test_seq, y_test_seq = [], []\n",
    "# Concatenate train and test for sequence generation to include trailing train data in initial test sequences\n",
    "total_X = np.concatenate((X_train_scaled, X_test_scaled), axis=0)\n",
    "total_y = np.concatenate((y_train_scaled, y_test_scaled), axis=0)\n",
    "train_len = len(X_train_scaled)\n",
    "for i in range(train_len, len(total_X)):\n",
    "    if i < lookback:\n",
    "        continue  # skip until we have enough history\n",
    "    X_test_seq.append(total_X[i-lookback:i])\n",
    "    y_test_seq.append(total_y[i])\n",
    "X_test_seq = np.array(X_test_seq)\n",
    "y_test_seq = np.array(y_test_seq)\n",
    "\n",
    "# Build the LSTM model\n",
    "from keras.models import Sequential\n",
    "from keras.layers import LSTM, Dense, Dropout\n",
    "# 改进后的双层 LSTM 架构\n",
    "model = Sequential()\n",
    "model.add(LSTM(64, return_sequences=True, input_shape=(lookback, X_train_seq.shape[2])))\n",
    "model.add(Dropout(0.2))\n",
    "model.add(LSTM(32))\n",
    "model.add(Dense(1))\n",
    "\n",
    "# 别忘了这一步！！\n",
    "model.compile(optimizer='adam', loss='mean_squared_error')\n",
    "\n",
    "# 然后再训练\n",
    "history = model.fit(X_train_seq, y_train_seq, epochs=50, batch_size=16, validation_split=0.1, verbose=1)\n",
    "\n",
    "#model.save(\"baseline_model_85.h5\")"
   ],
   "id": "3d53b9a0387b5b76",
   "outputs": [
    {
     "name": "stdout",
     "output_type": "stream",
     "text": [
      "Epoch 1/50\n"
     ]
    },
    {
     "name": "stderr",
     "output_type": "stream",
     "text": [
      "/Users/loki/PycharmProjects/PythonProject5/.venv/lib/python3.9/site-packages/keras/src/layers/rnn/rnn.py:200: UserWarning: Do not pass an `input_shape`/`input_dim` argument to a layer. When using Sequential models, prefer using an `Input(shape)` object as the first layer in the model instead.\n",
      "  super().__init__(**kwargs)\n",
      "2025-06-04 14:54:01.364499: E tensorflow/core/framework/node_def_util.cc:680] NodeDef mentions attribute use_unbounded_threadpool which is not in the op definition: Op<name=MapDataset; signature=input_dataset:variant, other_arguments: -> handle:variant; attr=f:func; attr=Targuments:list(type),min=0; attr=output_types:list(type),min=1; attr=output_shapes:list(shape),min=1; attr=use_inter_op_parallelism:bool,default=true; attr=preserve_cardinality:bool,default=false; attr=force_synchronous:bool,default=false; attr=metadata:string,default=\"\"> This may be expected if your graph generating binary is newer  than this binary. Unknown attributes will be ignored. NodeDef: {{node ParallelMapDatasetV2/_15}}\n",
      "2025-06-04 14:54:01.365077: E tensorflow/core/framework/node_def_util.cc:680] NodeDef mentions attribute use_unbounded_threadpool which is not in the op definition: Op<name=MapDataset; signature=input_dataset:variant, other_arguments: -> handle:variant; attr=f:func; attr=Targuments:list(type),min=0; attr=output_types:list(type),min=1; attr=output_shapes:list(shape),min=1; attr=use_inter_op_parallelism:bool,default=true; attr=preserve_cardinality:bool,default=false; attr=force_synchronous:bool,default=false; attr=metadata:string,default=\"\"> This may be expected if your graph generating binary is newer  than this binary. Unknown attributes will be ignored. NodeDef: {{node ParallelMapDatasetV2/_15}}\n"
     ]
    },
    {
     "name": "stdout",
     "output_type": "stream",
     "text": [
      "\u001B[1m138/138\u001B[0m \u001B[32m━━━━━━━━━━━━━━━━━━━━\u001B[0m\u001B[37m\u001B[0m \u001B[1m1s\u001B[0m 3ms/step - loss: 0.0367 - val_loss: 4.6374e-04\n",
      "Epoch 2/50\n",
      "\u001B[1m138/138\u001B[0m \u001B[32m━━━━━━━━━━━━━━━━━━━━\u001B[0m\u001B[37m\u001B[0m \u001B[1m0s\u001B[0m 2ms/step - loss: 0.0015 - val_loss: 7.8233e-04\n",
      "Epoch 3/50\n",
      "\u001B[1m138/138\u001B[0m \u001B[32m━━━━━━━━━━━━━━━━━━━━\u001B[0m\u001B[37m\u001B[0m \u001B[1m0s\u001B[0m 2ms/step - loss: 0.0013 - val_loss: 7.6790e-04\n",
      "Epoch 4/50\n",
      "\u001B[1m138/138\u001B[0m \u001B[32m━━━━━━━━━━━━━━━━━━━━\u001B[0m\u001B[37m\u001B[0m \u001B[1m0s\u001B[0m 2ms/step - loss: 0.0013 - val_loss: 5.0232e-04\n",
      "Epoch 5/50\n",
      "\u001B[1m138/138\u001B[0m \u001B[32m━━━━━━━━━━━━━━━━━━━━\u001B[0m\u001B[37m\u001B[0m \u001B[1m0s\u001B[0m 2ms/step - loss: 0.0011 - val_loss: 4.6534e-04\n",
      "Epoch 6/50\n",
      "\u001B[1m138/138\u001B[0m \u001B[32m━━━━━━━━━━━━━━━━━━━━\u001B[0m\u001B[37m\u001B[0m \u001B[1m0s\u001B[0m 2ms/step - loss: 0.0011 - val_loss: 6.5945e-04\n",
      "Epoch 7/50\n",
      "\u001B[1m138/138\u001B[0m \u001B[32m━━━━━━━━━━━━━━━━━━━━\u001B[0m\u001B[37m\u001B[0m \u001B[1m0s\u001B[0m 2ms/step - loss: 0.0011 - val_loss: 0.0011\n",
      "Epoch 8/50\n",
      "\u001B[1m138/138\u001B[0m \u001B[32m━━━━━━━━━━━━━━━━━━━━\u001B[0m\u001B[37m\u001B[0m \u001B[1m0s\u001B[0m 2ms/step - loss: 0.0010 - val_loss: 0.0012\n",
      "Epoch 9/50\n",
      "\u001B[1m138/138\u001B[0m \u001B[32m━━━━━━━━━━━━━━━━━━━━\u001B[0m\u001B[37m\u001B[0m \u001B[1m0s\u001B[0m 2ms/step - loss: 9.4095e-04 - val_loss: 6.8781e-04\n",
      "Epoch 10/50\n",
      "\u001B[1m138/138\u001B[0m \u001B[32m━━━━━━━━━━━━━━━━━━━━\u001B[0m\u001B[37m\u001B[0m \u001B[1m0s\u001B[0m 2ms/step - loss: 0.0010 - val_loss: 5.2865e-04\n",
      "Epoch 11/50\n",
      "\u001B[1m138/138\u001B[0m \u001B[32m━━━━━━━━━━━━━━━━━━━━\u001B[0m\u001B[37m\u001B[0m \u001B[1m0s\u001B[0m 2ms/step - loss: 8.7548e-04 - val_loss: 0.0010\n",
      "Epoch 12/50\n",
      "\u001B[1m138/138\u001B[0m \u001B[32m━━━━━━━━━━━━━━━━━━━━\u001B[0m\u001B[37m\u001B[0m \u001B[1m0s\u001B[0m 3ms/step - loss: 9.1068e-04 - val_loss: 3.8352e-04\n",
      "Epoch 13/50\n",
      "\u001B[1m138/138\u001B[0m \u001B[32m━━━━━━━━━━━━━━━━━━━━\u001B[0m\u001B[37m\u001B[0m \u001B[1m0s\u001B[0m 2ms/step - loss: 8.4823e-04 - val_loss: 3.4886e-04\n",
      "Epoch 14/50\n",
      "\u001B[1m138/138\u001B[0m \u001B[32m━━━━━━━━━━━━━━━━━━━━\u001B[0m\u001B[37m\u001B[0m \u001B[1m0s\u001B[0m 2ms/step - loss: 7.8360e-04 - val_loss: 3.3054e-04\n",
      "Epoch 15/50\n",
      "\u001B[1m138/138\u001B[0m \u001B[32m━━━━━━━━━━━━━━━━━━━━\u001B[0m\u001B[37m\u001B[0m \u001B[1m0s\u001B[0m 2ms/step - loss: 8.2607e-04 - val_loss: 3.5378e-04\n",
      "Epoch 16/50\n",
      "\u001B[1m138/138\u001B[0m \u001B[32m━━━━━━━━━━━━━━━━━━━━\u001B[0m\u001B[37m\u001B[0m \u001B[1m0s\u001B[0m 2ms/step - loss: 7.4248e-04 - val_loss: 2.8724e-04\n",
      "Epoch 17/50\n",
      "\u001B[1m138/138\u001B[0m \u001B[32m━━━━━━━━━━━━━━━━━━━━\u001B[0m\u001B[37m\u001B[0m \u001B[1m0s\u001B[0m 2ms/step - loss: 7.1418e-04 - val_loss: 5.1665e-04\n",
      "Epoch 18/50\n",
      "\u001B[1m138/138\u001B[0m \u001B[32m━━━━━━━━━━━━━━━━━━━━\u001B[0m\u001B[37m\u001B[0m \u001B[1m0s\u001B[0m 2ms/step - loss: 7.0090e-04 - val_loss: 2.6425e-04\n",
      "Epoch 19/50\n",
      "\u001B[1m138/138\u001B[0m \u001B[32m━━━━━━━━━━━━━━━━━━━━\u001B[0m\u001B[37m\u001B[0m \u001B[1m0s\u001B[0m 2ms/step - loss: 7.1163e-04 - val_loss: 2.4978e-04\n",
      "Epoch 20/50\n",
      "\u001B[1m138/138\u001B[0m \u001B[32m━━━━━━━━━━━━━━━━━━━━\u001B[0m\u001B[37m\u001B[0m \u001B[1m0s\u001B[0m 2ms/step - loss: 6.6753e-04 - val_loss: 2.7278e-04\n",
      "Epoch 21/50\n",
      "\u001B[1m138/138\u001B[0m \u001B[32m━━━━━━━━━━━━━━━━━━━━\u001B[0m\u001B[37m\u001B[0m \u001B[1m0s\u001B[0m 2ms/step - loss: 6.3539e-04 - val_loss: 3.3679e-04\n",
      "Epoch 22/50\n",
      "\u001B[1m138/138\u001B[0m \u001B[32m━━━━━━━━━━━━━━━━━━━━\u001B[0m\u001B[37m\u001B[0m \u001B[1m0s\u001B[0m 2ms/step - loss: 5.8284e-04 - val_loss: 2.3932e-04\n",
      "Epoch 23/50\n",
      "\u001B[1m138/138\u001B[0m \u001B[32m━━━━━━━━━━━━━━━━━━━━\u001B[0m\u001B[37m\u001B[0m \u001B[1m0s\u001B[0m 2ms/step - loss: 6.0531e-04 - val_loss: 2.2481e-04\n",
      "Epoch 24/50\n",
      "\u001B[1m138/138\u001B[0m \u001B[32m━━━━━━━━━━━━━━━━━━━━\u001B[0m\u001B[37m\u001B[0m \u001B[1m0s\u001B[0m 2ms/step - loss: 5.4625e-04 - val_loss: 2.2839e-04\n",
      "Epoch 25/50\n",
      "\u001B[1m138/138\u001B[0m \u001B[32m━━━━━━━━━━━━━━━━━━━━\u001B[0m\u001B[37m\u001B[0m \u001B[1m0s\u001B[0m 2ms/step - loss: 5.1902e-04 - val_loss: 5.4161e-04\n",
      "Epoch 26/50\n",
      "\u001B[1m138/138\u001B[0m \u001B[32m━━━━━━━━━━━━━━━━━━━━\u001B[0m\u001B[37m\u001B[0m \u001B[1m0s\u001B[0m 2ms/step - loss: 5.6375e-04 - val_loss: 2.8285e-04\n",
      "Epoch 27/50\n",
      "\u001B[1m138/138\u001B[0m \u001B[32m━━━━━━━━━━━━━━━━━━━━\u001B[0m\u001B[37m\u001B[0m \u001B[1m0s\u001B[0m 2ms/step - loss: 4.9506e-04 - val_loss: 2.2587e-04\n",
      "Epoch 28/50\n",
      "\u001B[1m138/138\u001B[0m \u001B[32m━━━━━━━━━━━━━━━━━━━━\u001B[0m\u001B[37m\u001B[0m \u001B[1m0s\u001B[0m 2ms/step - loss: 4.7297e-04 - val_loss: 2.8510e-04\n",
      "Epoch 29/50\n",
      "\u001B[1m138/138\u001B[0m \u001B[32m━━━━━━━━━━━━━━━━━━━━\u001B[0m\u001B[37m\u001B[0m \u001B[1m0s\u001B[0m 2ms/step - loss: 4.7255e-04 - val_loss: 2.0394e-04\n",
      "Epoch 30/50\n",
      "\u001B[1m138/138\u001B[0m \u001B[32m━━━━━━━━━━━━━━━━━━━━\u001B[0m\u001B[37m\u001B[0m \u001B[1m0s\u001B[0m 2ms/step - loss: 4.6386e-04 - val_loss: 1.8945e-04\n",
      "Epoch 31/50\n",
      "\u001B[1m138/138\u001B[0m \u001B[32m━━━━━━━━━━━━━━━━━━━━\u001B[0m\u001B[37m\u001B[0m \u001B[1m0s\u001B[0m 2ms/step - loss: 4.5283e-04 - val_loss: 2.4273e-04\n",
      "Epoch 32/50\n",
      "\u001B[1m138/138\u001B[0m \u001B[32m━━━━━━━━━━━━━━━━━━━━\u001B[0m\u001B[37m\u001B[0m \u001B[1m0s\u001B[0m 2ms/step - loss: 4.6307e-04 - val_loss: 2.8242e-04\n",
      "Epoch 33/50\n",
      "\u001B[1m138/138\u001B[0m \u001B[32m━━━━━━━━━━━━━━━━━━━━\u001B[0m\u001B[37m\u001B[0m \u001B[1m0s\u001B[0m 2ms/step - loss: 4.3327e-04 - val_loss: 2.1464e-04\n",
      "Epoch 34/50\n",
      "\u001B[1m138/138\u001B[0m \u001B[32m━━━━━━━━━━━━━━━━━━━━\u001B[0m\u001B[37m\u001B[0m \u001B[1m0s\u001B[0m 2ms/step - loss: 4.3091e-04 - val_loss: 2.4424e-04\n",
      "Epoch 35/50\n",
      "\u001B[1m138/138\u001B[0m \u001B[32m━━━━━━━━━━━━━━━━━━━━\u001B[0m\u001B[37m\u001B[0m \u001B[1m0s\u001B[0m 2ms/step - loss: 3.9609e-04 - val_loss: 2.6385e-04\n",
      "Epoch 36/50\n",
      "\u001B[1m138/138\u001B[0m \u001B[32m━━━━━━━━━━━━━━━━━━━━\u001B[0m\u001B[37m\u001B[0m \u001B[1m0s\u001B[0m 2ms/step - loss: 3.5102e-04 - val_loss: 3.1392e-04\n",
      "Epoch 37/50\n",
      "\u001B[1m138/138\u001B[0m \u001B[32m━━━━━━━━━━━━━━━━━━━━\u001B[0m\u001B[37m\u001B[0m \u001B[1m0s\u001B[0m 2ms/step - loss: 3.8350e-04 - val_loss: 3.3459e-04\n",
      "Epoch 38/50\n",
      "\u001B[1m138/138\u001B[0m \u001B[32m━━━━━━━━━━━━━━━━━━━━\u001B[0m\u001B[37m\u001B[0m \u001B[1m0s\u001B[0m 2ms/step - loss: 4.0274e-04 - val_loss: 1.4008e-04\n",
      "Epoch 39/50\n",
      "\u001B[1m138/138\u001B[0m \u001B[32m━━━━━━━━━━━━━━━━━━━━\u001B[0m\u001B[37m\u001B[0m \u001B[1m0s\u001B[0m 2ms/step - loss: 3.3450e-04 - val_loss: 2.1715e-04\n",
      "Epoch 40/50\n",
      "\u001B[1m138/138\u001B[0m \u001B[32m━━━━━━━━━━━━━━━━━━━━\u001B[0m\u001B[37m\u001B[0m \u001B[1m0s\u001B[0m 2ms/step - loss: 3.6741e-04 - val_loss: 1.3123e-04\n",
      "Epoch 41/50\n",
      "\u001B[1m138/138\u001B[0m \u001B[32m━━━━━━━━━━━━━━━━━━━━\u001B[0m\u001B[37m\u001B[0m \u001B[1m0s\u001B[0m 2ms/step - loss: 3.4410e-04 - val_loss: 1.7519e-04\n",
      "Epoch 42/50\n",
      "\u001B[1m138/138\u001B[0m \u001B[32m━━━━━━━━━━━━━━━━━━━━\u001B[0m\u001B[37m\u001B[0m \u001B[1m0s\u001B[0m 2ms/step - loss: 3.6159e-04 - val_loss: 2.9671e-04\n",
      "Epoch 43/50\n",
      "\u001B[1m138/138\u001B[0m \u001B[32m━━━━━━━━━━━━━━━━━━━━\u001B[0m\u001B[37m\u001B[0m \u001B[1m0s\u001B[0m 2ms/step - loss: 3.6170e-04 - val_loss: 1.3242e-04\n",
      "Epoch 44/50\n",
      "\u001B[1m138/138\u001B[0m \u001B[32m━━━━━━━━━━━━━━━━━━━━\u001B[0m\u001B[37m\u001B[0m \u001B[1m0s\u001B[0m 2ms/step - loss: 3.6009e-04 - val_loss: 1.3664e-04\n",
      "Epoch 45/50\n",
      "\u001B[1m138/138\u001B[0m \u001B[32m━━━━━━━━━━━━━━━━━━━━\u001B[0m\u001B[37m\u001B[0m \u001B[1m0s\u001B[0m 2ms/step - loss: 3.1329e-04 - val_loss: 1.2333e-04\n",
      "Epoch 46/50\n",
      "\u001B[1m138/138\u001B[0m \u001B[32m━━━━━━━━━━━━━━━━━━━━\u001B[0m\u001B[37m\u001B[0m \u001B[1m0s\u001B[0m 2ms/step - loss: 3.3597e-04 - val_loss: 1.2480e-04\n",
      "Epoch 47/50\n",
      "\u001B[1m138/138\u001B[0m \u001B[32m━━━━━━━━━━━━━━━━━━━━\u001B[0m\u001B[37m\u001B[0m \u001B[1m0s\u001B[0m 2ms/step - loss: 2.9645e-04 - val_loss: 1.9924e-04\n",
      "Epoch 48/50\n",
      "\u001B[1m138/138\u001B[0m \u001B[32m━━━━━━━━━━━━━━━━━━━━\u001B[0m\u001B[37m\u001B[0m \u001B[1m0s\u001B[0m 2ms/step - loss: 3.1820e-04 - val_loss: 2.2871e-04\n",
      "Epoch 49/50\n",
      "\u001B[1m138/138\u001B[0m \u001B[32m━━━━━━━━━━━━━━━━━━━━\u001B[0m\u001B[37m\u001B[0m \u001B[1m0s\u001B[0m 2ms/step - loss: 3.1496e-04 - val_loss: 1.3985e-04\n",
      "Epoch 50/50\n",
      "\u001B[1m138/138\u001B[0m \u001B[32m━━━━━━━━━━━━━━━━━━━━\u001B[0m\u001B[37m\u001B[0m \u001B[1m0s\u001B[0m 2ms/step - loss: 2.8893e-04 - val_loss: 1.2249e-04\n"
     ]
    }
   ],
   "execution_count": 14
  },
  {
   "metadata": {
    "ExecuteTime": {
     "end_time": "2025-06-04T13:54:19.728929Z",
     "start_time": "2025-06-04T13:54:19.466586Z"
    }
   },
   "cell_type": "code",
   "source": [
    "# Evaluate the model on the test set\n",
    "test_loss = model.evaluate(X_test_seq, y_test_seq, verbose=0)\n",
    "print(f\"Test MSE Loss: {test_loss:.6f}\")\n",
    "\n",
    "# Make predictions for the test period\n",
    "y_pred_scaled = model.predict(X_test_seq)\n",
    "# Inverse-transform the predictions back to original scale\n",
    "y_pred = target_scaler.inverse_transform(y_pred_scaled)\n",
    "y_actual = target_scaler.inverse_transform(y_test_seq)\n",
    "\n",
    "# Visualize the results: Actual vs Predicted exchange rate\n",
    "\n",
    "plt.figure(figsize=(8,5))\n",
    "plt.plot(y_actual, label='Actual CNY/GBP')\n",
    "plt.plot(y_pred, label='Predicted CNY/GBP')\n",
    "plt.title('Actual vs Predicted CNY/GBP Exchange Rate (Test Set)')\n",
    "plt.xlabel('Month')\n",
    "plt.ylabel('Exchange Rate (CNY per GBP)')\n",
    "plt.legend()\n",
    "plt.grid(True)\n",
    "plt.show()"
   ],
   "id": "84589ccc09358926",
   "outputs": [
    {
     "name": "stdout",
     "output_type": "stream",
     "text": [
      "Test MSE Loss: 0.000229\n",
      "\u001B[1m8/8\u001B[0m \u001B[32m━━━━━━━━━━━━━━━━━━━━\u001B[0m\u001B[37m\u001B[0m \u001B[1m0s\u001B[0m 10ms/step\n"
     ]
    },
    {
     "name": "stderr",
     "output_type": "stream",
     "text": [
      "2025-06-04 14:54:19.484967: E tensorflow/core/framework/node_def_util.cc:680] NodeDef mentions attribute use_unbounded_threadpool which is not in the op definition: Op<name=MapDataset; signature=input_dataset:variant, other_arguments: -> handle:variant; attr=f:func; attr=Targuments:list(type),min=0; attr=output_types:list(type),min=1; attr=output_shapes:list(shape),min=1; attr=use_inter_op_parallelism:bool,default=true; attr=preserve_cardinality:bool,default=false; attr=force_synchronous:bool,default=false; attr=metadata:string,default=\"\"> This may be expected if your graph generating binary is newer  than this binary. Unknown attributes will be ignored. NodeDef: {{node ParallelMapDatasetV2/_15}}\n",
      "2025-06-04 14:54:19.485212: E tensorflow/core/framework/node_def_util.cc:680] NodeDef mentions attribute use_unbounded_threadpool which is not in the op definition: Op<name=MapDataset; signature=input_dataset:variant, other_arguments: -> handle:variant; attr=f:func; attr=Targuments:list(type),min=0; attr=output_types:list(type),min=1; attr=output_shapes:list(shape),min=1; attr=use_inter_op_parallelism:bool,default=true; attr=preserve_cardinality:bool,default=false; attr=force_synchronous:bool,default=false; attr=metadata:string,default=\"\"> This may be expected if your graph generating binary is newer  than this binary. Unknown attributes will be ignored. NodeDef: {{node ParallelMapDatasetV2/_15}}\n"
     ]
    },
    {
     "data": {
      "text/plain": [
       "<Figure size 800x500 with 1 Axes>"
      ],
      "image/png": "[encoded data removed]"
     },
     "metadata": {},
     "output_type": "display_data"
    }
   ],
   "execution_count": 15
  },
  {
   "metadata": {
    "ExecuteTime": {
     "end_time": "2025-06-04T13:54:19.734949Z",
     "start_time": "2025-06-04T13:54:19.731503Z"
    }
   },
   "cell_type": "code",
   "source": [
    "pred_df = pd.DataFrame(y_pred)\n",
    "y_test = y_test.iloc[:-1]\n",
    "error_cal = pd.DataFrame({})\n",
    "error_cal['pred'] = pred_df\n",
    "y_mid = y_test.reset_index(drop=True)\n",
    "error_cal['actual'] = y_mid\n",
    "error_cal['error'] = error_cal['pred'] - error_cal['actual']"
   ],
   "id": "71cac1b566a18da5",
   "outputs": [],
   "execution_count": 16
  },
  {
   "metadata": {
    "ExecuteTime": {
     "end_time": "2025-06-04T13:54:19.763479Z",
     "start_time": "2025-06-04T13:54:19.761804Z"
    }
   },
   "cell_type": "code",
   "source": "#error_cal = error_cal[-15:]",
   "id": "17902688e407e36c",
   "outputs": [],
   "execution_count": 17
  },
  {
   "metadata": {
    "ExecuteTime": {
     "end_time": "2025-06-04T13:54:19.789961Z",
     "start_time": "2025-06-04T13:54:19.788595Z"
    }
   },
   "cell_type": "code",
   "source": "#error_cal = error_cal.head(10)",
   "id": "3f8044fa60f2f7ad",
   "outputs": [],
   "execution_count": 18
  },
  {
   "metadata": {
    "ExecuteTime": {
     "end_time": "2025-06-04T13:54:19.819195Z",
     "start_time": "2025-06-04T13:54:19.815313Z"
    }
   },
   "cell_type": "code",
   "source": "error_cal",
   "id": "40b09bec71d3928d",
   "outputs": [
    {
     "data": {
      "text/plain": [
       "         pred    actual     error\n",
       "0    9.118895  9.168382 -0.049487\n",
       "1    9.118059  9.168382 -0.050323\n",
       "2    9.117560  9.168382 -0.050822\n",
       "3    9.183608  9.211538 -0.027930\n",
       "4    9.232285  9.230755  0.001529\n",
       "..        ...       ...       ...\n",
       "239  9.628819  9.622694  0.006124\n",
       "240  9.666919  9.636232  0.030687\n",
       "241  9.684306  9.695136 -0.010830\n",
       "242  9.670940  9.663750  0.007190\n",
       "243  9.707477       NaN       NaN\n",
       "\n",
       "[244 rows x 3 columns]"
      ],
      "text/html": [
       "<div>\n",
       "<style scoped>\n",
       "    .dataframe tbody tr th:only-of-type {\n",
       "        vertical-align: middle;\n",
       "    }\n",
       "\n",
       "    .dataframe tbody tr th {\n",
       "        vertical-align: top;\n",
       "    }\n",
       "\n",
       "    .dataframe thead th {\n",
       "        text-align: right;\n",
       "    }\n",
       "</style>\n",
       "<table border=\"1\" class=\"dataframe\">\n",
       "  <thead>\n",
       "    <tr style=\"text-align: right;\">\n",
       "      <th></th>\n",
       "      <th>pred</th>\n",
       "      <th>actual</th>\n",
       "      <th>error</th>\n",
       "    </tr>\n",
       "  </thead>\n",
       "  <tbody>\n",
       "    <tr>\n",
       "      <th>0</th>\n",
       "      <td>9.118895</td>\n",
       "      <td>9.168382</td>\n",
       "      <td>-0.049487</td>\n",
       "    </tr>\n",
       "    <tr>\n",
       "      <th>1</th>\n",
       "      <td>9.118059</td>\n",
       "      <td>9.168382</td>\n",
       "      <td>-0.050323</td>\n",
       "    </tr>\n",
       "    <tr>\n",
       "      <th>2</th>\n",
       "      <td>9.117560</td>\n",
       "      <td>9.168382</td>\n",
       "      <td>-0.050822</td>\n",
       "    </tr>\n",
       "    <tr>\n",
       "      <th>3</th>\n",
       "      <td>9.183608</td>\n",
       "      <td>9.211538</td>\n",
       "      <td>-0.027930</td>\n",
       "    </tr>\n",
       "    <tr>\n",
       "      <th>4</th>\n",
       "      <td>9.232285</td>\n",
       "      <td>9.230755</td>\n",
       "      <td>0.001529</td>\n",
       "    </tr>\n",
       "    <tr>\n",
       "      <th>...</th>\n",
       "      <td>...</td>\n",
       "      <td>...</td>\n",
       "      <td>...</td>\n",
       "    </tr>\n",
       "    <tr>\n",
       "      <th>239</th>\n",
       "      <td>9.628819</td>\n",
       "      <td>9.622694</td>\n",
       "      <td>0.006124</td>\n",
       "    </tr>\n",
       "    <tr>\n",
       "      <th>240</th>\n",
       "      <td>9.666919</td>\n",
       "      <td>9.636232</td>\n",
       "      <td>0.030687</td>\n",
       "    </tr>\n",
       "    <tr>\n",
       "      <th>241</th>\n",
       "      <td>9.684306</td>\n",
       "      <td>9.695136</td>\n",
       "      <td>-0.010830</td>\n",
       "    </tr>\n",
       "    <tr>\n",
       "      <th>242</th>\n",
       "      <td>9.670940</td>\n",
       "      <td>9.663750</td>\n",
       "      <td>0.007190</td>\n",
       "    </tr>\n",
       "    <tr>\n",
       "      <th>243</th>\n",
       "      <td>9.707477</td>\n",
       "      <td>NaN</td>\n",
       "      <td>NaN</td>\n",
       "    </tr>\n",
       "  </tbody>\n",
       "</table>\n",
       "<p>244 rows × 3 columns</p>\n",
       "</div>"
      ]
     },
     "execution_count": 19,
     "metadata": {},
     "output_type": "execute_result"
    }
   ],
   "execution_count": 19
  },
  {
   "metadata": {
    "ExecuteTime": {
     "end_time": "2025-06-04T13:54:19.866614Z",
     "start_time": "2025-06-04T13:54:19.863120Z"
    }
   },
   "cell_type": "code",
   "source": [
    "# 计算实际值和预测值的变化趋势（相邻天数差）\n",
    "actual_diff = error_cal['actual'].diff()\n",
    "pred_diff = error_cal['pred'].diff()\n",
    "\n",
    "# 判断趋势是否一致（同为正或同为负 → 相乘大于0）\n",
    "trend_correct = (actual_diff * pred_diff) > 0\n",
    "\n",
    "# 去除第一个 NaN（因为 diff 会在第一行生成 NaN）\n",
    "trend_correct = trend_correct[1:-1]\n",
    "\n",
    "# 计算正确比例\n",
    "trend_accuracy = trend_correct.sum() / len(trend_correct)\n",
    "\n",
    "# 输出\n",
    "print(f\"趋势判断正确的比例为: {trend_accuracy:.2%}\")\n",
    "\n",
    "threshold = 0.05\n",
    "proportion = (error_cal['error'].abs() > threshold).mean()\n",
    "\n",
    "print(f\"误差小于 0.05 的比例为：{(1-proportion):.2%}\")"
   ],
   "id": "11eaad5fdc4f49ca",
   "outputs": [
    {
     "name": "stdout",
     "output_type": "stream",
     "text": [
      "趋势判断正确的比例为: 96.69%\n",
      "误差小于 0.05 的比例为：95.08%\n"
     ]
    }
   ],
   "execution_count": 20
  },
  {
   "metadata": {
    "ExecuteTime": {
     "end_time": "2025-06-04T13:54:19.896828Z",
     "start_time": "2025-06-04T13:54:19.893949Z"
    }
   },
   "cell_type": "code",
   "source": [
    "actual_cleaned = actual_diff.dropna()\n",
    "pred_mid = pred_diff.dropna()\n",
    "pred_cleaned = pred_mid.iloc[:-1]\n",
    "\n",
    "# 假设涨跌的分类标准是：大于等于0 为 'Up'，否则为 'Down'\n",
    "actual_labels = ['Up' if x >= 0 else 'Down' for x in actual_cleaned]\n",
    "pred_labels = ['Up' if x >= 0 else 'Down' for x in pred_cleaned]\n"
   ],
   "id": "996568dbb4892680",
   "outputs": [],
   "execution_count": 21
  },
  {
   "metadata": {
    "ExecuteTime": {
     "end_time": "2025-06-04T13:54:19.910654Z",
     "start_time": "2025-06-04T13:54:19.903002Z"
    }
   },
   "cell_type": "code",
   "source": [
    "from sklearn.metrics import confusion_matrix, classification_report\n",
    "\n",
    "print(confusion_matrix(actual_labels, pred_labels))\n",
    "print(classification_report(actual_labels, pred_labels, target_names=['Down', 'Up']))\n"
   ],
   "id": "892ef94ca405724a",
   "outputs": [
    {
     "name": "stdout",
     "output_type": "stream",
     "text": [
      "[[108   4]\n",
      " [  4 126]]\n",
      "              precision    recall  f1-score   support\n",
      "\n",
      "        Down       0.96      0.96      0.96       112\n",
      "          Up       0.97      0.97      0.97       130\n",
      "\n",
      "    accuracy                           0.97       242\n",
      "   macro avg       0.97      0.97      0.97       242\n",
      "weighted avg       0.97      0.97      0.97       242\n",
      "\n"
     ]
    }
   ],
   "execution_count": 22
  },
  {
   "metadata": {},
   "cell_type": "markdown",
   "source": "## 使用全部数据进行训练，预测未来汇率",
   "id": "6f6b966c8f93add7"
  },
  {
   "metadata": {
    "ExecuteTime": {
     "end_time": "2025-06-04T13:54:19.942673Z",
     "start_time": "2025-06-04T13:54:19.938792Z"
    }
   },
   "cell_type": "code",
   "source": [
    "X_train_all = lstm_df.drop(['rate_diff'],axis=1)\n",
    "y_train_all = lstm_df['ER']\n",
    "target_scaler = MinMaxScaler()\n",
    "# Normalize features and target using Min-Max scaling (fit on training data only)\n",
    "feature_scaler = MinMaxScaler()\n",
    "X_train_scaled_all = feature_scaler.fit_transform(X_train_all)\n",
    "y_train_scaled_all = target_scaler.fit_transform(y_train_all.values.reshape(-1, 1))\n",
    "\n",
    "# Prepare data for LSTM: create sequences of length `lookback` for each training example\n",
    "lookback = 12  # use past 12 months to predict the next month"
   ],
   "id": "b9e28140d54747",
   "outputs": [],
   "execution_count": 23
  },
  {
   "metadata": {
    "ExecuteTime": {
     "end_time": "2025-06-04T13:54:20.000636Z",
     "start_time": "2025-06-04T13:54:19.972425Z"
    }
   },
   "cell_type": "code",
   "source": [
    "# 1. 准备输入\n",
    "X_latest = X_train_scaled_all[-lookback:]\n",
    "X_latest = X_latest.reshape(1, lookback, X_latest.shape[1])\n",
    "\n",
    "# 2. 预测\n",
    "y_pred_scaled = model.predict(X_latest)\n",
    "\n",
    "# 3. 反归一化\n",
    "y_pred = target_scaler.inverse_transform(y_pred_scaled)\n",
    "print(f\"Predicted next exchange rate: {y_pred[0][0]:.4f}\")\n"
   ],
   "id": "bf7b7a133c5b3edd",
   "outputs": [
    {
     "name": "stdout",
     "output_type": "stream",
     "text": [
      "\u001B[1m1/1\u001B[0m \u001B[32m━━━━━━━━━━━━━━━━━━━━\u001B[0m\u001B[37m\u001B[0m \u001B[1m0s\u001B[0m 13ms/step\n",
      "Predicted next exchange rate: 9.6774\n"
     ]
    }
   ],
   "execution_count": 24
  },
  {
   "metadata": {
    "ExecuteTime": {
     "end_time": "2025-06-04T14:16:33.384190Z",
     "start_time": "2025-06-04T14:16:33.381339Z"
    }
   },
   "cell_type": "code",
   "source": [
    "pred_date = df_all['Date'].iloc[-1] + timedelta(days=1)\n",
    "output = pd.DataFrame({\n",
    "    'date': pred_date,\n",
    "    'predicted_rate': [round(y_pred[0][0], 4)]\n",
    "})"
   ],
   "id": "b9fa20268e2e4e69",
   "outputs": [],
   "execution_count": 42
  },
  {
   "metadata": {
    "ExecuteTime": {
     "end_time": "2025-06-04T14:16:34.683550Z",
     "start_time": "2025-06-04T14:16:34.679186Z"
    }
   },
   "cell_type": "code",
   "source": "output.to_csv('result.csv', index=False)",
   "id": "5d920dea7deb681",
   "outputs": [],
   "execution_count": 43
  }
 ],
 "metadata": {
  "kernelspec": {
   "display_name": "Python 3",
   "language": "python",
   "name": "python3"
  },
  "language_info": {
   "codemirror_mode": {
    "name": "ipython",
    "version": 2
   },
   "file_extension": ".py",
   "mimetype": "text/x-python",
   "name": "python",
   "nbconvert_exporter": "python",
   "pygments_lexer": "ipython2",
   "version": "2.7.6"
  }
 },
 "nbformat": 4,
 "nbformat_minor": 5
}
