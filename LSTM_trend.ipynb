{
 "cells": [
  {
   "metadata": {},
   "cell_type": "markdown",
   "source": "## LSTM测试",
   "id": "b7bbeee07669e3e9"
  },
  {
   "metadata": {},
   "cell_type": "code",
   "source": [
    "import xgboost as xgb\n",
    "from sklearn.metrics import mean_squared_error, mean_absolute_error\n",
    "import matplotlib.pyplot as plt\n",
    "from datetime import date\n",
    "import requests\n",
    "from requests.auth import HTTPBasicAuth\n",
    "import pandas as pd\n",
    "import numpy as np\n",
    "import requests\n",
    "from requests.auth import HTTPBasicAuth\n",
    "from pandas.tseries.offsets import BDay\n",
    "from sklearn.metrics import accuracy_score, classification_report, confusion_matrix\n",
    "from datetime import datetime, timedelta\n",
    "import yfinance as yf\n",
    "import numpy as np\n",
    "import pandas as pd\n",
    "from sklearn.preprocessing import MinMaxScaler\n",
    "import torch\n",
    "from torch import nn\n",
    "from torch.utils.data import DataLoader, TensorDataset\n",
    "import matplotlib.pyplot as plt\n",
    "import joblib\n",
    "from bs4 import BeautifulSoup\n",
    "import random\n",
    "import os\n",
    "import tensorflow as tf"
   ],
   "id": "57637bdddb8d195",
   "outputs": [],
   "execution_count": null
  },
  {
   "metadata": {},
   "cell_type": "code",
   "source": "today = pd.to_datetime(\"today\").normalize()",
   "id": "bd73c372bf4b1caf",
   "outputs": [],
   "execution_count": null
  },
  {
   "metadata": {},
   "cell_type": "code",
   "source": [
    "data = yf.download(\"CNYGBP=X\", start=\"2015-01-01\", end=today)\n",
    "all_test_df = data\n",
    "all_test_df['ER'] = (all_test_df['High'] + all_test_df['Low']) / 2\n",
    "all_test_df['inverse'] = 1/all_test_df['ER']\n",
    "er_df = all_test_df[['inverse']].rename(columns={\"Close\": \"CNY/GBP\"})"
   ],
   "id": "214af3e7512d4116",
   "outputs": [],
   "execution_count": null
  },
  {
   "metadata": {},
   "cell_type": "code",
   "source": "today + timedelta(days=1)",
   "id": "5cb488d3dc459067",
   "outputs": [],
   "execution_count": null
  },
  {
   "metadata": {},
   "cell_type": "code",
   "source": [
    "# same_as_yesterday = (er_df == er_df.shift(1)).all(axis=1)\n",
    "# 检查数据源是否出错，有时候会出现重复"
   ],
   "id": "7fd4c3b177cc06e",
   "outputs": [],
   "execution_count": null
  },
  {
   "metadata": {},
   "cell_type": "code",
   "source": "er_df.tail()",
   "id": "8ba92a0754261fd1",
   "outputs": [],
   "execution_count": null
  },
  {
   "metadata": {},
   "cell_type": "code",
   "source": [
    "policy_df = pd.read_excel(\"test_files/IR.xlsx\")\n",
    "policy_df['rate_diff'] = policy_df['UK'] - policy_df['CN']\n",
    "model_df = policy_df.copy()\n",
    "\n",
    "# 确保 Date 是 datetime 类型\n",
    "model_df['Date'] = pd.to_datetime(model_df['Date'])\n",
    "\n",
    "# 保留工作日（周一到周五）\n",
    "df_weekday = model_df[model_df['Date'].dt.dayofweek < 5].copy()\n",
    "\n",
    "# 按日期排序（可选）\n",
    "df_weekday = df_weekday.sort_values('Date').reset_index(drop=True)\n",
    "\n",
    "# 确保 Date 列格式一致\n",
    "df_weekday['Date'] = pd.to_datetime(df_weekday['Date']).dt.normalize()\n",
    "\n",
    "# 筛选 df_weekday 中仅保留那些出现在 er_df['Date'] 中的行\n",
    "df_weekday_aligned = df_weekday[df_weekday['Date'].isin(er_df.index)].copy()\n",
    "\n",
    "df_weekday_aligned = df_weekday_aligned.reset_index(drop=True)\n",
    "df_weekday_aligned.drop(['UK','CN'], axis=1, inplace=True)\n",
    "er_mid = er_df['inverse'].reset_index(drop=True)\n",
    "er_mid"
   ],
   "id": "6ede8eb89a10740d",
   "outputs": [],
   "execution_count": null
  },
  {
   "metadata": {},
   "cell_type": "code",
   "source": [
    "while len(df_weekday_aligned) < len(er_mid):\n",
    "    last_date = df_weekday_aligned['Date'].iloc[-1]\n",
    "    # 获取下一个工作日（跳过周末）\n",
    "    next_workday = pd.date_range(start=last_date + pd.Timedelta(days=1), periods=1, freq='B')[0]\n",
    "\n",
    "    new_row = {col: np.nan for col in df_weekday_aligned.columns}\n",
    "    new_row['Date'] = next_workday\n",
    "    new_row['rate_diff'] = 1.15\n",
    "\n",
    "    df_weekday_aligned = pd.concat([df_weekday_aligned, pd.DataFrame([new_row])], ignore_index=True)\n",
    "df_weekday_aligned['ER'] = er_mid"
   ],
   "id": "e1bee81d9c3c3206",
   "outputs": [],
   "execution_count": null
  },
  {
   "metadata": {},
   "cell_type": "code",
   "source": [
    "df_weekday_aligned['trade_war'] = 0\n",
    "df_weekday_aligned.loc[(df_weekday_aligned['Date'] >= '2018-03-22') & (df_weekday_aligned['Date'] <= '2018-12-01'), 'trade_war'] = 1\n",
    "df_weekday_aligned.loc[(df_weekday_aligned['Date'] >= '2025-02-01') , 'trade_war'] = 1"
   ],
   "id": "69c611ba44573f7",
   "outputs": [],
   "execution_count": null
  },
  {
   "metadata": {},
   "cell_type": "code",
   "source": [
    "df_all = df_weekday_aligned\n",
    "df_all['Date'] = pd.to_datetime(df_all['Date'])"
   ],
   "id": "38b01600120b8a98",
   "outputs": [],
   "execution_count": null
  },
  {
   "metadata": {},
   "cell_type": "code",
   "source": [
    "df_all['prev_change'] = df_all['ER'].pct_change().fillna(0)\n",
    "\n",
    "# Create trend direction label (1 if next day up, 0 if down)\n",
    "df_all['trend_up'] = (df_all['ER'].diff().shift(-1) > 0).astype(int)\n",
    "#df_all['volatility_5'] = df_all['ER'].pct_change().rolling(window=5).std()\n",
    "\n",
    "df_all.dropna(inplace=True)  # drop last row if trend_up for next day is NaN\n",
    "\n",
    "# Display the final feature set\n",
    "display(df_all.tail(5))"
   ],
   "id": "6296c1379c76d0d9",
   "outputs": [],
   "execution_count": null
  },
  {
   "cell_type": "code",
   "id": "initial_id",
   "metadata": {
    "collapsed": true
   },
   "source": [
    "lstm_df = df_all.drop(['prev_change'], axis=1)\n",
    "\n",
    "lstm_df['Date'] = pd.to_datetime(lstm_df['Date'])  # 保证为 datetime 类型\n",
    "lstm_df = lstm_df.set_index('Date')  # 设置为 index"
   ],
   "outputs": [],
   "execution_count": null
  },
  {
   "metadata": {},
   "cell_type": "code",
   "source": [
    "np.random.seed(42)\n",
    "random.seed(42)\n",
    "os.environ['PYTHONHASHSEED'] = str(42)\n",
    "\n",
    "# 固定 TensorFlow 随机种子\n",
    "tf.random.set_seed(42)\n",
    "\n",
    "# 若用GPU，确保 TensorFlow 使用确定性算法\n",
    "# 注意：这会牺牲一定速度\n",
    "from tensorflow.keras import backend as K\n",
    "os.environ['TF_DETERMINISTIC_OPS'] = '1'"
   ],
   "id": "83a25333ac7c25ff",
   "outputs": [],
   "execution_count": null
  },
  {
   "metadata": {},
   "cell_type": "code",
   "source": [
    "lstm_df['Date'] = lstm_df.index\n",
    "today = pd.to_datetime(\"today\")\n",
    "cutoff = pd.to_datetime(\"2025-05-26\")"
   ],
   "id": "c2440f5dcd93dac3",
   "outputs": [],
   "execution_count": null
  },
  {
   "metadata": {},
   "cell_type": "code",
   "source": "trend_df = lstm_df.copy()",
   "id": "db32eb6f6eb58149",
   "outputs": [],
   "execution_count": null
  },
  {
   "metadata": {},
   "cell_type": "code",
   "source": [
    "def compute_macd(df, price_col='ER', fast=6, slow=13, signal=5):\n",
    "    exp1 = df[price_col].ewm(span=fast, adjust=False).mean()\n",
    "    exp2 = df[price_col].ewm(span=slow, adjust=False).mean()\n",
    "    macd = exp1 - exp2\n",
    "    signal_line = macd.ewm(span=signal, adjust=False).mean()\n",
    "    df['MACD'] = macd\n",
    "    df['Signal'] = signal_line\n",
    "    return df\n",
    "\n",
    "# 标记金叉与死叉\n",
    "def mark_cross(df):\n",
    "    df['MACD_Signal'] = 0\n",
    "    condition = (df['MACD'].shift(1) < df['Signal'].shift(1)) & (df['MACD'] >= df['Signal'])\n",
    "    df.loc[condition, 'MACD_Signal'] = 1  # 金叉\n",
    "    condition = (df['MACD'].shift(1) > df['Signal'].shift(1)) & (df['MACD'] <= df['Signal'])\n",
    "    df.loc[condition, 'MACD_Signal'] = 0  # 死叉\n",
    "    df['MACD_Signal'] = df['MACD_Signal'].ffill().fillna(0).astype(int)\n",
    "    return df"
   ],
   "id": "6d2ac7a07fe706f9",
   "outputs": [],
   "execution_count": null
  },
  {
   "metadata": {},
   "cell_type": "code",
   "source": [
    "trend_df = compute_macd(trend_df)\n",
    "trend_df = mark_cross(trend_df)\n",
    "trend_df.head()"
   ],
   "id": "42480bf2c5be9e35",
   "outputs": [],
   "execution_count": null
  },
  {
   "metadata": {},
   "cell_type": "code",
   "source": "trend_df.iloc[-1]['MACD_Signal']",
   "id": "f0c40e611550a93a",
   "outputs": [],
   "execution_count": null
  },
  {
   "metadata": {},
   "cell_type": "code",
   "source": [
    "lstm_df['Date'] = pd.to_datetime(lstm_df['Date'])\n",
    "if today > cutoff + timedelta(days=30):\n",
    "    print(\"超过30天，重新训练模型...\")\n",
    "    lstm_df_model = lstm_df[lstm_df['Date'] < today]\n",
    "\n",
    "    lstm_df_model = lstm_df_model.drop(columns=['Date'], axis=1)\n",
    "    cutoff = today\n",
    "else:\n",
    "    lstm_df_model = lstm_df[lstm_df['Date'] < cutoff]\n",
    "    lstm_df_model = lstm_df_model.drop(['Date'], axis=1)\n",
    "lstm_df = lstm_df.drop(['Date'], axis=1)\n",
    "lstm_df_model.tail()"
   ],
   "id": "87d4c0f54e41e328",
   "outputs": [],
   "execution_count": null
  },
  {
   "metadata": {},
   "cell_type": "code",
   "source": [
    "# Split data into training and testing sets using 80/20 ratio\n",
    "split_idx = int(len(lstm_df_model) * 0.91)\n",
    "train_df = lstm_df_model.iloc[:split_idx]\n",
    "test_df = lstm_df_model.iloc[split_idx:]\n",
    "\n",
    "# Separate features (X) and target (y)\n",
    "X_train = train_df.drop(['rate_diff'],axis=1) # 注意：这里只取特征列\n",
    "y_train = train_df['ER']\n",
    "X_test = test_df.drop(['rate_diff'],axis=1)\n",
    "y_test = test_df['ER']\n",
    "\n",
    "# Normalize features and target using Min-Max scaling (fit on training data only)\n",
    "feature_scaler = MinMaxScaler()\n",
    "target_scaler = MinMaxScaler()\n",
    "X_train_scaled = feature_scaler.fit_transform(X_train)\n",
    "X_test_scaled = feature_scaler.transform(X_test)\n",
    "y_train_scaled = target_scaler.fit_transform(y_train.values.reshape(-1, 1))\n",
    "y_test_scaled = target_scaler.transform(y_test.values.reshape(-1, 1))\n",
    "\n",
    "# Prepare data for LSTM: create sequences of length `lookback` for each training example\n",
    "lookback = 12  # use past 12 months to predict the next month\n",
    "X_train_seq, y_train_seq = [], []\n",
    "for i in range(lookback, len(X_train_scaled)):\n",
    "    # sequence of `lookback` feature vectors\n",
    "    X_train_seq.append(X_train_scaled[i-lookback:i])\n",
    "    # target is the exchange rate at this time (one month ahead of last input month)\n",
    "    y_train_seq.append(y_train_scaled[i])\n",
    "X_train_seq = np.array(X_train_seq)\n",
    "y_train_seq = np.array(y_train_seq)\n",
    "\n",
    "# Prepare sequences for the test set (using preceding data for initial sequence)\n",
    "X_test_seq, y_test_seq = [], []\n",
    "# Concatenate train and test for sequence generation to include trailing train data in initial test sequences\n",
    "total_X = np.concatenate((X_train_scaled, X_test_scaled), axis=0)\n",
    "total_y = np.concatenate((y_train_scaled, y_test_scaled), axis=0)\n",
    "train_len = len(X_train_scaled)\n",
    "for i in range(train_len, len(total_X)):\n",
    "    if i < lookback:\n",
    "        continue  # skip until we have enough history\n",
    "    X_test_seq.append(total_X[i-lookback:i])\n",
    "    y_test_seq.append(total_y[i])\n",
    "X_test_seq = np.array(X_test_seq)\n",
    "y_test_seq = np.array(y_test_seq)\n",
    "\n",
    "# Build the LSTM model\n",
    "from keras.models import Sequential\n",
    "from keras.layers import LSTM, Dense, Dropout\n",
    "# 改进后的双层 LSTM 架构\n",
    "model = Sequential()\n",
    "model.add(LSTM(64, return_sequences=True, input_shape=(lookback, X_train_seq.shape[2])))\n",
    "model.add(Dropout(0.2))\n",
    "model.add(LSTM(32))\n",
    "model.add(Dense(1))\n",
    "\n",
    "# 别忘了这一步！！\n",
    "model.compile(optimizer='adam', loss='mean_squared_error')\n",
    "\n",
    "# 然后再训练\n",
    "history = model.fit(X_train_seq, y_train_seq, epochs=50, batch_size=16, validation_split=0.1, verbose=1)\n",
    "\n",
    "#model.save(\"baseline_model_85.h5\")"
   ],
   "id": "3d53b9a0387b5b76",
   "outputs": [],
   "execution_count": null
  },
  {
   "metadata": {},
   "cell_type": "code",
   "source": [
    "# Evaluate the model on the test set\n",
    "test_loss = model.evaluate(X_test_seq, y_test_seq, verbose=0)\n",
    "print(f\"Test MSE Loss: {test_loss:.6f}\")\n",
    "\n",
    "# Make predictions for the test period\n",
    "y_pred_scaled = model.predict(X_test_seq)\n",
    "# Inverse-transform the predictions back to original scale\n",
    "y_pred = target_scaler.inverse_transform(y_pred_scaled)\n",
    "y_actual = target_scaler.inverse_transform(y_test_seq)\n",
    "\n",
    "# Visualize the results: Actual vs Predicted exchange rate\n",
    "\n",
    "plt.figure(figsize=(8,5))\n",
    "plt.plot(y_actual, label='Actual CNY/GBP')\n",
    "plt.plot(y_pred, label='Predicted CNY/GBP')\n",
    "plt.title('Actual vs Predicted CNY/GBP Exchange Rate (Test Set)')\n",
    "plt.xlabel('Month')\n",
    "plt.ylabel('Exchange Rate (CNY per GBP)')\n",
    "plt.legend()\n",
    "plt.grid(True)\n",
    "plt.show()"
   ],
   "id": "84589ccc09358926",
   "outputs": [],
   "execution_count": null
  },
  {
   "metadata": {},
   "cell_type": "code",
   "source": [
    "pred_df = pd.DataFrame(y_pred)\n",
    "y_test = y_test.iloc[:-1]\n",
    "error_cal = pd.DataFrame({})\n",
    "error_cal['pred'] = pred_df\n",
    "y_mid = y_test.reset_index(drop=True)\n",
    "error_cal['actual'] = y_mid\n",
    "error_cal['error'] = error_cal['pred'] - error_cal['actual']"
   ],
   "id": "71cac1b566a18da5",
   "outputs": [],
   "execution_count": null
  },
  {
   "metadata": {},
   "cell_type": "code",
   "source": "#error_cal = error_cal[-15:]",
   "id": "17902688e407e36c",
   "outputs": [],
   "execution_count": null
  },
  {
   "metadata": {},
   "cell_type": "code",
   "source": "#error_cal = error_cal.head(10)",
   "id": "3f8044fa60f2f7ad",
   "outputs": [],
   "execution_count": null
  },
  {
   "metadata": {},
   "cell_type": "code",
   "source": "error_cal",
   "id": "40b09bec71d3928d",
   "outputs": [],
   "execution_count": null
  },
  {
   "metadata": {},
   "cell_type": "code",
   "source": [
    "# 计算实际值和预测值的变化趋势（相邻天数差）\n",
    "actual_diff = error_cal['actual'].diff()\n",
    "pred_diff = error_cal['pred'].diff()\n",
    "\n",
    "# 判断趋势是否一致（同为正或同为负 → 相乘大于0）\n",
    "trend_correct = (actual_diff * pred_diff) > 0\n",
    "\n",
    "# 去除第一个 NaN（因为 diff 会在第一行生成 NaN）\n",
    "trend_correct = trend_correct[1:-1]\n",
    "\n",
    "# 计算正确比例\n",
    "trend_accuracy = trend_correct.sum() / len(trend_correct)\n",
    "\n",
    "# 输出\n",
    "print(f\"趋势判断正确的比例为: {trend_accuracy:.2%}\")\n",
    "\n",
    "threshold = 0.05\n",
    "proportion = (error_cal['error'].abs() > threshold).mean()\n",
    "\n",
    "print(f\"误差小于 0.05 的比例为：{(1-proportion):.2%}\")"
   ],
   "id": "11eaad5fdc4f49ca",
   "outputs": [],
   "execution_count": null
  },
  {
   "metadata": {},
   "cell_type": "code",
   "source": [
    "actual_cleaned = actual_diff.dropna()\n",
    "pred_mid = pred_diff.dropna()\n",
    "pred_cleaned = pred_mid.iloc[:-1]\n",
    "\n",
    "# 假设涨跌的分类标准是：大于等于0 为 'Up'，否则为 'Down'\n",
    "actual_labels = ['Up' if x >= 0 else 'Down' for x in actual_cleaned]\n",
    "pred_labels = ['Up' if x >= 0 else 'Down' for x in pred_cleaned]\n"
   ],
   "id": "996568dbb4892680",
   "outputs": [],
   "execution_count": null
  },
  {
   "metadata": {},
   "cell_type": "code",
   "source": [
    "from sklearn.metrics import confusion_matrix, classification_report\n",
    "\n",
    "print(confusion_matrix(actual_labels, pred_labels))\n",
    "print(classification_report(actual_labels, pred_labels, target_names=['Down', 'Up']))\n"
   ],
   "id": "892ef94ca405724a",
   "outputs": [],
   "execution_count": null
  },
  {
   "metadata": {},
   "cell_type": "markdown",
   "source": "## 使用全部数据进行训练，预测未来汇率",
   "id": "6f6b966c8f93add7"
  },
  {
   "metadata": {},
   "cell_type": "code",
   "source": [
    "X_train_all = lstm_df.drop(['rate_diff'],axis=1)\n",
    "y_train_all = lstm_df['ER']\n",
    "target_scaler = MinMaxScaler()\n",
    "# Normalize features and target using Min-Max scaling (fit on training data only)\n",
    "feature_scaler = MinMaxScaler()\n",
    "X_train_scaled_all = feature_scaler.fit_transform(X_train_all)\n",
    "y_train_scaled_all = target_scaler.fit_transform(y_train_all.values.reshape(-1, 1))\n",
    "\n",
    "# Prepare data for LSTM: create sequences of length `lookback` for each training example\n",
    "lookback = 12  # use past 12 months to predict the next month"
   ],
   "id": "b9e28140d54747",
   "outputs": [],
   "execution_count": null
  },
  {
   "metadata": {},
   "cell_type": "code",
   "source": [
    "# 1. 准备输入\n",
    "X_latest = X_train_scaled_all[-lookback:]\n",
    "X_latest = X_latest.reshape(1, lookback, X_latest.shape[1])\n",
    "\n",
    "# 2. 预测\n",
    "y_pred_scaled = model.predict(X_latest)\n",
    "\n",
    "# 3. 反归一化\n",
    "y_pred = target_scaler.inverse_transform(y_pred_scaled)\n",
    "print(f\"Predicted next exchange rate: {y_pred[0][0]:.4f}\")\n"
   ],
   "id": "bf7b7a133c5b3edd",
   "outputs": [],
   "execution_count": null
  },
  {
   "metadata": {},
   "cell_type": "code",
   "source": [
    "before_value = df_all['ER'].iloc[-1]\n",
    "diff = y_pred[0][0] - before_value"
   ],
   "id": "3e93674544aad0bf",
   "outputs": [],
   "execution_count": null
  },
  {
   "metadata": {},
   "cell_type": "code",
   "source": [
    "if diff < 0:\n",
    "    trend_sign = '⬇️ Down'\n",
    "    trend_cn = '⬆️ 下跌'\n",
    "elif diff > 0:\n",
    "    trend_sign = '⬆️ Up'\n",
    "    trend_cn = '⬆️ 上涨'\n",
    "else:\n",
    "    trend_sign = 'Hold'\n",
    "    trend_cn = '持平'"
   ],
   "id": "a02bb1821374d43a",
   "outputs": [],
   "execution_count": null
  },
  {
   "metadata": {},
   "cell_type": "code",
   "source": [
    "pred_date = df_all['Date'].iloc[-1] + BDay(1)\n",
    "output = pd.DataFrame({\n",
    "    'date': pred_date,\n",
    "    'predicted_rate': [round(y_pred[0][0], 4)],\n",
    "    'trend_sign': trend_sign,\n",
    "    'trend_cn': trend_cn\n",
    "})"
   ],
   "id": "2d9f32bbef285317",
   "outputs": [],
   "execution_count": null
  }
 ],
 "metadata": {
  "kernelspec": {
   "display_name": "Python 3",
   "language": "python",
   "name": "python3"
  },
  "language_info": {
   "codemirror_mode": {
    "name": "ipython",
    "version": 2
   },
   "file_extension": ".py",
   "mimetype": "text/x-python",
   "name": "python",
   "nbconvert_exporter": "python",
   "pygments_lexer": "ipython2",
   "version": "2.7.6"
  }
 },
 "nbformat": 4,
 "nbformat_minor": 5
}
