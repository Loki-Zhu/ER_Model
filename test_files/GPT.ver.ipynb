{
 "cells": [
  {
   "metadata": {},
   "cell_type": "markdown",
   "source": "## LSTM测试",
   "id": "b7bbeee07669e3e9"
  },
  {
   "metadata": {
    "ExecuteTime": {
     "end_time": "2025-05-17T16:00:17.334574Z",
     "start_time": "2025-05-17T16:00:15.622673Z"
    }
   },
   "cell_type": "code",
   "source": [
    "import xgboost as xgb\n",
    "from sklearn.metrics import mean_squared_error, mean_absolute_error\n",
    "import matplotlib.pyplot as plt\n",
    "from datetime import date\n",
    "import requests\n",
    "from requests.auth import HTTPBasicAuth\n",
    "import pandas as pd\n",
    "import numpy as np\n",
    "import requests\n",
    "from requests.auth import HTTPBasicAuth\n",
    "\n",
    "from datetime import datetime, timedelta\n",
    "import yfinance as yf\n",
    "import numpy as np\n",
    "import pandas as pd\n",
    "from sklearn.preprocessing import MinMaxScaler\n",
    "import torch\n",
    "from torch import nn\n",
    "from torch.utils.data import DataLoader, TensorDataset\n",
    "import matplotlib.pyplot as plt"
   ],
   "id": "57637bdddb8d195",
   "outputs": [
    {
     "name": "stderr",
     "output_type": "stream",
     "text": [
      "/Users/loki/PycharmProjects/PythonProject5/.venv/lib/python3.9/site-packages/urllib3/__init__.py:35: NotOpenSSLWarning: urllib3 v2 only supports OpenSSL 1.1.1+, currently the 'ssl' module is compiled with 'LibreSSL 2.8.3'. See: https://github.com/urllib3/urllib3/issues/3020\n",
      "  warnings.warn(\n"
     ]
    }
   ],
   "execution_count": 1
  },
  {
   "metadata": {
    "ExecuteTime": {
     "end_time": "2025-05-17T16:00:17.602197Z",
     "start_time": "2025-05-17T16:00:17.338291Z"
    }
   },
   "cell_type": "code",
   "source": [
    "# 获取人民币兑英镑汇率（Yahoo symbol: CNYGBP=X）\n",
    "data = yf.download(\"CNYGBP=X\", start=\"2015-01-01\", end=\"2025-05-14\")\n",
    "er_df = data[[\"Close\"]].rename(columns={\"Close\": \"CNY/GBP\"})\n",
    "display(er_df.head())"
   ],
   "id": "66e7a96cd34409ab",
   "outputs": [
    {
     "name": "stdout",
     "output_type": "stream",
     "text": [
      "YF.download() has changed argument auto_adjust default to True\n"
     ]
    },
    {
     "name": "stderr",
     "output_type": "stream",
     "text": [
      "[*********************100%***********************]  1 of 1 completed\n"
     ]
    },
    {
     "data": {
      "text/plain": [
       "Price       CNY/GBP\n",
       "Ticker     CNYGBP=X\n",
       "Date               \n",
       "2015-01-01  0.10342\n",
       "2015-01-02  0.10333\n",
       "2015-01-05  0.10492\n",
       "2015-01-06  0.10535\n",
       "2015-01-07  0.10645"
      ],
      "text/html": [
       "<div>\n",
       "<style scoped>\n",
       "    .dataframe tbody tr th:only-of-type {\n",
       "        vertical-align: middle;\n",
       "    }\n",
       "\n",
       "    .dataframe tbody tr th {\n",
       "        vertical-align: top;\n",
       "    }\n",
       "\n",
       "    .dataframe thead tr th {\n",
       "        text-align: left;\n",
       "    }\n",
       "\n",
       "    .dataframe thead tr:last-of-type th {\n",
       "        text-align: right;\n",
       "    }\n",
       "</style>\n",
       "<table border=\"1\" class=\"dataframe\">\n",
       "  <thead>\n",
       "    <tr>\n",
       "      <th>Price</th>\n",
       "      <th>CNY/GBP</th>\n",
       "    </tr>\n",
       "    <tr>\n",
       "      <th>Ticker</th>\n",
       "      <th>CNYGBP=X</th>\n",
       "    </tr>\n",
       "    <tr>\n",
       "      <th>Date</th>\n",
       "      <th></th>\n",
       "    </tr>\n",
       "  </thead>\n",
       "  <tbody>\n",
       "    <tr>\n",
       "      <th>2015-01-01</th>\n",
       "      <td>0.10342</td>\n",
       "    </tr>\n",
       "    <tr>\n",
       "      <th>2015-01-02</th>\n",
       "      <td>0.10333</td>\n",
       "    </tr>\n",
       "    <tr>\n",
       "      <th>2015-01-05</th>\n",
       "      <td>0.10492</td>\n",
       "    </tr>\n",
       "    <tr>\n",
       "      <th>2015-01-06</th>\n",
       "      <td>0.10535</td>\n",
       "    </tr>\n",
       "    <tr>\n",
       "      <th>2015-01-07</th>\n",
       "      <td>0.10645</td>\n",
       "    </tr>\n",
       "  </tbody>\n",
       "</table>\n",
       "</div>"
      ]
     },
     "metadata": {},
     "output_type": "display_data"
    }
   ],
   "execution_count": 2
  },
  {
   "metadata": {
    "ExecuteTime": {
     "end_time": "2025-05-17T16:00:17.681454Z",
     "start_time": "2025-05-17T16:00:17.676443Z"
    }
   },
   "cell_type": "code",
   "source": [
    "er_df['inverse'] = 1 / er_df['CNY/GBP', 'CNYGBP=X']\n",
    "\n",
    "er_df"
   ],
   "id": "90376e58d1fbec51",
   "outputs": [
    {
     "data": {
      "text/plain": [
       "Price        CNY/GBP   inverse\n",
       "Ticker      CNYGBP=X          \n",
       "Date                          \n",
       "2015-01-01  0.103420  9.669310\n",
       "2015-01-02  0.103330  9.677731\n",
       "2015-01-05  0.104920  9.531071\n",
       "2015-01-06  0.105350  9.492169\n",
       "2015-01-07  0.106450  9.394082\n",
       "...              ...       ...\n",
       "2025-05-07  0.103741  9.639391\n",
       "2025-05-08  0.104124  9.603934\n",
       "2025-05-09  0.104580  9.562058\n",
       "2025-05-12  0.103947  9.620287\n",
       "2025-05-13  0.105330  9.493972\n",
       "\n",
       "[2699 rows x 2 columns]"
      ],
      "text/html": [
       "<div>\n",
       "<style scoped>\n",
       "    .dataframe tbody tr th:only-of-type {\n",
       "        vertical-align: middle;\n",
       "    }\n",
       "\n",
       "    .dataframe tbody tr th {\n",
       "        vertical-align: top;\n",
       "    }\n",
       "\n",
       "    .dataframe thead tr th {\n",
       "        text-align: left;\n",
       "    }\n",
       "\n",
       "    .dataframe thead tr:last-of-type th {\n",
       "        text-align: right;\n",
       "    }\n",
       "</style>\n",
       "<table border=\"1\" class=\"dataframe\">\n",
       "  <thead>\n",
       "    <tr>\n",
       "      <th>Price</th>\n",
       "      <th>CNY/GBP</th>\n",
       "      <th>inverse</th>\n",
       "    </tr>\n",
       "    <tr>\n",
       "      <th>Ticker</th>\n",
       "      <th>CNYGBP=X</th>\n",
       "      <th></th>\n",
       "    </tr>\n",
       "    <tr>\n",
       "      <th>Date</th>\n",
       "      <th></th>\n",
       "      <th></th>\n",
       "    </tr>\n",
       "  </thead>\n",
       "  <tbody>\n",
       "    <tr>\n",
       "      <th>2015-01-01</th>\n",
       "      <td>0.103420</td>\n",
       "      <td>9.669310</td>\n",
       "    </tr>\n",
       "    <tr>\n",
       "      <th>2015-01-02</th>\n",
       "      <td>0.103330</td>\n",
       "      <td>9.677731</td>\n",
       "    </tr>\n",
       "    <tr>\n",
       "      <th>2015-01-05</th>\n",
       "      <td>0.104920</td>\n",
       "      <td>9.531071</td>\n",
       "    </tr>\n",
       "    <tr>\n",
       "      <th>2015-01-06</th>\n",
       "      <td>0.105350</td>\n",
       "      <td>9.492169</td>\n",
       "    </tr>\n",
       "    <tr>\n",
       "      <th>2015-01-07</th>\n",
       "      <td>0.106450</td>\n",
       "      <td>9.394082</td>\n",
       "    </tr>\n",
       "    <tr>\n",
       "      <th>...</th>\n",
       "      <td>...</td>\n",
       "      <td>...</td>\n",
       "    </tr>\n",
       "    <tr>\n",
       "      <th>2025-05-07</th>\n",
       "      <td>0.103741</td>\n",
       "      <td>9.639391</td>\n",
       "    </tr>\n",
       "    <tr>\n",
       "      <th>2025-05-08</th>\n",
       "      <td>0.104124</td>\n",
       "      <td>9.603934</td>\n",
       "    </tr>\n",
       "    <tr>\n",
       "      <th>2025-05-09</th>\n",
       "      <td>0.104580</td>\n",
       "      <td>9.562058</td>\n",
       "    </tr>\n",
       "    <tr>\n",
       "      <th>2025-05-12</th>\n",
       "      <td>0.103947</td>\n",
       "      <td>9.620287</td>\n",
       "    </tr>\n",
       "    <tr>\n",
       "      <th>2025-05-13</th>\n",
       "      <td>0.105330</td>\n",
       "      <td>9.493972</td>\n",
       "    </tr>\n",
       "  </tbody>\n",
       "</table>\n",
       "<p>2699 rows × 2 columns</p>\n",
       "</div>"
      ]
     },
     "execution_count": 3,
     "metadata": {},
     "output_type": "execute_result"
    }
   ],
   "execution_count": 3
  },
  {
   "metadata": {
    "ExecuteTime": {
     "end_time": "2025-05-17T16:00:17.839021Z",
     "start_time": "2025-05-17T16:00:17.707582Z"
    }
   },
   "cell_type": "code",
   "source": [
    "policy_df = pd.read_excel(\"IR.xlsx\")\n",
    "policy_df['rate_diff'] = policy_df['UK'] - policy_df['CN']\n",
    "model_df = policy_df.copy()"
   ],
   "id": "6ede8eb89a10740d",
   "outputs": [],
   "execution_count": 4
  },
  {
   "metadata": {
    "ExecuteTime": {
     "end_time": "2025-05-17T16:00:17.861369Z",
     "start_time": "2025-05-17T16:00:17.857428Z"
    }
   },
   "cell_type": "code",
   "source": [
    "# 确保 Date 是 datetime 类型\n",
    "model_df['Date'] = pd.to_datetime(model_df['Date'])\n",
    "\n",
    "# 保留工作日（周一到周五）\n",
    "df_weekday = model_df[model_df['Date'].dt.dayofweek < 5].copy()\n",
    "\n",
    "# 按日期排序（可选）\n",
    "df_weekday = df_weekday.sort_values('Date').reset_index(drop=True)"
   ],
   "id": "a52b3079f7f9adcd",
   "outputs": [],
   "execution_count": 5
  },
  {
   "metadata": {
    "ExecuteTime": {
     "end_time": "2025-05-17T16:00:17.870240Z",
     "start_time": "2025-05-17T16:00:17.867836Z"
    }
   },
   "cell_type": "code",
   "source": [
    "missing_dates = df_weekday[~df_weekday['Date'].isin(er_df.index)]\n",
    "print(missing_dates['Date'].tail(10))"
   ],
   "id": "bdbd45c054eefd78",
   "outputs": [
    {
     "name": "stdout",
     "output_type": "stream",
     "text": [
      "658    2017-07-11\n",
      "750    2017-11-16\n",
      "2609   2025-01-01\n",
      "2686   2025-04-18\n",
      "2687   2025-04-21\n",
      "Name: Date, dtype: datetime64[ns]\n"
     ]
    }
   ],
   "execution_count": 6
  },
  {
   "metadata": {
    "ExecuteTime": {
     "end_time": "2025-05-17T16:00:17.902861Z",
     "start_time": "2025-05-17T16:00:17.898976Z"
    }
   },
   "cell_type": "code",
   "source": [
    "# 确保 Date 列格式一致\n",
    "df_weekday['Date'] = pd.to_datetime(df_weekday['Date']).dt.normalize()\n",
    "\n",
    "# 筛选 df_weekday 中仅保留那些出现在 er_df['Date'] 中的行\n",
    "df_weekday_aligned = df_weekday[df_weekday['Date'].isin(er_df.index)].copy()"
   ],
   "id": "fa3da0f626d0d011",
   "outputs": [],
   "execution_count": 7
  },
  {
   "metadata": {
    "ExecuteTime": {
     "end_time": "2025-05-17T16:00:17.912645Z",
     "start_time": "2025-05-17T16:00:17.910576Z"
    }
   },
   "cell_type": "code",
   "source": "er_mid = er_df['inverse'].reset_index(drop=True)",
   "id": "c6ba69c0b8bdb873",
   "outputs": [],
   "execution_count": 8
  },
  {
   "metadata": {
    "ExecuteTime": {
     "end_time": "2025-05-17T16:00:17.925417Z",
     "start_time": "2025-05-17T16:00:17.921011Z"
    }
   },
   "cell_type": "code",
   "source": [
    "df_weekday_aligned['ER'] = er_mid\n",
    "df_weekday_aligned.drop(['UK','CN'], axis=1, inplace=True)\n",
    "df_weekday_aligned"
   ],
   "id": "6873a4c0b932ce6a",
   "outputs": [
    {
     "data": {
      "text/plain": [
       "           Date  rate_diff        ER\n",
       "0    2015-01-01      -5.10  9.669310\n",
       "1    2015-01-02      -5.10  9.677731\n",
       "2    2015-01-05      -5.10  9.531071\n",
       "3    2015-01-06      -5.10  9.492169\n",
       "4    2015-01-07      -5.10  9.394082\n",
       "...         ...        ...       ...\n",
       "2699 2025-05-07       1.15       NaN\n",
       "2700 2025-05-08       1.15       NaN\n",
       "2701 2025-05-09       1.15       NaN\n",
       "2702 2025-05-12       1.15       NaN\n",
       "2703 2025-05-13       1.15       NaN\n",
       "\n",
       "[2699 rows x 3 columns]"
      ],
      "text/html": [
       "<div>\n",
       "<style scoped>\n",
       "    .dataframe tbody tr th:only-of-type {\n",
       "        vertical-align: middle;\n",
       "    }\n",
       "\n",
       "    .dataframe tbody tr th {\n",
       "        vertical-align: top;\n",
       "    }\n",
       "\n",
       "    .dataframe thead th {\n",
       "        text-align: right;\n",
       "    }\n",
       "</style>\n",
       "<table border=\"1\" class=\"dataframe\">\n",
       "  <thead>\n",
       "    <tr style=\"text-align: right;\">\n",
       "      <th></th>\n",
       "      <th>Date</th>\n",
       "      <th>rate_diff</th>\n",
       "      <th>ER</th>\n",
       "    </tr>\n",
       "  </thead>\n",
       "  <tbody>\n",
       "    <tr>\n",
       "      <th>0</th>\n",
       "      <td>2015-01-01</td>\n",
       "      <td>-5.10</td>\n",
       "      <td>9.669310</td>\n",
       "    </tr>\n",
       "    <tr>\n",
       "      <th>1</th>\n",
       "      <td>2015-01-02</td>\n",
       "      <td>-5.10</td>\n",
       "      <td>9.677731</td>\n",
       "    </tr>\n",
       "    <tr>\n",
       "      <th>2</th>\n",
       "      <td>2015-01-05</td>\n",
       "      <td>-5.10</td>\n",
       "      <td>9.531071</td>\n",
       "    </tr>\n",
       "    <tr>\n",
       "      <th>3</th>\n",
       "      <td>2015-01-06</td>\n",
       "      <td>-5.10</td>\n",
       "      <td>9.492169</td>\n",
       "    </tr>\n",
       "    <tr>\n",
       "      <th>4</th>\n",
       "      <td>2015-01-07</td>\n",
       "      <td>-5.10</td>\n",
       "      <td>9.394082</td>\n",
       "    </tr>\n",
       "    <tr>\n",
       "      <th>...</th>\n",
       "      <td>...</td>\n",
       "      <td>...</td>\n",
       "      <td>...</td>\n",
       "    </tr>\n",
       "    <tr>\n",
       "      <th>2699</th>\n",
       "      <td>2025-05-07</td>\n",
       "      <td>1.15</td>\n",
       "      <td>NaN</td>\n",
       "    </tr>\n",
       "    <tr>\n",
       "      <th>2700</th>\n",
       "      <td>2025-05-08</td>\n",
       "      <td>1.15</td>\n",
       "      <td>NaN</td>\n",
       "    </tr>\n",
       "    <tr>\n",
       "      <th>2701</th>\n",
       "      <td>2025-05-09</td>\n",
       "      <td>1.15</td>\n",
       "      <td>NaN</td>\n",
       "    </tr>\n",
       "    <tr>\n",
       "      <th>2702</th>\n",
       "      <td>2025-05-12</td>\n",
       "      <td>1.15</td>\n",
       "      <td>NaN</td>\n",
       "    </tr>\n",
       "    <tr>\n",
       "      <th>2703</th>\n",
       "      <td>2025-05-13</td>\n",
       "      <td>1.15</td>\n",
       "      <td>NaN</td>\n",
       "    </tr>\n",
       "  </tbody>\n",
       "</table>\n",
       "<p>2699 rows × 3 columns</p>\n",
       "</div>"
      ]
     },
     "execution_count": 9,
     "metadata": {},
     "output_type": "execute_result"
    }
   ],
   "execution_count": 9
  },
  {
   "metadata": {
    "ExecuteTime": {
     "end_time": "2025-05-17T16:00:17.954093Z",
     "start_time": "2025-05-17T16:00:17.951234Z"
    }
   },
   "cell_type": "code",
   "source": [
    "df_weekday_aligned['trade_war'] = 0\n",
    "df_weekday_aligned.loc[(df_weekday_aligned['Date'] >= '2018-03-22') & (df_weekday_aligned['Date'] <= '2018-12-01'), 'trade_war'] = 1\n",
    "df_weekday_aligned.loc[(df_weekday_aligned['Date'] >= '2025-02-01') & (df_weekday_aligned['Date'] <= '2025-05-12'), 'trade_war'] = 1"
   ],
   "id": "69c611ba44573f7",
   "outputs": [],
   "execution_count": 10
  },
  {
   "cell_type": "code",
   "id": "initial_id",
   "metadata": {
    "collapsed": true,
    "ExecuteTime": {
     "end_time": "2025-05-17T16:00:17.981334Z",
     "start_time": "2025-05-17T16:00:17.976440Z"
    }
   },
   "source": [
    "lstm_df = df_weekday_aligned.dropna()\n",
    "\n",
    "lstm_df['Date'] = pd.to_datetime(lstm_df['Date'])  # 保证为 datetime 类型\n",
    "lstm_df = lstm_df.set_index('Date')  # 设置为 index"
   ],
   "outputs": [
    {
     "name": "stderr",
     "output_type": "stream",
     "text": [
      "/var/folders/nb/lml3l_ls6b7gzy20lpv559vh0000gn/T/ipykernel_40563/3524985256.py:3: SettingWithCopyWarning: \n",
      "A value is trying to be set on a copy of a slice from a DataFrame.\n",
      "Try using .loc[row_indexer,col_indexer] = value instead\n",
      "\n",
      "See the caveats in the documentation: https://pandas.pydata.org/pandas-docs/stable/user_guide/indexing.html#returning-a-view-versus-a-copy\n",
      "  lstm_df['Date'] = pd.to_datetime(lstm_df['Date'])  # 保证为 datetime 类型\n"
     ]
    }
   ],
   "execution_count": 11
  },
  {
   "metadata": {
    "ExecuteTime": {
     "end_time": "2025-05-17T16:00:35.483080Z",
     "start_time": "2025-05-17T16:00:17.984662Z"
    }
   },
   "cell_type": "code",
   "source": [
    "# Split data into training and testing sets (e.g., train: 2010-01 to 2022-12, test: 2023-01 to 2024-12)\n",
    "split_date = pd.Timestamp('2023-01-01')  # end of Jan 2023 marks beginning of test period\n",
    "train_df = lstm_df[:split_date]   # up to Dec 2022\n",
    "test_df = lstm_df[split_date:]    # 2023-01 through 2024-12\n",
    "\n",
    "# Separate features (X) and target (y)\n",
    "X_train = train_df\n",
    "y_train = train_df['ER']\n",
    "X_test = test_df\n",
    "y_test = test_df['ER']\n",
    "\n",
    "# Normalize features and target using Min-Max scaling (fit on training data only)\n",
    "feature_scaler = MinMaxScaler()\n",
    "target_scaler = MinMaxScaler()\n",
    "X_train_scaled = feature_scaler.fit_transform(X_train)\n",
    "X_test_scaled = feature_scaler.transform(X_test)\n",
    "y_train_scaled = target_scaler.fit_transform(y_train.values.reshape(-1, 1))\n",
    "y_test_scaled = target_scaler.transform(y_test.values.reshape(-1, 1))\n",
    "\n",
    "# Prepare data for LSTM: create sequences of length `lookback` for each training example\n",
    "lookback = 12  # use past 12 months to predict the next month\n",
    "X_train_seq, y_train_seq = [], []\n",
    "for i in range(lookback, len(X_train_scaled)):\n",
    "    # sequence of `lookback` feature vectors\n",
    "    X_train_seq.append(X_train_scaled[i-lookback:i])\n",
    "    # target is the exchange rate at this time (one month ahead of last input month)\n",
    "    y_train_seq.append(y_train_scaled[i])\n",
    "X_train_seq = np.array(X_train_seq)\n",
    "y_train_seq = np.array(y_train_seq)\n",
    "\n",
    "# Prepare sequences for the test set (using preceding data for initial sequence)\n",
    "X_test_seq, y_test_seq = [], []\n",
    "# Concatenate train and test for sequence generation to include trailing train data in initial test sequences\n",
    "total_X = np.concatenate((X_train_scaled, X_test_scaled), axis=0)\n",
    "total_y = np.concatenate((y_train_scaled, y_test_scaled), axis=0)\n",
    "train_len = len(X_train_scaled)\n",
    "for i in range(train_len, len(total_X)):\n",
    "    if i < lookback:\n",
    "        continue  # skip until we have enough history\n",
    "    X_test_seq.append(total_X[i-lookback:i])\n",
    "    y_test_seq.append(total_y[i])\n",
    "X_test_seq = np.array(X_test_seq)\n",
    "y_test_seq = np.array(y_test_seq)\n",
    "\n",
    "# Build the LSTM model\n",
    "from keras.models import Sequential\n",
    "from keras.layers import LSTM, Dense, Dropout\n",
    "# 改进后的双层 LSTM 架构\n",
    "model = Sequential()\n",
    "model.add(LSTM(64, return_sequences=True, input_shape=(lookback, X_train_seq.shape[2])))\n",
    "model.add(Dropout(0.2))\n",
    "model.add(LSTM(32))\n",
    "model.add(Dense(1))\n",
    "\n",
    "# 别忘了这一步！！\n",
    "model.compile(optimizer='adam', loss='mean_squared_error')\n",
    "\n",
    "# 然后再训练\n",
    "history = model.fit(X_train_seq, y_train_seq, epochs=50, batch_size=16, validation_split=0.1, verbose=1)"
   ],
   "id": "3d53b9a0387b5b76",
   "outputs": [
    {
     "name": "stdout",
     "output_type": "stream",
     "text": [
      "Epoch 1/50\n"
     ]
    },
    {
     "name": "stderr",
     "output_type": "stream",
     "text": [
      "/Users/loki/PycharmProjects/PythonProject5/.venv/lib/python3.9/site-packages/keras/src/layers/rnn/rnn.py:200: UserWarning: Do not pass an `input_shape`/`input_dim` argument to a layer. When using Sequential models, prefer using an `Input(shape)` object as the first layer in the model instead.\n",
      "  super().__init__(**kwargs)\n"
     ]
    },
    {
     "name": "stdout",
     "output_type": "stream",
     "text": [
      "\u001B[1m117/117\u001B[0m \u001B[32m━━━━━━━━━━━━━━━━━━━━\u001B[0m\u001B[37m\u001B[0m \u001B[1m1s\u001B[0m 3ms/step - loss: 0.0627 - val_loss: 0.0024\n",
      "Epoch 2/50\n",
      "\u001B[1m117/117\u001B[0m \u001B[32m━━━━━━━━━━━━━━━━━━━━\u001B[0m\u001B[37m\u001B[0m \u001B[1m0s\u001B[0m 2ms/step - loss: 0.0028 - val_loss: 0.0028\n",
      "Epoch 3/50\n",
      "\u001B[1m117/117\u001B[0m \u001B[32m━━━━━━━━━━━━━━━━━━━━\u001B[0m\u001B[37m\u001B[0m \u001B[1m0s\u001B[0m 2ms/step - loss: 0.0028 - val_loss: 0.0024\n",
      "Epoch 4/50\n",
      "\u001B[1m117/117\u001B[0m \u001B[32m━━━━━━━━━━━━━━━━━━━━\u001B[0m\u001B[37m\u001B[0m \u001B[1m0s\u001B[0m 2ms/step - loss: 0.0023 - val_loss: 0.0020\n",
      "Epoch 5/50\n",
      "\u001B[1m117/117\u001B[0m \u001B[32m━━━━━━━━━━━━━━━━━━━━\u001B[0m\u001B[37m\u001B[0m \u001B[1m0s\u001B[0m 2ms/step - loss: 0.0023 - val_loss: 0.0020\n",
      "Epoch 6/50\n",
      "\u001B[1m117/117\u001B[0m \u001B[32m━━━━━━━━━━━━━━━━━━━━\u001B[0m\u001B[37m\u001B[0m \u001B[1m0s\u001B[0m 2ms/step - loss: 0.0023 - val_loss: 0.0021\n",
      "Epoch 7/50\n",
      "\u001B[1m117/117\u001B[0m \u001B[32m━━━━━━━━━━━━━━━━━━━━\u001B[0m\u001B[37m\u001B[0m \u001B[1m0s\u001B[0m 2ms/step - loss: 0.0022 - val_loss: 0.0017\n",
      "Epoch 8/50\n",
      "\u001B[1m117/117\u001B[0m \u001B[32m━━━━━━━━━━━━━━━━━━━━\u001B[0m\u001B[37m\u001B[0m \u001B[1m0s\u001B[0m 2ms/step - loss: 0.0019 - val_loss: 0.0017\n",
      "Epoch 9/50\n",
      "\u001B[1m117/117\u001B[0m \u001B[32m━━━━━━━━━━━━━━━━━━━━\u001B[0m\u001B[37m\u001B[0m \u001B[1m0s\u001B[0m 2ms/step - loss: 0.0019 - val_loss: 0.0018\n",
      "Epoch 10/50\n",
      "\u001B[1m117/117\u001B[0m \u001B[32m━━━━━━━━━━━━━━━━━━━━\u001B[0m\u001B[37m\u001B[0m \u001B[1m0s\u001B[0m 2ms/step - loss: 0.0017 - val_loss: 0.0018\n",
      "Epoch 11/50\n",
      "\u001B[1m117/117\u001B[0m \u001B[32m━━━━━━━━━━━━━━━━━━━━\u001B[0m\u001B[37m\u001B[0m \u001B[1m0s\u001B[0m 2ms/step - loss: 0.0014 - val_loss: 0.0018\n",
      "Epoch 12/50\n",
      "\u001B[1m117/117\u001B[0m \u001B[32m━━━━━━━━━━━━━━━━━━━━\u001B[0m\u001B[37m\u001B[0m \u001B[1m0s\u001B[0m 2ms/step - loss: 0.0016 - val_loss: 0.0015\n",
      "Epoch 13/50\n",
      "\u001B[1m117/117\u001B[0m \u001B[32m━━━━━━━━━━━━━━━━━━━━\u001B[0m\u001B[37m\u001B[0m \u001B[1m0s\u001B[0m 2ms/step - loss: 0.0017 - val_loss: 0.0015\n",
      "Epoch 14/50\n",
      "\u001B[1m117/117\u001B[0m \u001B[32m━━━━━━━━━━━━━━━━━━━━\u001B[0m\u001B[37m\u001B[0m \u001B[1m0s\u001B[0m 2ms/step - loss: 0.0014 - val_loss: 0.0016\n",
      "Epoch 15/50\n",
      "\u001B[1m117/117\u001B[0m \u001B[32m━━━━━━━━━━━━━━━━━━━━\u001B[0m\u001B[37m\u001B[0m \u001B[1m0s\u001B[0m 2ms/step - loss: 0.0014 - val_loss: 0.0014\n",
      "Epoch 16/50\n",
      "\u001B[1m117/117\u001B[0m \u001B[32m━━━━━━━━━━━━━━━━━━━━\u001B[0m\u001B[37m\u001B[0m \u001B[1m0s\u001B[0m 2ms/step - loss: 0.0015 - val_loss: 0.0016\n",
      "Epoch 17/50\n",
      "\u001B[1m117/117\u001B[0m \u001B[32m━━━━━━━━━━━━━━━━━━━━\u001B[0m\u001B[37m\u001B[0m \u001B[1m0s\u001B[0m 2ms/step - loss: 0.0013 - val_loss: 0.0014\n",
      "Epoch 18/50\n",
      "\u001B[1m117/117\u001B[0m \u001B[32m━━━━━━━━━━━━━━━━━━━━\u001B[0m\u001B[37m\u001B[0m \u001B[1m0s\u001B[0m 2ms/step - loss: 0.0012 - val_loss: 0.0013\n",
      "Epoch 19/50\n",
      "\u001B[1m117/117\u001B[0m \u001B[32m━━━━━━━━━━━━━━━━━━━━\u001B[0m\u001B[37m\u001B[0m \u001B[1m0s\u001B[0m 2ms/step - loss: 0.0012 - val_loss: 0.0012\n",
      "Epoch 20/50\n",
      "\u001B[1m117/117\u001B[0m \u001B[32m━━━━━━━━━━━━━━━━━━━━\u001B[0m\u001B[37m\u001B[0m \u001B[1m0s\u001B[0m 2ms/step - loss: 0.0011 - val_loss: 0.0012\n",
      "Epoch 21/50\n",
      "\u001B[1m117/117\u001B[0m \u001B[32m━━━━━━━━━━━━━━━━━━━━\u001B[0m\u001B[37m\u001B[0m \u001B[1m0s\u001B[0m 2ms/step - loss: 0.0011 - val_loss: 0.0014\n",
      "Epoch 22/50\n",
      "\u001B[1m117/117\u001B[0m \u001B[32m━━━━━━━━━━━━━━━━━━━━\u001B[0m\u001B[37m\u001B[0m \u001B[1m0s\u001B[0m 2ms/step - loss: 0.0013 - val_loss: 0.0012\n",
      "Epoch 23/50\n",
      "\u001B[1m117/117\u001B[0m \u001B[32m━━━━━━━━━━━━━━━━━━━━\u001B[0m\u001B[37m\u001B[0m \u001B[1m0s\u001B[0m 2ms/step - loss: 9.6836e-04 - val_loss: 0.0013\n",
      "Epoch 24/50\n",
      "\u001B[1m117/117\u001B[0m \u001B[32m━━━━━━━━━━━━━━━━━━━━\u001B[0m\u001B[37m\u001B[0m \u001B[1m0s\u001B[0m 2ms/step - loss: 9.9564e-04 - val_loss: 0.0012\n",
      "Epoch 25/50\n",
      "\u001B[1m117/117\u001B[0m \u001B[32m━━━━━━━━━━━━━━━━━━━━\u001B[0m\u001B[37m\u001B[0m \u001B[1m0s\u001B[0m 2ms/step - loss: 9.2716e-04 - val_loss: 0.0013\n",
      "Epoch 26/50\n",
      "\u001B[1m117/117\u001B[0m \u001B[32m━━━━━━━━━━━━━━━━━━━━\u001B[0m\u001B[37m\u001B[0m \u001B[1m0s\u001B[0m 2ms/step - loss: 9.8222e-04 - val_loss: 0.0011\n",
      "Epoch 27/50\n",
      "\u001B[1m117/117\u001B[0m \u001B[32m━━━━━━━━━━━━━━━━━━━━\u001B[0m\u001B[37m\u001B[0m \u001B[1m0s\u001B[0m 2ms/step - loss: 9.6509e-04 - val_loss: 0.0012\n",
      "Epoch 28/50\n",
      "\u001B[1m117/117\u001B[0m \u001B[32m━━━━━━━━━━━━━━━━━━━━\u001B[0m\u001B[37m\u001B[0m \u001B[1m0s\u001B[0m 2ms/step - loss: 8.7624e-04 - val_loss: 0.0010\n",
      "Epoch 29/50\n",
      "\u001B[1m117/117\u001B[0m \u001B[32m━━━━━━━━━━━━━━━━━━━━\u001B[0m\u001B[37m\u001B[0m \u001B[1m0s\u001B[0m 2ms/step - loss: 8.7286e-04 - val_loss: 9.8675e-04\n",
      "Epoch 30/50\n",
      "\u001B[1m117/117\u001B[0m \u001B[32m━━━━━━━━━━━━━━━━━━━━\u001B[0m\u001B[37m\u001B[0m \u001B[1m0s\u001B[0m 2ms/step - loss: 9.2830e-04 - val_loss: 9.9526e-04\n",
      "Epoch 31/50\n",
      "\u001B[1m117/117\u001B[0m \u001B[32m━━━━━━━━━━━━━━━━━━━━\u001B[0m\u001B[37m\u001B[0m \u001B[1m0s\u001B[0m 2ms/step - loss: 8.8551e-04 - val_loss: 9.3663e-04\n",
      "Epoch 32/50\n",
      "\u001B[1m117/117\u001B[0m \u001B[32m━━━━━━━━━━━━━━━━━━━━\u001B[0m\u001B[37m\u001B[0m \u001B[1m0s\u001B[0m 2ms/step - loss: 7.7598e-04 - val_loss: 0.0011\n",
      "Epoch 33/50\n",
      "\u001B[1m117/117\u001B[0m \u001B[32m━━━━━━━━━━━━━━━━━━━━\u001B[0m\u001B[37m\u001B[0m \u001B[1m0s\u001B[0m 2ms/step - loss: 8.9052e-04 - val_loss: 0.0013\n",
      "Epoch 34/50\n",
      "\u001B[1m117/117\u001B[0m \u001B[32m━━━━━━━━━━━━━━━━━━━━\u001B[0m\u001B[37m\u001B[0m \u001B[1m0s\u001B[0m 2ms/step - loss: 7.3484e-04 - val_loss: 9.3834e-04\n",
      "Epoch 35/50\n",
      "\u001B[1m117/117\u001B[0m \u001B[32m━━━━━━━━━━━━━━━━━━━━\u001B[0m\u001B[37m\u001B[0m \u001B[1m0s\u001B[0m 2ms/step - loss: 8.0756e-04 - val_loss: 9.6275e-04\n",
      "Epoch 36/50\n",
      "\u001B[1m117/117\u001B[0m \u001B[32m━━━━━━━━━━━━━━━━━━━━\u001B[0m\u001B[37m\u001B[0m \u001B[1m0s\u001B[0m 2ms/step - loss: 7.9425e-04 - val_loss: 0.0011\n",
      "Epoch 37/50\n",
      "\u001B[1m117/117\u001B[0m \u001B[32m━━━━━━━━━━━━━━━━━━━━\u001B[0m\u001B[37m\u001B[0m \u001B[1m0s\u001B[0m 2ms/step - loss: 7.8601e-04 - val_loss: 8.5669e-04\n",
      "Epoch 38/50\n",
      "\u001B[1m117/117\u001B[0m \u001B[32m━━━━━━━━━━━━━━━━━━━━\u001B[0m\u001B[37m\u001B[0m \u001B[1m0s\u001B[0m 2ms/step - loss: 8.8361e-04 - val_loss: 8.4592e-04\n",
      "Epoch 39/50\n",
      "\u001B[1m117/117\u001B[0m \u001B[32m━━━━━━━━━━━━━━━━━━━━\u001B[0m\u001B[37m\u001B[0m \u001B[1m0s\u001B[0m 2ms/step - loss: 7.0383e-04 - val_loss: 0.0010\n",
      "Epoch 40/50\n",
      "\u001B[1m117/117\u001B[0m \u001B[32m━━━━━━━━━━━━━━━━━━━━\u001B[0m\u001B[37m\u001B[0m \u001B[1m0s\u001B[0m 2ms/step - loss: 8.2799e-04 - val_loss: 0.0010\n",
      "Epoch 41/50\n",
      "\u001B[1m117/117\u001B[0m \u001B[32m━━━━━━━━━━━━━━━━━━━━\u001B[0m\u001B[37m\u001B[0m \u001B[1m0s\u001B[0m 2ms/step - loss: 7.2253e-04 - val_loss: 0.0024\n",
      "Epoch 42/50\n",
      "\u001B[1m117/117\u001B[0m \u001B[32m━━━━━━━━━━━━━━━━━━━━\u001B[0m\u001B[37m\u001B[0m \u001B[1m0s\u001B[0m 2ms/step - loss: 6.7724e-04 - val_loss: 8.9531e-04\n",
      "Epoch 43/50\n",
      "\u001B[1m117/117\u001B[0m \u001B[32m━━━━━━━━━━━━━━━━━━━━\u001B[0m\u001B[37m\u001B[0m \u001B[1m0s\u001B[0m 2ms/step - loss: 6.6356e-04 - val_loss: 8.1164e-04\n",
      "Epoch 44/50\n",
      "\u001B[1m117/117\u001B[0m \u001B[32m━━━━━━━━━━━━━━━━━━━━\u001B[0m\u001B[37m\u001B[0m \u001B[1m0s\u001B[0m 3ms/step - loss: 6.8812e-04 - val_loss: 0.0010\n",
      "Epoch 45/50\n",
      "\u001B[1m117/117\u001B[0m \u001B[32m━━━━━━━━━━━━━━━━━━━━\u001B[0m\u001B[37m\u001B[0m \u001B[1m0s\u001B[0m 3ms/step - loss: 6.5117e-04 - val_loss: 8.9606e-04\n",
      "Epoch 46/50\n",
      "\u001B[1m117/117\u001B[0m \u001B[32m━━━━━━━━━━━━━━━━━━━━\u001B[0m\u001B[37m\u001B[0m \u001B[1m0s\u001B[0m 3ms/step - loss: 8.2115e-04 - val_loss: 8.1989e-04\n",
      "Epoch 47/50\n",
      "\u001B[1m117/117\u001B[0m \u001B[32m━━━━━━━━━━━━━━━━━━━━\u001B[0m\u001B[37m\u001B[0m \u001B[1m0s\u001B[0m 3ms/step - loss: 6.6104e-04 - val_loss: 7.8611e-04\n",
      "Epoch 48/50\n",
      "\u001B[1m117/117\u001B[0m \u001B[32m━━━━━━━━━━━━━━━━━━━━\u001B[0m\u001B[37m\u001B[0m \u001B[1m0s\u001B[0m 3ms/step - loss: 6.9021e-04 - val_loss: 9.7407e-04\n",
      "Epoch 49/50\n",
      "\u001B[1m117/117\u001B[0m \u001B[32m━━━━━━━━━━━━━━━━━━━━\u001B[0m\u001B[37m\u001B[0m \u001B[1m0s\u001B[0m 3ms/step - loss: 6.6661e-04 - val_loss: 8.0683e-04\n",
      "Epoch 50/50\n",
      "\u001B[1m117/117\u001B[0m \u001B[32m━━━━━━━━━━━━━━━━━━━━\u001B[0m\u001B[37m\u001B[0m \u001B[1m0s\u001B[0m 3ms/step - loss: 6.3843e-04 - val_loss: 7.8379e-04\n"
     ]
    }
   ],
   "execution_count": 12
  },
  {
   "metadata": {
    "ExecuteTime": {
     "end_time": "2025-05-17T16:00:35.863989Z",
     "start_time": "2025-05-17T16:00:35.505797Z"
    }
   },
   "cell_type": "code",
   "source": [
    "# Evaluate the model on the test set\n",
    "test_loss = model.evaluate(X_test_seq, y_test_seq, verbose=0)\n",
    "print(f\"Test MSE Loss: {test_loss:.6f}\")\n",
    "\n",
    "# Make predictions for the test period\n",
    "y_pred_scaled = model.predict(X_test_seq)\n",
    "# Inverse-transform the predictions back to original scale\n",
    "y_pred = target_scaler.inverse_transform(y_pred_scaled)\n",
    "y_actual = target_scaler.inverse_transform(y_test_seq)\n",
    "\n",
    "# Visualize the results: Actual vs Predicted exchange rate\n",
    "\n",
    "plt.figure(figsize=(8,5))\n",
    "plt.plot(y_actual, label='Actual CNY/GBP')\n",
    "plt.plot(y_pred, label='Predicted CNY/GBP')\n",
    "plt.title('Actual vs Predicted CNY/GBP Exchange Rate (Test Set)')\n",
    "plt.xlabel('Month')\n",
    "plt.ylabel('Exchange Rate (CNY per GBP)')\n",
    "plt.legend()\n",
    "plt.grid(True)\n",
    "plt.show()"
   ],
   "id": "84589ccc09358926",
   "outputs": [
    {
     "name": "stdout",
     "output_type": "stream",
     "text": [
      "Test MSE Loss: 0.001479\n",
      "\u001B[1m20/20\u001B[0m \u001B[32m━━━━━━━━━━━━━━━━━━━━\u001B[0m\u001B[37m\u001B[0m \u001B[1m0s\u001B[0m 5ms/step\n"
     ]
    },
    {
     "data": {
      "text/plain": [
       "<Figure size 800x500 with 1 Axes>"
      ],
      "image/png": "[encoded data removed]"
     },
     "metadata": {},
     "output_type": "display_data"
    }
   ],
   "execution_count": 13
  },
  {
   "metadata": {
    "ExecuteTime": {
     "end_time": "2025-05-17T16:01:53.611327Z",
     "start_time": "2025-05-17T16:01:53.607250Z"
    }
   },
   "cell_type": "code",
   "source": "df_all = lstm_df.copy()",
   "id": "153b15ba5eeef6c2",
   "outputs": [],
   "execution_count": 16
  },
  {
   "metadata": {
    "ExecuteTime": {
     "end_time": "2025-05-17T16:02:01.475867Z",
     "start_time": "2025-05-17T16:02:01.464313Z"
    }
   },
   "cell_type": "code",
   "source": [
    "df_all['prev_change'] = df_all['ER'].pct_change().fillna(0)\n",
    "\n",
    "# Create trend direction label (1 if next day up, 0 if down)\n",
    "df_all['trend_up'] = (df_all['ER'].diff().shift(-1) > 0).astype(int)\n",
    "df_all.dropna(inplace=True)  # drop last row if trend_up for next day is NaN\n",
    "\n",
    "# Display the final feature set\n",
    "display(df_all.tail(5))"
   ],
   "id": "152e57a927b19fba",
   "outputs": [
    {
     "data": {
      "text/plain": [
       "            rate_diff        ER  trade_war  prev_change  trend_up\n",
       "Date                                                             \n",
       "2025-04-30       1.40  9.639391          1    -0.002786         0\n",
       "2025-05-01       1.40  9.603934          1    -0.003678         0\n",
       "2025-05-02       1.40  9.562058          1    -0.004360         1\n",
       "2025-05-05       1.40  9.620287          1     0.006090         0\n",
       "2025-05-06       1.15  9.493972          1    -0.013130         0"
      ],
      "text/html": [
       "<div>\n",
       "<style scoped>\n",
       "    .dataframe tbody tr th:only-of-type {\n",
       "        vertical-align: middle;\n",
       "    }\n",
       "\n",
       "    .dataframe tbody tr th {\n",
       "        vertical-align: top;\n",
       "    }\n",
       "\n",
       "    .dataframe thead th {\n",
       "        text-align: right;\n",
       "    }\n",
       "</style>\n",
       "<table border=\"1\" class=\"dataframe\">\n",
       "  <thead>\n",
       "    <tr style=\"text-align: right;\">\n",
       "      <th></th>\n",
       "      <th>rate_diff</th>\n",
       "      <th>ER</th>\n",
       "      <th>trade_war</th>\n",
       "      <th>prev_change</th>\n",
       "      <th>trend_up</th>\n",
       "    </tr>\n",
       "    <tr>\n",
       "      <th>Date</th>\n",
       "      <th></th>\n",
       "      <th></th>\n",
       "      <th></th>\n",
       "      <th></th>\n",
       "      <th></th>\n",
       "    </tr>\n",
       "  </thead>\n",
       "  <tbody>\n",
       "    <tr>\n",
       "      <th>2025-04-30</th>\n",
       "      <td>1.40</td>\n",
       "      <td>9.639391</td>\n",
       "      <td>1</td>\n",
       "      <td>-0.002786</td>\n",
       "      <td>0</td>\n",
       "    </tr>\n",
       "    <tr>\n",
       "      <th>2025-05-01</th>\n",
       "      <td>1.40</td>\n",
       "      <td>9.603934</td>\n",
       "      <td>1</td>\n",
       "      <td>-0.003678</td>\n",
       "      <td>0</td>\n",
       "    </tr>\n",
       "    <tr>\n",
       "      <th>2025-05-02</th>\n",
       "      <td>1.40</td>\n",
       "      <td>9.562058</td>\n",
       "      <td>1</td>\n",
       "      <td>-0.004360</td>\n",
       "      <td>1</td>\n",
       "    </tr>\n",
       "    <tr>\n",
       "      <th>2025-05-05</th>\n",
       "      <td>1.40</td>\n",
       "      <td>9.620287</td>\n",
       "      <td>1</td>\n",
       "      <td>0.006090</td>\n",
       "      <td>0</td>\n",
       "    </tr>\n",
       "    <tr>\n",
       "      <th>2025-05-06</th>\n",
       "      <td>1.15</td>\n",
       "      <td>9.493972</td>\n",
       "      <td>1</td>\n",
       "      <td>-0.013130</td>\n",
       "      <td>0</td>\n",
       "    </tr>\n",
       "  </tbody>\n",
       "</table>\n",
       "</div>"
      ]
     },
     "metadata": {},
     "output_type": "display_data"
    }
   ],
   "execution_count": 17
  },
  {
   "metadata": {
    "ExecuteTime": {
     "end_time": "2025-05-17T16:02:10.860655Z",
     "start_time": "2025-05-17T16:02:10.811794Z"
    }
   },
   "cell_type": "code",
   "source": [
    "from tensorflow.keras.models import Model\n",
    "from tensorflow.keras.layers import Input, LSTM, Dense, Dropout\n",
    "from tensorflow.keras.losses import Huber\n",
    "\n",
    "# Prepare training and testing data\n",
    "from sklearn.preprocessing import MinMaxScaler\n",
    "\n",
    "# Split data into train/test sets (75% train, 25% test)\n",
    "split_idx = int(len(df_all) * 0.75)\n",
    "train_data = df_all.iloc[:split_idx].copy()\n",
    "test_data = df_all.iloc[split_idx:].copy()\n",
    "\n",
    "# Features for model (including previous change and trade_war, interest diff, and ER itself as part of sequence input)\n",
    "feature_cols = ['ER', 'rate_diff', 'trade_war', 'prev_change']\n",
    "target_col = 'ER'\n",
    "class_col = 'trend_up'\n",
    "\n",
    "# Scale features and target\n",
    "feature_scaler = MinMaxScaler()\n",
    "target_scaler = MinMaxScaler()\n",
    "X_train = feature_scaler.fit_transform(train_data[feature_cols])\n",
    "X_test = feature_scaler.transform(test_data[feature_cols])\n",
    "y_train = target_scaler.fit_transform(train_data[[target_col]])\n",
    "y_test = target_scaler.transform(test_data[[target_col]])\n",
    "\n",
    "# Prepare sequences\n",
    "lookback = 30  # using 30-day lookback window\n",
    "X_train_seq, y_train_seq, c_train_seq = [], [], []\n",
    "for i in range(lookback, len(X_train)):\n",
    "    X_train_seq.append(X_train[i-lookback:i])\n",
    "    y_train_seq.append(y_train[i])                   # target value at day i\n",
    "    c_train_seq.append(train_data[class_col].iloc[i])  # trend_up label at day i\n",
    "X_train_seq = np.array(X_train_seq)\n",
    "y_train_seq = np.array(y_train_seq)\n",
    "c_train_seq = np.array(c_train_seq)\n",
    "\n",
    "X_test_seq, y_test_seq, c_test_seq = [], [], []\n",
    "# For test sequences, include tail of train for initial sequence context\n",
    "total_X = np.concatenate((X_train, X_test), axis=0)\n",
    "total_y = np.concatenate((y_train, y_test), axis=0)\n",
    "total_c = np.concatenate((train_data[class_col].values, test_data[class_col].values), axis=0)\n",
    "train_len = len(X_train)\n",
    "for i in range(train_len, len(total_X)):\n",
    "    if i < lookback:\n",
    "        continue\n",
    "    X_test_seq.append(total_X[i-lookback:i])\n",
    "    y_test_seq.append(total_y[i])\n",
    "    c_test_seq.append(total_c[i])\n",
    "X_test_seq = np.array(X_test_seq)\n",
    "y_test_seq = np.array(y_test_seq)\n",
    "c_test_seq = np.array(c_test_seq)\n",
    "\n",
    "# Define multi-output LSTM model\n",
    "inputs = Input(shape=(lookback, X_train_seq.shape[2]))\n",
    "x = LSTM(64, return_sequences=True)(inputs)\n",
    "x = Dropout(0.2)(x)\n",
    "x = LSTM(32)(x)\n",
    "reg_out = Dense(1, name='reg_out')(x)                   # regression output\n",
    "class_out = Dense(1, activation='sigmoid', name='class_out')(x)  # classification output\n",
    "\n",
    "model = Model(inputs=inputs, outputs=[reg_out, class_out])\n",
    "model.compile(optimizer='adam',\n",
    "              loss={'reg_out': Huber(delta=0.02), 'class_out': 'binary_crossentropy'},\n",
    "              loss_weights={'reg_out': 1.0, 'class_out': 0.5})\n",
    "model.summary()\n",
    "\n"
   ],
   "id": "42315f4b5bc30558",
   "outputs": [
    {
     "data": {
      "text/plain": [
       "\u001B[1mModel: \"functional_4\"\u001B[0m\n"
      ],
      "text/html": [
       "<pre style=\"white-space:pre;overflow-x:auto;line-height:normal;font-family:Menlo,'DejaVu Sans Mono',consolas,'Courier New',monospace\"><span style=\"font-weight: bold\">Model: \"functional_4\"</span>\n",
       "</pre>\n"
      ]
     },
     "metadata": {},
     "output_type": "display_data"
    },
    {
     "data": {
      "text/plain": [
       "┏━━━━━━━━━━━━━━━━━━━━━┳━━━━━━━━━━━━━━━━━━━┳━━━━━━━━━━━━┳━━━━━━━━━━━━━━━━━━━┓\n",
       "┃\u001B[1m \u001B[0m\u001B[1mLayer (type)       \u001B[0m\u001B[1m \u001B[0m┃\u001B[1m \u001B[0m\u001B[1mOutput Shape     \u001B[0m\u001B[1m \u001B[0m┃\u001B[1m \u001B[0m\u001B[1m   Param #\u001B[0m\u001B[1m \u001B[0m┃\u001B[1m \u001B[0m\u001B[1mConnected to     \u001B[0m\u001B[1m \u001B[0m┃\n",
       "┡━━━━━━━━━━━━━━━━━━━━━╇━━━━━━━━━━━━━━━━━━━╇━━━━━━━━━━━━╇━━━━━━━━━━━━━━━━━━━┩\n",
       "│ input_layer_1       │ (\u001B[38;5;45mNone\u001B[0m, \u001B[38;5;34m30\u001B[0m, \u001B[38;5;34m4\u001B[0m)     │          \u001B[38;5;34m0\u001B[0m │ -                 │\n",
       "│ (\u001B[38;5;33mInputLayer\u001B[0m)        │                   │            │                   │\n",
       "├─────────────────────┼───────────────────┼────────────┼───────────────────┤\n",
       "│ lstm_2 (\u001B[38;5;33mLSTM\u001B[0m)       │ (\u001B[38;5;45mNone\u001B[0m, \u001B[38;5;34m30\u001B[0m, \u001B[38;5;34m64\u001B[0m)    │     \u001B[38;5;34m17,664\u001B[0m │ input_layer_1[\u001B[38;5;34m0\u001B[0m]… │\n",
       "├─────────────────────┼───────────────────┼────────────┼───────────────────┤\n",
       "│ dropout_1 (\u001B[38;5;33mDropout\u001B[0m) │ (\u001B[38;5;45mNone\u001B[0m, \u001B[38;5;34m30\u001B[0m, \u001B[38;5;34m64\u001B[0m)    │          \u001B[38;5;34m0\u001B[0m │ lstm_2[\u001B[38;5;34m0\u001B[0m][\u001B[38;5;34m0\u001B[0m]      │\n",
       "├─────────────────────┼───────────────────┼────────────┼───────────────────┤\n",
       "│ lstm_3 (\u001B[38;5;33mLSTM\u001B[0m)       │ (\u001B[38;5;45mNone\u001B[0m, \u001B[38;5;34m32\u001B[0m)        │     \u001B[38;5;34m12,416\u001B[0m │ dropout_1[\u001B[38;5;34m0\u001B[0m][\u001B[38;5;34m0\u001B[0m]   │\n",
       "├─────────────────────┼───────────────────┼────────────┼───────────────────┤\n",
       "│ reg_out (\u001B[38;5;33mDense\u001B[0m)     │ (\u001B[38;5;45mNone\u001B[0m, \u001B[38;5;34m1\u001B[0m)         │         \u001B[38;5;34m33\u001B[0m │ lstm_3[\u001B[38;5;34m0\u001B[0m][\u001B[38;5;34m0\u001B[0m]      │\n",
       "├─────────────────────┼───────────────────┼────────────┼───────────────────┤\n",
       "│ class_out (\u001B[38;5;33mDense\u001B[0m)   │ (\u001B[38;5;45mNone\u001B[0m, \u001B[38;5;34m1\u001B[0m)         │         \u001B[38;5;34m33\u001B[0m │ lstm_3[\u001B[38;5;34m0\u001B[0m][\u001B[38;5;34m0\u001B[0m]      │\n",
       "└─────────────────────┴───────────────────┴────────────┴───────────────────┘\n"
      ],
      "text/html": [
       "<pre style=\"white-space:pre;overflow-x:auto;line-height:normal;font-family:Menlo,'DejaVu Sans Mono',consolas,'Courier New',monospace\">┏━━━━━━━━━━━━━━━━━━━━━┳━━━━━━━━━━━━━━━━━━━┳━━━━━━━━━━━━┳━━━━━━━━━━━━━━━━━━━┓\n",
       "┃<span style=\"font-weight: bold\"> Layer (type)        </span>┃<span style=\"font-weight: bold\"> Output Shape      </span>┃<span style=\"font-weight: bold\">    Param # </span>┃<span style=\"font-weight: bold\"> Connected to      </span>┃\n",
       "┡━━━━━━━━━━━━━━━━━━━━━╇━━━━━━━━━━━━━━━━━━━╇━━━━━━━━━━━━╇━━━━━━━━━━━━━━━━━━━┩\n",
       "│ input_layer_1       │ (<span style=\"color: #00d7ff; text-decoration-color: #00d7ff\">None</span>, <span style=\"color: #00af00; text-decoration-color: #00af00\">30</span>, <span style=\"color: #00af00; text-decoration-color: #00af00\">4</span>)     │          <span style=\"color: #00af00; text-decoration-color: #00af00\">0</span> │ -                 │\n",
       "│ (<span style=\"color: #0087ff; text-decoration-color: #0087ff\">InputLayer</span>)        │                   │            │                   │\n",
       "├─────────────────────┼───────────────────┼────────────┼───────────────────┤\n",
       "│ lstm_2 (<span style=\"color: #0087ff; text-decoration-color: #0087ff\">LSTM</span>)       │ (<span style=\"color: #00d7ff; text-decoration-color: #00d7ff\">None</span>, <span style=\"color: #00af00; text-decoration-color: #00af00\">30</span>, <span style=\"color: #00af00; text-decoration-color: #00af00\">64</span>)    │     <span style=\"color: #00af00; text-decoration-color: #00af00\">17,664</span> │ input_layer_1[<span style=\"color: #00af00; text-decoration-color: #00af00\">0</span>]… │\n",
       "├─────────────────────┼───────────────────┼────────────┼───────────────────┤\n",
       "│ dropout_1 (<span style=\"color: #0087ff; text-decoration-color: #0087ff\">Dropout</span>) │ (<span style=\"color: #00d7ff; text-decoration-color: #00d7ff\">None</span>, <span style=\"color: #00af00; text-decoration-color: #00af00\">30</span>, <span style=\"color: #00af00; text-decoration-color: #00af00\">64</span>)    │          <span style=\"color: #00af00; text-decoration-color: #00af00\">0</span> │ lstm_2[<span style=\"color: #00af00; text-decoration-color: #00af00\">0</span>][<span style=\"color: #00af00; text-decoration-color: #00af00\">0</span>]      │\n",
       "├─────────────────────┼───────────────────┼────────────┼───────────────────┤\n",
       "│ lstm_3 (<span style=\"color: #0087ff; text-decoration-color: #0087ff\">LSTM</span>)       │ (<span style=\"color: #00d7ff; text-decoration-color: #00d7ff\">None</span>, <span style=\"color: #00af00; text-decoration-color: #00af00\">32</span>)        │     <span style=\"color: #00af00; text-decoration-color: #00af00\">12,416</span> │ dropout_1[<span style=\"color: #00af00; text-decoration-color: #00af00\">0</span>][<span style=\"color: #00af00; text-decoration-color: #00af00\">0</span>]   │\n",
       "├─────────────────────┼───────────────────┼────────────┼───────────────────┤\n",
       "│ reg_out (<span style=\"color: #0087ff; text-decoration-color: #0087ff\">Dense</span>)     │ (<span style=\"color: #00d7ff; text-decoration-color: #00d7ff\">None</span>, <span style=\"color: #00af00; text-decoration-color: #00af00\">1</span>)         │         <span style=\"color: #00af00; text-decoration-color: #00af00\">33</span> │ lstm_3[<span style=\"color: #00af00; text-decoration-color: #00af00\">0</span>][<span style=\"color: #00af00; text-decoration-color: #00af00\">0</span>]      │\n",
       "├─────────────────────┼───────────────────┼────────────┼───────────────────┤\n",
       "│ class_out (<span style=\"color: #0087ff; text-decoration-color: #0087ff\">Dense</span>)   │ (<span style=\"color: #00d7ff; text-decoration-color: #00d7ff\">None</span>, <span style=\"color: #00af00; text-decoration-color: #00af00\">1</span>)         │         <span style=\"color: #00af00; text-decoration-color: #00af00\">33</span> │ lstm_3[<span style=\"color: #00af00; text-decoration-color: #00af00\">0</span>][<span style=\"color: #00af00; text-decoration-color: #00af00\">0</span>]      │\n",
       "└─────────────────────┴───────────────────┴────────────┴───────────────────┘\n",
       "</pre>\n"
      ]
     },
     "metadata": {},
     "output_type": "display_data"
    },
    {
     "data": {
      "text/plain": [
       "\u001B[1m Total params: \u001B[0m\u001B[38;5;34m30,146\u001B[0m (117.76 KB)\n"
      ],
      "text/html": [
       "<pre style=\"white-space:pre;overflow-x:auto;line-height:normal;font-family:Menlo,'DejaVu Sans Mono',consolas,'Courier New',monospace\"><span style=\"font-weight: bold\"> Total params: </span><span style=\"color: #00af00; text-decoration-color: #00af00\">30,146</span> (117.76 KB)\n",
       "</pre>\n"
      ]
     },
     "metadata": {},
     "output_type": "display_data"
    },
    {
     "data": {
      "text/plain": [
       "\u001B[1m Trainable params: \u001B[0m\u001B[38;5;34m30,146\u001B[0m (117.76 KB)\n"
      ],
      "text/html": [
       "<pre style=\"white-space:pre;overflow-x:auto;line-height:normal;font-family:Menlo,'DejaVu Sans Mono',consolas,'Courier New',monospace\"><span style=\"font-weight: bold\"> Trainable params: </span><span style=\"color: #00af00; text-decoration-color: #00af00\">30,146</span> (117.76 KB)\n",
       "</pre>\n"
      ]
     },
     "metadata": {},
     "output_type": "display_data"
    },
    {
     "data": {
      "text/plain": [
       "\u001B[1m Non-trainable params: \u001B[0m\u001B[38;5;34m0\u001B[0m (0.00 B)\n"
      ],
      "text/html": [
       "<pre style=\"white-space:pre;overflow-x:auto;line-height:normal;font-family:Menlo,'DejaVu Sans Mono',consolas,'Courier New',monospace\"><span style=\"font-weight: bold\"> Non-trainable params: </span><span style=\"color: #00af00; text-decoration-color: #00af00\">0</span> (0.00 B)\n",
       "</pre>\n"
      ]
     },
     "metadata": {},
     "output_type": "display_data"
    }
   ],
   "execution_count": 18
  },
  {
   "metadata": {
    "ExecuteTime": {
     "end_time": "2025-05-17T16:02:47.217979Z",
     "start_time": "2025-05-17T16:02:33.781029Z"
    }
   },
   "cell_type": "code",
   "source": [
    "from tensorflow.keras.callbacks import EarlyStopping\n",
    "\n",
    "# Early stopping callback\n",
    "early_stop = EarlyStopping(monitor='val_loss', patience=5, restore_best_weights=True)\n",
    "\n",
    "# Train the model\n",
    "history = model.fit(X_train_seq,\n",
    "                    {'reg_out': y_train_seq, 'class_out': c_train_seq},\n",
    "                    epochs=50,\n",
    "                    batch_size=16,\n",
    "                    validation_split=0.1,\n",
    "                    callbacks=[early_stop],\n",
    "                    verbose=1)\n"
   ],
   "id": "cc5e050274e5d655",
   "outputs": [
    {
     "name": "stdout",
     "output_type": "stream",
     "text": [
      "Epoch 1/50\n",
      "\u001B[1m112/112\u001B[0m \u001B[32m━━━━━━━━━━━━━━━━━━━━\u001B[0m\u001B[37m\u001B[0m \u001B[1m1s\u001B[0m 6ms/step - class_out_loss: 0.6950 - loss: 0.3505 - reg_out_loss: 0.0030 - val_class_out_loss: 0.6939 - val_loss: 0.3481 - val_reg_out_loss: 0.0015\n",
      "Epoch 2/50\n",
      "\u001B[1m112/112\u001B[0m \u001B[32m━━━━━━━━━━━━━━━━━━━━\u001B[0m\u001B[37m\u001B[0m \u001B[1m1s\u001B[0m 6ms/step - class_out_loss: 0.6939 - loss: 0.3479 - reg_out_loss: 9.8743e-04 - val_class_out_loss: 0.6942 - val_loss: 0.3471 - val_reg_out_loss: 4.7890e-04\n",
      "Epoch 3/50\n",
      "\u001B[1m112/112\u001B[0m \u001B[32m━━━━━━━━━━━━━━━━━━━━\u001B[0m\u001B[37m\u001B[0m \u001B[1m1s\u001B[0m 6ms/step - class_out_loss: 0.6929 - loss: 0.3471 - reg_out_loss: 6.8308e-04 - val_class_out_loss: 0.6929 - val_loss: 0.3481 - val_reg_out_loss: 0.0012\n",
      "Epoch 4/50\n",
      "\u001B[1m112/112\u001B[0m \u001B[32m━━━━━━━━━━━━━━━━━━━━\u001B[0m\u001B[37m\u001B[0m \u001B[1m1s\u001B[0m 6ms/step - class_out_loss: 0.6935 - loss: 0.3474 - reg_out_loss: 7.0235e-04 - val_class_out_loss: 0.6935 - val_loss: 0.3474 - val_reg_out_loss: 9.9933e-04\n",
      "Epoch 5/50\n",
      "\u001B[1m112/112\u001B[0m \u001B[32m━━━━━━━━━━━━━━━━━━━━\u001B[0m\u001B[37m\u001B[0m \u001B[1m1s\u001B[0m 6ms/step - class_out_loss: 0.6935 - loss: 0.3476 - reg_out_loss: 8.6297e-04 - val_class_out_loss: 0.6928 - val_loss: 0.3474 - val_reg_out_loss: 0.0011\n",
      "Epoch 6/50\n",
      "\u001B[1m112/112\u001B[0m \u001B[32m━━━━━━━━━━━━━━━━━━━━\u001B[0m\u001B[37m\u001B[0m \u001B[1m1s\u001B[0m 6ms/step - class_out_loss: 0.6931 - loss: 0.3474 - reg_out_loss: 7.9048e-04 - val_class_out_loss: 0.6925 - val_loss: 0.3479 - val_reg_out_loss: 0.0016\n",
      "Epoch 7/50\n",
      "\u001B[1m112/112\u001B[0m \u001B[32m━━━━━━━━━━━━━━━━━━━━\u001B[0m\u001B[37m\u001B[0m \u001B[1m1s\u001B[0m 6ms/step - class_out_loss: 0.6922 - loss: 0.3468 - reg_out_loss: 7.0270e-04 - val_class_out_loss: 0.6929 - val_loss: 0.3468 - val_reg_out_loss: 5.8323e-04\n",
      "Epoch 8/50\n",
      "\u001B[1m112/112\u001B[0m \u001B[32m━━━━━━━━━━━━━━━━━━━━\u001B[0m\u001B[37m\u001B[0m \u001B[1m1s\u001B[0m 6ms/step - class_out_loss: 0.6931 - loss: 0.3473 - reg_out_loss: 7.6357e-04 - val_class_out_loss: 0.6926 - val_loss: 0.3472 - val_reg_out_loss: 5.4169e-04\n",
      "Epoch 9/50\n",
      "\u001B[1m112/112\u001B[0m \u001B[32m━━━━━━━━━━━━━━━━━━━━\u001B[0m\u001B[37m\u001B[0m \u001B[1m1s\u001B[0m 6ms/step - class_out_loss: 0.6929 - loss: 0.3471 - reg_out_loss: 6.0863e-04 - val_class_out_loss: 0.6919 - val_loss: 0.3468 - val_reg_out_loss: 4.6087e-04\n",
      "Epoch 10/50\n",
      "\u001B[1m112/112\u001B[0m \u001B[32m━━━━━━━━━━━━━━━━━━━━\u001B[0m\u001B[37m\u001B[0m \u001B[1m1s\u001B[0m 6ms/step - class_out_loss: 0.6925 - loss: 0.3471 - reg_out_loss: 8.3260e-04 - val_class_out_loss: 0.6920 - val_loss: 0.3468 - val_reg_out_loss: 5.3338e-04\n",
      "Epoch 11/50\n",
      "\u001B[1m112/112\u001B[0m \u001B[32m━━━━━━━━━━━━━━━━━━━━\u001B[0m\u001B[37m\u001B[0m \u001B[1m1s\u001B[0m 6ms/step - class_out_loss: 0.6926 - loss: 0.3469 - reg_out_loss: 5.8747e-04 - val_class_out_loss: 0.6921 - val_loss: 0.3467 - val_reg_out_loss: 4.5255e-04\n",
      "Epoch 12/50\n",
      "\u001B[1m112/112\u001B[0m \u001B[32m━━━━━━━━━━━━━━━━━━━━\u001B[0m\u001B[37m\u001B[0m \u001B[1m1s\u001B[0m 6ms/step - class_out_loss: 0.6912 - loss: 0.3463 - reg_out_loss: 6.5900e-04 - val_class_out_loss: 0.6920 - val_loss: 0.3476 - val_reg_out_loss: 0.0015\n",
      "Epoch 13/50\n",
      "\u001B[1m112/112\u001B[0m \u001B[32m━━━━━━━━━━━━━━━━━━━━\u001B[0m\u001B[37m\u001B[0m \u001B[1m1s\u001B[0m 6ms/step - class_out_loss: 0.6918 - loss: 0.3466 - reg_out_loss: 7.1576e-04 - val_class_out_loss: 0.6919 - val_loss: 0.3467 - val_reg_out_loss: 3.9128e-04\n",
      "Epoch 14/50\n",
      "\u001B[1m112/112\u001B[0m \u001B[32m━━━━━━━━━━━━━━━━━━━━\u001B[0m\u001B[37m\u001B[0m \u001B[1m1s\u001B[0m 6ms/step - class_out_loss: 0.6921 - loss: 0.3466 - reg_out_loss: 5.5200e-04 - val_class_out_loss: 0.6918 - val_loss: 0.3466 - val_reg_out_loss: 4.5914e-04\n",
      "Epoch 15/50\n",
      "\u001B[1m112/112\u001B[0m \u001B[32m━━━━━━━━━━━━━━━━━━━━\u001B[0m\u001B[37m\u001B[0m \u001B[1m1s\u001B[0m 6ms/step - class_out_loss: 0.6910 - loss: 0.3461 - reg_out_loss: 5.8263e-04 - val_class_out_loss: 0.6922 - val_loss: 0.3479 - val_reg_out_loss: 0.0012\n",
      "Epoch 16/50\n",
      "\u001B[1m112/112\u001B[0m \u001B[32m━━━━━━━━━━━━━━━━━━━━\u001B[0m\u001B[37m\u001B[0m \u001B[1m1s\u001B[0m 6ms/step - class_out_loss: 0.6922 - loss: 0.3468 - reg_out_loss: 6.6437e-04 - val_class_out_loss: 0.6921 - val_loss: 0.3481 - val_reg_out_loss: 0.0017\n",
      "Epoch 17/50\n",
      "\u001B[1m112/112\u001B[0m \u001B[32m━━━━━━━━━━━━━━━━━━━━\u001B[0m\u001B[37m\u001B[0m \u001B[1m1s\u001B[0m 6ms/step - class_out_loss: 0.6919 - loss: 0.3467 - reg_out_loss: 7.2081e-04 - val_class_out_loss: 0.6917 - val_loss: 0.3472 - val_reg_out_loss: 7.9803e-04\n",
      "Epoch 18/50\n",
      "\u001B[1m112/112\u001B[0m \u001B[32m━━━━━━━━━━━━━━━━━━━━\u001B[0m\u001B[37m\u001B[0m \u001B[1m1s\u001B[0m 6ms/step - class_out_loss: 0.6900 - loss: 0.3455 - reg_out_loss: 4.9795e-04 - val_class_out_loss: 0.6919 - val_loss: 0.3467 - val_reg_out_loss: 7.0678e-04\n",
      "Epoch 19/50\n",
      "\u001B[1m112/112\u001B[0m \u001B[32m━━━━━━━━━━━━━━━━━━━━\u001B[0m\u001B[37m\u001B[0m \u001B[1m1s\u001B[0m 6ms/step - class_out_loss: 0.6903 - loss: 0.3458 - reg_out_loss: 6.6394e-04 - val_class_out_loss: 0.6917 - val_loss: 0.3467 - val_reg_out_loss: 3.6204e-04\n"
     ]
    }
   ],
   "execution_count": 19
  },
  {
   "metadata": {
    "ExecuteTime": {
     "end_time": "2025-05-17T16:03:06.208602Z",
     "start_time": "2025-05-17T16:03:05.998832Z"
    }
   },
   "cell_type": "code",
   "source": [
    "# Make predictions on the test set\n",
    "y_pred_scaled, class_pred_prob = model.predict(X_test_seq)\n",
    "y_pred = target_scaler.inverse_transform(y_pred_scaled)\n",
    "y_actual = target_scaler.inverse_transform(y_test_seq)\n",
    "\n",
    "# Predicted trend (up=1 if probability >= 0.5)\n",
    "class_pred = (class_pred_prob >= 0.5).astype(int)\n",
    "actual_trend = c_test_seq.reshape(-1, 1)  # actual trend_up labels for test\n",
    "\n",
    "# 1. Trend direction accuracy\n",
    "trend_matches = (class_pred == actual_trend).astype(int)\n",
    "trend_accuracy = trend_matches.mean()\n",
    "\n",
    "# 2. Proportion of large errors (> 0.05)\n",
    "errors = y_pred - y_actual\n",
    "large_error_prop = (np.abs(errors) > 0.05).mean()\n",
    "\n",
    "print(f\"Trend direction accuracy: {trend_accuracy*100:.2f}%\")\n",
    "print(f\"Proportion of predictions with error > 0.05: {large_error_prop*100:.2f}%\")\n"
   ],
   "id": "ee14405e7ea3b001",
   "outputs": [
    {
     "name": "stdout",
     "output_type": "stream",
     "text": [
      "\u001B[1m22/22\u001B[0m \u001B[32m━━━━━━━━━━━━━━━━━━━━\u001B[0m\u001B[37m\u001B[0m \u001B[1m0s\u001B[0m 5ms/step\n",
      "Trend direction accuracy: 48.96%\n",
      "Proportion of predictions with error > 0.05: 89.91%\n"
     ]
    }
   ],
   "execution_count": 20
  },
  {
   "metadata": {
    "ExecuteTime": {
     "end_time": "2025-05-17T16:03:25.899925Z",
     "start_time": "2025-05-17T16:03:25.388838Z"
    }
   },
   "cell_type": "code",
   "source": [
    "import matplotlib.pyplot as plt\n",
    "\n",
    "# Plot actual vs predicted exchange rate\n",
    "plt.figure(figsize=(10,6))\n",
    "plt.plot(test_data['Date'].iloc[lookback:], y_actual, label='Actual ER')\n",
    "plt.plot(test_data['Date'].iloc[lookback:], y_pred, label='Predicted ER')\n",
    "plt.title('Actual vs Predicted CNY/GBP Exchange Rate (Test Set)')\n",
    "plt.xlabel('Date')\n",
    "plt.ylabel('Exchange Rate (CNY per GBP)')\n",
    "plt.legend()\n",
    "plt.grid(True)\n",
    "plt.show()\n"
   ],
   "id": "d123cce08a6fbb5",
   "outputs": [
    {
     "ename": "KeyError",
     "evalue": "'Date'",
     "output_type": "error",
     "traceback": [
      "\u001B[0;31m---------------------------------------------------------------------------\u001B[0m",
      "\u001B[0;31mKeyError\u001B[0m                                  Traceback (most recent call last)",
      "File \u001B[0;32m~/PycharmProjects/PythonProject5/.venv/lib/python3.9/site-packages/pandas/core/indexes/base.py:3805\u001B[0m, in \u001B[0;36mIndex.get_loc\u001B[0;34m(self, key)\u001B[0m\n\u001B[1;32m   3804\u001B[0m \u001B[38;5;28;01mtry\u001B[39;00m:\n\u001B[0;32m-> 3805\u001B[0m     \u001B[38;5;28;01mreturn\u001B[39;00m \u001B[38;5;28;43mself\u001B[39;49m\u001B[38;5;241;43m.\u001B[39;49m\u001B[43m_engine\u001B[49m\u001B[38;5;241;43m.\u001B[39;49m\u001B[43mget_loc\u001B[49m\u001B[43m(\u001B[49m\u001B[43mcasted_key\u001B[49m\u001B[43m)\u001B[49m\n\u001B[1;32m   3806\u001B[0m \u001B[38;5;28;01mexcept\u001B[39;00m \u001B[38;5;167;01mKeyError\u001B[39;00m \u001B[38;5;28;01mas\u001B[39;00m err:\n",
      "File \u001B[0;32mindex.pyx:167\u001B[0m, in \u001B[0;36mpandas._libs.index.IndexEngine.get_loc\u001B[0;34m()\u001B[0m\n",
      "File \u001B[0;32mindex.pyx:196\u001B[0m, in \u001B[0;36mpandas._libs.index.IndexEngine.get_loc\u001B[0;34m()\u001B[0m\n",
      "File \u001B[0;32mpandas/_libs/hashtable_class_helper.pxi:7081\u001B[0m, in \u001B[0;36mpandas._libs.hashtable.PyObjectHashTable.get_item\u001B[0;34m()\u001B[0m\n",
      "File \u001B[0;32mpandas/_libs/hashtable_class_helper.pxi:7089\u001B[0m, in \u001B[0;36mpandas._libs.hashtable.PyObjectHashTable.get_item\u001B[0;34m()\u001B[0m\n",
      "\u001B[0;31mKeyError\u001B[0m: 'Date'",
      "\nThe above exception was the direct cause of the following exception:\n",
      "\u001B[0;31mKeyError\u001B[0m                                  Traceback (most recent call last)",
      "Cell \u001B[0;32mIn[21], line 5\u001B[0m\n\u001B[1;32m      3\u001B[0m \u001B[38;5;66;03m# Plot actual vs predicted exchange rate\u001B[39;00m\n\u001B[1;32m      4\u001B[0m plt\u001B[38;5;241m.\u001B[39mfigure(figsize\u001B[38;5;241m=\u001B[39m(\u001B[38;5;241m10\u001B[39m,\u001B[38;5;241m6\u001B[39m))\n\u001B[0;32m----> 5\u001B[0m plt\u001B[38;5;241m.\u001B[39mplot(\u001B[43mtest_data\u001B[49m\u001B[43m[\u001B[49m\u001B[38;5;124;43m'\u001B[39;49m\u001B[38;5;124;43mDate\u001B[39;49m\u001B[38;5;124;43m'\u001B[39;49m\u001B[43m]\u001B[49m\u001B[38;5;241m.\u001B[39miloc[lookback:], y_actual, label\u001B[38;5;241m=\u001B[39m\u001B[38;5;124m'\u001B[39m\u001B[38;5;124mActual ER\u001B[39m\u001B[38;5;124m'\u001B[39m)\n\u001B[1;32m      6\u001B[0m plt\u001B[38;5;241m.\u001B[39mplot(test_data[\u001B[38;5;124m'\u001B[39m\u001B[38;5;124mDate\u001B[39m\u001B[38;5;124m'\u001B[39m]\u001B[38;5;241m.\u001B[39miloc[lookback:], y_pred, label\u001B[38;5;241m=\u001B[39m\u001B[38;5;124m'\u001B[39m\u001B[38;5;124mPredicted ER\u001B[39m\u001B[38;5;124m'\u001B[39m)\n\u001B[1;32m      7\u001B[0m plt\u001B[38;5;241m.\u001B[39mtitle(\u001B[38;5;124m'\u001B[39m\u001B[38;5;124mActual vs Predicted CNY/GBP Exchange Rate (Test Set)\u001B[39m\u001B[38;5;124m'\u001B[39m)\n",
      "File \u001B[0;32m~/PycharmProjects/PythonProject5/.venv/lib/python3.9/site-packages/pandas/core/frame.py:4102\u001B[0m, in \u001B[0;36mDataFrame.__getitem__\u001B[0;34m(self, key)\u001B[0m\n\u001B[1;32m   4100\u001B[0m \u001B[38;5;28;01mif\u001B[39;00m \u001B[38;5;28mself\u001B[39m\u001B[38;5;241m.\u001B[39mcolumns\u001B[38;5;241m.\u001B[39mnlevels \u001B[38;5;241m>\u001B[39m \u001B[38;5;241m1\u001B[39m:\n\u001B[1;32m   4101\u001B[0m     \u001B[38;5;28;01mreturn\u001B[39;00m \u001B[38;5;28mself\u001B[39m\u001B[38;5;241m.\u001B[39m_getitem_multilevel(key)\n\u001B[0;32m-> 4102\u001B[0m indexer \u001B[38;5;241m=\u001B[39m \u001B[38;5;28;43mself\u001B[39;49m\u001B[38;5;241;43m.\u001B[39;49m\u001B[43mcolumns\u001B[49m\u001B[38;5;241;43m.\u001B[39;49m\u001B[43mget_loc\u001B[49m\u001B[43m(\u001B[49m\u001B[43mkey\u001B[49m\u001B[43m)\u001B[49m\n\u001B[1;32m   4103\u001B[0m \u001B[38;5;28;01mif\u001B[39;00m is_integer(indexer):\n\u001B[1;32m   4104\u001B[0m     indexer \u001B[38;5;241m=\u001B[39m [indexer]\n",
      "File \u001B[0;32m~/PycharmProjects/PythonProject5/.venv/lib/python3.9/site-packages/pandas/core/indexes/base.py:3812\u001B[0m, in \u001B[0;36mIndex.get_loc\u001B[0;34m(self, key)\u001B[0m\n\u001B[1;32m   3807\u001B[0m     \u001B[38;5;28;01mif\u001B[39;00m \u001B[38;5;28misinstance\u001B[39m(casted_key, \u001B[38;5;28mslice\u001B[39m) \u001B[38;5;129;01mor\u001B[39;00m (\n\u001B[1;32m   3808\u001B[0m         \u001B[38;5;28misinstance\u001B[39m(casted_key, abc\u001B[38;5;241m.\u001B[39mIterable)\n\u001B[1;32m   3809\u001B[0m         \u001B[38;5;129;01mand\u001B[39;00m \u001B[38;5;28many\u001B[39m(\u001B[38;5;28misinstance\u001B[39m(x, \u001B[38;5;28mslice\u001B[39m) \u001B[38;5;28;01mfor\u001B[39;00m x \u001B[38;5;129;01min\u001B[39;00m casted_key)\n\u001B[1;32m   3810\u001B[0m     ):\n\u001B[1;32m   3811\u001B[0m         \u001B[38;5;28;01mraise\u001B[39;00m InvalidIndexError(key)\n\u001B[0;32m-> 3812\u001B[0m     \u001B[38;5;28;01mraise\u001B[39;00m \u001B[38;5;167;01mKeyError\u001B[39;00m(key) \u001B[38;5;28;01mfrom\u001B[39;00m\u001B[38;5;250m \u001B[39m\u001B[38;5;21;01merr\u001B[39;00m\n\u001B[1;32m   3813\u001B[0m \u001B[38;5;28;01mexcept\u001B[39;00m \u001B[38;5;167;01mTypeError\u001B[39;00m:\n\u001B[1;32m   3814\u001B[0m     \u001B[38;5;66;03m# If we have a listlike key, _check_indexing_error will raise\u001B[39;00m\n\u001B[1;32m   3815\u001B[0m     \u001B[38;5;66;03m#  InvalidIndexError. Otherwise we fall through and re-raise\u001B[39;00m\n\u001B[1;32m   3816\u001B[0m     \u001B[38;5;66;03m#  the TypeError.\u001B[39;00m\n\u001B[1;32m   3817\u001B[0m     \u001B[38;5;28mself\u001B[39m\u001B[38;5;241m.\u001B[39m_check_indexing_error(key)\n",
      "\u001B[0;31mKeyError\u001B[0m: 'Date'"
     ]
    },
    {
     "data": {
      "text/plain": [
       "<Figure size 1000x600 with 0 Axes>"
      ]
     },
     "metadata": {},
     "output_type": "display_data"
    }
   ],
   "execution_count": 21
  }
 ],
 "metadata": {
  "kernelspec": {
   "display_name": "Python 3",
   "language": "python",
   "name": "python3"
  },
  "language_info": {
   "codemirror_mode": {
    "name": "ipython",
    "version": 2
   },
   "file_extension": ".py",
   "mimetype": "text/x-python",
   "name": "python",
   "nbconvert_exporter": "python",
   "pygments_lexer": "ipython2",
   "version": "2.7.6"
  }
 },
 "nbformat": 4,
 "nbformat_minor": 5
}
