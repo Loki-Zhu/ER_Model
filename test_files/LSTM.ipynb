{
 "cells": [
  {
   "metadata": {},
   "cell_type": "markdown",
   "source": "## LSTM测试",
   "id": "b7bbeee07669e3e9"
  },
  {
   "metadata": {
    "ExecuteTime": {
     "end_time": "2025-05-17T11:28:00.805273Z",
     "start_time": "2025-05-17T11:27:58.813371Z"
    }
   },
   "cell_type": "code",
   "source": [
    "import xgboost as xgb\n",
    "from sklearn.metrics import mean_squared_error, mean_absolute_error\n",
    "import matplotlib.pyplot as plt\n",
    "from datetime import date\n",
    "import requests\n",
    "from requests.auth import HTTPBasicAuth\n",
    "import pandas as pd\n",
    "import numpy as np\n",
    "import requests\n",
    "from requests.auth import HTTPBasicAuth\n",
    "\n",
    "from datetime import datetime, timedelta\n",
    "import yfinance as yf\n",
    "import numpy as np\n",
    "import pandas as pd\n",
    "from sklearn.preprocessing import MinMaxScaler\n",
    "import torch\n",
    "from torch import nn\n",
    "from torch.utils.data import DataLoader, TensorDataset\n",
    "import matplotlib.pyplot as plt"
   ],
   "id": "57637bdddb8d195",
   "outputs": [
    {
     "name": "stderr",
     "output_type": "stream",
     "text": [
      "/Users/loki/PycharmProjects/PythonProject5/.venv/lib/python3.9/site-packages/urllib3/__init__.py:35: NotOpenSSLWarning: urllib3 v2 only supports OpenSSL 1.1.1+, currently the 'ssl' module is compiled with 'LibreSSL 2.8.3'. See: https://github.com/urllib3/urllib3/issues/3020\n",
      "  warnings.warn(\n"
     ]
    }
   ],
   "execution_count": 1
  },
  {
   "metadata": {
    "ExecuteTime": {
     "end_time": "2025-05-17T11:28:01.039402Z",
     "start_time": "2025-05-17T11:28:00.807568Z"
    }
   },
   "cell_type": "code",
   "source": [
    "# 获取人民币兑英镑汇率（Yahoo symbol: CNYGBP=X）\n",
    "data = yf.download(\"CNYGBP=X\", start=\"2015-01-01\", end=\"2025-05-14\")\n",
    "er_df = data[[\"Close\"]].rename(columns={\"Close\": \"CNY/GBP\"})\n",
    "display(er_df.head())"
   ],
   "id": "66e7a96cd34409ab",
   "outputs": [
    {
     "name": "stdout",
     "output_type": "stream",
     "text": [
      "YF.download() has changed argument auto_adjust default to True\n"
     ]
    },
    {
     "name": "stderr",
     "output_type": "stream",
     "text": [
      "[*********************100%***********************]  1 of 1 completed\n"
     ]
    },
    {
     "data": {
      "text/plain": [
       "Price       CNY/GBP\n",
       "Ticker     CNYGBP=X\n",
       "Date               \n",
       "2015-01-01  0.10342\n",
       "2015-01-02  0.10333\n",
       "2015-01-05  0.10492\n",
       "2015-01-06  0.10535\n",
       "2015-01-07  0.10645"
      ],
      "text/html": [
       "<div>\n",
       "<style scoped>\n",
       "    .dataframe tbody tr th:only-of-type {\n",
       "        vertical-align: middle;\n",
       "    }\n",
       "\n",
       "    .dataframe tbody tr th {\n",
       "        vertical-align: top;\n",
       "    }\n",
       "\n",
       "    .dataframe thead tr th {\n",
       "        text-align: left;\n",
       "    }\n",
       "\n",
       "    .dataframe thead tr:last-of-type th {\n",
       "        text-align: right;\n",
       "    }\n",
       "</style>\n",
       "<table border=\"1\" class=\"dataframe\">\n",
       "  <thead>\n",
       "    <tr>\n",
       "      <th>Price</th>\n",
       "      <th>CNY/GBP</th>\n",
       "    </tr>\n",
       "    <tr>\n",
       "      <th>Ticker</th>\n",
       "      <th>CNYGBP=X</th>\n",
       "    </tr>\n",
       "    <tr>\n",
       "      <th>Date</th>\n",
       "      <th></th>\n",
       "    </tr>\n",
       "  </thead>\n",
       "  <tbody>\n",
       "    <tr>\n",
       "      <th>2015-01-01</th>\n",
       "      <td>0.10342</td>\n",
       "    </tr>\n",
       "    <tr>\n",
       "      <th>2015-01-02</th>\n",
       "      <td>0.10333</td>\n",
       "    </tr>\n",
       "    <tr>\n",
       "      <th>2015-01-05</th>\n",
       "      <td>0.10492</td>\n",
       "    </tr>\n",
       "    <tr>\n",
       "      <th>2015-01-06</th>\n",
       "      <td>0.10535</td>\n",
       "    </tr>\n",
       "    <tr>\n",
       "      <th>2015-01-07</th>\n",
       "      <td>0.10645</td>\n",
       "    </tr>\n",
       "  </tbody>\n",
       "</table>\n",
       "</div>"
      ]
     },
     "metadata": {},
     "output_type": "display_data"
    }
   ],
   "execution_count": 2
  },
  {
   "metadata": {
    "ExecuteTime": {
     "end_time": "2025-05-17T11:28:01.112123Z",
     "start_time": "2025-05-17T11:28:01.105878Z"
    }
   },
   "cell_type": "code",
   "source": [
    "er_df['inverse'] = 1 / er_df['CNY/GBP', 'CNYGBP=X']\n",
    "\n",
    "er_df"
   ],
   "id": "90376e58d1fbec51",
   "outputs": [
    {
     "data": {
      "text/plain": [
       "Price        CNY/GBP   inverse\n",
       "Ticker      CNYGBP=X          \n",
       "Date                          \n",
       "2015-01-01  0.103420  9.669310\n",
       "2015-01-02  0.103330  9.677731\n",
       "2015-01-05  0.104920  9.531071\n",
       "2015-01-06  0.105350  9.492169\n",
       "2015-01-07  0.106450  9.394082\n",
       "...              ...       ...\n",
       "2025-05-07  0.103741  9.639391\n",
       "2025-05-08  0.104124  9.603934\n",
       "2025-05-09  0.104580  9.562058\n",
       "2025-05-12  0.103947  9.620287\n",
       "2025-05-13  0.105330  9.493972\n",
       "\n",
       "[2699 rows x 2 columns]"
      ],
      "text/html": [
       "<div>\n",
       "<style scoped>\n",
       "    .dataframe tbody tr th:only-of-type {\n",
       "        vertical-align: middle;\n",
       "    }\n",
       "\n",
       "    .dataframe tbody tr th {\n",
       "        vertical-align: top;\n",
       "    }\n",
       "\n",
       "    .dataframe thead tr th {\n",
       "        text-align: left;\n",
       "    }\n",
       "\n",
       "    .dataframe thead tr:last-of-type th {\n",
       "        text-align: right;\n",
       "    }\n",
       "</style>\n",
       "<table border=\"1\" class=\"dataframe\">\n",
       "  <thead>\n",
       "    <tr>\n",
       "      <th>Price</th>\n",
       "      <th>CNY/GBP</th>\n",
       "      <th>inverse</th>\n",
       "    </tr>\n",
       "    <tr>\n",
       "      <th>Ticker</th>\n",
       "      <th>CNYGBP=X</th>\n",
       "      <th></th>\n",
       "    </tr>\n",
       "    <tr>\n",
       "      <th>Date</th>\n",
       "      <th></th>\n",
       "      <th></th>\n",
       "    </tr>\n",
       "  </thead>\n",
       "  <tbody>\n",
       "    <tr>\n",
       "      <th>2015-01-01</th>\n",
       "      <td>0.103420</td>\n",
       "      <td>9.669310</td>\n",
       "    </tr>\n",
       "    <tr>\n",
       "      <th>2015-01-02</th>\n",
       "      <td>0.103330</td>\n",
       "      <td>9.677731</td>\n",
       "    </tr>\n",
       "    <tr>\n",
       "      <th>2015-01-05</th>\n",
       "      <td>0.104920</td>\n",
       "      <td>9.531071</td>\n",
       "    </tr>\n",
       "    <tr>\n",
       "      <th>2015-01-06</th>\n",
       "      <td>0.105350</td>\n",
       "      <td>9.492169</td>\n",
       "    </tr>\n",
       "    <tr>\n",
       "      <th>2015-01-07</th>\n",
       "      <td>0.106450</td>\n",
       "      <td>9.394082</td>\n",
       "    </tr>\n",
       "    <tr>\n",
       "      <th>...</th>\n",
       "      <td>...</td>\n",
       "      <td>...</td>\n",
       "    </tr>\n",
       "    <tr>\n",
       "      <th>2025-05-07</th>\n",
       "      <td>0.103741</td>\n",
       "      <td>9.639391</td>\n",
       "    </tr>\n",
       "    <tr>\n",
       "      <th>2025-05-08</th>\n",
       "      <td>0.104124</td>\n",
       "      <td>9.603934</td>\n",
       "    </tr>\n",
       "    <tr>\n",
       "      <th>2025-05-09</th>\n",
       "      <td>0.104580</td>\n",
       "      <td>9.562058</td>\n",
       "    </tr>\n",
       "    <tr>\n",
       "      <th>2025-05-12</th>\n",
       "      <td>0.103947</td>\n",
       "      <td>9.620287</td>\n",
       "    </tr>\n",
       "    <tr>\n",
       "      <th>2025-05-13</th>\n",
       "      <td>0.105330</td>\n",
       "      <td>9.493972</td>\n",
       "    </tr>\n",
       "  </tbody>\n",
       "</table>\n",
       "<p>2699 rows × 2 columns</p>\n",
       "</div>"
      ]
     },
     "execution_count": 3,
     "metadata": {},
     "output_type": "execute_result"
    }
   ],
   "execution_count": 3
  },
  {
   "metadata": {
    "ExecuteTime": {
     "end_time": "2025-05-17T11:28:01.250829Z",
     "start_time": "2025-05-17T11:28:01.119131Z"
    }
   },
   "cell_type": "code",
   "source": [
    "policy_df = pd.read_excel(\"IR.xlsx\")\n",
    "policy_df['rate_diff'] = policy_df['UK'] - policy_df['CN']\n",
    "model_df = policy_df.copy()"
   ],
   "id": "6ede8eb89a10740d",
   "outputs": [],
   "execution_count": 4
  },
  {
   "metadata": {
    "ExecuteTime": {
     "end_time": "2025-05-17T11:28:01.273769Z",
     "start_time": "2025-05-17T11:28:01.268726Z"
    }
   },
   "cell_type": "code",
   "source": [
    "# 确保 Date 是 datetime 类型\n",
    "model_df['Date'] = pd.to_datetime(model_df['Date'])\n",
    "\n",
    "# 保留工作日（周一到周五）\n",
    "df_weekday = model_df[model_df['Date'].dt.dayofweek < 5].copy()\n",
    "\n",
    "# 按日期排序（可选）\n",
    "df_weekday = df_weekday.sort_values('Date').reset_index(drop=True)"
   ],
   "id": "a52b3079f7f9adcd",
   "outputs": [],
   "execution_count": 5
  },
  {
   "metadata": {
    "ExecuteTime": {
     "end_time": "2025-05-17T11:28:01.298042Z",
     "start_time": "2025-05-17T11:28:01.295464Z"
    }
   },
   "cell_type": "code",
   "source": [
    "missing_dates = df_weekday[~df_weekday['Date'].isin(er_df.index)]\n",
    "print(missing_dates['Date'].tail(10))"
   ],
   "id": "bdbd45c054eefd78",
   "outputs": [
    {
     "name": "stdout",
     "output_type": "stream",
     "text": [
      "658    2017-07-11\n",
      "750    2017-11-16\n",
      "2609   2025-01-01\n",
      "2686   2025-04-18\n",
      "2687   2025-04-21\n",
      "Name: Date, dtype: datetime64[ns]\n"
     ]
    }
   ],
   "execution_count": 6
  },
  {
   "metadata": {
    "ExecuteTime": {
     "end_time": "2025-05-17T11:28:01.313754Z",
     "start_time": "2025-05-17T11:28:01.308457Z"
    }
   },
   "cell_type": "code",
   "source": [
    "# 确保 Date 列格式一致\n",
    "df_weekday['Date'] = pd.to_datetime(df_weekday['Date']).dt.normalize()\n",
    "\n",
    "# 筛选 df_weekday 中仅保留那些出现在 er_df['Date'] 中的行\n",
    "df_weekday_aligned = df_weekday[df_weekday['Date'].isin(er_df.index)].copy()"
   ],
   "id": "fa3da0f626d0d011",
   "outputs": [],
   "execution_count": 7
  },
  {
   "metadata": {
    "ExecuteTime": {
     "end_time": "2025-05-17T11:28:01.342293Z",
     "start_time": "2025-05-17T11:28:01.340086Z"
    }
   },
   "cell_type": "code",
   "source": "er_mid = er_df['inverse'].reset_index(drop=True)",
   "id": "c6ba69c0b8bdb873",
   "outputs": [],
   "execution_count": 8
  },
  {
   "metadata": {
    "ExecuteTime": {
     "end_time": "2025-05-17T11:28:01.355191Z",
     "start_time": "2025-05-17T11:28:01.350975Z"
    }
   },
   "cell_type": "code",
   "source": [
    "df_weekday_aligned['ER'] = er_mid\n",
    "df_weekday_aligned.drop(['UK','CN'], axis=1, inplace=True)\n",
    "df_weekday_aligned"
   ],
   "id": "6873a4c0b932ce6a",
   "outputs": [
    {
     "data": {
      "text/plain": [
       "           Date  rate_diff        ER\n",
       "0    2015-01-01      -5.10  9.669310\n",
       "1    2015-01-02      -5.10  9.677731\n",
       "2    2015-01-05      -5.10  9.531071\n",
       "3    2015-01-06      -5.10  9.492169\n",
       "4    2015-01-07      -5.10  9.394082\n",
       "...         ...        ...       ...\n",
       "2699 2025-05-07       1.15       NaN\n",
       "2700 2025-05-08       1.15       NaN\n",
       "2701 2025-05-09       1.15       NaN\n",
       "2702 2025-05-12       1.15       NaN\n",
       "2703 2025-05-13       1.15       NaN\n",
       "\n",
       "[2699 rows x 3 columns]"
      ],
      "text/html": [
       "<div>\n",
       "<style scoped>\n",
       "    .dataframe tbody tr th:only-of-type {\n",
       "        vertical-align: middle;\n",
       "    }\n",
       "\n",
       "    .dataframe tbody tr th {\n",
       "        vertical-align: top;\n",
       "    }\n",
       "\n",
       "    .dataframe thead th {\n",
       "        text-align: right;\n",
       "    }\n",
       "</style>\n",
       "<table border=\"1\" class=\"dataframe\">\n",
       "  <thead>\n",
       "    <tr style=\"text-align: right;\">\n",
       "      <th></th>\n",
       "      <th>Date</th>\n",
       "      <th>rate_diff</th>\n",
       "      <th>ER</th>\n",
       "    </tr>\n",
       "  </thead>\n",
       "  <tbody>\n",
       "    <tr>\n",
       "      <th>0</th>\n",
       "      <td>2015-01-01</td>\n",
       "      <td>-5.10</td>\n",
       "      <td>9.669310</td>\n",
       "    </tr>\n",
       "    <tr>\n",
       "      <th>1</th>\n",
       "      <td>2015-01-02</td>\n",
       "      <td>-5.10</td>\n",
       "      <td>9.677731</td>\n",
       "    </tr>\n",
       "    <tr>\n",
       "      <th>2</th>\n",
       "      <td>2015-01-05</td>\n",
       "      <td>-5.10</td>\n",
       "      <td>9.531071</td>\n",
       "    </tr>\n",
       "    <tr>\n",
       "      <th>3</th>\n",
       "      <td>2015-01-06</td>\n",
       "      <td>-5.10</td>\n",
       "      <td>9.492169</td>\n",
       "    </tr>\n",
       "    <tr>\n",
       "      <th>4</th>\n",
       "      <td>2015-01-07</td>\n",
       "      <td>-5.10</td>\n",
       "      <td>9.394082</td>\n",
       "    </tr>\n",
       "    <tr>\n",
       "      <th>...</th>\n",
       "      <td>...</td>\n",
       "      <td>...</td>\n",
       "      <td>...</td>\n",
       "    </tr>\n",
       "    <tr>\n",
       "      <th>2699</th>\n",
       "      <td>2025-05-07</td>\n",
       "      <td>1.15</td>\n",
       "      <td>NaN</td>\n",
       "    </tr>\n",
       "    <tr>\n",
       "      <th>2700</th>\n",
       "      <td>2025-05-08</td>\n",
       "      <td>1.15</td>\n",
       "      <td>NaN</td>\n",
       "    </tr>\n",
       "    <tr>\n",
       "      <th>2701</th>\n",
       "      <td>2025-05-09</td>\n",
       "      <td>1.15</td>\n",
       "      <td>NaN</td>\n",
       "    </tr>\n",
       "    <tr>\n",
       "      <th>2702</th>\n",
       "      <td>2025-05-12</td>\n",
       "      <td>1.15</td>\n",
       "      <td>NaN</td>\n",
       "    </tr>\n",
       "    <tr>\n",
       "      <th>2703</th>\n",
       "      <td>2025-05-13</td>\n",
       "      <td>1.15</td>\n",
       "      <td>NaN</td>\n",
       "    </tr>\n",
       "  </tbody>\n",
       "</table>\n",
       "<p>2699 rows × 3 columns</p>\n",
       "</div>"
      ]
     },
     "execution_count": 9,
     "metadata": {},
     "output_type": "execute_result"
    }
   ],
   "execution_count": 9
  },
  {
   "metadata": {
    "ExecuteTime": {
     "end_time": "2025-05-17T11:28:01.382644Z",
     "start_time": "2025-05-17T11:28:01.379808Z"
    }
   },
   "cell_type": "code",
   "source": [
    "df_weekday_aligned['trade_war'] = 0\n",
    "df_weekday_aligned.loc[(df_weekday_aligned['Date'] >= '2018-03-22') & (df_weekday_aligned['Date'] <= '2018-12-01'), 'trade_war'] = 1\n",
    "df_weekday_aligned.loc[(df_weekday_aligned['Date'] >= '2025-02-01') & (df_weekday_aligned['Date'] <= '2025-05-12'), 'trade_war'] = 1"
   ],
   "id": "69c611ba44573f7",
   "outputs": [],
   "execution_count": 10
  },
  {
   "cell_type": "code",
   "id": "initial_id",
   "metadata": {
    "collapsed": true,
    "ExecuteTime": {
     "end_time": "2025-05-17T11:28:01.409131Z",
     "start_time": "2025-05-17T11:28:01.405333Z"
    }
   },
   "source": [
    "lstm_df = df_weekday_aligned.dropna()\n",
    "\n",
    "lstm_df['Date'] = pd.to_datetime(lstm_df['Date'])  # 保证为 datetime 类型\n",
    "lstm_df = lstm_df.set_index('Date')  # 设置为 index"
   ],
   "outputs": [
    {
     "name": "stderr",
     "output_type": "stream",
     "text": [
      "/var/folders/nb/lml3l_ls6b7gzy20lpv559vh0000gn/T/ipykernel_39216/3524985256.py:3: SettingWithCopyWarning: \n",
      "A value is trying to be set on a copy of a slice from a DataFrame.\n",
      "Try using .loc[row_indexer,col_indexer] = value instead\n",
      "\n",
      "See the caveats in the documentation: https://pandas.pydata.org/pandas-docs/stable/user_guide/indexing.html#returning-a-view-versus-a-copy\n",
      "  lstm_df['Date'] = pd.to_datetime(lstm_df['Date'])  # 保证为 datetime 类型\n"
     ]
    }
   ],
   "execution_count": 11
  },
  {
   "metadata": {
    "ExecuteTime": {
     "end_time": "2025-05-17T11:28:19.972998Z",
     "start_time": "2025-05-17T11:28:01.412414Z"
    }
   },
   "cell_type": "code",
   "source": [
    "# Split data into training and testing sets (e.g., train: 2010-01 to 2022-12, test: 2023-01 to 2024-12)\n",
    "split_date = pd.Timestamp('2023-01-01')  # end of Jan 2023 marks beginning of test period\n",
    "train_df = lstm_df[:split_date]   # up to Dec 2022\n",
    "test_df = lstm_df[split_date:]    # 2023-01 through 2024-12\n",
    "\n",
    "# Separate features (X) and target (y)\n",
    "X_train = train_df\n",
    "y_train = train_df['ER']\n",
    "X_test = test_df\n",
    "y_test = test_df['ER']\n",
    "\n",
    "# Normalize features and target using Min-Max scaling (fit on training data only)\n",
    "feature_scaler = MinMaxScaler()\n",
    "target_scaler = MinMaxScaler()\n",
    "X_train_scaled = feature_scaler.fit_transform(X_train)\n",
    "X_test_scaled = feature_scaler.transform(X_test)\n",
    "y_train_scaled = target_scaler.fit_transform(y_train.values.reshape(-1, 1))\n",
    "y_test_scaled = target_scaler.transform(y_test.values.reshape(-1, 1))\n",
    "\n",
    "# Prepare data for LSTM: create sequences of length `lookback` for each training example\n",
    "lookback = 12  # use past 12 months to predict the next month\n",
    "X_train_seq, y_train_seq = [], []\n",
    "for i in range(lookback, len(X_train_scaled)):\n",
    "    # sequence of `lookback` feature vectors\n",
    "    X_train_seq.append(X_train_scaled[i-lookback:i])\n",
    "    # target is the exchange rate at this time (one month ahead of last input month)\n",
    "    y_train_seq.append(y_train_scaled[i])\n",
    "X_train_seq = np.array(X_train_seq)\n",
    "y_train_seq = np.array(y_train_seq)\n",
    "\n",
    "# Prepare sequences for the test set (using preceding data for initial sequence)\n",
    "X_test_seq, y_test_seq = [], []\n",
    "# Concatenate train and test for sequence generation to include trailing train data in initial test sequences\n",
    "total_X = np.concatenate((X_train_scaled, X_test_scaled), axis=0)\n",
    "total_y = np.concatenate((y_train_scaled, y_test_scaled), axis=0)\n",
    "train_len = len(X_train_scaled)\n",
    "for i in range(train_len, len(total_X)):\n",
    "    if i < lookback:\n",
    "        continue  # skip until we have enough history\n",
    "    X_test_seq.append(total_X[i-lookback:i])\n",
    "    y_test_seq.append(total_y[i])\n",
    "X_test_seq = np.array(X_test_seq)\n",
    "y_test_seq = np.array(y_test_seq)\n",
    "\n",
    "# Build the LSTM model\n",
    "from keras.models import Sequential\n",
    "from keras.layers import LSTM, Dense, Dropout\n",
    "# 改进后的双层 LSTM 架构\n",
    "model = Sequential()\n",
    "model.add(LSTM(64, return_sequences=True, input_shape=(lookback, X_train_seq.shape[2])))\n",
    "model.add(Dropout(0.2))\n",
    "model.add(LSTM(32))\n",
    "model.add(Dense(1))\n",
    "\n",
    "# 别忘了这一步！！\n",
    "model.compile(optimizer='adam', loss='mean_squared_error')\n",
    "\n",
    "# 然后再训练\n",
    "history = model.fit(X_train_seq, y_train_seq, epochs=50, batch_size=16, validation_split=0.1, verbose=1)"
   ],
   "id": "3d53b9a0387b5b76",
   "outputs": [
    {
     "name": "stdout",
     "output_type": "stream",
     "text": [
      "Epoch 1/50\n"
     ]
    },
    {
     "name": "stderr",
     "output_type": "stream",
     "text": [
      "/Users/loki/PycharmProjects/PythonProject5/.venv/lib/python3.9/site-packages/keras/src/layers/rnn/rnn.py:200: UserWarning: Do not pass an `input_shape`/`input_dim` argument to a layer. When using Sequential models, prefer using an `Input(shape)` object as the first layer in the model instead.\n",
      "  super().__init__(**kwargs)\n"
     ]
    },
    {
     "name": "stdout",
     "output_type": "stream",
     "text": [
      "\u001B[1m117/117\u001B[0m \u001B[32m━━━━━━━━━━━━━━━━━━━━\u001B[0m\u001B[37m\u001B[0m \u001B[1m1s\u001B[0m 3ms/step - loss: 0.0404 - val_loss: 0.0056\n",
      "Epoch 2/50\n",
      "\u001B[1m117/117\u001B[0m \u001B[32m━━━━━━━━━━━━━━━━━━━━\u001B[0m\u001B[37m\u001B[0m \u001B[1m0s\u001B[0m 2ms/step - loss: 0.0028 - val_loss: 0.0030\n",
      "Epoch 3/50\n",
      "\u001B[1m117/117\u001B[0m \u001B[32m━━━━━━━━━━━━━━━━━━━━\u001B[0m\u001B[37m\u001B[0m \u001B[1m0s\u001B[0m 2ms/step - loss: 0.0024 - val_loss: 0.0025\n",
      "Epoch 4/50\n",
      "\u001B[1m117/117\u001B[0m \u001B[32m━━━━━━━━━━━━━━━━━━━━\u001B[0m\u001B[37m\u001B[0m \u001B[1m0s\u001B[0m 3ms/step - loss: 0.0021 - val_loss: 0.0020\n",
      "Epoch 5/50\n",
      "\u001B[1m117/117\u001B[0m \u001B[32m━━━━━━━━━━━━━━━━━━━━\u001B[0m\u001B[37m\u001B[0m \u001B[1m0s\u001B[0m 3ms/step - loss: 0.0021 - val_loss: 0.0034\n",
      "Epoch 6/50\n",
      "\u001B[1m117/117\u001B[0m \u001B[32m━━━━━━━━━━━━━━━━━━━━\u001B[0m\u001B[37m\u001B[0m \u001B[1m0s\u001B[0m 3ms/step - loss: 0.0019 - val_loss: 0.0025\n",
      "Epoch 7/50\n",
      "\u001B[1m117/117\u001B[0m \u001B[32m━━━━━━━━━━━━━━━━━━━━\u001B[0m\u001B[37m\u001B[0m \u001B[1m0s\u001B[0m 3ms/step - loss: 0.0020 - val_loss: 0.0025\n",
      "Epoch 8/50\n",
      "\u001B[1m117/117\u001B[0m \u001B[32m━━━━━━━━━━━━━━━━━━━━\u001B[0m\u001B[37m\u001B[0m \u001B[1m0s\u001B[0m 3ms/step - loss: 0.0017 - val_loss: 0.0016\n",
      "Epoch 9/50\n",
      "\u001B[1m117/117\u001B[0m \u001B[32m━━━━━━━━━━━━━━━━━━━━\u001B[0m\u001B[37m\u001B[0m \u001B[1m0s\u001B[0m 3ms/step - loss: 0.0017 - val_loss: 0.0026\n",
      "Epoch 10/50\n",
      "\u001B[1m117/117\u001B[0m \u001B[32m━━━━━━━━━━━━━━━━━━━━\u001B[0m\u001B[37m\u001B[0m \u001B[1m0s\u001B[0m 3ms/step - loss: 0.0015 - val_loss: 0.0020\n",
      "Epoch 11/50\n",
      "\u001B[1m117/117\u001B[0m \u001B[32m━━━━━━━━━━━━━━━━━━━━\u001B[0m\u001B[37m\u001B[0m \u001B[1m0s\u001B[0m 3ms/step - loss: 0.0016 - val_loss: 0.0015\n",
      "Epoch 12/50\n",
      "\u001B[1m117/117\u001B[0m \u001B[32m━━━━━━━━━━━━━━━━━━━━\u001B[0m\u001B[37m\u001B[0m \u001B[1m0s\u001B[0m 3ms/step - loss: 0.0016 - val_loss: 0.0026\n",
      "Epoch 13/50\n",
      "\u001B[1m117/117\u001B[0m \u001B[32m━━━━━━━━━━━━━━━━━━━━\u001B[0m\u001B[37m\u001B[0m \u001B[1m0s\u001B[0m 3ms/step - loss: 0.0014 - val_loss: 0.0017\n",
      "Epoch 14/50\n",
      "\u001B[1m117/117\u001B[0m \u001B[32m━━━━━━━━━━━━━━━━━━━━\u001B[0m\u001B[37m\u001B[0m \u001B[1m0s\u001B[0m 3ms/step - loss: 0.0015 - val_loss: 0.0027\n",
      "Epoch 15/50\n",
      "\u001B[1m117/117\u001B[0m \u001B[32m━━━━━━━━━━━━━━━━━━━━\u001B[0m\u001B[37m\u001B[0m \u001B[1m0s\u001B[0m 3ms/step - loss: 0.0014 - val_loss: 0.0014\n",
      "Epoch 16/50\n",
      "\u001B[1m117/117\u001B[0m \u001B[32m━━━━━━━━━━━━━━━━━━━━\u001B[0m\u001B[37m\u001B[0m \u001B[1m0s\u001B[0m 2ms/step - loss: 0.0014 - val_loss: 0.0017\n",
      "Epoch 17/50\n",
      "\u001B[1m117/117\u001B[0m \u001B[32m━━━━━━━━━━━━━━━━━━━━\u001B[0m\u001B[37m\u001B[0m \u001B[1m0s\u001B[0m 2ms/step - loss: 0.0015 - val_loss: 0.0018\n",
      "Epoch 18/50\n",
      "\u001B[1m117/117\u001B[0m \u001B[32m━━━━━━━━━━━━━━━━━━━━\u001B[0m\u001B[37m\u001B[0m \u001B[1m0s\u001B[0m 2ms/step - loss: 0.0011 - val_loss: 0.0023\n",
      "Epoch 19/50\n",
      "\u001B[1m117/117\u001B[0m \u001B[32m━━━━━━━━━━━━━━━━━━━━\u001B[0m\u001B[37m\u001B[0m \u001B[1m0s\u001B[0m 2ms/step - loss: 0.0011 - val_loss: 0.0023\n",
      "Epoch 20/50\n",
      "\u001B[1m117/117\u001B[0m \u001B[32m━━━━━━━━━━━━━━━━━━━━\u001B[0m\u001B[37m\u001B[0m \u001B[1m0s\u001B[0m 2ms/step - loss: 0.0010 - val_loss: 0.0012\n",
      "Epoch 21/50\n",
      "\u001B[1m117/117\u001B[0m \u001B[32m━━━━━━━━━━━━━━━━━━━━\u001B[0m\u001B[37m\u001B[0m \u001B[1m0s\u001B[0m 2ms/step - loss: 0.0011 - val_loss: 0.0015\n",
      "Epoch 22/50\n",
      "\u001B[1m117/117\u001B[0m \u001B[32m━━━━━━━━━━━━━━━━━━━━\u001B[0m\u001B[37m\u001B[0m \u001B[1m0s\u001B[0m 2ms/step - loss: 9.7555e-04 - val_loss: 0.0011\n",
      "Epoch 23/50\n",
      "\u001B[1m117/117\u001B[0m \u001B[32m━━━━━━━━━━━━━━━━━━━━\u001B[0m\u001B[37m\u001B[0m \u001B[1m0s\u001B[0m 2ms/step - loss: 9.5827e-04 - val_loss: 0.0011\n",
      "Epoch 24/50\n",
      "\u001B[1m117/117\u001B[0m \u001B[32m━━━━━━━━━━━━━━━━━━━━\u001B[0m\u001B[37m\u001B[0m \u001B[1m0s\u001B[0m 2ms/step - loss: 0.0011 - val_loss: 0.0013\n",
      "Epoch 25/50\n",
      "\u001B[1m117/117\u001B[0m \u001B[32m━━━━━━━━━━━━━━━━━━━━\u001B[0m\u001B[37m\u001B[0m \u001B[1m0s\u001B[0m 3ms/step - loss: 0.0012 - val_loss: 0.0012\n",
      "Epoch 26/50\n",
      "\u001B[1m117/117\u001B[0m \u001B[32m━━━━━━━━━━━━━━━━━━━━\u001B[0m\u001B[37m\u001B[0m \u001B[1m0s\u001B[0m 2ms/step - loss: 0.0010 - val_loss: 0.0011\n",
      "Epoch 27/50\n",
      "\u001B[1m117/117\u001B[0m \u001B[32m━━━━━━━━━━━━━━━━━━━━\u001B[0m\u001B[37m\u001B[0m \u001B[1m0s\u001B[0m 2ms/step - loss: 8.8873e-04 - val_loss: 0.0013\n",
      "Epoch 28/50\n",
      "\u001B[1m117/117\u001B[0m \u001B[32m━━━━━━━━━━━━━━━━━━━━\u001B[0m\u001B[37m\u001B[0m \u001B[1m0s\u001B[0m 2ms/step - loss: 0.0011 - val_loss: 0.0011\n",
      "Epoch 29/50\n",
      "\u001B[1m117/117\u001B[0m \u001B[32m━━━━━━━━━━━━━━━━━━━━\u001B[0m\u001B[37m\u001B[0m \u001B[1m0s\u001B[0m 2ms/step - loss: 9.5454e-04 - val_loss: 0.0011\n",
      "Epoch 30/50\n",
      "\u001B[1m117/117\u001B[0m \u001B[32m━━━━━━━━━━━━━━━━━━━━\u001B[0m\u001B[37m\u001B[0m \u001B[1m0s\u001B[0m 2ms/step - loss: 7.8620e-04 - val_loss: 0.0011\n",
      "Epoch 31/50\n",
      "\u001B[1m117/117\u001B[0m \u001B[32m━━━━━━━━━━━━━━━━━━━━\u001B[0m\u001B[37m\u001B[0m \u001B[1m0s\u001B[0m 2ms/step - loss: 9.6837e-04 - val_loss: 0.0012\n",
      "Epoch 32/50\n",
      "\u001B[1m117/117\u001B[0m \u001B[32m━━━━━━━━━━━━━━━━━━━━\u001B[0m\u001B[37m\u001B[0m \u001B[1m0s\u001B[0m 2ms/step - loss: 7.5996e-04 - val_loss: 9.8794e-04\n",
      "Epoch 33/50\n",
      "\u001B[1m117/117\u001B[0m \u001B[32m━━━━━━━━━━━━━━━━━━━━\u001B[0m\u001B[37m\u001B[0m \u001B[1m0s\u001B[0m 2ms/step - loss: 8.0486e-04 - val_loss: 0.0012\n",
      "Epoch 34/50\n",
      "\u001B[1m117/117\u001B[0m \u001B[32m━━━━━━━━━━━━━━━━━━━━\u001B[0m\u001B[37m\u001B[0m \u001B[1m0s\u001B[0m 2ms/step - loss: 8.7698e-04 - val_loss: 8.5699e-04\n",
      "Epoch 35/50\n",
      "\u001B[1m117/117\u001B[0m \u001B[32m━━━━━━━━━━━━━━━━━━━━\u001B[0m\u001B[37m\u001B[0m \u001B[1m0s\u001B[0m 2ms/step - loss: 9.5649e-04 - val_loss: 9.5265e-04\n",
      "Epoch 36/50\n",
      "\u001B[1m117/117\u001B[0m \u001B[32m━━━━━━━━━━━━━━━━━━━━\u001B[0m\u001B[37m\u001B[0m \u001B[1m0s\u001B[0m 2ms/step - loss: 7.7559e-04 - val_loss: 0.0010\n",
      "Epoch 37/50\n",
      "\u001B[1m117/117\u001B[0m \u001B[32m━━━━━━━━━━━━━━━━━━━━\u001B[0m\u001B[37m\u001B[0m \u001B[1m0s\u001B[0m 2ms/step - loss: 8.2965e-04 - val_loss: 8.9407e-04\n",
      "Epoch 38/50\n",
      "\u001B[1m117/117\u001B[0m \u001B[32m━━━━━━━━━━━━━━━━━━━━\u001B[0m\u001B[37m\u001B[0m \u001B[1m0s\u001B[0m 2ms/step - loss: 8.2789e-04 - val_loss: 8.7398e-04\n",
      "Epoch 39/50\n",
      "\u001B[1m117/117\u001B[0m \u001B[32m━━━━━━━━━━━━━━━━━━━━\u001B[0m\u001B[37m\u001B[0m \u001B[1m0s\u001B[0m 2ms/step - loss: 7.4435e-04 - val_loss: 8.8147e-04\n",
      "Epoch 40/50\n",
      "\u001B[1m117/117\u001B[0m \u001B[32m━━━━━━━━━━━━━━━━━━━━\u001B[0m\u001B[37m\u001B[0m \u001B[1m0s\u001B[0m 2ms/step - loss: 6.2819e-04 - val_loss: 0.0018\n",
      "Epoch 41/50\n",
      "\u001B[1m117/117\u001B[0m \u001B[32m━━━━━━━━━━━━━━━━━━━━\u001B[0m\u001B[37m\u001B[0m \u001B[1m0s\u001B[0m 2ms/step - loss: 7.4427e-04 - val_loss: 0.0011\n",
      "Epoch 42/50\n",
      "\u001B[1m117/117\u001B[0m \u001B[32m━━━━━━━━━━━━━━━━━━━━\u001B[0m\u001B[37m\u001B[0m \u001B[1m0s\u001B[0m 2ms/step - loss: 6.9500e-04 - val_loss: 9.3298e-04\n",
      "Epoch 43/50\n",
      "\u001B[1m117/117\u001B[0m \u001B[32m━━━━━━━━━━━━━━━━━━━━\u001B[0m\u001B[37m\u001B[0m \u001B[1m0s\u001B[0m 2ms/step - loss: 7.7894e-04 - val_loss: 8.5701e-04\n",
      "Epoch 44/50\n",
      "\u001B[1m117/117\u001B[0m \u001B[32m━━━━━━━━━━━━━━━━━━━━\u001B[0m\u001B[37m\u001B[0m \u001B[1m0s\u001B[0m 2ms/step - loss: 7.7775e-04 - val_loss: 8.7083e-04\n",
      "Epoch 45/50\n",
      "\u001B[1m117/117\u001B[0m \u001B[32m━━━━━━━━━━━━━━━━━━━━\u001B[0m\u001B[37m\u001B[0m \u001B[1m0s\u001B[0m 2ms/step - loss: 6.2055e-04 - val_loss: 0.0012\n",
      "Epoch 46/50\n",
      "\u001B[1m117/117\u001B[0m \u001B[32m━━━━━━━━━━━━━━━━━━━━\u001B[0m\u001B[37m\u001B[0m \u001B[1m0s\u001B[0m 2ms/step - loss: 7.8039e-04 - val_loss: 8.7081e-04\n",
      "Epoch 47/50\n",
      "\u001B[1m117/117\u001B[0m \u001B[32m━━━━━━━━━━━━━━━━━━━━\u001B[0m\u001B[37m\u001B[0m \u001B[1m0s\u001B[0m 2ms/step - loss: 7.8249e-04 - val_loss: 8.0688e-04\n",
      "Epoch 48/50\n",
      "\u001B[1m117/117\u001B[0m \u001B[32m━━━━━━━━━━━━━━━━━━━━\u001B[0m\u001B[37m\u001B[0m \u001B[1m0s\u001B[0m 2ms/step - loss: 7.6420e-04 - val_loss: 8.2246e-04\n",
      "Epoch 49/50\n",
      "\u001B[1m117/117\u001B[0m \u001B[32m━━━━━━━━━━━━━━━━━━━━\u001B[0m\u001B[37m\u001B[0m \u001B[1m0s\u001B[0m 2ms/step - loss: 6.5171e-04 - val_loss: 9.5393e-04\n",
      "Epoch 50/50\n",
      "\u001B[1m117/117\u001B[0m \u001B[32m━━━━━━━━━━━━━━━━━━━━\u001B[0m\u001B[37m\u001B[0m \u001B[1m0s\u001B[0m 2ms/step - loss: 5.8430e-04 - val_loss: 8.2900e-04\n"
     ]
    }
   ],
   "execution_count": 12
  },
  {
   "metadata": {
    "ExecuteTime": {
     "end_time": "2025-05-17T11:28:20.355012Z",
     "start_time": "2025-05-17T11:28:19.995774Z"
    }
   },
   "cell_type": "code",
   "source": [
    "# Evaluate the model on the test set\n",
    "test_loss = model.evaluate(X_test_seq, y_test_seq, verbose=0)\n",
    "print(f\"Test MSE Loss: {test_loss:.6f}\")\n",
    "\n",
    "# Make predictions for the test period\n",
    "y_pred_scaled = model.predict(X_test_seq)\n",
    "# Inverse-transform the predictions back to original scale\n",
    "y_pred = target_scaler.inverse_transform(y_pred_scaled)\n",
    "y_actual = target_scaler.inverse_transform(y_test_seq)\n",
    "\n",
    "# Visualize the results: Actual vs Predicted exchange rate\n",
    "\n",
    "plt.figure(figsize=(8,5))\n",
    "plt.plot(y_actual, label='Actual CNY/GBP')\n",
    "plt.plot(y_pred, label='Predicted CNY/GBP')\n",
    "plt.title('Actual vs Predicted CNY/GBP Exchange Rate (Test Set)')\n",
    "plt.xlabel('Month')\n",
    "plt.ylabel('Exchange Rate (CNY per GBP)')\n",
    "plt.legend()\n",
    "plt.grid(True)\n",
    "plt.show()"
   ],
   "id": "84589ccc09358926",
   "outputs": [
    {
     "name": "stdout",
     "output_type": "stream",
     "text": [
      "Test MSE Loss: 0.002303\n",
      "\u001B[1m20/20\u001B[0m \u001B[32m━━━━━━━━━━━━━━━━━━━━\u001B[0m\u001B[37m\u001B[0m \u001B[1m0s\u001B[0m 4ms/step\n"
     ]
    },
    {
     "data": {
      "text/plain": [
       "<Figure size 800x500 with 1 Axes>"
      ],
      "image/png": "[encoded data removed]"
     },
     "metadata": {},
     "output_type": "display_data"
    }
   ],
   "execution_count": 13
  }
 ],
 "metadata": {
  "kernelspec": {
   "display_name": "Python 3",
   "language": "python",
   "name": "python3"
  },
  "language_info": {
   "codemirror_mode": {
    "name": "ipython",
    "version": 2
   },
   "file_extension": ".py",
   "mimetype": "text/x-python",
   "name": "python",
   "nbconvert_exporter": "python",
   "pygments_lexer": "ipython2",
   "version": "2.7.6"
  }
 },
 "nbformat": 4,
 "nbformat_minor": 5
}
