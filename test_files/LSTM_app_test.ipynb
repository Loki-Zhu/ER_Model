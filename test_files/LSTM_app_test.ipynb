{
 "cells": [
  {
   "metadata": {},
   "cell_type": "markdown",
   "source": "## LSTM测试",
   "id": "b7bbeee07669e3e9"
  },
  {
   "metadata": {
    "ExecuteTime": {
     "end_time": "2025-05-25T11:21:52.545195Z",
     "start_time": "2025-05-25T11:21:48.720592Z"
    }
   },
   "cell_type": "code",
   "source": [
    "import xgboost as xgb\n",
    "from sklearn.metrics import mean_squared_error, mean_absolute_error\n",
    "import matplotlib.pyplot as plt\n",
    "from datetime import date\n",
    "import requests\n",
    "from requests.auth import HTTPBasicAuth\n",
    "import pandas as pd\n",
    "import numpy as np\n",
    "import requests\n",
    "from requests.auth import HTTPBasicAuth\n",
    "from sklearn.metrics import accuracy_score, classification_report, confusion_matrix\n",
    "from datetime import datetime, timedelta\n",
    "import yfinance as yf\n",
    "import numpy as np\n",
    "import pandas as pd\n",
    "from sklearn.preprocessing import MinMaxScaler\n",
    "import torch\n",
    "from torch import nn\n",
    "from torch.utils.data import DataLoader, TensorDataset\n",
    "import matplotlib.pyplot as plt\n",
    "\n",
    "import random\n",
    "import os\n",
    "import tensorflow as tf"
   ],
   "id": "57637bdddb8d195",
   "outputs": [
    {
     "name": "stderr",
     "output_type": "stream",
     "text": [
      "/Users/loki/PycharmProjects/PythonProject5/.venv/lib/python3.9/site-packages/urllib3/__init__.py:35: NotOpenSSLWarning: urllib3 v2 only supports OpenSSL 1.1.1+, currently the 'ssl' module is compiled with 'LibreSSL 2.8.3'. See: https://github.com/urllib3/urllib3/issues/3020\n",
      "  warnings.warn(\n"
     ]
    }
   ],
   "execution_count": 1
  },
  {
   "metadata": {
    "ExecuteTime": {
     "end_time": "2025-05-25T11:21:52.549332Z",
     "start_time": "2025-05-25T11:21:52.547759Z"
    }
   },
   "cell_type": "code",
   "source": "today = date.today()",
   "id": "bd73c372bf4b1caf",
   "outputs": [],
   "execution_count": 2
  },
  {
   "metadata": {
    "ExecuteTime": {
     "end_time": "2025-05-25T11:21:52.806901Z",
     "start_time": "2025-05-25T11:21:52.603431Z"
    }
   },
   "cell_type": "code",
   "source": [
    "data = yf.download(\"CNYGBP=X\", start=\"2015-01-01\", end='2025-05-20')\n",
    "all_test_df = data\n",
    "all_test_df['ER'] = (all_test_df['High'] + all_test_df['Low']) / 2\n",
    "all_test_df['inverse'] = 1/all_test_df['ER']\n",
    "er_df = all_test_df[['inverse']].rename(columns={\"Close\": \"CNY/GBP\"})\n",
    "\n",
    "# test average price\n"
   ],
   "id": "214af3e7512d4116",
   "outputs": [
    {
     "name": "stderr",
     "output_type": "stream",
     "text": [
      "[*********************100%***********************]  1 of 1 completed"
     ]
    },
    {
     "name": "stdout",
     "output_type": "stream",
     "text": [
      "YF.download() has changed argument auto_adjust default to True\n"
     ]
    },
    {
     "name": "stderr",
     "output_type": "stream",
     "text": [
      "\n"
     ]
    }
   ],
   "execution_count": 3
  },
  {
   "metadata": {
    "ExecuteTime": {
     "end_time": "2025-05-25T11:21:52.828763Z",
     "start_time": "2025-05-25T11:21:52.823931Z"
    }
   },
   "cell_type": "code",
   "source": [
    "er_df = er_df.reset_index().rename(columns={'index': 'Date','inverse': 'ER'})\n",
    "er_df['Date'] = pd.to_datetime(er_df['Date'])"
   ],
   "id": "8ba92a0754261fd1",
   "outputs": [],
   "execution_count": 4
  },
  {
   "metadata": {
    "ExecuteTime": {
     "end_time": "2025-05-25T11:21:52.838189Z",
     "start_time": "2025-05-25T11:21:52.832170Z"
    }
   },
   "cell_type": "code",
   "source": [
    "df_weekday_aligned = er_df.copy()\n",
    "df_weekday_aligned.tail(10)"
   ],
   "id": "7b1e2f2e748df1fb",
   "outputs": [
    {
     "data": {
      "text/plain": [
       "Price        Date        ER\n",
       "Ticker                     \n",
       "2693   2025-05-06  9.694760\n",
       "2694   2025-05-07  9.640645\n",
       "2695   2025-05-08  9.614229\n",
       "2696   2025-05-09  9.592418\n",
       "2697   2025-05-12  9.568874\n",
       "2698   2025-05-13  9.529573\n",
       "2699   2025-05-14  9.601536\n",
       "2700   2025-05-15  9.577489\n",
       "2701   2025-05-16  9.580976\n",
       "2702   2025-05-19  9.622694"
      ],
      "text/html": [
       "<div>\n",
       "<style scoped>\n",
       "    .dataframe tbody tr th:only-of-type {\n",
       "        vertical-align: middle;\n",
       "    }\n",
       "\n",
       "    .dataframe tbody tr th {\n",
       "        vertical-align: top;\n",
       "    }\n",
       "\n",
       "    .dataframe thead tr th {\n",
       "        text-align: left;\n",
       "    }\n",
       "</style>\n",
       "<table border=\"1\" class=\"dataframe\">\n",
       "  <thead>\n",
       "    <tr>\n",
       "      <th>Price</th>\n",
       "      <th>Date</th>\n",
       "      <th>ER</th>\n",
       "    </tr>\n",
       "    <tr>\n",
       "      <th>Ticker</th>\n",
       "      <th></th>\n",
       "      <th></th>\n",
       "    </tr>\n",
       "  </thead>\n",
       "  <tbody>\n",
       "    <tr>\n",
       "      <th>2693</th>\n",
       "      <td>2025-05-06</td>\n",
       "      <td>9.694760</td>\n",
       "    </tr>\n",
       "    <tr>\n",
       "      <th>2694</th>\n",
       "      <td>2025-05-07</td>\n",
       "      <td>9.640645</td>\n",
       "    </tr>\n",
       "    <tr>\n",
       "      <th>2695</th>\n",
       "      <td>2025-05-08</td>\n",
       "      <td>9.614229</td>\n",
       "    </tr>\n",
       "    <tr>\n",
       "      <th>2696</th>\n",
       "      <td>2025-05-09</td>\n",
       "      <td>9.592418</td>\n",
       "    </tr>\n",
       "    <tr>\n",
       "      <th>2697</th>\n",
       "      <td>2025-05-12</td>\n",
       "      <td>9.568874</td>\n",
       "    </tr>\n",
       "    <tr>\n",
       "      <th>2698</th>\n",
       "      <td>2025-05-13</td>\n",
       "      <td>9.529573</td>\n",
       "    </tr>\n",
       "    <tr>\n",
       "      <th>2699</th>\n",
       "      <td>2025-05-14</td>\n",
       "      <td>9.601536</td>\n",
       "    </tr>\n",
       "    <tr>\n",
       "      <th>2700</th>\n",
       "      <td>2025-05-15</td>\n",
       "      <td>9.577489</td>\n",
       "    </tr>\n",
       "    <tr>\n",
       "      <th>2701</th>\n",
       "      <td>2025-05-16</td>\n",
       "      <td>9.580976</td>\n",
       "    </tr>\n",
       "    <tr>\n",
       "      <th>2702</th>\n",
       "      <td>2025-05-19</td>\n",
       "      <td>9.622694</td>\n",
       "    </tr>\n",
       "  </tbody>\n",
       "</table>\n",
       "</div>"
      ]
     },
     "execution_count": 5,
     "metadata": {},
     "output_type": "execute_result"
    }
   ],
   "execution_count": 5
  },
  {
   "metadata": {
    "ExecuteTime": {
     "end_time": "2025-05-25T11:21:52.867321Z",
     "start_time": "2025-05-25T11:21:52.863430Z"
    }
   },
   "cell_type": "code",
   "source": [
    "df_weekday_aligned['trade_war'] = 0\n",
    "df_weekday_aligned.loc[(df_weekday_aligned['Date'] >= '2018-03-22') & (df_weekday_aligned['Date'] <= '2018-12-01'), 'trade_war'] = 1\n",
    "df_weekday_aligned.loc[(df_weekday_aligned['Date'] >= '2025-02-01') , 'trade_war'] = 1"
   ],
   "id": "69c611ba44573f7",
   "outputs": [],
   "execution_count": 6
  },
  {
   "metadata": {
    "ExecuteTime": {
     "end_time": "2025-05-25T11:21:52.892775Z",
     "start_time": "2025-05-25T11:21:52.890892Z"
    }
   },
   "cell_type": "code",
   "source": "df_all = df_weekday_aligned",
   "id": "38b01600120b8a98",
   "outputs": [],
   "execution_count": 7
  },
  {
   "metadata": {
    "ExecuteTime": {
     "end_time": "2025-05-25T11:21:52.918539Z",
     "start_time": "2025-05-25T11:21:52.912264Z"
    }
   },
   "cell_type": "code",
   "source": [
    "df_all['prev_change'] = df_all['ER'].pct_change().fillna(0)\n",
    "\n",
    "# Create trend direction label (1 if next day up, 0 if down)\n",
    "df_all['trend_up'] = (df_all['ER'].diff().shift(-1) > 0).astype(int)\n",
    "df_all.dropna(inplace=True)  # drop last row if trend_up for next day is NaN\n",
    "\n",
    "# Display the final feature set\n",
    "display(df_all.tail(5))"
   ],
   "id": "6296c1379c76d0d9",
   "outputs": [
    {
     "data": {
      "text/plain": [
       "Price        Date        ER trade_war prev_change trend_up\n",
       "Ticker                                                    \n",
       "2698   2025-05-13  9.529573         1   -0.004107        1\n",
       "2699   2025-05-14  9.601536         1    0.007552        0\n",
       "2700   2025-05-15  9.577489         1   -0.002504        1\n",
       "2701   2025-05-16  9.580976         1    0.000364        1\n",
       "2702   2025-05-19  9.622694         1    0.004354        0"
      ],
      "text/html": [
       "<div>\n",
       "<style scoped>\n",
       "    .dataframe tbody tr th:only-of-type {\n",
       "        vertical-align: middle;\n",
       "    }\n",
       "\n",
       "    .dataframe tbody tr th {\n",
       "        vertical-align: top;\n",
       "    }\n",
       "\n",
       "    .dataframe thead tr th {\n",
       "        text-align: left;\n",
       "    }\n",
       "</style>\n",
       "<table border=\"1\" class=\"dataframe\">\n",
       "  <thead>\n",
       "    <tr>\n",
       "      <th>Price</th>\n",
       "      <th>Date</th>\n",
       "      <th>ER</th>\n",
       "      <th>trade_war</th>\n",
       "      <th>prev_change</th>\n",
       "      <th>trend_up</th>\n",
       "    </tr>\n",
       "    <tr>\n",
       "      <th>Ticker</th>\n",
       "      <th></th>\n",
       "      <th></th>\n",
       "      <th></th>\n",
       "      <th></th>\n",
       "      <th></th>\n",
       "    </tr>\n",
       "  </thead>\n",
       "  <tbody>\n",
       "    <tr>\n",
       "      <th>2698</th>\n",
       "      <td>2025-05-13</td>\n",
       "      <td>9.529573</td>\n",
       "      <td>1</td>\n",
       "      <td>-0.004107</td>\n",
       "      <td>1</td>\n",
       "    </tr>\n",
       "    <tr>\n",
       "      <th>2699</th>\n",
       "      <td>2025-05-14</td>\n",
       "      <td>9.601536</td>\n",
       "      <td>1</td>\n",
       "      <td>0.007552</td>\n",
       "      <td>0</td>\n",
       "    </tr>\n",
       "    <tr>\n",
       "      <th>2700</th>\n",
       "      <td>2025-05-15</td>\n",
       "      <td>9.577489</td>\n",
       "      <td>1</td>\n",
       "      <td>-0.002504</td>\n",
       "      <td>1</td>\n",
       "    </tr>\n",
       "    <tr>\n",
       "      <th>2701</th>\n",
       "      <td>2025-05-16</td>\n",
       "      <td>9.580976</td>\n",
       "      <td>1</td>\n",
       "      <td>0.000364</td>\n",
       "      <td>1</td>\n",
       "    </tr>\n",
       "    <tr>\n",
       "      <th>2702</th>\n",
       "      <td>2025-05-19</td>\n",
       "      <td>9.622694</td>\n",
       "      <td>1</td>\n",
       "      <td>0.004354</td>\n",
       "      <td>0</td>\n",
       "    </tr>\n",
       "  </tbody>\n",
       "</table>\n",
       "</div>"
      ]
     },
     "metadata": {},
     "output_type": "display_data"
    }
   ],
   "execution_count": 8
  },
  {
   "cell_type": "code",
   "id": "initial_id",
   "metadata": {
    "collapsed": true,
    "ExecuteTime": {
     "end_time": "2025-05-25T11:21:52.939152Z",
     "start_time": "2025-05-25T11:21:52.934510Z"
    }
   },
   "source": [
    "lstm_df = df_all.drop(['prev_change'], axis=1)\n",
    "\n",
    "lstm_df['Date'] = pd.to_datetime(lstm_df['Date'])  # 保证为 datetime 类型\n",
    "lstm_df = lstm_df.set_index('Date')  # 设置为 index"
   ],
   "outputs": [],
   "execution_count": 9
  },
  {
   "metadata": {
    "ExecuteTime": {
     "end_time": "2025-05-25T11:21:52.969911Z",
     "start_time": "2025-05-25T11:21:52.962534Z"
    }
   },
   "cell_type": "code",
   "source": [
    "np.random.seed(42)\n",
    "random.seed(42)\n",
    "os.environ['PYTHONHASHSEED'] = str(42)\n",
    "\n",
    "# 固定 TensorFlow 随机种子\n",
    "tf.random.set_seed(42)\n",
    "\n",
    "# 若用GPU，确保 TensorFlow 使用确定性算法\n",
    "# 注意：这会牺牲一定速度\n",
    "from tensorflow.keras import backend as K\n",
    "os.environ['TF_DETERMINISTIC_OPS'] = '1'"
   ],
   "id": "83a25333ac7c25ff",
   "outputs": [],
   "execution_count": 10
  },
  {
   "metadata": {
    "ExecuteTime": {
     "end_time": "2025-05-25T11:21:52.982578Z",
     "start_time": "2025-05-25T11:21:52.978577Z"
    }
   },
   "cell_type": "code",
   "source": "lstm_df",
   "id": "e81233475a283321",
   "outputs": [
    {
     "data": {
      "text/plain": [
       "Price             ER trade_war trend_up\n",
       "Ticker                                 \n",
       "Date                                   \n",
       "2015-01-01  9.621861         0        0\n",
       "2015-01-02  9.563429         0        0\n",
       "2015-01-05  9.499834         0        0\n",
       "2015-01-06  9.454924         0        0\n",
       "2015-01-07  9.389671         0        0\n",
       "...              ...       ...      ...\n",
       "2025-05-13  9.529573         1        1\n",
       "2025-05-14  9.601536         1        0\n",
       "2025-05-15  9.577489         1        1\n",
       "2025-05-16  9.580976         1        1\n",
       "2025-05-19  9.622694         1        0\n",
       "\n",
       "[2703 rows x 3 columns]"
      ],
      "text/html": [
       "<div>\n",
       "<style scoped>\n",
       "    .dataframe tbody tr th:only-of-type {\n",
       "        vertical-align: middle;\n",
       "    }\n",
       "\n",
       "    .dataframe tbody tr th {\n",
       "        vertical-align: top;\n",
       "    }\n",
       "\n",
       "    .dataframe thead tr th {\n",
       "        text-align: left;\n",
       "    }\n",
       "\n",
       "    .dataframe thead tr:last-of-type th {\n",
       "        text-align: right;\n",
       "    }\n",
       "</style>\n",
       "<table border=\"1\" class=\"dataframe\">\n",
       "  <thead>\n",
       "    <tr>\n",
       "      <th>Price</th>\n",
       "      <th>ER</th>\n",
       "      <th>trade_war</th>\n",
       "      <th>trend_up</th>\n",
       "    </tr>\n",
       "    <tr>\n",
       "      <th>Ticker</th>\n",
       "      <th></th>\n",
       "      <th></th>\n",
       "      <th></th>\n",
       "    </tr>\n",
       "    <tr>\n",
       "      <th>Date</th>\n",
       "      <th></th>\n",
       "      <th></th>\n",
       "      <th></th>\n",
       "    </tr>\n",
       "  </thead>\n",
       "  <tbody>\n",
       "    <tr>\n",
       "      <th>2015-01-01</th>\n",
       "      <td>9.621861</td>\n",
       "      <td>0</td>\n",
       "      <td>0</td>\n",
       "    </tr>\n",
       "    <tr>\n",
       "      <th>2015-01-02</th>\n",
       "      <td>9.563429</td>\n",
       "      <td>0</td>\n",
       "      <td>0</td>\n",
       "    </tr>\n",
       "    <tr>\n",
       "      <th>2015-01-05</th>\n",
       "      <td>9.499834</td>\n",
       "      <td>0</td>\n",
       "      <td>0</td>\n",
       "    </tr>\n",
       "    <tr>\n",
       "      <th>2015-01-06</th>\n",
       "      <td>9.454924</td>\n",
       "      <td>0</td>\n",
       "      <td>0</td>\n",
       "    </tr>\n",
       "    <tr>\n",
       "      <th>2015-01-07</th>\n",
       "      <td>9.389671</td>\n",
       "      <td>0</td>\n",
       "      <td>0</td>\n",
       "    </tr>\n",
       "    <tr>\n",
       "      <th>...</th>\n",
       "      <td>...</td>\n",
       "      <td>...</td>\n",
       "      <td>...</td>\n",
       "    </tr>\n",
       "    <tr>\n",
       "      <th>2025-05-13</th>\n",
       "      <td>9.529573</td>\n",
       "      <td>1</td>\n",
       "      <td>1</td>\n",
       "    </tr>\n",
       "    <tr>\n",
       "      <th>2025-05-14</th>\n",
       "      <td>9.601536</td>\n",
       "      <td>1</td>\n",
       "      <td>0</td>\n",
       "    </tr>\n",
       "    <tr>\n",
       "      <th>2025-05-15</th>\n",
       "      <td>9.577489</td>\n",
       "      <td>1</td>\n",
       "      <td>1</td>\n",
       "    </tr>\n",
       "    <tr>\n",
       "      <th>2025-05-16</th>\n",
       "      <td>9.580976</td>\n",
       "      <td>1</td>\n",
       "      <td>1</td>\n",
       "    </tr>\n",
       "    <tr>\n",
       "      <th>2025-05-19</th>\n",
       "      <td>9.622694</td>\n",
       "      <td>1</td>\n",
       "      <td>0</td>\n",
       "    </tr>\n",
       "  </tbody>\n",
       "</table>\n",
       "<p>2703 rows × 3 columns</p>\n",
       "</div>"
      ]
     },
     "execution_count": 11,
     "metadata": {},
     "output_type": "execute_result"
    }
   ],
   "execution_count": 11
  },
  {
   "metadata": {
    "ExecuteTime": {
     "end_time": "2025-05-25T11:22:11.023389Z",
     "start_time": "2025-05-25T11:21:53.113385Z"
    }
   },
   "cell_type": "code",
   "source": [
    "# Split data into training and testing sets using 80/20 ratio\n",
    "split_idx = int(len(lstm_df) * 0.91)\n",
    "train_df = lstm_df.iloc[:split_idx]\n",
    "test_df = lstm_df.iloc[split_idx:]\n",
    "\n",
    "# Separate features (X) and target (y)\n",
    "X_train = train_df # 注意：这里只取特征列\n",
    "y_train = train_df['ER']\n",
    "X_test = test_df\n",
    "y_test = test_df['ER']\n",
    "\n",
    "# Normalize features and target using Min-Max scaling (fit on training data only)\n",
    "feature_scaler = MinMaxScaler()\n",
    "target_scaler = MinMaxScaler()\n",
    "X_train_scaled = feature_scaler.fit_transform(X_train)\n",
    "X_test_scaled = feature_scaler.transform(X_test)\n",
    "y_train_scaled = target_scaler.fit_transform(y_train.values.reshape(-1, 1))\n",
    "y_test_scaled = target_scaler.transform(y_test.values.reshape(-1, 1))\n",
    "\n",
    "# Prepare data for LSTM: create sequences of length `lookback` for each training example\n",
    "lookback = 12  # use past 12 months to predict the next month\n",
    "X_train_seq, y_train_seq = [], []\n",
    "for i in range(lookback, len(X_train_scaled)):\n",
    "    # sequence of `lookback` feature vectors\n",
    "    X_train_seq.append(X_train_scaled[i-lookback:i])\n",
    "    # target is the exchange rate at this time (one month ahead of last input month)\n",
    "    y_train_seq.append(y_train_scaled[i])\n",
    "X_train_seq = np.array(X_train_seq)\n",
    "y_train_seq = np.array(y_train_seq)\n",
    "\n",
    "# Prepare sequences for the test set (using preceding data for initial sequence)\n",
    "X_test_seq, y_test_seq = [], []\n",
    "# Concatenate train and test for sequence generation to include trailing train data in initial test sequences\n",
    "total_X = np.concatenate((X_train_scaled, X_test_scaled), axis=0)\n",
    "total_y = np.concatenate((y_train_scaled, y_test_scaled), axis=0)\n",
    "train_len = len(X_train_scaled)\n",
    "for i in range(train_len, len(total_X)):\n",
    "    if i < lookback:\n",
    "        continue  # skip until we have enough history\n",
    "    X_test_seq.append(total_X[i-lookback:i])\n",
    "    y_test_seq.append(total_y[i])\n",
    "X_test_seq = np.array(X_test_seq)\n",
    "y_test_seq = np.array(y_test_seq)\n",
    "\n",
    "# Build the LSTM model\n",
    "from keras.models import Sequential\n",
    "from keras.layers import LSTM, Dense, Dropout\n",
    "# 改进后的双层 LSTM 架构\n",
    "model = Sequential()\n",
    "model.add(LSTM(64, return_sequences=True, input_shape=(lookback, X_train_seq.shape[2])))\n",
    "model.add(Dropout(0.2))\n",
    "model.add(LSTM(32))\n",
    "model.add(Dense(1))\n",
    "\n",
    "# 别忘了这一步！！\n",
    "model.compile(optimizer='adam', loss='mean_squared_error')\n",
    "\n",
    "# 然后再训练\n",
    "history = model.fit(X_train_seq, y_train_seq, epochs=50, batch_size=16,validation_split=0.1, verbose=1 )"
   ],
   "id": "8e12b927d6f92723",
   "outputs": [
    {
     "name": "stdout",
     "output_type": "stream",
     "text": [
      "Epoch 1/50\n"
     ]
    },
    {
     "name": "stderr",
     "output_type": "stream",
     "text": [
      "/Users/loki/PycharmProjects/PythonProject5/.venv/lib/python3.9/site-packages/keras/src/layers/rnn/rnn.py:200: UserWarning: Do not pass an `input_shape`/`input_dim` argument to a layer. When using Sequential models, prefer using an `Input(shape)` object as the first layer in the model instead.\n",
      "  super().__init__(**kwargs)\n",
      "2025-05-25 12:21:53.175670: E tensorflow/core/framework/node_def_util.cc:680] NodeDef mentions attribute use_unbounded_threadpool which is not in the op definition: Op<name=MapDataset; signature=input_dataset:variant, other_arguments: -> handle:variant; attr=f:func; attr=Targuments:list(type),min=0; attr=output_types:list(type),min=1; attr=output_shapes:list(shape),min=1; attr=use_inter_op_parallelism:bool,default=true; attr=preserve_cardinality:bool,default=false; attr=force_synchronous:bool,default=false; attr=metadata:string,default=\"\"> This may be expected if your graph generating binary is newer  than this binary. Unknown attributes will be ignored. NodeDef: {{node ParallelMapDatasetV2/_15}}\n",
      "2025-05-25 12:21:53.175943: E tensorflow/core/framework/node_def_util.cc:680] NodeDef mentions attribute use_unbounded_threadpool which is not in the op definition: Op<name=MapDataset; signature=input_dataset:variant, other_arguments: -> handle:variant; attr=f:func; attr=Targuments:list(type),min=0; attr=output_types:list(type),min=1; attr=output_shapes:list(shape),min=1; attr=use_inter_op_parallelism:bool,default=true; attr=preserve_cardinality:bool,default=false; attr=force_synchronous:bool,default=false; attr=metadata:string,default=\"\"> This may be expected if your graph generating binary is newer  than this binary. Unknown attributes will be ignored. NodeDef: {{node ParallelMapDatasetV2/_15}}\n"
     ]
    },
    {
     "name": "stdout",
     "output_type": "stream",
     "text": [
      "\u001B[1m129/129\u001B[0m \u001B[32m━━━━━━━━━━━━━━━━━━━━\u001B[0m\u001B[37m\u001B[0m \u001B[1m1s\u001B[0m 3ms/step - loss: 0.0388 - val_loss: 4.7557e-04\n",
      "Epoch 2/50\n",
      "\u001B[1m129/129\u001B[0m \u001B[32m━━━━━━━━━━━━━━━━━━━━\u001B[0m\u001B[37m\u001B[0m \u001B[1m0s\u001B[0m 3ms/step - loss: 0.0014 - val_loss: 4.5989e-04\n",
      "Epoch 3/50\n",
      "\u001B[1m129/129\u001B[0m \u001B[32m━━━━━━━━━━━━━━━━━━━━\u001B[0m\u001B[37m\u001B[0m \u001B[1m0s\u001B[0m 3ms/step - loss: 0.0013 - val_loss: 3.1873e-04\n",
      "Epoch 4/50\n",
      "\u001B[1m129/129\u001B[0m \u001B[32m━━━━━━━━━━━━━━━━━━━━\u001B[0m\u001B[37m\u001B[0m \u001B[1m0s\u001B[0m 3ms/step - loss: 0.0013 - val_loss: 2.8428e-04\n",
      "Epoch 5/50\n",
      "\u001B[1m129/129\u001B[0m \u001B[32m━━━━━━━━━━━━━━━━━━━━\u001B[0m\u001B[37m\u001B[0m \u001B[1m0s\u001B[0m 2ms/step - loss: 0.0012 - val_loss: 3.0119e-04\n",
      "Epoch 6/50\n",
      "\u001B[1m129/129\u001B[0m \u001B[32m━━━━━━━━━━━━━━━━━━━━\u001B[0m\u001B[37m\u001B[0m \u001B[1m0s\u001B[0m 2ms/step - loss: 0.0012 - val_loss: 2.6550e-04\n",
      "Epoch 7/50\n",
      "\u001B[1m129/129\u001B[0m \u001B[32m━━━━━━━━━━━━━━━━━━━━\u001B[0m\u001B[37m\u001B[0m \u001B[1m0s\u001B[0m 2ms/step - loss: 0.0011 - val_loss: 2.5300e-04\n",
      "Epoch 8/50\n",
      "\u001B[1m129/129\u001B[0m \u001B[32m━━━━━━━━━━━━━━━━━━━━\u001B[0m\u001B[37m\u001B[0m \u001B[1m0s\u001B[0m 2ms/step - loss: 0.0010 - val_loss: 2.5545e-04\n",
      "Epoch 9/50\n",
      "\u001B[1m129/129\u001B[0m \u001B[32m━━━━━━━━━━━━━━━━━━━━\u001B[0m\u001B[37m\u001B[0m \u001B[1m0s\u001B[0m 3ms/step - loss: 0.0010 - val_loss: 2.7463e-04\n",
      "Epoch 10/50\n",
      "\u001B[1m129/129\u001B[0m \u001B[32m━━━━━━━━━━━━━━━━━━━━\u001B[0m\u001B[37m\u001B[0m \u001B[1m0s\u001B[0m 3ms/step - loss: 9.5156e-04 - val_loss: 3.4457e-04\n",
      "Epoch 11/50\n",
      "\u001B[1m129/129\u001B[0m \u001B[32m━━━━━━━━━━━━━━━━━━━━\u001B[0m\u001B[37m\u001B[0m \u001B[1m0s\u001B[0m 3ms/step - loss: 8.3755e-04 - val_loss: 2.6046e-04\n",
      "Epoch 12/50\n",
      "\u001B[1m129/129\u001B[0m \u001B[32m━━━━━━━━━━━━━━━━━━━━\u001B[0m\u001B[37m\u001B[0m \u001B[1m0s\u001B[0m 3ms/step - loss: 8.0799e-04 - val_loss: 3.1611e-04\n",
      "Epoch 13/50\n",
      "\u001B[1m129/129\u001B[0m \u001B[32m━━━━━━━━━━━━━━━━━━━━\u001B[0m\u001B[37m\u001B[0m \u001B[1m0s\u001B[0m 3ms/step - loss: 8.0552e-04 - val_loss: 2.1636e-04\n",
      "Epoch 14/50\n",
      "\u001B[1m129/129\u001B[0m \u001B[32m━━━━━━━━━━━━━━━━━━━━\u001B[0m\u001B[37m\u001B[0m \u001B[1m0s\u001B[0m 3ms/step - loss: 8.0763e-04 - val_loss: 2.2493e-04\n",
      "Epoch 15/50\n",
      "\u001B[1m129/129\u001B[0m \u001B[32m━━━━━━━━━━━━━━━━━━━━\u001B[0m\u001B[37m\u001B[0m \u001B[1m0s\u001B[0m 3ms/step - loss: 7.2629e-04 - val_loss: 2.4108e-04\n",
      "Epoch 16/50\n",
      "\u001B[1m129/129\u001B[0m \u001B[32m━━━━━━━━━━━━━━━━━━━━\u001B[0m\u001B[37m\u001B[0m \u001B[1m0s\u001B[0m 3ms/step - loss: 7.4874e-04 - val_loss: 2.0640e-04\n",
      "Epoch 17/50\n",
      "\u001B[1m129/129\u001B[0m \u001B[32m━━━━━━━━━━━━━━━━━━━━\u001B[0m\u001B[37m\u001B[0m \u001B[1m0s\u001B[0m 3ms/step - loss: 6.7120e-04 - val_loss: 2.2504e-04\n",
      "Epoch 18/50\n",
      "\u001B[1m129/129\u001B[0m \u001B[32m━━━━━━━━━━━━━━━━━━━━\u001B[0m\u001B[37m\u001B[0m \u001B[1m0s\u001B[0m 3ms/step - loss: 6.5650e-04 - val_loss: 2.2090e-04\n",
      "Epoch 19/50\n",
      "\u001B[1m129/129\u001B[0m \u001B[32m━━━━━━━━━━━━━━━━━━━━\u001B[0m\u001B[37m\u001B[0m \u001B[1m0s\u001B[0m 3ms/step - loss: 6.5255e-04 - val_loss: 2.0293e-04\n",
      "Epoch 20/50\n",
      "\u001B[1m129/129\u001B[0m \u001B[32m━━━━━━━━━━━━━━━━━━━━\u001B[0m\u001B[37m\u001B[0m \u001B[1m0s\u001B[0m 3ms/step - loss: 6.3927e-04 - val_loss: 1.9072e-04\n",
      "Epoch 21/50\n",
      "\u001B[1m129/129\u001B[0m \u001B[32m━━━━━━━━━━━━━━━━━━━━\u001B[0m\u001B[37m\u001B[0m \u001B[1m0s\u001B[0m 3ms/step - loss: 6.3390e-04 - val_loss: 1.9946e-04\n",
      "Epoch 22/50\n",
      "\u001B[1m129/129\u001B[0m \u001B[32m━━━━━━━━━━━━━━━━━━━━\u001B[0m\u001B[37m\u001B[0m \u001B[1m0s\u001B[0m 3ms/step - loss: 6.1687e-04 - val_loss: 2.5919e-04\n",
      "Epoch 23/50\n",
      "\u001B[1m129/129\u001B[0m \u001B[32m━━━━━━━━━━━━━━━━━━━━\u001B[0m\u001B[37m\u001B[0m \u001B[1m0s\u001B[0m 3ms/step - loss: 5.9687e-04 - val_loss: 1.7979e-04\n",
      "Epoch 24/50\n",
      "\u001B[1m129/129\u001B[0m \u001B[32m━━━━━━━━━━━━━━━━━━━━\u001B[0m\u001B[37m\u001B[0m \u001B[1m0s\u001B[0m 3ms/step - loss: 5.4219e-04 - val_loss: 2.3262e-04\n",
      "Epoch 25/50\n",
      "\u001B[1m129/129\u001B[0m \u001B[32m━━━━━━━━━━━━━━━━━━━━\u001B[0m\u001B[37m\u001B[0m \u001B[1m0s\u001B[0m 3ms/step - loss: 5.4146e-04 - val_loss: 1.6874e-04\n",
      "Epoch 26/50\n",
      "\u001B[1m129/129\u001B[0m \u001B[32m━━━━━━━━━━━━━━━━━━━━\u001B[0m\u001B[37m\u001B[0m \u001B[1m0s\u001B[0m 3ms/step - loss: 5.4720e-04 - val_loss: 1.7215e-04\n",
      "Epoch 27/50\n",
      "\u001B[1m129/129\u001B[0m \u001B[32m━━━━━━━━━━━━━━━━━━━━\u001B[0m\u001B[37m\u001B[0m \u001B[1m0s\u001B[0m 3ms/step - loss: 5.1973e-04 - val_loss: 1.5834e-04\n",
      "Epoch 28/50\n",
      "\u001B[1m129/129\u001B[0m \u001B[32m━━━━━━━━━━━━━━━━━━━━\u001B[0m\u001B[37m\u001B[0m \u001B[1m0s\u001B[0m 3ms/step - loss: 4.8894e-04 - val_loss: 1.5555e-04\n",
      "Epoch 29/50\n",
      "\u001B[1m129/129\u001B[0m \u001B[32m━━━━━━━━━━━━━━━━━━━━\u001B[0m\u001B[37m\u001B[0m \u001B[1m0s\u001B[0m 3ms/step - loss: 4.9543e-04 - val_loss: 1.7375e-04\n",
      "Epoch 30/50\n",
      "\u001B[1m129/129\u001B[0m \u001B[32m━━━━━━━━━━━━━━━━━━━━\u001B[0m\u001B[37m\u001B[0m \u001B[1m0s\u001B[0m 3ms/step - loss: 4.3656e-04 - val_loss: 2.4891e-04\n",
      "Epoch 31/50\n",
      "\u001B[1m129/129\u001B[0m \u001B[32m━━━━━━━━━━━━━━━━━━━━\u001B[0m\u001B[37m\u001B[0m \u001B[1m0s\u001B[0m 3ms/step - loss: 4.7658e-04 - val_loss: 1.5493e-04\n",
      "Epoch 32/50\n",
      "\u001B[1m129/129\u001B[0m \u001B[32m━━━━━━━━━━━━━━━━━━━━\u001B[0m\u001B[37m\u001B[0m \u001B[1m0s\u001B[0m 3ms/step - loss: 4.2243e-04 - val_loss: 2.2133e-04\n",
      "Epoch 33/50\n",
      "\u001B[1m129/129\u001B[0m \u001B[32m━━━━━━━━━━━━━━━━━━━━\u001B[0m\u001B[37m\u001B[0m \u001B[1m0s\u001B[0m 3ms/step - loss: 4.7614e-04 - val_loss: 1.4696e-04\n",
      "Epoch 34/50\n",
      "\u001B[1m129/129\u001B[0m \u001B[32m━━━━━━━━━━━━━━━━━━━━\u001B[0m\u001B[37m\u001B[0m \u001B[1m0s\u001B[0m 3ms/step - loss: 4.1646e-04 - val_loss: 1.3705e-04\n",
      "Epoch 35/50\n",
      "\u001B[1m129/129\u001B[0m \u001B[32m━━━━━━━━━━━━━━━━━━━━\u001B[0m\u001B[37m\u001B[0m \u001B[1m0s\u001B[0m 3ms/step - loss: 4.2589e-04 - val_loss: 1.3531e-04\n",
      "Epoch 36/50\n",
      "\u001B[1m129/129\u001B[0m \u001B[32m━━━━━━━━━━━━━━━━━━━━\u001B[0m\u001B[37m\u001B[0m \u001B[1m0s\u001B[0m 3ms/step - loss: 3.5780e-04 - val_loss: 1.2410e-04\n",
      "Epoch 37/50\n",
      "\u001B[1m129/129\u001B[0m \u001B[32m━━━━━━━━━━━━━━━━━━━━\u001B[0m\u001B[37m\u001B[0m \u001B[1m0s\u001B[0m 3ms/step - loss: 3.4441e-04 - val_loss: 1.7519e-04\n",
      "Epoch 38/50\n",
      "\u001B[1m129/129\u001B[0m \u001B[32m━━━━━━━━━━━━━━━━━━━━\u001B[0m\u001B[37m\u001B[0m \u001B[1m0s\u001B[0m 3ms/step - loss: 3.7003e-04 - val_loss: 1.9862e-04\n",
      "Epoch 39/50\n",
      "\u001B[1m129/129\u001B[0m \u001B[32m━━━━━━━━━━━━━━━━━━━━\u001B[0m\u001B[37m\u001B[0m \u001B[1m0s\u001B[0m 3ms/step - loss: 3.7945e-04 - val_loss: 3.2494e-04\n",
      "Epoch 40/50\n",
      "\u001B[1m129/129\u001B[0m \u001B[32m━━━━━━━━━━━━━━━━━━━━\u001B[0m\u001B[37m\u001B[0m \u001B[1m0s\u001B[0m 3ms/step - loss: 3.6356e-04 - val_loss: 1.1482e-04\n",
      "Epoch 41/50\n",
      "\u001B[1m129/129\u001B[0m \u001B[32m━━━━━━━━━━━━━━━━━━━━\u001B[0m\u001B[37m\u001B[0m \u001B[1m0s\u001B[0m 3ms/step - loss: 3.2085e-04 - val_loss: 1.3304e-04\n",
      "Epoch 42/50\n",
      "\u001B[1m129/129\u001B[0m \u001B[32m━━━━━━━━━━━━━━━━━━━━\u001B[0m\u001B[37m\u001B[0m \u001B[1m0s\u001B[0m 3ms/step - loss: 3.1837e-04 - val_loss: 1.4392e-04\n",
      "Epoch 43/50\n",
      "\u001B[1m129/129\u001B[0m \u001B[32m━━━━━━━━━━━━━━━━━━━━\u001B[0m\u001B[37m\u001B[0m \u001B[1m0s\u001B[0m 3ms/step - loss: 3.0371e-04 - val_loss: 1.1336e-04\n",
      "Epoch 44/50\n",
      "\u001B[1m129/129\u001B[0m \u001B[32m━━━━━━━━━━━━━━━━━━━━\u001B[0m\u001B[37m\u001B[0m \u001B[1m0s\u001B[0m 3ms/step - loss: 3.0989e-04 - val_loss: 1.3563e-04\n",
      "Epoch 45/50\n",
      "\u001B[1m129/129\u001B[0m \u001B[32m━━━━━━━━━━━━━━━━━━━━\u001B[0m\u001B[37m\u001B[0m \u001B[1m0s\u001B[0m 3ms/step - loss: 3.3999e-04 - val_loss: 1.1272e-04\n",
      "Epoch 46/50\n",
      "\u001B[1m129/129\u001B[0m \u001B[32m━━━━━━━━━━━━━━━━━━━━\u001B[0m\u001B[37m\u001B[0m \u001B[1m0s\u001B[0m 3ms/step - loss: 3.0489e-04 - val_loss: 1.3289e-04\n",
      "Epoch 47/50\n",
      "\u001B[1m129/129\u001B[0m \u001B[32m━━━━━━━━━━━━━━━━━━━━\u001B[0m\u001B[37m\u001B[0m \u001B[1m0s\u001B[0m 3ms/step - loss: 2.8988e-04 - val_loss: 1.1864e-04\n",
      "Epoch 48/50\n",
      "\u001B[1m129/129\u001B[0m \u001B[32m━━━━━━━━━━━━━━━━━━━━\u001B[0m\u001B[37m\u001B[0m \u001B[1m0s\u001B[0m 3ms/step - loss: 2.8277e-04 - val_loss: 1.2070e-04\n",
      "Epoch 49/50\n",
      "\u001B[1m129/129\u001B[0m \u001B[32m━━━━━━━━━━━━━━━━━━━━\u001B[0m\u001B[37m\u001B[0m \u001B[1m0s\u001B[0m 3ms/step - loss: 2.7272e-04 - val_loss: 1.3243e-04\n",
      "Epoch 50/50\n",
      "\u001B[1m129/129\u001B[0m \u001B[32m━━━━━━━━━━━━━━━━━━━━\u001B[0m\u001B[37m\u001B[0m \u001B[1m0s\u001B[0m 3ms/step - loss: 3.0184e-04 - val_loss: 1.2020e-04\n"
     ]
    }
   ],
   "execution_count": 13
  },
  {
   "metadata": {},
   "cell_type": "code",
   "outputs": [],
   "execution_count": null,
   "source": [
    "X_test = test_df\n",
    "y_test = test_df['ER']\n",
    "\n",
    "# Normalize features and target using Min-Max scaling (fit on training data only)\n",
    "feature_scaler = MinMaxScaler()\n",
    "target_scaler = MinMaxScaler()\n",
    "X_train_scaled = feature_scaler.fit_transform(X_train)\n",
    "X_test_scaled = feature_scaler.transform(X_test)"
   ],
   "id": "1fb7eff296c0a5d7"
  },
  {
   "metadata": {
    "ExecuteTime": {
     "end_time": "2025-05-25T11:23:11.737822Z",
     "start_time": "2025-05-25T11:23:11.694973Z"
    }
   },
   "cell_type": "code",
   "source": [
    "X_pred_input = X_test_scaled[-lookback:]  # shape: (lookback, n_features)\n",
    "X_pred_input = X_pred_input.reshape(1, lookback, X_pred_input.shape[1])  # reshape 成 LSTM 输入格式\n",
    "\n",
    "# 预测归一化后的汇率值\n",
    "y_pred_scaled = model.predict(X_pred_input)\n",
    "\n",
    "# 反归一化成真实汇率\n",
    "y_pred = target_scaler.inverse_transform(y_pred_scaled)\n",
    "\n",
    "print(f\"预测明日汇率：{float(y_pred[0][0]):.4f}\")"
   ],
   "id": "e024e70b40ef16d0",
   "outputs": [
    {
     "name": "stdout",
     "output_type": "stream",
     "text": [
      "\u001B[1m1/1\u001B[0m \u001B[32m━━━━━━━━━━━━━━━━━━━━\u001B[0m\u001B[37m\u001B[0m \u001B[1m0s\u001B[0m 16ms/step\n",
      "预测明日汇率：9.5533\n"
     ]
    },
    {
     "name": "stderr",
     "output_type": "stream",
     "text": [
      "2025-05-25 12:23:11.721976: E tensorflow/core/framework/node_def_util.cc:680] NodeDef mentions attribute use_unbounded_threadpool which is not in the op definition: Op<name=MapDataset; signature=input_dataset:variant, other_arguments: -> handle:variant; attr=f:func; attr=Targuments:list(type),min=0; attr=output_types:list(type),min=1; attr=output_shapes:list(shape),min=1; attr=use_inter_op_parallelism:bool,default=true; attr=preserve_cardinality:bool,default=false; attr=force_synchronous:bool,default=false; attr=metadata:string,default=\"\"> This may be expected if your graph generating binary is newer  than this binary. Unknown attributes will be ignored. NodeDef: {{node ParallelMapDatasetV2/_14}}\n",
      "2025-05-25 12:23:11.722244: E tensorflow/core/framework/node_def_util.cc:680] NodeDef mentions attribute use_unbounded_threadpool which is not in the op definition: Op<name=MapDataset; signature=input_dataset:variant, other_arguments: -> handle:variant; attr=f:func; attr=Targuments:list(type),min=0; attr=output_types:list(type),min=1; attr=output_shapes:list(shape),min=1; attr=use_inter_op_parallelism:bool,default=true; attr=preserve_cardinality:bool,default=false; attr=force_synchronous:bool,default=false; attr=metadata:string,default=\"\"> This may be expected if your graph generating binary is newer  than this binary. Unknown attributes will be ignored. NodeDef: {{node ParallelMapDatasetV2/_14}}\n"
     ]
    }
   ],
   "execution_count": 16
  }
 ],
 "metadata": {
  "kernelspec": {
   "display_name": "Python 3",
   "language": "python",
   "name": "python3"
  },
  "language_info": {
   "codemirror_mode": {
    "name": "ipython",
    "version": 2
   },
   "file_extension": ".py",
   "mimetype": "text/x-python",
   "name": "python",
   "nbconvert_exporter": "python",
   "pygments_lexer": "ipython2",
   "version": "2.7.6"
  }
 },
 "nbformat": 4,
 "nbformat_minor": 5
}
