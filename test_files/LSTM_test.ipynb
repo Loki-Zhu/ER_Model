{
 "cells": [
  {
   "metadata": {},
   "cell_type": "markdown",
   "source": "## LSTM测试",
   "id": "b7bbeee07669e3e9"
  },
  {
   "metadata": {
    "ExecuteTime": {
     "end_time": "2025-05-17T14:04:52.663587Z",
     "start_time": "2025-05-17T14:04:48.751038Z"
    }
   },
   "cell_type": "code",
   "source": [
    "import xgboost as xgb\n",
    "from sklearn.metrics import mean_squared_error, mean_absolute_error\n",
    "import matplotlib.pyplot as plt\n",
    "from datetime import date\n",
    "import requests\n",
    "from requests.auth import HTTPBasicAuth\n",
    "import pandas as pd\n",
    "import numpy as np\n",
    "import requests\n",
    "from requests.auth import HTTPBasicAuth\n",
    "\n",
    "from datetime import datetime, timedelta\n",
    "import yfinance as yf\n",
    "import numpy as np\n",
    "import pandas as pd\n",
    "from sklearn.preprocessing import MinMaxScaler\n",
    "import torch\n",
    "from torch import nn\n",
    "from torch.utils.data import DataLoader, TensorDataset\n",
    "import matplotlib.pyplot as plt\n",
    "\n",
    "import random\n",
    "import os\n",
    "import tensorflow as tf"
   ],
   "id": "57637bdddb8d195",
   "outputs": [
    {
     "name": "stderr",
     "output_type": "stream",
     "text": [
      "/Users/loki/PycharmProjects/PythonProject5/.venv/lib/python3.9/site-packages/urllib3/__init__.py:35: NotOpenSSLWarning: urllib3 v2 only supports OpenSSL 1.1.1+, currently the 'ssl' module is compiled with 'LibreSSL 2.8.3'. See: https://github.com/urllib3/urllib3/issues/3020\n",
      "  warnings.warn(\n"
     ]
    }
   ],
   "execution_count": 1
  },
  {
   "metadata": {
    "ExecuteTime": {
     "end_time": "2025-05-17T14:04:52.667527Z",
     "start_time": "2025-05-17T14:04:52.665935Z"
    }
   },
   "cell_type": "code",
   "source": "today = date.today()",
   "id": "bd73c372bf4b1caf",
   "outputs": [],
   "execution_count": 2
  },
  {
   "metadata": {
    "ExecuteTime": {
     "end_time": "2025-05-17T14:04:52.949588Z",
     "start_time": "2025-05-17T14:04:52.739271Z"
    }
   },
   "cell_type": "code",
   "source": [
    "# 获取人民币兑英镑汇率（Yahoo symbol: CNYGBP=X）\n",
    "data = yf.download(\"CNYGBP=X\", start=\"2015-01-01\", end='2025-05-17')\n",
    "er_df = data[[\"Close\"]].rename(columns={\"Close\": \"CNY/GBP\"})\n",
    "display(er_df.tail())"
   ],
   "id": "66e7a96cd34409ab",
   "outputs": [
    {
     "name": "stdout",
     "output_type": "stream",
     "text": [
      "YF.download() has changed argument auto_adjust default to True\n"
     ]
    },
    {
     "name": "stderr",
     "output_type": "stream",
     "text": [
      "[*********************100%***********************]  1 of 1 completed\n"
     ]
    },
    {
     "data": {
      "text/plain": [
       "Price        CNY/GBP\n",
       "Ticker      CNYGBP=X\n",
       "Date                \n",
       "2025-05-12  0.103947\n",
       "2025-05-13  0.105330\n",
       "2025-05-14  0.104299\n",
       "2025-05-15  0.104600\n",
       "2025-05-16  0.104400"
      ],
      "text/html": [
       "<div>\n",
       "<style scoped>\n",
       "    .dataframe tbody tr th:only-of-type {\n",
       "        vertical-align: middle;\n",
       "    }\n",
       "\n",
       "    .dataframe tbody tr th {\n",
       "        vertical-align: top;\n",
       "    }\n",
       "\n",
       "    .dataframe thead tr th {\n",
       "        text-align: left;\n",
       "    }\n",
       "\n",
       "    .dataframe thead tr:last-of-type th {\n",
       "        text-align: right;\n",
       "    }\n",
       "</style>\n",
       "<table border=\"1\" class=\"dataframe\">\n",
       "  <thead>\n",
       "    <tr>\n",
       "      <th>Price</th>\n",
       "      <th>CNY/GBP</th>\n",
       "    </tr>\n",
       "    <tr>\n",
       "      <th>Ticker</th>\n",
       "      <th>CNYGBP=X</th>\n",
       "    </tr>\n",
       "    <tr>\n",
       "      <th>Date</th>\n",
       "      <th></th>\n",
       "    </tr>\n",
       "  </thead>\n",
       "  <tbody>\n",
       "    <tr>\n",
       "      <th>2025-05-12</th>\n",
       "      <td>0.103947</td>\n",
       "    </tr>\n",
       "    <tr>\n",
       "      <th>2025-05-13</th>\n",
       "      <td>0.105330</td>\n",
       "    </tr>\n",
       "    <tr>\n",
       "      <th>2025-05-14</th>\n",
       "      <td>0.104299</td>\n",
       "    </tr>\n",
       "    <tr>\n",
       "      <th>2025-05-15</th>\n",
       "      <td>0.104600</td>\n",
       "    </tr>\n",
       "    <tr>\n",
       "      <th>2025-05-16</th>\n",
       "      <td>0.104400</td>\n",
       "    </tr>\n",
       "  </tbody>\n",
       "</table>\n",
       "</div>"
      ]
     },
     "metadata": {},
     "output_type": "display_data"
    }
   ],
   "execution_count": 3
  },
  {
   "metadata": {
    "ExecuteTime": {
     "end_time": "2025-05-17T14:04:52.960712Z",
     "start_time": "2025-05-17T14:04:52.956202Z"
    }
   },
   "cell_type": "code",
   "source": [
    "er_df['inverse'] = 1 / er_df['CNY/GBP', 'CNYGBP=X']\n",
    "\n",
    "er_df"
   ],
   "id": "90376e58d1fbec51",
   "outputs": [
    {
     "data": {
      "text/plain": [
       "Price        CNY/GBP   inverse\n",
       "Ticker      CNYGBP=X          \n",
       "Date                          \n",
       "2015-01-01  0.103420  9.669310\n",
       "2015-01-02  0.103330  9.677731\n",
       "2015-01-05  0.104920  9.531071\n",
       "2015-01-06  0.105350  9.492169\n",
       "2015-01-07  0.106450  9.394082\n",
       "...              ...       ...\n",
       "2025-05-12  0.103947  9.620287\n",
       "2025-05-13  0.105330  9.493972\n",
       "2025-05-14  0.104299  9.587820\n",
       "2025-05-15  0.104600  9.560230\n",
       "2025-05-16  0.104400  9.578544\n",
       "\n",
       "[2702 rows x 2 columns]"
      ],
      "text/html": [
       "<div>\n",
       "<style scoped>\n",
       "    .dataframe tbody tr th:only-of-type {\n",
       "        vertical-align: middle;\n",
       "    }\n",
       "\n",
       "    .dataframe tbody tr th {\n",
       "        vertical-align: top;\n",
       "    }\n",
       "\n",
       "    .dataframe thead tr th {\n",
       "        text-align: left;\n",
       "    }\n",
       "\n",
       "    .dataframe thead tr:last-of-type th {\n",
       "        text-align: right;\n",
       "    }\n",
       "</style>\n",
       "<table border=\"1\" class=\"dataframe\">\n",
       "  <thead>\n",
       "    <tr>\n",
       "      <th>Price</th>\n",
       "      <th>CNY/GBP</th>\n",
       "      <th>inverse</th>\n",
       "    </tr>\n",
       "    <tr>\n",
       "      <th>Ticker</th>\n",
       "      <th>CNYGBP=X</th>\n",
       "      <th></th>\n",
       "    </tr>\n",
       "    <tr>\n",
       "      <th>Date</th>\n",
       "      <th></th>\n",
       "      <th></th>\n",
       "    </tr>\n",
       "  </thead>\n",
       "  <tbody>\n",
       "    <tr>\n",
       "      <th>2015-01-01</th>\n",
       "      <td>0.103420</td>\n",
       "      <td>9.669310</td>\n",
       "    </tr>\n",
       "    <tr>\n",
       "      <th>2015-01-02</th>\n",
       "      <td>0.103330</td>\n",
       "      <td>9.677731</td>\n",
       "    </tr>\n",
       "    <tr>\n",
       "      <th>2015-01-05</th>\n",
       "      <td>0.104920</td>\n",
       "      <td>9.531071</td>\n",
       "    </tr>\n",
       "    <tr>\n",
       "      <th>2015-01-06</th>\n",
       "      <td>0.105350</td>\n",
       "      <td>9.492169</td>\n",
       "    </tr>\n",
       "    <tr>\n",
       "      <th>2015-01-07</th>\n",
       "      <td>0.106450</td>\n",
       "      <td>9.394082</td>\n",
       "    </tr>\n",
       "    <tr>\n",
       "      <th>...</th>\n",
       "      <td>...</td>\n",
       "      <td>...</td>\n",
       "    </tr>\n",
       "    <tr>\n",
       "      <th>2025-05-12</th>\n",
       "      <td>0.103947</td>\n",
       "      <td>9.620287</td>\n",
       "    </tr>\n",
       "    <tr>\n",
       "      <th>2025-05-13</th>\n",
       "      <td>0.105330</td>\n",
       "      <td>9.493972</td>\n",
       "    </tr>\n",
       "    <tr>\n",
       "      <th>2025-05-14</th>\n",
       "      <td>0.104299</td>\n",
       "      <td>9.587820</td>\n",
       "    </tr>\n",
       "    <tr>\n",
       "      <th>2025-05-15</th>\n",
       "      <td>0.104600</td>\n",
       "      <td>9.560230</td>\n",
       "    </tr>\n",
       "    <tr>\n",
       "      <th>2025-05-16</th>\n",
       "      <td>0.104400</td>\n",
       "      <td>9.578544</td>\n",
       "    </tr>\n",
       "  </tbody>\n",
       "</table>\n",
       "<p>2702 rows × 2 columns</p>\n",
       "</div>"
      ]
     },
     "execution_count": 4,
     "metadata": {},
     "output_type": "execute_result"
    }
   ],
   "execution_count": 4
  },
  {
   "metadata": {
    "ExecuteTime": {
     "end_time": "2025-05-17T14:04:53.234416Z",
     "start_time": "2025-05-17T14:04:53.018620Z"
    }
   },
   "cell_type": "code",
   "source": [
    "policy_df = pd.read_excel(\"IR.xlsx\")\n",
    "policy_df['rate_diff'] = policy_df['UK'] - policy_df['CN']\n",
    "model_df = policy_df.copy()"
   ],
   "id": "6ede8eb89a10740d",
   "outputs": [],
   "execution_count": 5
  },
  {
   "metadata": {
    "ExecuteTime": {
     "end_time": "2025-05-17T14:04:53.256900Z",
     "start_time": "2025-05-17T14:04:53.253142Z"
    }
   },
   "cell_type": "code",
   "source": [
    "# 确保 Date 是 datetime 类型\n",
    "model_df['Date'] = pd.to_datetime(model_df['Date'])\n",
    "\n",
    "# 保留工作日（周一到周五）\n",
    "df_weekday = model_df[model_df['Date'].dt.dayofweek < 5].copy()\n",
    "\n",
    "# 按日期排序（可选）\n",
    "df_weekday = df_weekday.sort_values('Date').reset_index(drop=True)"
   ],
   "id": "a52b3079f7f9adcd",
   "outputs": [],
   "execution_count": 6
  },
  {
   "metadata": {
    "ExecuteTime": {
     "end_time": "2025-05-17T14:04:53.269120Z",
     "start_time": "2025-05-17T14:04:53.264878Z"
    }
   },
   "cell_type": "code",
   "source": "df_weekday",
   "id": "8656e7102fbca659",
   "outputs": [
    {
     "data": {
      "text/plain": [
       "           Date    UK   CN  rate_diff\n",
       "0    2015-01-01  0.50  5.6      -5.10\n",
       "1    2015-01-02  0.50  5.6      -5.10\n",
       "2    2015-01-05  0.50  5.6      -5.10\n",
       "3    2015-01-06  0.50  5.6      -5.10\n",
       "4    2015-01-07  0.50  5.6      -5.10\n",
       "...         ...   ...  ...        ...\n",
       "2699 2025-05-07  4.25  3.1       1.15\n",
       "2700 2025-05-08  4.25  3.1       1.15\n",
       "2701 2025-05-09  4.25  3.1       1.15\n",
       "2702 2025-05-12  4.25  3.1       1.15\n",
       "2703 2025-05-13  4.25  3.1       1.15\n",
       "\n",
       "[2704 rows x 4 columns]"
      ],
      "text/html": [
       "<div>\n",
       "<style scoped>\n",
       "    .dataframe tbody tr th:only-of-type {\n",
       "        vertical-align: middle;\n",
       "    }\n",
       "\n",
       "    .dataframe tbody tr th {\n",
       "        vertical-align: top;\n",
       "    }\n",
       "\n",
       "    .dataframe thead th {\n",
       "        text-align: right;\n",
       "    }\n",
       "</style>\n",
       "<table border=\"1\" class=\"dataframe\">\n",
       "  <thead>\n",
       "    <tr style=\"text-align: right;\">\n",
       "      <th></th>\n",
       "      <th>Date</th>\n",
       "      <th>UK</th>\n",
       "      <th>CN</th>\n",
       "      <th>rate_diff</th>\n",
       "    </tr>\n",
       "  </thead>\n",
       "  <tbody>\n",
       "    <tr>\n",
       "      <th>0</th>\n",
       "      <td>2015-01-01</td>\n",
       "      <td>0.50</td>\n",
       "      <td>5.6</td>\n",
       "      <td>-5.10</td>\n",
       "    </tr>\n",
       "    <tr>\n",
       "      <th>1</th>\n",
       "      <td>2015-01-02</td>\n",
       "      <td>0.50</td>\n",
       "      <td>5.6</td>\n",
       "      <td>-5.10</td>\n",
       "    </tr>\n",
       "    <tr>\n",
       "      <th>2</th>\n",
       "      <td>2015-01-05</td>\n",
       "      <td>0.50</td>\n",
       "      <td>5.6</td>\n",
       "      <td>-5.10</td>\n",
       "    </tr>\n",
       "    <tr>\n",
       "      <th>3</th>\n",
       "      <td>2015-01-06</td>\n",
       "      <td>0.50</td>\n",
       "      <td>5.6</td>\n",
       "      <td>-5.10</td>\n",
       "    </tr>\n",
       "    <tr>\n",
       "      <th>4</th>\n",
       "      <td>2015-01-07</td>\n",
       "      <td>0.50</td>\n",
       "      <td>5.6</td>\n",
       "      <td>-5.10</td>\n",
       "    </tr>\n",
       "    <tr>\n",
       "      <th>...</th>\n",
       "      <td>...</td>\n",
       "      <td>...</td>\n",
       "      <td>...</td>\n",
       "      <td>...</td>\n",
       "    </tr>\n",
       "    <tr>\n",
       "      <th>2699</th>\n",
       "      <td>2025-05-07</td>\n",
       "      <td>4.25</td>\n",
       "      <td>3.1</td>\n",
       "      <td>1.15</td>\n",
       "    </tr>\n",
       "    <tr>\n",
       "      <th>2700</th>\n",
       "      <td>2025-05-08</td>\n",
       "      <td>4.25</td>\n",
       "      <td>3.1</td>\n",
       "      <td>1.15</td>\n",
       "    </tr>\n",
       "    <tr>\n",
       "      <th>2701</th>\n",
       "      <td>2025-05-09</td>\n",
       "      <td>4.25</td>\n",
       "      <td>3.1</td>\n",
       "      <td>1.15</td>\n",
       "    </tr>\n",
       "    <tr>\n",
       "      <th>2702</th>\n",
       "      <td>2025-05-12</td>\n",
       "      <td>4.25</td>\n",
       "      <td>3.1</td>\n",
       "      <td>1.15</td>\n",
       "    </tr>\n",
       "    <tr>\n",
       "      <th>2703</th>\n",
       "      <td>2025-05-13</td>\n",
       "      <td>4.25</td>\n",
       "      <td>3.1</td>\n",
       "      <td>1.15</td>\n",
       "    </tr>\n",
       "  </tbody>\n",
       "</table>\n",
       "<p>2704 rows × 4 columns</p>\n",
       "</div>"
      ]
     },
     "execution_count": 7,
     "metadata": {},
     "output_type": "execute_result"
    }
   ],
   "execution_count": 7
  },
  {
   "metadata": {
    "ExecuteTime": {
     "end_time": "2025-05-17T14:04:53.305436Z",
     "start_time": "2025-05-17T14:04:53.302964Z"
    }
   },
   "cell_type": "code",
   "source": [
    "missing_dates = df_weekday[~df_weekday['Date'].isin(er_df.index)]\n",
    "print(missing_dates['Date'].tail(10))"
   ],
   "id": "bdbd45c054eefd78",
   "outputs": [
    {
     "name": "stdout",
     "output_type": "stream",
     "text": [
      "658    2017-07-11\n",
      "750    2017-11-16\n",
      "2609   2025-01-01\n",
      "2686   2025-04-18\n",
      "2687   2025-04-21\n",
      "Name: Date, dtype: datetime64[ns]\n"
     ]
    }
   ],
   "execution_count": 8
  },
  {
   "metadata": {
    "ExecuteTime": {
     "end_time": "2025-05-17T14:04:53.332645Z",
     "start_time": "2025-05-17T14:04:53.328486Z"
    }
   },
   "cell_type": "code",
   "source": [
    "# 确保 Date 列格式一致\n",
    "df_weekday['Date'] = pd.to_datetime(df_weekday['Date']).dt.normalize()\n",
    "\n",
    "# 筛选 df_weekday 中仅保留那些出现在 er_df['Date'] 中的行\n",
    "df_weekday_aligned = df_weekday[df_weekday['Date'].isin(er_df.index)].copy()\n",
    "\n",
    "df_weekday_aligned = df_weekday_aligned.reset_index(drop=True)"
   ],
   "id": "fa3da0f626d0d011",
   "outputs": [],
   "execution_count": 9
  },
  {
   "metadata": {
    "ExecuteTime": {
     "end_time": "2025-05-17T14:04:53.340395Z",
     "start_time": "2025-05-17T14:04:53.336064Z"
    }
   },
   "cell_type": "code",
   "source": "df_weekday_aligned",
   "id": "dc6791a71e63a52b",
   "outputs": [
    {
     "data": {
      "text/plain": [
       "           Date    UK   CN  rate_diff\n",
       "0    2015-01-01  0.50  5.6      -5.10\n",
       "1    2015-01-02  0.50  5.6      -5.10\n",
       "2    2015-01-05  0.50  5.6      -5.10\n",
       "3    2015-01-06  0.50  5.6      -5.10\n",
       "4    2015-01-07  0.50  5.6      -5.10\n",
       "...         ...   ...  ...        ...\n",
       "2694 2025-05-07  4.25  3.1       1.15\n",
       "2695 2025-05-08  4.25  3.1       1.15\n",
       "2696 2025-05-09  4.25  3.1       1.15\n",
       "2697 2025-05-12  4.25  3.1       1.15\n",
       "2698 2025-05-13  4.25  3.1       1.15\n",
       "\n",
       "[2699 rows x 4 columns]"
      ],
      "text/html": [
       "<div>\n",
       "<style scoped>\n",
       "    .dataframe tbody tr th:only-of-type {\n",
       "        vertical-align: middle;\n",
       "    }\n",
       "\n",
       "    .dataframe tbody tr th {\n",
       "        vertical-align: top;\n",
       "    }\n",
       "\n",
       "    .dataframe thead th {\n",
       "        text-align: right;\n",
       "    }\n",
       "</style>\n",
       "<table border=\"1\" class=\"dataframe\">\n",
       "  <thead>\n",
       "    <tr style=\"text-align: right;\">\n",
       "      <th></th>\n",
       "      <th>Date</th>\n",
       "      <th>UK</th>\n",
       "      <th>CN</th>\n",
       "      <th>rate_diff</th>\n",
       "    </tr>\n",
       "  </thead>\n",
       "  <tbody>\n",
       "    <tr>\n",
       "      <th>0</th>\n",
       "      <td>2015-01-01</td>\n",
       "      <td>0.50</td>\n",
       "      <td>5.6</td>\n",
       "      <td>-5.10</td>\n",
       "    </tr>\n",
       "    <tr>\n",
       "      <th>1</th>\n",
       "      <td>2015-01-02</td>\n",
       "      <td>0.50</td>\n",
       "      <td>5.6</td>\n",
       "      <td>-5.10</td>\n",
       "    </tr>\n",
       "    <tr>\n",
       "      <th>2</th>\n",
       "      <td>2015-01-05</td>\n",
       "      <td>0.50</td>\n",
       "      <td>5.6</td>\n",
       "      <td>-5.10</td>\n",
       "    </tr>\n",
       "    <tr>\n",
       "      <th>3</th>\n",
       "      <td>2015-01-06</td>\n",
       "      <td>0.50</td>\n",
       "      <td>5.6</td>\n",
       "      <td>-5.10</td>\n",
       "    </tr>\n",
       "    <tr>\n",
       "      <th>4</th>\n",
       "      <td>2015-01-07</td>\n",
       "      <td>0.50</td>\n",
       "      <td>5.6</td>\n",
       "      <td>-5.10</td>\n",
       "    </tr>\n",
       "    <tr>\n",
       "      <th>...</th>\n",
       "      <td>...</td>\n",
       "      <td>...</td>\n",
       "      <td>...</td>\n",
       "      <td>...</td>\n",
       "    </tr>\n",
       "    <tr>\n",
       "      <th>2694</th>\n",
       "      <td>2025-05-07</td>\n",
       "      <td>4.25</td>\n",
       "      <td>3.1</td>\n",
       "      <td>1.15</td>\n",
       "    </tr>\n",
       "    <tr>\n",
       "      <th>2695</th>\n",
       "      <td>2025-05-08</td>\n",
       "      <td>4.25</td>\n",
       "      <td>3.1</td>\n",
       "      <td>1.15</td>\n",
       "    </tr>\n",
       "    <tr>\n",
       "      <th>2696</th>\n",
       "      <td>2025-05-09</td>\n",
       "      <td>4.25</td>\n",
       "      <td>3.1</td>\n",
       "      <td>1.15</td>\n",
       "    </tr>\n",
       "    <tr>\n",
       "      <th>2697</th>\n",
       "      <td>2025-05-12</td>\n",
       "      <td>4.25</td>\n",
       "      <td>3.1</td>\n",
       "      <td>1.15</td>\n",
       "    </tr>\n",
       "    <tr>\n",
       "      <th>2698</th>\n",
       "      <td>2025-05-13</td>\n",
       "      <td>4.25</td>\n",
       "      <td>3.1</td>\n",
       "      <td>1.15</td>\n",
       "    </tr>\n",
       "  </tbody>\n",
       "</table>\n",
       "<p>2699 rows × 4 columns</p>\n",
       "</div>"
      ]
     },
     "execution_count": 10,
     "metadata": {},
     "output_type": "execute_result"
    }
   ],
   "execution_count": 10
  },
  {
   "metadata": {
    "ExecuteTime": {
     "end_time": "2025-05-17T14:04:53.353117Z",
     "start_time": "2025-05-17T14:04:53.351250Z"
    }
   },
   "cell_type": "code",
   "source": "df_weekday_aligned.drop(['UK','CN'], axis=1, inplace=True)",
   "id": "61186da5812a285c",
   "outputs": [],
   "execution_count": 11
  },
  {
   "metadata": {
    "ExecuteTime": {
     "end_time": "2025-05-17T14:04:53.375173Z",
     "start_time": "2025-05-17T14:04:53.371974Z"
    }
   },
   "cell_type": "code",
   "source": [
    "er_mid = er_df['inverse'].reset_index(drop=True)\n",
    "er_mid"
   ],
   "id": "c6ba69c0b8bdb873",
   "outputs": [
    {
     "data": {
      "text/plain": [
       "0       9.669310\n",
       "1       9.677731\n",
       "2       9.531071\n",
       "3       9.492169\n",
       "4       9.394082\n",
       "          ...   \n",
       "2697    9.620287\n",
       "2698    9.493972\n",
       "2699    9.587820\n",
       "2700    9.560230\n",
       "2701    9.578544\n",
       "Name: inverse, Length: 2702, dtype: float64"
      ]
     },
     "execution_count": 12,
     "metadata": {},
     "output_type": "execute_result"
    }
   ],
   "execution_count": 12
  },
  {
   "metadata": {
    "ExecuteTime": {
     "end_time": "2025-05-17T14:04:53.400217Z",
     "start_time": "2025-05-17T14:04:53.396195Z"
    }
   },
   "cell_type": "code",
   "source": [
    "while len(df_weekday_aligned) < len(er_mid):\n",
    "    last_date = df_weekday_aligned['Date'].iloc[-1]\n",
    "    # 获取下一个工作日（跳过周末）\n",
    "    next_workday = pd.date_range(start=last_date + pd.Timedelta(days=1), periods=1, freq='B')[0]\n",
    "\n",
    "    new_row = {col: np.nan for col in df_weekday_aligned.columns}\n",
    "    new_row['Date'] = next_workday\n",
    "    new_row['rate_diff'] = 1.15\n",
    "\n",
    "    df_weekday_aligned = pd.concat([df_weekday_aligned, pd.DataFrame([new_row])], ignore_index=True)"
   ],
   "id": "e1bee81d9c3c3206",
   "outputs": [],
   "execution_count": 13
  },
  {
   "metadata": {
    "ExecuteTime": {
     "end_time": "2025-05-17T14:04:53.428277Z",
     "start_time": "2025-05-17T14:04:53.424050Z"
    }
   },
   "cell_type": "code",
   "source": [
    "df_weekday_aligned['ER'] = er_mid\n",
    "\n",
    "df_weekday_aligned"
   ],
   "id": "6873a4c0b932ce6a",
   "outputs": [
    {
     "data": {
      "text/plain": [
       "           Date  rate_diff        ER\n",
       "0    2015-01-01      -5.10  9.669310\n",
       "1    2015-01-02      -5.10  9.677731\n",
       "2    2015-01-05      -5.10  9.531071\n",
       "3    2015-01-06      -5.10  9.492169\n",
       "4    2015-01-07      -5.10  9.394082\n",
       "...         ...        ...       ...\n",
       "2697 2025-05-12       1.15  9.620287\n",
       "2698 2025-05-13       1.15  9.493972\n",
       "2699 2025-05-14       1.15  9.587820\n",
       "2700 2025-05-15       1.15  9.560230\n",
       "2701 2025-05-16       1.15  9.578544\n",
       "\n",
       "[2702 rows x 3 columns]"
      ],
      "text/html": [
       "<div>\n",
       "<style scoped>\n",
       "    .dataframe tbody tr th:only-of-type {\n",
       "        vertical-align: middle;\n",
       "    }\n",
       "\n",
       "    .dataframe tbody tr th {\n",
       "        vertical-align: top;\n",
       "    }\n",
       "\n",
       "    .dataframe thead th {\n",
       "        text-align: right;\n",
       "    }\n",
       "</style>\n",
       "<table border=\"1\" class=\"dataframe\">\n",
       "  <thead>\n",
       "    <tr style=\"text-align: right;\">\n",
       "      <th></th>\n",
       "      <th>Date</th>\n",
       "      <th>rate_diff</th>\n",
       "      <th>ER</th>\n",
       "    </tr>\n",
       "  </thead>\n",
       "  <tbody>\n",
       "    <tr>\n",
       "      <th>0</th>\n",
       "      <td>2015-01-01</td>\n",
       "      <td>-5.10</td>\n",
       "      <td>9.669310</td>\n",
       "    </tr>\n",
       "    <tr>\n",
       "      <th>1</th>\n",
       "      <td>2015-01-02</td>\n",
       "      <td>-5.10</td>\n",
       "      <td>9.677731</td>\n",
       "    </tr>\n",
       "    <tr>\n",
       "      <th>2</th>\n",
       "      <td>2015-01-05</td>\n",
       "      <td>-5.10</td>\n",
       "      <td>9.531071</td>\n",
       "    </tr>\n",
       "    <tr>\n",
       "      <th>3</th>\n",
       "      <td>2015-01-06</td>\n",
       "      <td>-5.10</td>\n",
       "      <td>9.492169</td>\n",
       "    </tr>\n",
       "    <tr>\n",
       "      <th>4</th>\n",
       "      <td>2015-01-07</td>\n",
       "      <td>-5.10</td>\n",
       "      <td>9.394082</td>\n",
       "    </tr>\n",
       "    <tr>\n",
       "      <th>...</th>\n",
       "      <td>...</td>\n",
       "      <td>...</td>\n",
       "      <td>...</td>\n",
       "    </tr>\n",
       "    <tr>\n",
       "      <th>2697</th>\n",
       "      <td>2025-05-12</td>\n",
       "      <td>1.15</td>\n",
       "      <td>9.620287</td>\n",
       "    </tr>\n",
       "    <tr>\n",
       "      <th>2698</th>\n",
       "      <td>2025-05-13</td>\n",
       "      <td>1.15</td>\n",
       "      <td>9.493972</td>\n",
       "    </tr>\n",
       "    <tr>\n",
       "      <th>2699</th>\n",
       "      <td>2025-05-14</td>\n",
       "      <td>1.15</td>\n",
       "      <td>9.587820</td>\n",
       "    </tr>\n",
       "    <tr>\n",
       "      <th>2700</th>\n",
       "      <td>2025-05-15</td>\n",
       "      <td>1.15</td>\n",
       "      <td>9.560230</td>\n",
       "    </tr>\n",
       "    <tr>\n",
       "      <th>2701</th>\n",
       "      <td>2025-05-16</td>\n",
       "      <td>1.15</td>\n",
       "      <td>9.578544</td>\n",
       "    </tr>\n",
       "  </tbody>\n",
       "</table>\n",
       "<p>2702 rows × 3 columns</p>\n",
       "</div>"
      ]
     },
     "execution_count": 14,
     "metadata": {},
     "output_type": "execute_result"
    }
   ],
   "execution_count": 14
  },
  {
   "metadata": {
    "ExecuteTime": {
     "end_time": "2025-05-17T14:04:53.453839Z",
     "start_time": "2025-05-17T14:04:53.450651Z"
    }
   },
   "cell_type": "code",
   "source": [
    "df_weekday_aligned['trade_war'] = 0\n",
    "df_weekday_aligned.loc[(df_weekday_aligned['Date'] >= '2018-03-22') & (df_weekday_aligned['Date'] <= '2018-12-01'), 'trade_war'] = 1\n",
    "df_weekday_aligned.loc[(df_weekday_aligned['Date'] >= '2025-02-01') & (df_weekday_aligned['Date'] <= '2025-05-12'), 'trade_war'] = 1"
   ],
   "id": "69c611ba44573f7",
   "outputs": [],
   "execution_count": 15
  },
  {
   "metadata": {
    "ExecuteTime": {
     "end_time": "2025-05-17T14:04:53.498701Z",
     "start_time": "2025-05-17T14:04:53.494618Z"
    }
   },
   "cell_type": "code",
   "source": "df_weekday_aligned",
   "id": "38b01600120b8a98",
   "outputs": [
    {
     "data": {
      "text/plain": [
       "           Date  rate_diff        ER  trade_war\n",
       "0    2015-01-01      -5.10  9.669310          0\n",
       "1    2015-01-02      -5.10  9.677731          0\n",
       "2    2015-01-05      -5.10  9.531071          0\n",
       "3    2015-01-06      -5.10  9.492169          0\n",
       "4    2015-01-07      -5.10  9.394082          0\n",
       "...         ...        ...       ...        ...\n",
       "2697 2025-05-12       1.15  9.620287          1\n",
       "2698 2025-05-13       1.15  9.493972          0\n",
       "2699 2025-05-14       1.15  9.587820          0\n",
       "2700 2025-05-15       1.15  9.560230          0\n",
       "2701 2025-05-16       1.15  9.578544          0\n",
       "\n",
       "[2702 rows x 4 columns]"
      ],
      "text/html": [
       "<div>\n",
       "<style scoped>\n",
       "    .dataframe tbody tr th:only-of-type {\n",
       "        vertical-align: middle;\n",
       "    }\n",
       "\n",
       "    .dataframe tbody tr th {\n",
       "        vertical-align: top;\n",
       "    }\n",
       "\n",
       "    .dataframe thead th {\n",
       "        text-align: right;\n",
       "    }\n",
       "</style>\n",
       "<table border=\"1\" class=\"dataframe\">\n",
       "  <thead>\n",
       "    <tr style=\"text-align: right;\">\n",
       "      <th></th>\n",
       "      <th>Date</th>\n",
       "      <th>rate_diff</th>\n",
       "      <th>ER</th>\n",
       "      <th>trade_war</th>\n",
       "    </tr>\n",
       "  </thead>\n",
       "  <tbody>\n",
       "    <tr>\n",
       "      <th>0</th>\n",
       "      <td>2015-01-01</td>\n",
       "      <td>-5.10</td>\n",
       "      <td>9.669310</td>\n",
       "      <td>0</td>\n",
       "    </tr>\n",
       "    <tr>\n",
       "      <th>1</th>\n",
       "      <td>2015-01-02</td>\n",
       "      <td>-5.10</td>\n",
       "      <td>9.677731</td>\n",
       "      <td>0</td>\n",
       "    </tr>\n",
       "    <tr>\n",
       "      <th>2</th>\n",
       "      <td>2015-01-05</td>\n",
       "      <td>-5.10</td>\n",
       "      <td>9.531071</td>\n",
       "      <td>0</td>\n",
       "    </tr>\n",
       "    <tr>\n",
       "      <th>3</th>\n",
       "      <td>2015-01-06</td>\n",
       "      <td>-5.10</td>\n",
       "      <td>9.492169</td>\n",
       "      <td>0</td>\n",
       "    </tr>\n",
       "    <tr>\n",
       "      <th>4</th>\n",
       "      <td>2015-01-07</td>\n",
       "      <td>-5.10</td>\n",
       "      <td>9.394082</td>\n",
       "      <td>0</td>\n",
       "    </tr>\n",
       "    <tr>\n",
       "      <th>...</th>\n",
       "      <td>...</td>\n",
       "      <td>...</td>\n",
       "      <td>...</td>\n",
       "      <td>...</td>\n",
       "    </tr>\n",
       "    <tr>\n",
       "      <th>2697</th>\n",
       "      <td>2025-05-12</td>\n",
       "      <td>1.15</td>\n",
       "      <td>9.620287</td>\n",
       "      <td>1</td>\n",
       "    </tr>\n",
       "    <tr>\n",
       "      <th>2698</th>\n",
       "      <td>2025-05-13</td>\n",
       "      <td>1.15</td>\n",
       "      <td>9.493972</td>\n",
       "      <td>0</td>\n",
       "    </tr>\n",
       "    <tr>\n",
       "      <th>2699</th>\n",
       "      <td>2025-05-14</td>\n",
       "      <td>1.15</td>\n",
       "      <td>9.587820</td>\n",
       "      <td>0</td>\n",
       "    </tr>\n",
       "    <tr>\n",
       "      <th>2700</th>\n",
       "      <td>2025-05-15</td>\n",
       "      <td>1.15</td>\n",
       "      <td>9.560230</td>\n",
       "      <td>0</td>\n",
       "    </tr>\n",
       "    <tr>\n",
       "      <th>2701</th>\n",
       "      <td>2025-05-16</td>\n",
       "      <td>1.15</td>\n",
       "      <td>9.578544</td>\n",
       "      <td>0</td>\n",
       "    </tr>\n",
       "  </tbody>\n",
       "</table>\n",
       "<p>2702 rows × 4 columns</p>\n",
       "</div>"
      ]
     },
     "execution_count": 16,
     "metadata": {},
     "output_type": "execute_result"
    }
   ],
   "execution_count": 16
  },
  {
   "cell_type": "code",
   "id": "initial_id",
   "metadata": {
    "collapsed": true,
    "ExecuteTime": {
     "end_time": "2025-05-17T14:04:53.525841Z",
     "start_time": "2025-05-17T14:04:53.522110Z"
    }
   },
   "source": [
    "lstm_df = df_weekday_aligned.dropna()\n",
    "\n",
    "lstm_df['Date'] = pd.to_datetime(lstm_df['Date'])  # 保证为 datetime 类型\n",
    "lstm_df = lstm_df.set_index('Date')  # 设置为 index"
   ],
   "outputs": [],
   "execution_count": 17
  },
  {
   "metadata": {
    "ExecuteTime": {
     "end_time": "2025-05-17T14:04:53.561141Z",
     "start_time": "2025-05-17T14:04:53.551875Z"
    }
   },
   "cell_type": "code",
   "source": [
    "np.random.seed(42)\n",
    "random.seed(42)\n",
    "os.environ['PYTHONHASHSEED'] = str(42)\n",
    "\n",
    "# 固定 TensorFlow 随机种子\n",
    "tf.random.set_seed(42)\n",
    "\n",
    "# 若用GPU，确保 TensorFlow 使用确定性算法\n",
    "# 注意：这会牺牲一定速度\n",
    "from tensorflow.keras import backend as K\n",
    "os.environ['TF_DETERMINISTIC_OPS'] = '1'"
   ],
   "id": "83a25333ac7c25ff",
   "outputs": [],
   "execution_count": 18
  },
  {
   "metadata": {
    "ExecuteTime": {
     "end_time": "2025-05-17T14:05:09.311700Z",
     "start_time": "2025-05-17T14:04:53.581006Z"
    }
   },
   "cell_type": "code",
   "source": [
    "# Split data into training and testing sets using 80/20 ratio\n",
    "split_idx = int(len(lstm_df) * 0.75)\n",
    "train_df = lstm_df.iloc[:split_idx]\n",
    "test_df = lstm_df.iloc[split_idx:]\n",
    "\n",
    "# Separate features (X) and target (y)\n",
    "X_train = train_df # 注意：这里只取特征列\n",
    "y_train = train_df['ER']\n",
    "X_test = test_df\n",
    "y_test = test_df['ER']\n",
    "\n",
    "# Normalize features and target using Min-Max scaling (fit on training data only)\n",
    "feature_scaler = MinMaxScaler()\n",
    "target_scaler = MinMaxScaler()\n",
    "X_train_scaled = feature_scaler.fit_transform(X_train)\n",
    "X_test_scaled = feature_scaler.transform(X_test)\n",
    "y_train_scaled = target_scaler.fit_transform(y_train.values.reshape(-1, 1))\n",
    "y_test_scaled = target_scaler.transform(y_test.values.reshape(-1, 1))\n",
    "\n",
    "# Prepare data for LSTM: create sequences of length `lookback` for each training example\n",
    "lookback = 12  # use past 12 months to predict the next month\n",
    "X_train_seq, y_train_seq = [], []\n",
    "for i in range(lookback, len(X_train_scaled)):\n",
    "    # sequence of `lookback` feature vectors\n",
    "    X_train_seq.append(X_train_scaled[i-lookback:i])\n",
    "    # target is the exchange rate at this time (one month ahead of last input month)\n",
    "    y_train_seq.append(y_train_scaled[i])\n",
    "X_train_seq = np.array(X_train_seq)\n",
    "y_train_seq = np.array(y_train_seq)\n",
    "\n",
    "# Prepare sequences for the test set (using preceding data for initial sequence)\n",
    "X_test_seq, y_test_seq = [], []\n",
    "# Concatenate train and test for sequence generation to include trailing train data in initial test sequences\n",
    "total_X = np.concatenate((X_train_scaled, X_test_scaled), axis=0)\n",
    "total_y = np.concatenate((y_train_scaled, y_test_scaled), axis=0)\n",
    "train_len = len(X_train_scaled)\n",
    "for i in range(train_len, len(total_X)):\n",
    "    if i < lookback:\n",
    "        continue  # skip until we have enough history\n",
    "    X_test_seq.append(total_X[i-lookback:i])\n",
    "    y_test_seq.append(total_y[i])\n",
    "X_test_seq = np.array(X_test_seq)\n",
    "y_test_seq = np.array(y_test_seq)\n",
    "\n",
    "# Build the LSTM model\n",
    "from keras.models import Sequential\n",
    "from keras.layers import LSTM, Dense, Dropout\n",
    "# 改进后的双层 LSTM 架构\n",
    "model = Sequential()\n",
    "model.add(LSTM(64, return_sequences=True, input_shape=(lookback, X_train_seq.shape[2])))\n",
    "model.add(Dropout(0.2))\n",
    "model.add(LSTM(32))\n",
    "model.add(Dense(1))\n",
    "\n",
    "# 别忘了这一步！！\n",
    "model.compile(optimizer='adam', loss='mean_squared_error')\n",
    "\n",
    "# 然后再训练\n",
    "history = model.fit(X_train_seq, y_train_seq, epochs=50, batch_size=16, validation_split=0.1, verbose=1)"
   ],
   "id": "3d53b9a0387b5b76",
   "outputs": [
    {
     "name": "stdout",
     "output_type": "stream",
     "text": [
      "Epoch 1/50\n"
     ]
    },
    {
     "name": "stderr",
     "output_type": "stream",
     "text": [
      "/Users/loki/PycharmProjects/PythonProject5/.venv/lib/python3.9/site-packages/keras/src/layers/rnn/rnn.py:200: UserWarning: Do not pass an `input_shape`/`input_dim` argument to a layer. When using Sequential models, prefer using an `Input(shape)` object as the first layer in the model instead.\n",
      "  super().__init__(**kwargs)\n",
      "2025-05-17 15:04:53.641233: E tensorflow/core/framework/node_def_util.cc:680] NodeDef mentions attribute use_unbounded_threadpool which is not in the op definition: Op<name=MapDataset; signature=input_dataset:variant, other_arguments: -> handle:variant; attr=f:func; attr=Targuments:list(type),min=0; attr=output_types:list(type),min=1; attr=output_shapes:list(shape),min=1; attr=use_inter_op_parallelism:bool,default=true; attr=preserve_cardinality:bool,default=false; attr=force_synchronous:bool,default=false; attr=metadata:string,default=\"\"> This may be expected if your graph generating binary is newer  than this binary. Unknown attributes will be ignored. NodeDef: {{node ParallelMapDatasetV2/_15}}\n",
      "2025-05-17 15:04:53.641499: E tensorflow/core/framework/node_def_util.cc:680] NodeDef mentions attribute use_unbounded_threadpool which is not in the op definition: Op<name=MapDataset; signature=input_dataset:variant, other_arguments: -> handle:variant; attr=f:func; attr=Targuments:list(type),min=0; attr=output_types:list(type),min=1; attr=output_shapes:list(shape),min=1; attr=use_inter_op_parallelism:bool,default=true; attr=preserve_cardinality:bool,default=false; attr=force_synchronous:bool,default=false; attr=metadata:string,default=\"\"> This may be expected if your graph generating binary is newer  than this binary. Unknown attributes will be ignored. NodeDef: {{node ParallelMapDatasetV2/_15}}\n"
     ]
    },
    {
     "name": "stdout",
     "output_type": "stream",
     "text": [
      "\u001B[1m114/114\u001B[0m \u001B[32m━━━━━━━━━━━━━━━━━━━━\u001B[0m\u001B[37m\u001B[0m \u001B[1m1s\u001B[0m 3ms/step - loss: 0.0604 - val_loss: 0.0032\n",
      "Epoch 2/50\n",
      "\u001B[1m114/114\u001B[0m \u001B[32m━━━━━━━━━━━━━━━━━━━━\u001B[0m\u001B[37m\u001B[0m \u001B[1m0s\u001B[0m 3ms/step - loss: 0.0029 - val_loss: 0.0040\n",
      "Epoch 3/50\n",
      "\u001B[1m114/114\u001B[0m \u001B[32m━━━━━━━━━━━━━━━━━━━━\u001B[0m\u001B[37m\u001B[0m \u001B[1m0s\u001B[0m 2ms/step - loss: 0.0029 - val_loss: 0.0049\n",
      "Epoch 4/50\n",
      "\u001B[1m114/114\u001B[0m \u001B[32m━━━━━━━━━━━━━━━━━━━━\u001B[0m\u001B[37m\u001B[0m \u001B[1m0s\u001B[0m 3ms/step - loss: 0.0026 - val_loss: 0.0028\n",
      "Epoch 5/50\n",
      "\u001B[1m114/114\u001B[0m \u001B[32m━━━━━━━━━━━━━━━━━━━━\u001B[0m\u001B[37m\u001B[0m \u001B[1m0s\u001B[0m 3ms/step - loss: 0.0022 - val_loss: 0.0031\n",
      "Epoch 6/50\n",
      "\u001B[1m114/114\u001B[0m \u001B[32m━━━━━━━━━━━━━━━━━━━━\u001B[0m\u001B[37m\u001B[0m \u001B[1m0s\u001B[0m 3ms/step - loss: 0.0022 - val_loss: 0.0026\n",
      "Epoch 7/50\n",
      "\u001B[1m114/114\u001B[0m \u001B[32m━━━━━━━━━━━━━━━━━━━━\u001B[0m\u001B[37m\u001B[0m \u001B[1m0s\u001B[0m 3ms/step - loss: 0.0022 - val_loss: 0.0027\n",
      "Epoch 8/50\n",
      "\u001B[1m114/114\u001B[0m \u001B[32m━━━━━━━━━━━━━━━━━━━━\u001B[0m\u001B[37m\u001B[0m \u001B[1m0s\u001B[0m 3ms/step - loss: 0.0021 - val_loss: 0.0023\n",
      "Epoch 9/50\n",
      "\u001B[1m114/114\u001B[0m \u001B[32m━━━━━━━━━━━━━━━━━━━━\u001B[0m\u001B[37m\u001B[0m \u001B[1m0s\u001B[0m 3ms/step - loss: 0.0019 - val_loss: 0.0020\n",
      "Epoch 10/50\n",
      "\u001B[1m114/114\u001B[0m \u001B[32m━━━━━━━━━━━━━━━━━━━━\u001B[0m\u001B[37m\u001B[0m \u001B[1m0s\u001B[0m 3ms/step - loss: 0.0018 - val_loss: 0.0013\n",
      "Epoch 11/50\n",
      "\u001B[1m114/114\u001B[0m \u001B[32m━━━━━━━━━━━━━━━━━━━━\u001B[0m\u001B[37m\u001B[0m \u001B[1m0s\u001B[0m 3ms/step - loss: 0.0015 - val_loss: 0.0019\n",
      "Epoch 12/50\n",
      "\u001B[1m114/114\u001B[0m \u001B[32m━━━━━━━━━━━━━━━━━━━━\u001B[0m\u001B[37m\u001B[0m \u001B[1m0s\u001B[0m 3ms/step - loss: 0.0016 - val_loss: 0.0015\n",
      "Epoch 13/50\n",
      "\u001B[1m114/114\u001B[0m \u001B[32m━━━━━━━━━━━━━━━━━━━━\u001B[0m\u001B[37m\u001B[0m \u001B[1m0s\u001B[0m 3ms/step - loss: 0.0015 - val_loss: 0.0014\n",
      "Epoch 14/50\n",
      "\u001B[1m114/114\u001B[0m \u001B[32m━━━━━━━━━━━━━━━━━━━━\u001B[0m\u001B[37m\u001B[0m \u001B[1m0s\u001B[0m 3ms/step - loss: 0.0014 - val_loss: 0.0012\n",
      "Epoch 15/50\n",
      "\u001B[1m114/114\u001B[0m \u001B[32m━━━━━━━━━━━━━━━━━━━━\u001B[0m\u001B[37m\u001B[0m \u001B[1m0s\u001B[0m 3ms/step - loss: 0.0013 - val_loss: 0.0012\n",
      "Epoch 16/50\n",
      "\u001B[1m114/114\u001B[0m \u001B[32m━━━━━━━━━━━━━━━━━━━━\u001B[0m\u001B[37m\u001B[0m \u001B[1m0s\u001B[0m 3ms/step - loss: 0.0012 - val_loss: 0.0015\n",
      "Epoch 17/50\n",
      "\u001B[1m114/114\u001B[0m \u001B[32m━━━━━━━━━━━━━━━━━━━━\u001B[0m\u001B[37m\u001B[0m \u001B[1m0s\u001B[0m 3ms/step - loss: 0.0012 - val_loss: 0.0014\n",
      "Epoch 18/50\n",
      "\u001B[1m114/114\u001B[0m \u001B[32m━━━━━━━━━━━━━━━━━━━━\u001B[0m\u001B[37m\u001B[0m \u001B[1m0s\u001B[0m 3ms/step - loss: 0.0012 - val_loss: 0.0019\n",
      "Epoch 19/50\n",
      "\u001B[1m114/114\u001B[0m \u001B[32m━━━━━━━━━━━━━━━━━━━━\u001B[0m\u001B[37m\u001B[0m \u001B[1m0s\u001B[0m 3ms/step - loss: 0.0012 - val_loss: 0.0015\n",
      "Epoch 20/50\n",
      "\u001B[1m114/114\u001B[0m \u001B[32m━━━━━━━━━━━━━━━━━━━━\u001B[0m\u001B[37m\u001B[0m \u001B[1m0s\u001B[0m 3ms/step - loss: 0.0011 - val_loss: 0.0014\n",
      "Epoch 21/50\n",
      "\u001B[1m114/114\u001B[0m \u001B[32m━━━━━━━━━━━━━━━━━━━━\u001B[0m\u001B[37m\u001B[0m \u001B[1m0s\u001B[0m 3ms/step - loss: 0.0011 - val_loss: 0.0010\n",
      "Epoch 22/50\n",
      "\u001B[1m114/114\u001B[0m \u001B[32m━━━━━━━━━━━━━━━━━━━━\u001B[0m\u001B[37m\u001B[0m \u001B[1m0s\u001B[0m 3ms/step - loss: 9.3824e-04 - val_loss: 0.0012\n",
      "Epoch 23/50\n",
      "\u001B[1m114/114\u001B[0m \u001B[32m━━━━━━━━━━━━━━━━━━━━\u001B[0m\u001B[37m\u001B[0m \u001B[1m0s\u001B[0m 3ms/step - loss: 9.9083e-04 - val_loss: 9.9942e-04\n",
      "Epoch 24/50\n",
      "\u001B[1m114/114\u001B[0m \u001B[32m━━━━━━━━━━━━━━━━━━━━\u001B[0m\u001B[37m\u001B[0m \u001B[1m0s\u001B[0m 3ms/step - loss: 8.9438e-04 - val_loss: 0.0013\n",
      "Epoch 25/50\n",
      "\u001B[1m114/114\u001B[0m \u001B[32m━━━━━━━━━━━━━━━━━━━━\u001B[0m\u001B[37m\u001B[0m \u001B[1m0s\u001B[0m 3ms/step - loss: 0.0011 - val_loss: 0.0011\n",
      "Epoch 26/50\n",
      "\u001B[1m114/114\u001B[0m \u001B[32m━━━━━━━━━━━━━━━━━━━━\u001B[0m\u001B[37m\u001B[0m \u001B[1m0s\u001B[0m 3ms/step - loss: 9.5222e-04 - val_loss: 7.8623e-04\n",
      "Epoch 27/50\n",
      "\u001B[1m114/114\u001B[0m \u001B[32m━━━━━━━━━━━━━━━━━━━━\u001B[0m\u001B[37m\u001B[0m \u001B[1m0s\u001B[0m 3ms/step - loss: 8.0501e-04 - val_loss: 8.3733e-04\n",
      "Epoch 28/50\n",
      "\u001B[1m114/114\u001B[0m \u001B[32m━━━━━━━━━━━━━━━━━━━━\u001B[0m\u001B[37m\u001B[0m \u001B[1m0s\u001B[0m 3ms/step - loss: 8.8027e-04 - val_loss: 8.9129e-04\n",
      "Epoch 29/50\n",
      "\u001B[1m114/114\u001B[0m \u001B[32m━━━━━━━━━━━━━━━━━━━━\u001B[0m\u001B[37m\u001B[0m \u001B[1m0s\u001B[0m 3ms/step - loss: 9.0368e-04 - val_loss: 6.2380e-04\n",
      "Epoch 30/50\n",
      "\u001B[1m114/114\u001B[0m \u001B[32m━━━━━━━━━━━━━━━━━━━━\u001B[0m\u001B[37m\u001B[0m \u001B[1m0s\u001B[0m 3ms/step - loss: 7.8254e-04 - val_loss: 8.5003e-04\n",
      "Epoch 31/50\n",
      "\u001B[1m114/114\u001B[0m \u001B[32m━━━━━━━━━━━━━━━━━━━━\u001B[0m\u001B[37m\u001B[0m \u001B[1m0s\u001B[0m 3ms/step - loss: 8.9469e-04 - val_loss: 7.2673e-04\n",
      "Epoch 32/50\n",
      "\u001B[1m114/114\u001B[0m \u001B[32m━━━━━━━━━━━━━━━━━━━━\u001B[0m\u001B[37m\u001B[0m \u001B[1m0s\u001B[0m 3ms/step - loss: 8.3333e-04 - val_loss: 7.1317e-04\n",
      "Epoch 33/50\n",
      "\u001B[1m114/114\u001B[0m \u001B[32m━━━━━━━━━━━━━━━━━━━━\u001B[0m\u001B[37m\u001B[0m \u001B[1m0s\u001B[0m 3ms/step - loss: 7.8156e-04 - val_loss: 9.0968e-04\n",
      "Epoch 34/50\n",
      "\u001B[1m114/114\u001B[0m \u001B[32m━━━━━━━━━━━━━━━━━━━━\u001B[0m\u001B[37m\u001B[0m \u001B[1m0s\u001B[0m 3ms/step - loss: 7.6589e-04 - val_loss: 7.8678e-04\n",
      "Epoch 35/50\n",
      "\u001B[1m114/114\u001B[0m \u001B[32m━━━━━━━━━━━━━━━━━━━━\u001B[0m\u001B[37m\u001B[0m \u001B[1m0s\u001B[0m 3ms/step - loss: 7.8039e-04 - val_loss: 8.2475e-04\n",
      "Epoch 36/50\n",
      "\u001B[1m114/114\u001B[0m \u001B[32m━━━━━━━━━━━━━━━━━━━━\u001B[0m\u001B[37m\u001B[0m \u001B[1m0s\u001B[0m 3ms/step - loss: 7.5274e-04 - val_loss: 6.3398e-04\n",
      "Epoch 37/50\n",
      "\u001B[1m114/114\u001B[0m \u001B[32m━━━━━━━━━━━━━━━━━━━━\u001B[0m\u001B[37m\u001B[0m \u001B[1m0s\u001B[0m 3ms/step - loss: 8.3616e-04 - val_loss: 8.3096e-04\n",
      "Epoch 38/50\n",
      "\u001B[1m114/114\u001B[0m \u001B[32m━━━━━━━━━━━━━━━━━━━━\u001B[0m\u001B[37m\u001B[0m \u001B[1m0s\u001B[0m 3ms/step - loss: 8.0953e-04 - val_loss: 6.6602e-04\n",
      "Epoch 39/50\n",
      "\u001B[1m114/114\u001B[0m \u001B[32m━━━━━━━━━━━━━━━━━━━━\u001B[0m\u001B[37m\u001B[0m \u001B[1m0s\u001B[0m 3ms/step - loss: 7.4111e-04 - val_loss: 7.7371e-04\n",
      "Epoch 40/50\n",
      "\u001B[1m114/114\u001B[0m \u001B[32m━━━━━━━━━━━━━━━━━━━━\u001B[0m\u001B[37m\u001B[0m \u001B[1m0s\u001B[0m 3ms/step - loss: 7.8507e-04 - val_loss: 0.0013\n",
      "Epoch 41/50\n",
      "\u001B[1m114/114\u001B[0m \u001B[32m━━━━━━━━━━━━━━━━━━━━\u001B[0m\u001B[37m\u001B[0m \u001B[1m0s\u001B[0m 3ms/step - loss: 7.4685e-04 - val_loss: 9.1502e-04\n",
      "Epoch 42/50\n",
      "\u001B[1m114/114\u001B[0m \u001B[32m━━━━━━━━━━━━━━━━━━━━\u001B[0m\u001B[37m\u001B[0m \u001B[1m0s\u001B[0m 3ms/step - loss: 7.3682e-04 - val_loss: 9.1671e-04\n",
      "Epoch 43/50\n",
      "\u001B[1m114/114\u001B[0m \u001B[32m━━━━━━━━━━━━━━━━━━━━\u001B[0m\u001B[37m\u001B[0m \u001B[1m0s\u001B[0m 3ms/step - loss: 7.6334e-04 - val_loss: 0.0013\n",
      "Epoch 44/50\n",
      "\u001B[1m114/114\u001B[0m \u001B[32m━━━━━━━━━━━━━━━━━━━━\u001B[0m\u001B[37m\u001B[0m \u001B[1m0s\u001B[0m 3ms/step - loss: 7.6474e-04 - val_loss: 7.5026e-04\n",
      "Epoch 45/50\n",
      "\u001B[1m114/114\u001B[0m \u001B[32m━━━━━━━━━━━━━━━━━━━━\u001B[0m\u001B[37m\u001B[0m \u001B[1m0s\u001B[0m 3ms/step - loss: 7.2647e-04 - val_loss: 7.5127e-04\n",
      "Epoch 46/50\n",
      "\u001B[1m114/114\u001B[0m \u001B[32m━━━━━━━━━━━━━━━━━━━━\u001B[0m\u001B[37m\u001B[0m \u001B[1m0s\u001B[0m 3ms/step - loss: 7.0660e-04 - val_loss: 6.6565e-04\n",
      "Epoch 47/50\n",
      "\u001B[1m114/114\u001B[0m \u001B[32m━━━━━━━━━━━━━━━━━━━━\u001B[0m\u001B[37m\u001B[0m \u001B[1m0s\u001B[0m 3ms/step - loss: 7.0183e-04 - val_loss: 8.6933e-04\n",
      "Epoch 48/50\n",
      "\u001B[1m114/114\u001B[0m \u001B[32m━━━━━━━━━━━━━━━━━━━━\u001B[0m\u001B[37m\u001B[0m \u001B[1m0s\u001B[0m 3ms/step - loss: 7.1879e-04 - val_loss: 8.6908e-04\n",
      "Epoch 49/50\n",
      "\u001B[1m114/114\u001B[0m \u001B[32m━━━━━━━━━━━━━━━━━━━━\u001B[0m\u001B[37m\u001B[0m \u001B[1m0s\u001B[0m 3ms/step - loss: 7.1332e-04 - val_loss: 5.7767e-04\n",
      "Epoch 50/50\n",
      "\u001B[1m114/114\u001B[0m \u001B[32m━━━━━━━━━━━━━━━━━━━━\u001B[0m\u001B[37m\u001B[0m \u001B[1m0s\u001B[0m 3ms/step - loss: 7.3284e-04 - val_loss: 8.7960e-04\n"
     ]
    }
   ],
   "execution_count": 19
  },
  {
   "metadata": {
    "ExecuteTime": {
     "end_time": "2025-05-17T14:05:09.626964Z",
     "start_time": "2025-05-17T14:05:09.331881Z"
    }
   },
   "cell_type": "code",
   "source": [
    "# Evaluate the model on the test set\n",
    "test_loss = model.evaluate(X_test_seq, y_test_seq, verbose=0)\n",
    "print(f\"Test MSE Loss: {test_loss:.6f}\")\n",
    "\n",
    "# Make predictions for the test period\n",
    "y_pred_scaled = model.predict(X_test_seq)\n",
    "# Inverse-transform the predictions back to original scale\n",
    "y_pred = target_scaler.inverse_transform(y_pred_scaled)\n",
    "y_actual = target_scaler.inverse_transform(y_test_seq)\n",
    "\n",
    "# Visualize the results: Actual vs Predicted exchange rate\n",
    "\n",
    "plt.figure(figsize=(8,5))\n",
    "plt.plot(y_actual, label='Actual CNY/GBP')\n",
    "plt.plot(y_pred, label='Predicted CNY/GBP')\n",
    "plt.title('Actual vs Predicted CNY/GBP Exchange Rate (Test Set)')\n",
    "plt.xlabel('Month')\n",
    "plt.ylabel('Exchange Rate (CNY per GBP)')\n",
    "plt.legend()\n",
    "plt.grid(True)\n",
    "plt.show()"
   ],
   "id": "84589ccc09358926",
   "outputs": [
    {
     "name": "stdout",
     "output_type": "stream",
     "text": [
      "Test MSE Loss: 0.000889\n",
      "\u001B[1m22/22\u001B[0m \u001B[32m━━━━━━━━━━━━━━━━━━━━\u001B[0m\u001B[37m\u001B[0m \u001B[1m0s\u001B[0m 4ms/step "
     ]
    },
    {
     "name": "stderr",
     "output_type": "stream",
     "text": [
      "2025-05-17 15:05:09.349780: E tensorflow/core/framework/node_def_util.cc:680] NodeDef mentions attribute use_unbounded_threadpool which is not in the op definition: Op<name=MapDataset; signature=input_dataset:variant, other_arguments: -> handle:variant; attr=f:func; attr=Targuments:list(type),min=0; attr=output_types:list(type),min=1; attr=output_shapes:list(shape),min=1; attr=use_inter_op_parallelism:bool,default=true; attr=preserve_cardinality:bool,default=false; attr=force_synchronous:bool,default=false; attr=metadata:string,default=\"\"> This may be expected if your graph generating binary is newer  than this binary. Unknown attributes will be ignored. NodeDef: {{node ParallelMapDatasetV2/_15}}\n",
      "2025-05-17 15:05:09.350073: E tensorflow/core/framework/node_def_util.cc:680] NodeDef mentions attribute use_unbounded_threadpool which is not in the op definition: Op<name=MapDataset; signature=input_dataset:variant, other_arguments: -> handle:variant; attr=f:func; attr=Targuments:list(type),min=0; attr=output_types:list(type),min=1; attr=output_shapes:list(shape),min=1; attr=use_inter_op_parallelism:bool,default=true; attr=preserve_cardinality:bool,default=false; attr=force_synchronous:bool,default=false; attr=metadata:string,default=\"\"> This may be expected if your graph generating binary is newer  than this binary. Unknown attributes will be ignored. NodeDef: {{node ParallelMapDatasetV2/_15}}\n"
     ]
    },
    {
     "name": "stdout",
     "output_type": "stream",
     "text": [
      "\u001B[1m22/22\u001B[0m \u001B[32m━━━━━━━━━━━━━━━━━━━━\u001B[0m\u001B[37m\u001B[0m \u001B[1m0s\u001B[0m 4ms/step\n"
     ]
    },
    {
     "data": {
      "text/plain": [
       "<Figure size 800x500 with 1 Axes>"
      ],
      "image/png": "[encoded data removed]"
     },
     "metadata": {},
     "output_type": "display_data"
    }
   ],
   "execution_count": 20
  },
  {
   "metadata": {
    "ExecuteTime": {
     "end_time": "2025-05-17T14:05:09.636447Z",
     "start_time": "2025-05-17T14:05:09.633057Z"
    }
   },
   "cell_type": "code",
   "source": [
    "pred_df = pd.DataFrame(y_pred)\n",
    "y_test = y_test.iloc[:-1]\n",
    "error_cal = pd.DataFrame({})\n",
    "error_cal['pred'] = pred_df\n",
    "y_mid = y_test.reset_index(drop=True)\n",
    "error_cal['actual'] = y_mid\n",
    "error_cal['error'] = error_cal['pred'] - error_cal['actual']"
   ],
   "id": "71cac1b566a18da5",
   "outputs": [],
   "execution_count": 21
  },
  {
   "metadata": {
    "ExecuteTime": {
     "end_time": "2025-05-17T14:05:09.664987Z",
     "start_time": "2025-05-17T14:05:09.661335Z"
    }
   },
   "cell_type": "code",
   "source": "error_cal",
   "id": "15158217ec8d9ee7",
   "outputs": [
    {
     "data": {
      "text/plain": [
       "         pred    actual     error\n",
       "0    8.007694  7.913834  0.093860\n",
       "1    7.985423  7.869988  0.115435\n",
       "2    7.956203  7.968191 -0.011988\n",
       "3    8.021517  8.136167 -0.114650\n",
       "4    8.182240  8.083356  0.098884\n",
       "..        ...       ...       ...\n",
       "671  9.585344  9.620287 -0.034943\n",
       "672  9.655064  9.493972  0.161092\n",
       "673  9.440050  9.587820 -0.147769\n",
       "674  9.665652  9.560230  0.105423\n",
       "675  9.591566       NaN       NaN\n",
       "\n",
       "[676 rows x 3 columns]"
      ],
      "text/html": [
       "<div>\n",
       "<style scoped>\n",
       "    .dataframe tbody tr th:only-of-type {\n",
       "        vertical-align: middle;\n",
       "    }\n",
       "\n",
       "    .dataframe tbody tr th {\n",
       "        vertical-align: top;\n",
       "    }\n",
       "\n",
       "    .dataframe thead th {\n",
       "        text-align: right;\n",
       "    }\n",
       "</style>\n",
       "<table border=\"1\" class=\"dataframe\">\n",
       "  <thead>\n",
       "    <tr style=\"text-align: right;\">\n",
       "      <th></th>\n",
       "      <th>pred</th>\n",
       "      <th>actual</th>\n",
       "      <th>error</th>\n",
       "    </tr>\n",
       "  </thead>\n",
       "  <tbody>\n",
       "    <tr>\n",
       "      <th>0</th>\n",
       "      <td>8.007694</td>\n",
       "      <td>7.913834</td>\n",
       "      <td>0.093860</td>\n",
       "    </tr>\n",
       "    <tr>\n",
       "      <th>1</th>\n",
       "      <td>7.985423</td>\n",
       "      <td>7.869988</td>\n",
       "      <td>0.115435</td>\n",
       "    </tr>\n",
       "    <tr>\n",
       "      <th>2</th>\n",
       "      <td>7.956203</td>\n",
       "      <td>7.968191</td>\n",
       "      <td>-0.011988</td>\n",
       "    </tr>\n",
       "    <tr>\n",
       "      <th>3</th>\n",
       "      <td>8.021517</td>\n",
       "      <td>8.136167</td>\n",
       "      <td>-0.114650</td>\n",
       "    </tr>\n",
       "    <tr>\n",
       "      <th>4</th>\n",
       "      <td>8.182240</td>\n",
       "      <td>8.083356</td>\n",
       "      <td>0.098884</td>\n",
       "    </tr>\n",
       "    <tr>\n",
       "      <th>...</th>\n",
       "      <td>...</td>\n",
       "      <td>...</td>\n",
       "      <td>...</td>\n",
       "    </tr>\n",
       "    <tr>\n",
       "      <th>671</th>\n",
       "      <td>9.585344</td>\n",
       "      <td>9.620287</td>\n",
       "      <td>-0.034943</td>\n",
       "    </tr>\n",
       "    <tr>\n",
       "      <th>672</th>\n",
       "      <td>9.655064</td>\n",
       "      <td>9.493972</td>\n",
       "      <td>0.161092</td>\n",
       "    </tr>\n",
       "    <tr>\n",
       "      <th>673</th>\n",
       "      <td>9.440050</td>\n",
       "      <td>9.587820</td>\n",
       "      <td>-0.147769</td>\n",
       "    </tr>\n",
       "    <tr>\n",
       "      <th>674</th>\n",
       "      <td>9.665652</td>\n",
       "      <td>9.560230</td>\n",
       "      <td>0.105423</td>\n",
       "    </tr>\n",
       "    <tr>\n",
       "      <th>675</th>\n",
       "      <td>9.591566</td>\n",
       "      <td>NaN</td>\n",
       "      <td>NaN</td>\n",
       "    </tr>\n",
       "  </tbody>\n",
       "</table>\n",
       "<p>676 rows × 3 columns</p>\n",
       "</div>"
      ]
     },
     "execution_count": 22,
     "metadata": {},
     "output_type": "execute_result"
    }
   ],
   "execution_count": 22
  },
  {
   "metadata": {
    "ExecuteTime": {
     "end_time": "2025-05-17T14:05:09.707904Z",
     "start_time": "2025-05-17T14:05:09.705162Z"
    }
   },
   "cell_type": "code",
   "source": [
    "# 计算实际值和预测值的变化趋势（相邻天数差）\n",
    "actual_diff = error_cal['actual'].diff()\n",
    "pred_diff = error_cal['pred'].diff()\n",
    "\n",
    "# 判断趋势是否一致（同为正或同为负 → 相乘大于0）\n",
    "trend_correct = (actual_diff * pred_diff) > 0\n",
    "\n",
    "# 去除第一个 NaN（因为 diff 会在第一行生成 NaN）\n",
    "trend_correct = trend_correct[1:-1]\n",
    "\n",
    "# 计算正确比例\n",
    "trend_accuracy = trend_correct.sum() / len(trend_correct)\n",
    "\n",
    "# 输出\n",
    "print(f\"📈 趋势判断正确的比例为: {trend_accuracy:.2%}\")\n"
   ],
   "id": "11eaad5fdc4f49ca",
   "outputs": [
    {
     "name": "stdout",
     "output_type": "stream",
     "text": [
      "📈 趋势判断正确的比例为: 48.96%\n"
     ]
    }
   ],
   "execution_count": 23
  },
  {
   "metadata": {
    "ExecuteTime": {
     "end_time": "2025-05-17T14:05:09.734921Z",
     "start_time": "2025-05-17T14:05:09.732410Z"
    }
   },
   "cell_type": "code",
   "source": [
    "threshold = 0.05\n",
    "proportion = (error_cal['error'].abs() > threshold).mean()\n",
    "\n",
    "print(f\"误差大于 0.05 的比例为：{proportion:.2%}\")"
   ],
   "id": "3c9f6218baf734b9",
   "outputs": [
    {
     "name": "stdout",
     "output_type": "stream",
     "text": [
      "误差大于 0.05 的比例为：33.58%\n"
     ]
    }
   ],
   "execution_count": 24
  },
  {
   "metadata": {},
   "cell_type": "markdown",
   "source": "## 使用全部数据进行训练，预测未来汇率",
   "id": "6f6b966c8f93add7"
  },
  {
   "metadata": {
    "ExecuteTime": {
     "end_time": "2025-05-17T14:05:29.484816Z",
     "start_time": "2025-05-17T14:05:09.738159Z"
    }
   },
   "cell_type": "code",
   "source": [
    "train_df = lstm_df\n",
    "\n",
    "X_train_all = train_df\n",
    "y_train_all = train_df['ER']\n",
    "\n",
    "# Normalize features and target using Min-Max scaling (fit on training data only)\n",
    "feature_scaler = MinMaxScaler()\n",
    "target_scaler = MinMaxScaler()\n",
    "X_train_scaled_all = feature_scaler.fit_transform(X_train_all)\n",
    "y_train_scaled_all = target_scaler.fit_transform(y_train_all.values.reshape(-1, 1))\n",
    "\n",
    "# Prepare data for LSTM: create sequences of length `lookback` for each training example\n",
    "lookback = 12  # use past 12 months to predict the next month\n",
    "X_train_seq_all, y_train_seq_all = [], []\n",
    "for i in range(lookback, len(X_train_scaled_all)):\n",
    "    # sequence of `lookback` feature vectors\n",
    "    X_train_seq_all.append(X_train_scaled_all[i-lookback:i])\n",
    "    # target is the exchange rate at this time (one month ahead of last input month)\n",
    "    y_train_seq_all.append(y_train_scaled_all[i])\n",
    "X_train_seq_all = np.array(X_train_seq_all)\n",
    "y_train_seq_all = np.array(y_train_seq_all)\n",
    "\n",
    "# Build the LSTM model\n",
    "from keras.models import Sequential\n",
    "from keras.layers import LSTM, Dense, Dropout\n",
    "# 改进后的双层 LSTM 架构\n",
    "model_all = Sequential()\n",
    "model_all.add(LSTM(64, return_sequences=True, input_shape=(lookback, X_train_seq_all.shape[2])))\n",
    "model_all.add(Dropout(0.2))\n",
    "model_all.add(LSTM(32))\n",
    "model_all.add(Dense(1))\n",
    "\n",
    "# 别忘了这一步！！\n",
    "model_all.compile(optimizer='adam', loss='mean_squared_error')\n",
    "\n",
    "# 然后再训练\n",
    "history = model_all.fit(X_train_seq_all, y_train_seq_all, epochs=50, batch_size=16, validation_split=0.1, verbose=1)"
   ],
   "id": "b9e28140d54747",
   "outputs": [
    {
     "name": "stdout",
     "output_type": "stream",
     "text": [
      "Epoch 1/50\n"
     ]
    },
    {
     "name": "stderr",
     "output_type": "stream",
     "text": [
      "/Users/loki/PycharmProjects/PythonProject5/.venv/lib/python3.9/site-packages/keras/src/layers/rnn/rnn.py:200: UserWarning: Do not pass an `input_shape`/`input_dim` argument to a layer. When using Sequential models, prefer using an `Input(shape)` object as the first layer in the model instead.\n",
      "  super().__init__(**kwargs)\n"
     ]
    },
    {
     "name": "stdout",
     "output_type": "stream",
     "text": [
      "\u001B[1m152/152\u001B[0m \u001B[32m━━━━━━━━━━━━━━━━━━━━\u001B[0m\u001B[37m\u001B[0m \u001B[1m1s\u001B[0m 3ms/step - loss: 0.0310 - val_loss: 0.0023\n",
      "Epoch 2/50\n",
      "\u001B[1m152/152\u001B[0m \u001B[32m━━━━━━━━━━━━━━━━━━━━\u001B[0m\u001B[37m\u001B[0m \u001B[1m0s\u001B[0m 2ms/step - loss: 0.0024 - val_loss: 0.0019\n",
      "Epoch 3/50\n",
      "\u001B[1m152/152\u001B[0m \u001B[32m━━━━━━━━━━━━━━━━━━━━\u001B[0m\u001B[37m\u001B[0m \u001B[1m0s\u001B[0m 2ms/step - loss: 0.0023 - val_loss: 0.0017\n",
      "Epoch 4/50\n",
      "\u001B[1m152/152\u001B[0m \u001B[32m━━━━━━━━━━━━━━━━━━━━\u001B[0m\u001B[37m\u001B[0m \u001B[1m0s\u001B[0m 2ms/step - loss: 0.0022 - val_loss: 0.0014\n",
      "Epoch 5/50\n",
      "\u001B[1m152/152\u001B[0m \u001B[32m━━━━━━━━━━━━━━━━━━━━\u001B[0m\u001B[37m\u001B[0m \u001B[1m0s\u001B[0m 2ms/step - loss: 0.0022 - val_loss: 0.0017\n",
      "Epoch 6/50\n",
      "\u001B[1m152/152\u001B[0m \u001B[32m━━━━━━━━━━━━━━━━━━━━\u001B[0m\u001B[37m\u001B[0m \u001B[1m0s\u001B[0m 2ms/step - loss: 0.0019 - val_loss: 0.0017\n",
      "Epoch 7/50\n",
      "\u001B[1m152/152\u001B[0m \u001B[32m━━━━━━━━━━━━━━━━━━━━\u001B[0m\u001B[37m\u001B[0m \u001B[1m0s\u001B[0m 2ms/step - loss: 0.0017 - val_loss: 0.0013\n",
      "Epoch 8/50\n",
      "\u001B[1m152/152\u001B[0m \u001B[32m━━━━━━━━━━━━━━━━━━━━\u001B[0m\u001B[37m\u001B[0m \u001B[1m0s\u001B[0m 2ms/step - loss: 0.0017 - val_loss: 0.0013\n",
      "Epoch 9/50\n",
      "\u001B[1m152/152\u001B[0m \u001B[32m━━━━━━━━━━━━━━━━━━━━\u001B[0m\u001B[37m\u001B[0m \u001B[1m0s\u001B[0m 2ms/step - loss: 0.0016 - val_loss: 0.0014\n",
      "Epoch 10/50\n",
      "\u001B[1m152/152\u001B[0m \u001B[32m━━━━━━━━━━━━━━━━━━━━\u001B[0m\u001B[37m\u001B[0m \u001B[1m0s\u001B[0m 2ms/step - loss: 0.0016 - val_loss: 0.0011\n",
      "Epoch 11/50\n",
      "\u001B[1m152/152\u001B[0m \u001B[32m━━━━━━━━━━━━━━━━━━━━\u001B[0m\u001B[37m\u001B[0m \u001B[1m0s\u001B[0m 2ms/step - loss: 0.0014 - val_loss: 0.0010\n",
      "Epoch 12/50\n",
      "\u001B[1m152/152\u001B[0m \u001B[32m━━━━━━━━━━━━━━━━━━━━\u001B[0m\u001B[37m\u001B[0m \u001B[1m0s\u001B[0m 2ms/step - loss: 0.0013 - val_loss: 0.0010\n",
      "Epoch 13/50\n",
      "\u001B[1m152/152\u001B[0m \u001B[32m━━━━━━━━━━━━━━━━━━━━\u001B[0m\u001B[37m\u001B[0m \u001B[1m0s\u001B[0m 2ms/step - loss: 0.0013 - val_loss: 9.3392e-04\n",
      "Epoch 14/50\n",
      "\u001B[1m152/152\u001B[0m \u001B[32m━━━━━━━━━━━━━━━━━━━━\u001B[0m\u001B[37m\u001B[0m \u001B[1m0s\u001B[0m 2ms/step - loss: 0.0012 - val_loss: 9.3484e-04\n",
      "Epoch 15/50\n",
      "\u001B[1m152/152\u001B[0m \u001B[32m━━━━━━━━━━━━━━━━━━━━\u001B[0m\u001B[37m\u001B[0m \u001B[1m0s\u001B[0m 2ms/step - loss: 0.0011 - val_loss: 0.0010\n",
      "Epoch 16/50\n",
      "\u001B[1m152/152\u001B[0m \u001B[32m━━━━━━━━━━━━━━━━━━━━\u001B[0m\u001B[37m\u001B[0m \u001B[1m0s\u001B[0m 2ms/step - loss: 0.0011 - val_loss: 9.2817e-04\n",
      "Epoch 17/50\n",
      "\u001B[1m152/152\u001B[0m \u001B[32m━━━━━━━━━━━━━━━━━━━━\u001B[0m\u001B[37m\u001B[0m \u001B[1m0s\u001B[0m 2ms/step - loss: 0.0011 - val_loss: 9.9863e-04\n",
      "Epoch 18/50\n",
      "\u001B[1m152/152\u001B[0m \u001B[32m━━━━━━━━━━━━━━━━━━━━\u001B[0m\u001B[37m\u001B[0m \u001B[1m0s\u001B[0m 2ms/step - loss: 9.3438e-04 - val_loss: 0.0010\n",
      "Epoch 19/50\n",
      "\u001B[1m152/152\u001B[0m \u001B[32m━━━━━━━━━━━━━━━━━━━━\u001B[0m\u001B[37m\u001B[0m \u001B[1m0s\u001B[0m 2ms/step - loss: 0.0011 - val_loss: 0.0011\n",
      "Epoch 20/50\n",
      "\u001B[1m152/152\u001B[0m \u001B[32m━━━━━━━━━━━━━━━━━━━━\u001B[0m\u001B[37m\u001B[0m \u001B[1m0s\u001B[0m 2ms/step - loss: 9.9827e-04 - val_loss: 0.0011\n",
      "Epoch 21/50\n",
      "\u001B[1m152/152\u001B[0m \u001B[32m━━━━━━━━━━━━━━━━━━━━\u001B[0m\u001B[37m\u001B[0m \u001B[1m0s\u001B[0m 2ms/step - loss: 8.5532e-04 - val_loss: 0.0013\n",
      "Epoch 22/50\n",
      "\u001B[1m152/152\u001B[0m \u001B[32m━━━━━━━━━━━━━━━━━━━━\u001B[0m\u001B[37m\u001B[0m \u001B[1m0s\u001B[0m 2ms/step - loss: 8.8477e-04 - val_loss: 9.3208e-04\n",
      "Epoch 23/50\n",
      "\u001B[1m152/152\u001B[0m \u001B[32m━━━━━━━━━━━━━━━━━━━━\u001B[0m\u001B[37m\u001B[0m \u001B[1m0s\u001B[0m 2ms/step - loss: 8.2830e-04 - val_loss: 0.0011\n",
      "Epoch 24/50\n",
      "\u001B[1m152/152\u001B[0m \u001B[32m━━━━━━━━━━━━━━━━━━━━\u001B[0m\u001B[37m\u001B[0m \u001B[1m0s\u001B[0m 2ms/step - loss: 8.6759e-04 - val_loss: 0.0011\n",
      "Epoch 25/50\n",
      "\u001B[1m152/152\u001B[0m \u001B[32m━━━━━━━━━━━━━━━━━━━━\u001B[0m\u001B[37m\u001B[0m \u001B[1m0s\u001B[0m 3ms/step - loss: 7.5435e-04 - val_loss: 0.0012\n",
      "Epoch 26/50\n",
      "\u001B[1m152/152\u001B[0m \u001B[32m━━━━━━━━━━━━━━━━━━━━\u001B[0m\u001B[37m\u001B[0m \u001B[1m0s\u001B[0m 2ms/step - loss: 7.5480e-04 - val_loss: 9.5690e-04\n",
      "Epoch 27/50\n",
      "\u001B[1m152/152\u001B[0m \u001B[32m━━━━━━━━━━━━━━━━━━━━\u001B[0m\u001B[37m\u001B[0m \u001B[1m0s\u001B[0m 2ms/step - loss: 7.5261e-04 - val_loss: 0.0011\n",
      "Epoch 28/50\n",
      "\u001B[1m152/152\u001B[0m \u001B[32m━━━━━━━━━━━━━━━━━━━━\u001B[0m\u001B[37m\u001B[0m \u001B[1m0s\u001B[0m 2ms/step - loss: 7.5795e-04 - val_loss: 9.8734e-04\n",
      "Epoch 29/50\n",
      "\u001B[1m152/152\u001B[0m \u001B[32m━━━━━━━━━━━━━━━━━━━━\u001B[0m\u001B[37m\u001B[0m \u001B[1m0s\u001B[0m 2ms/step - loss: 7.4227e-04 - val_loss: 9.9706e-04\n",
      "Epoch 30/50\n",
      "\u001B[1m152/152\u001B[0m \u001B[32m━━━━━━━━━━━━━━━━━━━━\u001B[0m\u001B[37m\u001B[0m \u001B[1m0s\u001B[0m 2ms/step - loss: 7.5193e-04 - val_loss: 0.0011\n",
      "Epoch 31/50\n",
      "\u001B[1m152/152\u001B[0m \u001B[32m━━━━━━━━━━━━━━━━━━━━\u001B[0m\u001B[37m\u001B[0m \u001B[1m0s\u001B[0m 2ms/step - loss: 6.5233e-04 - val_loss: 0.0010\n",
      "Epoch 32/50\n",
      "\u001B[1m152/152\u001B[0m \u001B[32m━━━━━━━━━━━━━━━━━━━━\u001B[0m\u001B[37m\u001B[0m \u001B[1m0s\u001B[0m 2ms/step - loss: 6.6481e-04 - val_loss: 0.0010\n",
      "Epoch 33/50\n",
      "\u001B[1m152/152\u001B[0m \u001B[32m━━━━━━━━━━━━━━━━━━━━\u001B[0m\u001B[37m\u001B[0m \u001B[1m0s\u001B[0m 2ms/step - loss: 6.6583e-04 - val_loss: 0.0010\n",
      "Epoch 34/50\n",
      "\u001B[1m152/152\u001B[0m \u001B[32m━━━━━━━━━━━━━━━━━━━━\u001B[0m\u001B[37m\u001B[0m \u001B[1m0s\u001B[0m 2ms/step - loss: 7.9928e-04 - val_loss: 0.0011\n",
      "Epoch 35/50\n",
      "\u001B[1m152/152\u001B[0m \u001B[32m━━━━━━━━━━━━━━━━━━━━\u001B[0m\u001B[37m\u001B[0m \u001B[1m0s\u001B[0m 2ms/step - loss: 6.1027e-04 - val_loss: 0.0010\n",
      "Epoch 36/50\n",
      "\u001B[1m152/152\u001B[0m \u001B[32m━━━━━━━━━━━━━━━━━━━━\u001B[0m\u001B[37m\u001B[0m \u001B[1m0s\u001B[0m 2ms/step - loss: 6.2654e-04 - val_loss: 0.0010\n",
      "Epoch 37/50\n",
      "\u001B[1m152/152\u001B[0m \u001B[32m━━━━━━━━━━━━━━━━━━━━\u001B[0m\u001B[37m\u001B[0m \u001B[1m0s\u001B[0m 2ms/step - loss: 6.6290e-04 - val_loss: 0.0011\n",
      "Epoch 38/50\n",
      "\u001B[1m152/152\u001B[0m \u001B[32m━━━━━━━━━━━━━━━━━━━━\u001B[0m\u001B[37m\u001B[0m \u001B[1m0s\u001B[0m 2ms/step - loss: 6.5261e-04 - val_loss: 0.0011\n",
      "Epoch 39/50\n",
      "\u001B[1m152/152\u001B[0m \u001B[32m━━━━━━━━━━━━━━━━━━━━\u001B[0m\u001B[37m\u001B[0m \u001B[1m0s\u001B[0m 2ms/step - loss: 5.7972e-04 - val_loss: 0.0013\n",
      "Epoch 40/50\n",
      "\u001B[1m152/152\u001B[0m \u001B[32m━━━━━━━━━━━━━━━━━━━━\u001B[0m\u001B[37m\u001B[0m \u001B[1m0s\u001B[0m 2ms/step - loss: 7.1626e-04 - val_loss: 0.0016\n",
      "Epoch 41/50\n",
      "\u001B[1m152/152\u001B[0m \u001B[32m━━━━━━━━━━━━━━━━━━━━\u001B[0m\u001B[37m\u001B[0m \u001B[1m0s\u001B[0m 2ms/step - loss: 7.2003e-04 - val_loss: 0.0012\n",
      "Epoch 42/50\n",
      "\u001B[1m152/152\u001B[0m \u001B[32m━━━━━━━━━━━━━━━━━━━━\u001B[0m\u001B[37m\u001B[0m \u001B[1m0s\u001B[0m 2ms/step - loss: 5.7803e-04 - val_loss: 0.0013\n",
      "Epoch 43/50\n",
      "\u001B[1m152/152\u001B[0m \u001B[32m━━━━━━━━━━━━━━━━━━━━\u001B[0m\u001B[37m\u001B[0m \u001B[1m0s\u001B[0m 2ms/step - loss: 6.1365e-04 - val_loss: 0.0012\n",
      "Epoch 44/50\n",
      "\u001B[1m152/152\u001B[0m \u001B[32m━━━━━━━━━━━━━━━━━━━━\u001B[0m\u001B[37m\u001B[0m \u001B[1m0s\u001B[0m 2ms/step - loss: 6.3850e-04 - val_loss: 0.0012\n",
      "Epoch 45/50\n",
      "\u001B[1m152/152\u001B[0m \u001B[32m━━━━━━━━━━━━━━━━━━━━\u001B[0m\u001B[37m\u001B[0m \u001B[1m0s\u001B[0m 2ms/step - loss: 6.8425e-04 - val_loss: 0.0011\n",
      "Epoch 46/50\n",
      "\u001B[1m152/152\u001B[0m \u001B[32m━━━━━━━━━━━━━━━━━━━━\u001B[0m\u001B[37m\u001B[0m \u001B[1m0s\u001B[0m 2ms/step - loss: 6.2683e-04 - val_loss: 0.0014\n",
      "Epoch 47/50\n",
      "\u001B[1m152/152\u001B[0m \u001B[32m━━━━━━━━━━━━━━━━━━━━\u001B[0m\u001B[37m\u001B[0m \u001B[1m0s\u001B[0m 2ms/step - loss: 6.6159e-04 - val_loss: 0.0012\n",
      "Epoch 48/50\n",
      "\u001B[1m152/152\u001B[0m \u001B[32m━━━━━━━━━━━━━━━━━━━━\u001B[0m\u001B[37m\u001B[0m \u001B[1m0s\u001B[0m 2ms/step - loss: 6.2027e-04 - val_loss: 0.0011\n",
      "Epoch 49/50\n",
      "\u001B[1m152/152\u001B[0m \u001B[32m━━━━━━━━━━━━━━━━━━━━\u001B[0m\u001B[37m\u001B[0m \u001B[1m0s\u001B[0m 2ms/step - loss: 6.1873e-04 - val_loss: 0.0010\n",
      "Epoch 50/50\n",
      "\u001B[1m152/152\u001B[0m \u001B[32m━━━━━━━━━━━━━━━━━━━━\u001B[0m\u001B[37m\u001B[0m \u001B[1m0s\u001B[0m 2ms/step - loss: 5.5353e-04 - val_loss: 0.0012\n"
     ]
    }
   ],
   "execution_count": 25
  },
  {
   "metadata": {
    "ExecuteTime": {
     "end_time": "2025-05-17T14:05:29.605680Z",
     "start_time": "2025-05-17T14:05:29.511913Z"
    }
   },
   "cell_type": "code",
   "source": [
    "test_loss_all = model_all.evaluate(X_train_seq_all, y_train_seq_all, verbose=0)\n",
    "print(f\"Test MSE Loss: {test_loss_all:.6f}\")"
   ],
   "id": "dedb93aaba50ddb",
   "outputs": [
    {
     "name": "stdout",
     "output_type": "stream",
     "text": [
      "Test MSE Loss: 0.000773\n"
     ]
    },
    {
     "name": "stderr",
     "output_type": "stream",
     "text": [
      "2025-05-17 15:05:29.525756: E tensorflow/core/framework/node_def_util.cc:680] NodeDef mentions attribute use_unbounded_threadpool which is not in the op definition: Op<name=MapDataset; signature=input_dataset:variant, other_arguments: -> handle:variant; attr=f:func; attr=Targuments:list(type),min=0; attr=output_types:list(type),min=1; attr=output_shapes:list(shape),min=1; attr=use_inter_op_parallelism:bool,default=true; attr=preserve_cardinality:bool,default=false; attr=force_synchronous:bool,default=false; attr=metadata:string,default=\"\"> This may be expected if your graph generating binary is newer  than this binary. Unknown attributes will be ignored. NodeDef: {{node ParallelMapDatasetV2/_15}}\n",
      "2025-05-17 15:05:29.525945: E tensorflow/core/framework/node_def_util.cc:680] NodeDef mentions attribute use_unbounded_threadpool which is not in the op definition: Op<name=MapDataset; signature=input_dataset:variant, other_arguments: -> handle:variant; attr=f:func; attr=Targuments:list(type),min=0; attr=output_types:list(type),min=1; attr=output_shapes:list(shape),min=1; attr=use_inter_op_parallelism:bool,default=true; attr=preserve_cardinality:bool,default=false; attr=force_synchronous:bool,default=false; attr=metadata:string,default=\"\"> This may be expected if your graph generating binary is newer  than this binary. Unknown attributes will be ignored. NodeDef: {{node ParallelMapDatasetV2/_15}}\n"
     ]
    }
   ],
   "execution_count": 26
  },
  {
   "metadata": {
    "ExecuteTime": {
     "end_time": "2025-05-17T14:05:29.718408Z",
     "start_time": "2025-05-17T14:05:29.634254Z"
    }
   },
   "cell_type": "code",
   "source": [
    "recent_data = lstm_df.iloc[-lookback:]  # 最新 lookback 天的数据\n",
    "recent_scaled = feature_scaler.transform(recent_data)\n",
    "# 2. 重塑成 LSTM 所需的形状: (1, lookback, num_features)\n",
    "X_input = recent_scaled.reshape(1, lookback, recent_scaled.shape[1])\n",
    "\n",
    "# 3. 进行预测（预测的是缩放后的值）\n",
    "scaled_prediction = model_all.predict(X_input)[0][0]\n",
    "\n",
    "# 4. 反缩放，得到实际汇率预测值\n",
    "predicted_er = target_scaler.inverse_transform([[scaled_prediction]])[0][0]\n",
    "\n",
    "# 5. 输出\n",
    "print(f\"📈 预测明日的人民币/英镑汇率为：{predicted_er:.4f}\")"
   ],
   "id": "d6a1c189766cd351",
   "outputs": [
    {
     "name": "stdout",
     "output_type": "stream",
     "text": [
      "\u001B[1m1/1\u001B[0m \u001B[32m━━━━━━━━━━━━━━━━━━━━\u001B[0m\u001B[37m\u001B[0m \u001B[1m0s\u001B[0m 70ms/step\n",
      "📈 预测明日的人民币/英镑汇率为：9.5989\n"
     ]
    }
   ],
   "execution_count": 27
  }
 ],
 "metadata": {
  "kernelspec": {
   "display_name": "Python 3",
   "language": "python",
   "name": "python3"
  },
  "language_info": {
   "codemirror_mode": {
    "name": "ipython",
    "version": 2
   },
   "file_extension": ".py",
   "mimetype": "text/x-python",
   "name": "python",
   "nbconvert_exporter": "python",
   "pygments_lexer": "ipython2",
   "version": "2.7.6"
  }
 },
 "nbformat": 4,
 "nbformat_minor": 5
}
