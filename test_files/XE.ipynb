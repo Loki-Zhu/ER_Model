{
 "cells": [
  {
   "metadata": {},
   "cell_type": "markdown",
   "source": "# 基于XGBoost的短期汇率预测模型",
   "id": "c4dcd97cb8606d84"
  },
  {
   "metadata": {
    "ExecuteTime": {
     "end_time": "2025-05-24T19:11:52.498452Z",
     "start_time": "2025-05-24T19:11:50.923830Z"
    }
   },
   "cell_type": "code",
   "source": [
    "import xgboost as xgb\n",
    "from sklearn.metrics import mean_squared_error, mean_absolute_error\n",
    "import matplotlib.pyplot as plt\n",
    "from datetime import date\n",
    "import requests\n",
    "from requests.auth import HTTPBasicAuth\n",
    "import pandas as pd\n",
    "import numpy as np\n",
    "import requests\n",
    "from requests.auth import HTTPBasicAuth\n",
    "\n",
    "from datetime import datetime, timedelta\n",
    "import yfinance as yf\n",
    "import numpy as np\n",
    "import pandas as pd\n",
    "from sklearn.preprocessing import MinMaxScaler\n",
    "import torch\n",
    "from torch import nn\n",
    "from torch.utils.data import DataLoader, TensorDataset\n",
    "import matplotlib.pyplot as plt\n"
   ],
   "id": "440338e77c331162",
   "outputs": [
    {
     "name": "stderr",
     "output_type": "stream",
     "text": [
      "/Users/loki/PycharmProjects/PythonProject5/.venv/lib/python3.9/site-packages/urllib3/__init__.py:35: NotOpenSSLWarning: urllib3 v2 only supports OpenSSL 1.1.1+, currently the 'ssl' module is compiled with 'LibreSSL 2.8.3'. See: https://github.com/urllib3/urllib3/issues/3020\n",
      "  warnings.warn(\n"
     ]
    }
   ],
   "execution_count": 1
  },
  {
   "metadata": {},
   "cell_type": "markdown",
   "source": [
    "## 数据获取\n",
    "\n",
    "- yfinance库\n",
    "\n",
    "- 利率数据"
   ],
   "id": "8add07add76ded5a"
  },
  {
   "metadata": {
    "ExecuteTime": {
     "end_time": "2025-05-24T19:11:52.698246Z",
     "start_time": "2025-05-24T19:11:52.503093Z"
    }
   },
   "cell_type": "code",
   "source": [
    "# 获取人民币兑英镑汇率（Yahoo symbol: CNYGBP=X）\n",
    "data = yf.download(\"CNYGBP=X\", start=\"2015-01-01\", end=\"2025-05-14\")\n",
    "er_df = data[[\"Close\"]].rename(columns={\"Close\": \"CNY/GBP\"})\n",
    "display(er_df.head())"
   ],
   "id": "2e1140cd3f3170fe",
   "outputs": [
    {
     "name": "stderr",
     "output_type": "stream",
     "text": [
      "[*********************100%***********************]  1 of 1 completed"
     ]
    },
    {
     "name": "stdout",
     "output_type": "stream",
     "text": [
      "YF.download() has changed argument auto_adjust default to True\n"
     ]
    },
    {
     "name": "stderr",
     "output_type": "stream",
     "text": [
      "\n"
     ]
    },
    {
     "data": {
      "text/plain": [
       "Price       CNY/GBP\n",
       "Ticker     CNYGBP=X\n",
       "Date               \n",
       "2015-01-01  0.10342\n",
       "2015-01-02  0.10333\n",
       "2015-01-05  0.10492\n",
       "2015-01-06  0.10535\n",
       "2015-01-07  0.10645"
      ],
      "text/html": [
       "<div>\n",
       "<style scoped>\n",
       "    .dataframe tbody tr th:only-of-type {\n",
       "        vertical-align: middle;\n",
       "    }\n",
       "\n",
       "    .dataframe tbody tr th {\n",
       "        vertical-align: top;\n",
       "    }\n",
       "\n",
       "    .dataframe thead tr th {\n",
       "        text-align: left;\n",
       "    }\n",
       "\n",
       "    .dataframe thead tr:last-of-type th {\n",
       "        text-align: right;\n",
       "    }\n",
       "</style>\n",
       "<table border=\"1\" class=\"dataframe\">\n",
       "  <thead>\n",
       "    <tr>\n",
       "      <th>Price</th>\n",
       "      <th>CNY/GBP</th>\n",
       "    </tr>\n",
       "    <tr>\n",
       "      <th>Ticker</th>\n",
       "      <th>CNYGBP=X</th>\n",
       "    </tr>\n",
       "    <tr>\n",
       "      <th>Date</th>\n",
       "      <th></th>\n",
       "    </tr>\n",
       "  </thead>\n",
       "  <tbody>\n",
       "    <tr>\n",
       "      <th>2015-01-01</th>\n",
       "      <td>0.10342</td>\n",
       "    </tr>\n",
       "    <tr>\n",
       "      <th>2015-01-02</th>\n",
       "      <td>0.10333</td>\n",
       "    </tr>\n",
       "    <tr>\n",
       "      <th>2015-01-05</th>\n",
       "      <td>0.10492</td>\n",
       "    </tr>\n",
       "    <tr>\n",
       "      <th>2015-01-06</th>\n",
       "      <td>0.10535</td>\n",
       "    </tr>\n",
       "    <tr>\n",
       "      <th>2015-01-07</th>\n",
       "      <td>0.10645</td>\n",
       "    </tr>\n",
       "  </tbody>\n",
       "</table>\n",
       "</div>"
      ]
     },
     "metadata": {},
     "output_type": "display_data"
    }
   ],
   "execution_count": 2
  },
  {
   "metadata": {},
   "cell_type": "markdown",
   "source": "## 数据预处理",
   "id": "14359dd483415196"
  },
  {
   "metadata": {
    "ExecuteTime": {
     "end_time": "2025-05-24T19:11:52.762092Z",
     "start_time": "2025-05-24T19:11:52.758347Z"
    }
   },
   "cell_type": "code",
   "source": [
    "er_df['inverse'] = 1 / er_df['CNY/GBP', 'CNYGBP=X']\n",
    "er_df.head()"
   ],
   "id": "4789f8a41f10aa2a",
   "outputs": [
    {
     "data": {
      "text/plain": [
       "Price       CNY/GBP   inverse\n",
       "Ticker     CNYGBP=X          \n",
       "Date                         \n",
       "2015-01-01  0.10342  9.669310\n",
       "2015-01-02  0.10333  9.677731\n",
       "2015-01-05  0.10492  9.531071\n",
       "2015-01-06  0.10535  9.492169\n",
       "2015-01-07  0.10645  9.394082"
      ],
      "text/html": [
       "<div>\n",
       "<style scoped>\n",
       "    .dataframe tbody tr th:only-of-type {\n",
       "        vertical-align: middle;\n",
       "    }\n",
       "\n",
       "    .dataframe tbody tr th {\n",
       "        vertical-align: top;\n",
       "    }\n",
       "\n",
       "    .dataframe thead tr th {\n",
       "        text-align: left;\n",
       "    }\n",
       "\n",
       "    .dataframe thead tr:last-of-type th {\n",
       "        text-align: right;\n",
       "    }\n",
       "</style>\n",
       "<table border=\"1\" class=\"dataframe\">\n",
       "  <thead>\n",
       "    <tr>\n",
       "      <th>Price</th>\n",
       "      <th>CNY/GBP</th>\n",
       "      <th>inverse</th>\n",
       "    </tr>\n",
       "    <tr>\n",
       "      <th>Ticker</th>\n",
       "      <th>CNYGBP=X</th>\n",
       "      <th></th>\n",
       "    </tr>\n",
       "    <tr>\n",
       "      <th>Date</th>\n",
       "      <th></th>\n",
       "      <th></th>\n",
       "    </tr>\n",
       "  </thead>\n",
       "  <tbody>\n",
       "    <tr>\n",
       "      <th>2015-01-01</th>\n",
       "      <td>0.10342</td>\n",
       "      <td>9.669310</td>\n",
       "    </tr>\n",
       "    <tr>\n",
       "      <th>2015-01-02</th>\n",
       "      <td>0.10333</td>\n",
       "      <td>9.677731</td>\n",
       "    </tr>\n",
       "    <tr>\n",
       "      <th>2015-01-05</th>\n",
       "      <td>0.10492</td>\n",
       "      <td>9.531071</td>\n",
       "    </tr>\n",
       "    <tr>\n",
       "      <th>2015-01-06</th>\n",
       "      <td>0.10535</td>\n",
       "      <td>9.492169</td>\n",
       "    </tr>\n",
       "    <tr>\n",
       "      <th>2015-01-07</th>\n",
       "      <td>0.10645</td>\n",
       "      <td>9.394082</td>\n",
       "    </tr>\n",
       "  </tbody>\n",
       "</table>\n",
       "</div>"
      ]
     },
     "execution_count": 3,
     "metadata": {},
     "output_type": "execute_result"
    }
   ],
   "execution_count": 3
  },
  {
   "metadata": {
    "ExecuteTime": {
     "end_time": "2025-05-24T19:11:52.926812Z",
     "start_time": "2025-05-24T19:11:52.796761Z"
    }
   },
   "cell_type": "code",
   "source": [
    "policy_df = pd.read_excel(\"IR.xlsx\")\n",
    "policy_df['rate_diff'] = policy_df['UK'] - policy_df['CN']\n",
    "model_df = policy_df.copy()"
   ],
   "id": "daeac34c04a82ba3",
   "outputs": [],
   "execution_count": 4
  },
  {
   "metadata": {
    "ExecuteTime": {
     "end_time": "2025-05-24T19:11:52.949206Z",
     "start_time": "2025-05-24T19:11:52.946272Z"
    }
   },
   "cell_type": "code",
   "source": "er_df['inverse']",
   "id": "4464870b5b2ad574",
   "outputs": [
    {
     "data": {
      "text/plain": [
       "Date\n",
       "2015-01-01    9.669310\n",
       "2015-01-02    9.677731\n",
       "2015-01-05    9.531071\n",
       "2015-01-06    9.492169\n",
       "2015-01-07    9.394082\n",
       "                ...   \n",
       "2025-05-07    9.639391\n",
       "2025-05-08    9.603934\n",
       "2025-05-09    9.562058\n",
       "2025-05-12    9.620287\n",
       "2025-05-13    9.493972\n",
       "Name: inverse, Length: 2699, dtype: float64"
      ]
     },
     "execution_count": 5,
     "metadata": {},
     "output_type": "execute_result"
    }
   ],
   "execution_count": 5
  },
  {
   "metadata": {
    "ExecuteTime": {
     "end_time": "2025-05-24T19:11:52.977152Z",
     "start_time": "2025-05-24T19:11:52.972821Z"
    }
   },
   "cell_type": "code",
   "source": [
    "# 确保 Date 是 datetime 类型\n",
    "model_df['Date'] = pd.to_datetime(model_df['Date'])\n",
    "\n",
    "# 保留工作日（周一到周五）\n",
    "df_weekday = model_df[model_df['Date'].dt.dayofweek < 5].copy()\n",
    "\n",
    "# 按日期排序（可选）\n",
    "df_weekday = df_weekday.sort_values('Date').reset_index(drop=True)"
   ],
   "id": "ae3a4daa196e9a1a",
   "outputs": [],
   "execution_count": 6
  },
  {
   "metadata": {
    "ExecuteTime": {
     "end_time": "2025-05-24T19:11:53.015732Z",
     "start_time": "2025-05-24T19:11:53.010835Z"
    }
   },
   "cell_type": "code",
   "source": "df_weekday",
   "id": "db7d8f59ca56721",
   "outputs": [
    {
     "data": {
      "text/plain": [
       "           Date    UK   CN  rate_diff\n",
       "0    2015-01-01  0.50  5.6      -5.10\n",
       "1    2015-01-02  0.50  5.6      -5.10\n",
       "2    2015-01-05  0.50  5.6      -5.10\n",
       "3    2015-01-06  0.50  5.6      -5.10\n",
       "4    2015-01-07  0.50  5.6      -5.10\n",
       "...         ...   ...  ...        ...\n",
       "2699 2025-05-07  4.25  3.1       1.15\n",
       "2700 2025-05-08  4.25  3.1       1.15\n",
       "2701 2025-05-09  4.25  3.1       1.15\n",
       "2702 2025-05-12  4.25  3.1       1.15\n",
       "2703 2025-05-13  4.25  3.1       1.15\n",
       "\n",
       "[2704 rows x 4 columns]"
      ],
      "text/html": [
       "<div>\n",
       "<style scoped>\n",
       "    .dataframe tbody tr th:only-of-type {\n",
       "        vertical-align: middle;\n",
       "    }\n",
       "\n",
       "    .dataframe tbody tr th {\n",
       "        vertical-align: top;\n",
       "    }\n",
       "\n",
       "    .dataframe thead th {\n",
       "        text-align: right;\n",
       "    }\n",
       "</style>\n",
       "<table border=\"1\" class=\"dataframe\">\n",
       "  <thead>\n",
       "    <tr style=\"text-align: right;\">\n",
       "      <th></th>\n",
       "      <th>Date</th>\n",
       "      <th>UK</th>\n",
       "      <th>CN</th>\n",
       "      <th>rate_diff</th>\n",
       "    </tr>\n",
       "  </thead>\n",
       "  <tbody>\n",
       "    <tr>\n",
       "      <th>0</th>\n",
       "      <td>2015-01-01</td>\n",
       "      <td>0.50</td>\n",
       "      <td>5.6</td>\n",
       "      <td>-5.10</td>\n",
       "    </tr>\n",
       "    <tr>\n",
       "      <th>1</th>\n",
       "      <td>2015-01-02</td>\n",
       "      <td>0.50</td>\n",
       "      <td>5.6</td>\n",
       "      <td>-5.10</td>\n",
       "    </tr>\n",
       "    <tr>\n",
       "      <th>2</th>\n",
       "      <td>2015-01-05</td>\n",
       "      <td>0.50</td>\n",
       "      <td>5.6</td>\n",
       "      <td>-5.10</td>\n",
       "    </tr>\n",
       "    <tr>\n",
       "      <th>3</th>\n",
       "      <td>2015-01-06</td>\n",
       "      <td>0.50</td>\n",
       "      <td>5.6</td>\n",
       "      <td>-5.10</td>\n",
       "    </tr>\n",
       "    <tr>\n",
       "      <th>4</th>\n",
       "      <td>2015-01-07</td>\n",
       "      <td>0.50</td>\n",
       "      <td>5.6</td>\n",
       "      <td>-5.10</td>\n",
       "    </tr>\n",
       "    <tr>\n",
       "      <th>...</th>\n",
       "      <td>...</td>\n",
       "      <td>...</td>\n",
       "      <td>...</td>\n",
       "      <td>...</td>\n",
       "    </tr>\n",
       "    <tr>\n",
       "      <th>2699</th>\n",
       "      <td>2025-05-07</td>\n",
       "      <td>4.25</td>\n",
       "      <td>3.1</td>\n",
       "      <td>1.15</td>\n",
       "    </tr>\n",
       "    <tr>\n",
       "      <th>2700</th>\n",
       "      <td>2025-05-08</td>\n",
       "      <td>4.25</td>\n",
       "      <td>3.1</td>\n",
       "      <td>1.15</td>\n",
       "    </tr>\n",
       "    <tr>\n",
       "      <th>2701</th>\n",
       "      <td>2025-05-09</td>\n",
       "      <td>4.25</td>\n",
       "      <td>3.1</td>\n",
       "      <td>1.15</td>\n",
       "    </tr>\n",
       "    <tr>\n",
       "      <th>2702</th>\n",
       "      <td>2025-05-12</td>\n",
       "      <td>4.25</td>\n",
       "      <td>3.1</td>\n",
       "      <td>1.15</td>\n",
       "    </tr>\n",
       "    <tr>\n",
       "      <th>2703</th>\n",
       "      <td>2025-05-13</td>\n",
       "      <td>4.25</td>\n",
       "      <td>3.1</td>\n",
       "      <td>1.15</td>\n",
       "    </tr>\n",
       "  </tbody>\n",
       "</table>\n",
       "<p>2704 rows × 4 columns</p>\n",
       "</div>"
      ]
     },
     "execution_count": 7,
     "metadata": {},
     "output_type": "execute_result"
    }
   ],
   "execution_count": 7
  },
  {
   "metadata": {
    "ExecuteTime": {
     "end_time": "2025-05-24T19:11:53.098910Z",
     "start_time": "2025-05-24T19:11:53.096452Z"
    }
   },
   "cell_type": "code",
   "source": [
    "missing_dates = df_weekday[~df_weekday['Date'].isin(er_df.index)]\n",
    "print(missing_dates['Date'].tail(10))\n"
   ],
   "id": "1df382b848bd9a89",
   "outputs": [
    {
     "name": "stdout",
     "output_type": "stream",
     "text": [
      "658    2017-07-11\n",
      "750    2017-11-16\n",
      "2609   2025-01-01\n",
      "2686   2025-04-18\n",
      "2687   2025-04-21\n",
      "Name: Date, dtype: datetime64[ns]\n"
     ]
    }
   ],
   "execution_count": 8
  },
  {
   "metadata": {
    "ExecuteTime": {
     "end_time": "2025-05-24T19:11:53.125547Z",
     "start_time": "2025-05-24T19:11:53.121409Z"
    }
   },
   "cell_type": "code",
   "source": [
    "# 确保 Date 列格式一致\n",
    "df_weekday['Date'] = pd.to_datetime(df_weekday['Date']).dt.normalize()\n",
    "\n",
    "# 筛选 df_weekday 中仅保留那些出现在 er_df['Date'] 中的行\n",
    "df_weekday_aligned = df_weekday[df_weekday['Date'].isin(er_df.index)].copy()\n",
    "\n",
    "# 重置索引（可选）\n",
    "df_weekday_aligned = df_weekday_aligned.reset_index(drop=True)"
   ],
   "id": "ac8bb6330c698aae",
   "outputs": [],
   "execution_count": 9
  },
  {
   "metadata": {
    "ExecuteTime": {
     "end_time": "2025-05-24T19:11:53.132666Z",
     "start_time": "2025-05-24T19:11:53.130589Z"
    }
   },
   "cell_type": "code",
   "source": "er_mid = er_df['inverse'].reset_index(drop=True)\n",
   "id": "93f4f4eaa7361aad",
   "outputs": [],
   "execution_count": 10
  },
  {
   "metadata": {
    "ExecuteTime": {
     "end_time": "2025-05-24T19:11:53.160571Z",
     "start_time": "2025-05-24T19:11:53.155797Z"
    }
   },
   "cell_type": "code",
   "source": [
    "df_weekday_aligned['ER'] = er_mid\n",
    "df_weekday_aligned"
   ],
   "id": "cf2563dcc33a17ec",
   "outputs": [
    {
     "data": {
      "text/plain": [
       "           Date    UK   CN  rate_diff        ER\n",
       "0    2015-01-01  0.50  5.6      -5.10  9.669310\n",
       "1    2015-01-02  0.50  5.6      -5.10  9.677731\n",
       "2    2015-01-05  0.50  5.6      -5.10  9.531071\n",
       "3    2015-01-06  0.50  5.6      -5.10  9.492169\n",
       "4    2015-01-07  0.50  5.6      -5.10  9.394082\n",
       "...         ...   ...  ...        ...       ...\n",
       "2694 2025-05-07  4.25  3.1       1.15  9.639391\n",
       "2695 2025-05-08  4.25  3.1       1.15  9.603934\n",
       "2696 2025-05-09  4.25  3.1       1.15  9.562058\n",
       "2697 2025-05-12  4.25  3.1       1.15  9.620287\n",
       "2698 2025-05-13  4.25  3.1       1.15  9.493972\n",
       "\n",
       "[2699 rows x 5 columns]"
      ],
      "text/html": [
       "<div>\n",
       "<style scoped>\n",
       "    .dataframe tbody tr th:only-of-type {\n",
       "        vertical-align: middle;\n",
       "    }\n",
       "\n",
       "    .dataframe tbody tr th {\n",
       "        vertical-align: top;\n",
       "    }\n",
       "\n",
       "    .dataframe thead th {\n",
       "        text-align: right;\n",
       "    }\n",
       "</style>\n",
       "<table border=\"1\" class=\"dataframe\">\n",
       "  <thead>\n",
       "    <tr style=\"text-align: right;\">\n",
       "      <th></th>\n",
       "      <th>Date</th>\n",
       "      <th>UK</th>\n",
       "      <th>CN</th>\n",
       "      <th>rate_diff</th>\n",
       "      <th>ER</th>\n",
       "    </tr>\n",
       "  </thead>\n",
       "  <tbody>\n",
       "    <tr>\n",
       "      <th>0</th>\n",
       "      <td>2015-01-01</td>\n",
       "      <td>0.50</td>\n",
       "      <td>5.6</td>\n",
       "      <td>-5.10</td>\n",
       "      <td>9.669310</td>\n",
       "    </tr>\n",
       "    <tr>\n",
       "      <th>1</th>\n",
       "      <td>2015-01-02</td>\n",
       "      <td>0.50</td>\n",
       "      <td>5.6</td>\n",
       "      <td>-5.10</td>\n",
       "      <td>9.677731</td>\n",
       "    </tr>\n",
       "    <tr>\n",
       "      <th>2</th>\n",
       "      <td>2015-01-05</td>\n",
       "      <td>0.50</td>\n",
       "      <td>5.6</td>\n",
       "      <td>-5.10</td>\n",
       "      <td>9.531071</td>\n",
       "    </tr>\n",
       "    <tr>\n",
       "      <th>3</th>\n",
       "      <td>2015-01-06</td>\n",
       "      <td>0.50</td>\n",
       "      <td>5.6</td>\n",
       "      <td>-5.10</td>\n",
       "      <td>9.492169</td>\n",
       "    </tr>\n",
       "    <tr>\n",
       "      <th>4</th>\n",
       "      <td>2015-01-07</td>\n",
       "      <td>0.50</td>\n",
       "      <td>5.6</td>\n",
       "      <td>-5.10</td>\n",
       "      <td>9.394082</td>\n",
       "    </tr>\n",
       "    <tr>\n",
       "      <th>...</th>\n",
       "      <td>...</td>\n",
       "      <td>...</td>\n",
       "      <td>...</td>\n",
       "      <td>...</td>\n",
       "      <td>...</td>\n",
       "    </tr>\n",
       "    <tr>\n",
       "      <th>2694</th>\n",
       "      <td>2025-05-07</td>\n",
       "      <td>4.25</td>\n",
       "      <td>3.1</td>\n",
       "      <td>1.15</td>\n",
       "      <td>9.639391</td>\n",
       "    </tr>\n",
       "    <tr>\n",
       "      <th>2695</th>\n",
       "      <td>2025-05-08</td>\n",
       "      <td>4.25</td>\n",
       "      <td>3.1</td>\n",
       "      <td>1.15</td>\n",
       "      <td>9.603934</td>\n",
       "    </tr>\n",
       "    <tr>\n",
       "      <th>2696</th>\n",
       "      <td>2025-05-09</td>\n",
       "      <td>4.25</td>\n",
       "      <td>3.1</td>\n",
       "      <td>1.15</td>\n",
       "      <td>9.562058</td>\n",
       "    </tr>\n",
       "    <tr>\n",
       "      <th>2697</th>\n",
       "      <td>2025-05-12</td>\n",
       "      <td>4.25</td>\n",
       "      <td>3.1</td>\n",
       "      <td>1.15</td>\n",
       "      <td>9.620287</td>\n",
       "    </tr>\n",
       "    <tr>\n",
       "      <th>2698</th>\n",
       "      <td>2025-05-13</td>\n",
       "      <td>4.25</td>\n",
       "      <td>3.1</td>\n",
       "      <td>1.15</td>\n",
       "      <td>9.493972</td>\n",
       "    </tr>\n",
       "  </tbody>\n",
       "</table>\n",
       "<p>2699 rows × 5 columns</p>\n",
       "</div>"
      ]
     },
     "execution_count": 11,
     "metadata": {},
     "output_type": "execute_result"
    }
   ],
   "execution_count": 11
  },
  {
   "metadata": {},
   "cell_type": "markdown",
   "source": "## 模型构建",
   "id": "3f83dbdcf0c62c6"
  },
  {
   "metadata": {
    "ExecuteTime": {
     "end_time": "2025-05-24T19:11:53.193727Z",
     "start_time": "2025-05-24T19:11:53.188289Z"
    }
   },
   "cell_type": "code",
   "source": [
    "def recalculate_features(df):\n",
    "    df = df.copy()\n",
    "\n",
    "    # 滞后收益率\n",
    "    df['return_1'] = df['ER'].pct_change()\n",
    "    df['SMA_5'] = df['ER'].rolling(window=5).mean()\n",
    "    df['SMA_10'] = df['ER'].rolling(window=10).mean()\n",
    "    df['Momentum_5'] = df['ER'] - df['ER'].shift(5)\n",
    "    df['Volatility_5'] = df['return_1'].rolling(window=5).std()\n",
    "\n",
    "    df['SMA_diff'] = df['SMA_5'] - df['SMA_10']\n",
    "    df['price_SMA5_ratio'] = df['ER'] / df['SMA_5']\n",
    "    df['price_minus_SMA5'] = df['ER'] - df['SMA_5']\n",
    "\n",
    "    df['return_2'] = df['ER'].pct_change(2)\n",
    "    df['return_3'] = df['ER'].pct_change(3)\n",
    "\n",
    "    df['rolling_std_10'] = df['ER'].rolling(window=10).std()\n",
    "\n",
    "    df['vol_mom'] = df['Volatility_5'] * df['Momentum_5']\n",
    "    df['price_return_interact'] = df['price_minus_SMA5'] * df['return_1']\n",
    "\n",
    "    df['shock'] = (df['ER'].pct_change().abs() > 0.2).astype(int)\n",
    "\n",
    "    df['trade_war'] = 0\n",
    "    df.loc[(df['Date'] >= '2018-07-01') & (df['Date'] <= '2019-12-31'), 'trade_war'] = 1\n",
    "    df.loc[(df['Date'] >= '2025-04-02'), 'trade_war'] = 1\n",
    "\n",
    "    df['rolling_return'] = df['ER'].pct_change().rolling(3).sum()\n",
    "    df['shock_flag'] = (df['rolling_return'].abs() > 0.03).astype(int)\n",
    "\n",
    "    df['trend_5'] = df['ER'].rolling(window=5).apply(lambda x: np.polyfit(range(5), x, 1)[0], raw=True)\n",
    "\n",
    "    df.index = pd.to_datetime(df.index)\n",
    "\n",
    "    df['dayofweek'] = df.index.dayofweek\n",
    "    df['is_month_end'] = df.index.is_month_end.astype(int)\n",
    "\n",
    "    df['volatility_10'] = df['ER'].pct_change().rolling(window=10).std()\n",
    "    df['vol_spike'] = (df['volatility_10'] > df['volatility_10'].rolling(100).mean() + 2 * df['volatility_10'].rolling(100).std()).astype(int)\n",
    "\n",
    "\n",
    "    # RSI\n",
    "    delta = df['ER'].diff()\n",
    "    gain = delta.where(delta > 0, 0)\n",
    "    loss = -delta.where(delta < 0, 0)\n",
    "    avg_gain = gain.rolling(window=14).mean()\n",
    "    avg_loss = loss.rolling(window=14).mean()\n",
    "    rs = avg_gain / avg_loss\n",
    "    df['RSI_14'] = 100 - (100 / (1 + rs))\n",
    "\n",
    "    return df\n"
   ],
   "id": "7299c6dacd8a51eb",
   "outputs": [],
   "execution_count": 12
  },
  {
   "metadata": {
    "ExecuteTime": {
     "end_time": "2025-05-24T19:11:53.267689Z",
     "start_time": "2025-05-24T19:11:53.215400Z"
    }
   },
   "cell_type": "code",
   "source": [
    "df = df_weekday_aligned.copy()\n",
    "\n",
    "# 构造技术指标特征\n",
    "df['return_1'] = df['ER'].pct_change()\n",
    "df['SMA_5'] = df['ER'].rolling(window=5).mean()\n",
    "df['SMA_10'] = df['ER'].rolling(window=10).mean()\n",
    "df['Momentum_5'] = df['ER'] - df['ER'].shift(5)\n",
    "df['Volatility_5'] = df['return_1'].rolling(window=5).std()\n",
    "\n",
    "df['SMA_diff'] = df['SMA_5'] - df['SMA_10']\n",
    "df['price_SMA5_ratio'] = df['ER'] / df['SMA_5']\n",
    "df['price_minus_SMA5'] = df['ER'] - df['SMA_5']\n",
    "\n",
    "df['return_2'] = df['ER'].pct_change(2)\n",
    "df['return_3'] = df['ER'].pct_change(3)\n",
    "\n",
    "df['rolling_std_10'] = df['ER'].rolling(window=10).std()\n",
    "\n",
    "df['vol_mom'] = df['Volatility_5'] * df['Momentum_5']\n",
    "df['price_return_interact'] = df['price_minus_SMA5'] * df['return_1']\n",
    "\n",
    "df['shock'] = (df['ER'].pct_change().abs() > 0.2).astype(int)\n",
    "\n",
    "df['trade_war'] = 0\n",
    "df.loc[(df['Date'] >= '2018-07-01') & (df['Date'] <= '2019-12-31'), 'trade_war'] = 1\n",
    "df.loc[(df['Date'] >= '2025-04-02'), 'trade_war'] = 1\n",
    "\n",
    "df['rolling_return'] = df['ER'].pct_change().rolling(3).sum()\n",
    "df['shock_flag'] = (df['rolling_return'].abs() > 0.03).astype(int)\n",
    "\n",
    "df['trend_5'] = df['ER'].rolling(window=5).apply(lambda x: np.polyfit(range(5), x, 1)[0], raw=True)\n",
    "\n",
    "df.index = pd.to_datetime(df.index)\n",
    "\n",
    "df['dayofweek'] = df.index.dayofweek\n",
    "df['is_month_end'] = df.index.is_month_end.astype(int)\n",
    "\n",
    "df['volatility_10'] = df['ER'].pct_change().rolling(window=10).std()\n",
    "df['vol_spike'] = (df['volatility_10'] > df['volatility_10'].rolling(100).mean() + 2 * df['volatility_10'].rolling(100).std()).astype(int)\n",
    "\n",
    "\n",
    "\n"
   ],
   "id": "4d12b76867e34bfa",
   "outputs": [],
   "execution_count": 13
  },
  {
   "metadata": {
    "ExecuteTime": {
     "end_time": "2025-05-24T19:11:53.273462Z",
     "start_time": "2025-05-24T19:11:53.270012Z"
    }
   },
   "cell_type": "code",
   "source": [
    "# RSI\n",
    "delta = df['ER'].diff()\n",
    "gain = delta.where(delta > 0, 0)\n",
    "loss = -delta.where(delta < 0, 0)\n",
    "avg_gain = gain.rolling(window=14).mean()\n",
    "avg_loss = loss.rolling(window=14).mean()\n",
    "rs = avg_gain / avg_loss\n",
    "df['RSI_14'] = 100 - (100 / (1 + rs))\n"
   ],
   "id": "3e107f082bab9f24",
   "outputs": [],
   "execution_count": 14
  },
  {
   "metadata": {
    "ExecuteTime": {
     "end_time": "2025-05-24T19:11:53.321886Z",
     "start_time": "2025-05-24T19:11:53.284929Z"
    }
   },
   "cell_type": "code",
   "source": [
    "from arch import arch_model\n",
    "\n",
    "returns = df['ER'].pct_change().dropna() * 100\n",
    "model = arch_model(returns, vol='GARCH', p=1, q=1)\n",
    "res = model.fit(disp='off')\n",
    "df['garch_vol'] = res.conditional_volatility\n"
   ],
   "id": "dd952229ec01c39",
   "outputs": [],
   "execution_count": 15
  },
  {
   "metadata": {
    "ExecuteTime": {
     "end_time": "2025-05-24T19:11:53.467685Z",
     "start_time": "2025-05-24T19:11:53.338165Z"
    }
   },
   "cell_type": "code",
   "source": [
    "# 构造目标变量：下一期 ER\n",
    "df['target'] = df['ER'].shift(-1)\n",
    "\n",
    "df_model = df.dropna()\n",
    "\n",
    "features = ['shock_flag','vol_mom','rolling_std_10','return_3','return_2','return_1','price_minus_SMA5','price_SMA5_ratio','SMA_5', 'SMA_10', 'Momentum_5', 'rate_diff','Volatility_5','RSI_14','SMA_diff','price_return_interact','trade_war','dayofweek','is_month_end','garch_vol','vol_spike','trend_5']\n",
    "X = df_model[features]\n",
    "y = df_model['target']\n",
    "\n",
    "# 时间顺序分割数据\n",
    "split_idx = int(len(X) * 0.8)\n",
    "X_train, X_test = X.iloc[:split_idx], X.iloc[split_idx:]\n",
    "y_train, y_test = y.iloc[:split_idx], y.iloc[split_idx:]\n",
    "\n",
    "# 构建模型\n",
    "model = xgb.XGBRegressor(objective='reg:squarederror', n_estimators=100, max_depth=3)\n",
    "model.fit(X_train, y_train)\n",
    "\n",
    "# 预测\n",
    "y_pred = model.predict(X_test)\n",
    "\n",
    "# 评估\n",
    "rmse = np.sqrt(mean_squared_error(y_test, y_pred))\n",
    "mae = mean_absolute_error(y_test, y_pred)\n",
    "\n",
    "# 可视化\n",
    "plt.figure(figsize=(12, 5))\n",
    "plt.plot(y_test.values, label='True ER', alpha=0.7)\n",
    "plt.plot(y_pred, label='Predicted ER', alpha=0.7)\n",
    "plt.title(f'XGBoost: Predicting Next-Day Exchange Rate\\nRMSE: {rmse:.6f}, MAE: {mae:.6f}')\n",
    "plt.legend()\n",
    "plt.grid(True)\n",
    "plt.tight_layout()\n",
    "plt.show()\n"
   ],
   "id": "8ad98b38a996e6ff",
   "outputs": [
    {
     "data": {
      "text/plain": [
       "<Figure size 1200x500 with 1 Axes>"
      ],
      "image/png": "[encoded data removed]"
     },
     "metadata": {},
     "output_type": "display_data"
    }
   ],
   "execution_count": 16
  },
  {
   "metadata": {
    "ExecuteTime": {
     "end_time": "2025-05-24T19:11:53.566018Z",
     "start_time": "2025-05-24T19:11:53.492136Z"
    }
   },
   "cell_type": "code",
   "source": [
    "# 获取特征重要性\n",
    "importances = model.feature_importances_\n",
    "features = X_test.columns\n",
    "\n",
    "# 转为DataFrame，便于排序和可视化\n",
    "importance_df = pd.DataFrame({\n",
    "    'Feature': features,\n",
    "    'Importance': importances\n",
    "}).sort_values(by='Importance', ascending=False)\n",
    "\n",
    "# 可视化\n",
    "plt.figure(figsize=(10, 6))\n",
    "plt.barh(importance_df['Feature'], importance_df['Importance'])\n",
    "plt.gca().invert_yaxis()  # 重要性高的放在上面\n",
    "plt.title('Feature Importance from XGBoost')\n",
    "plt.xlabel('Importance')\n",
    "plt.tight_layout()\n",
    "plt.show()"
   ],
   "id": "9934a11b16bffd",
   "outputs": [
    {
     "data": {
      "text/plain": [
       "<Figure size 1000x600 with 1 Axes>"
      ],
      "image/png": "[encoded data removed]"
     },
     "metadata": {},
     "output_type": "display_data"
    }
   ],
   "execution_count": 17
  },
  {
   "metadata": {
    "ExecuteTime": {
     "end_time": "2025-05-24T19:11:53.592797Z",
     "start_time": "2025-05-24T19:11:53.590120Z"
    }
   },
   "cell_type": "code",
   "source": [
    "pred_df = pd.DataFrame(y_pred)\n",
    "y_test = y_test.iloc[:-1]\n",
    "error_cal = pd.DataFrame({})\n",
    "error_cal['pred'] = pred_df\n",
    "y_mid = y_test.reset_index(drop=True)\n",
    "error_cal['actual'] = y_mid\n",
    "error_cal['error'] = error_cal['pred'] - error_cal['actual']"
   ],
   "id": "88335ed8e7e08610",
   "outputs": [],
   "execution_count": 18
  },
  {
   "metadata": {
    "ExecuteTime": {
     "end_time": "2025-05-24T19:11:53.619595Z",
     "start_time": "2025-05-24T19:11:53.617242Z"
    }
   },
   "cell_type": "code",
   "source": [
    "# 计算实际值和预测值的变化趋势（相邻天数差）\n",
    "actual_diff = error_cal['actual'].diff()\n",
    "pred_diff = error_cal['pred'].diff()\n",
    "\n",
    "# 判断趋势是否一致（同为正或同为负 → 相乘大于0）\n",
    "trend_correct = (actual_diff * pred_diff) > 0\n",
    "\n",
    "# 去除第一个 NaN（因为 diff 会在第一行生成 NaN）\n",
    "trend_correct = trend_correct[1:-1]\n",
    "\n",
    "# 计算正确比例\n",
    "trend_accuracy = trend_correct.sum() / len(trend_correct)\n",
    "\n",
    "# 输出\n",
    "print(f\"📈 趋势判断正确的比例为: {trend_accuracy:.2%}\")"
   ],
   "id": "2b7b86e1422ba92",
   "outputs": [
    {
     "name": "stdout",
     "output_type": "stream",
     "text": [
      "📈 趋势判断正确的比例为: 46.36%\n"
     ]
    }
   ],
   "execution_count": 19
  },
  {
   "metadata": {
    "ExecuteTime": {
     "end_time": "2025-05-24T19:11:53.646292Z",
     "start_time": "2025-05-24T19:11:53.644301Z"
    }
   },
   "cell_type": "code",
   "source": [
    "threshold = 0.05\n",
    "proportion = (error_cal['error'].abs() > threshold).mean()\n",
    "\n",
    "print(f\"误差大于 0.05 的比例为：{proportion:.2%}\")"
   ],
   "id": "135f4fd7f123c186",
   "outputs": [
    {
     "name": "stdout",
     "output_type": "stream",
     "text": [
      "误差大于 0.05 的比例为：36.31%\n"
     ]
    }
   ],
   "execution_count": 20
  },
  {
   "metadata": {},
   "cell_type": "markdown",
   "source": "## Prediction Application",
   "id": "e3d3f8496b1dca8a"
  },
  {
   "metadata": {
    "ExecuteTime": {
     "end_time": "2025-05-24T19:11:53.673103Z",
     "start_time": "2025-05-24T19:11:53.671656Z"
    }
   },
   "cell_type": "code",
   "source": "today = date.today()",
   "id": "f6d28d285edb1e28",
   "outputs": [],
   "execution_count": 21
  },
  {
   "metadata": {
    "ExecuteTime": {
     "end_time": "2025-05-24T19:11:53.857488Z",
     "start_time": "2025-05-24T19:11:53.698382Z"
    }
   },
   "cell_type": "code",
   "source": [
    "# 获取人民币兑英镑汇率（Yahoo symbol: CNYGBP=X）\n",
    "data = yf.download(\"CNYGBP=X\", start=\"2015-01-01\", end=today)\n",
    "er_df = data[[\"Close\"]].rename(columns={\"Close\": \"CNY/GBP\"})\n",
    "display(er_df)"
   ],
   "id": "9bf407fdb459da40",
   "outputs": [
    {
     "name": "stderr",
     "output_type": "stream",
     "text": [
      "[*********************100%***********************]  1 of 1 completed\n"
     ]
    },
    {
     "data": {
      "text/plain": [
       "Price        CNY/GBP\n",
       "Ticker      CNYGBP=X\n",
       "Date                \n",
       "2015-01-01  0.103420\n",
       "2015-01-02  0.103330\n",
       "2015-01-05  0.104920\n",
       "2015-01-06  0.105350\n",
       "2015-01-07  0.106450\n",
       "...              ...\n",
       "2025-05-19  0.104254\n",
       "2025-05-20  0.103815\n",
       "2025-05-21  0.103379\n",
       "2025-05-22  0.103449\n",
       "2025-05-23  0.102870\n",
       "\n",
       "[2707 rows x 1 columns]"
      ],
      "text/html": [
       "<div>\n",
       "<style scoped>\n",
       "    .dataframe tbody tr th:only-of-type {\n",
       "        vertical-align: middle;\n",
       "    }\n",
       "\n",
       "    .dataframe tbody tr th {\n",
       "        vertical-align: top;\n",
       "    }\n",
       "\n",
       "    .dataframe thead tr th {\n",
       "        text-align: left;\n",
       "    }\n",
       "\n",
       "    .dataframe thead tr:last-of-type th {\n",
       "        text-align: right;\n",
       "    }\n",
       "</style>\n",
       "<table border=\"1\" class=\"dataframe\">\n",
       "  <thead>\n",
       "    <tr>\n",
       "      <th>Price</th>\n",
       "      <th>CNY/GBP</th>\n",
       "    </tr>\n",
       "    <tr>\n",
       "      <th>Ticker</th>\n",
       "      <th>CNYGBP=X</th>\n",
       "    </tr>\n",
       "    <tr>\n",
       "      <th>Date</th>\n",
       "      <th></th>\n",
       "    </tr>\n",
       "  </thead>\n",
       "  <tbody>\n",
       "    <tr>\n",
       "      <th>2015-01-01</th>\n",
       "      <td>0.103420</td>\n",
       "    </tr>\n",
       "    <tr>\n",
       "      <th>2015-01-02</th>\n",
       "      <td>0.103330</td>\n",
       "    </tr>\n",
       "    <tr>\n",
       "      <th>2015-01-05</th>\n",
       "      <td>0.104920</td>\n",
       "    </tr>\n",
       "    <tr>\n",
       "      <th>2015-01-06</th>\n",
       "      <td>0.105350</td>\n",
       "    </tr>\n",
       "    <tr>\n",
       "      <th>2015-01-07</th>\n",
       "      <td>0.106450</td>\n",
       "    </tr>\n",
       "    <tr>\n",
       "      <th>...</th>\n",
       "      <td>...</td>\n",
       "    </tr>\n",
       "    <tr>\n",
       "      <th>2025-05-19</th>\n",
       "      <td>0.104254</td>\n",
       "    </tr>\n",
       "    <tr>\n",
       "      <th>2025-05-20</th>\n",
       "      <td>0.103815</td>\n",
       "    </tr>\n",
       "    <tr>\n",
       "      <th>2025-05-21</th>\n",
       "      <td>0.103379</td>\n",
       "    </tr>\n",
       "    <tr>\n",
       "      <th>2025-05-22</th>\n",
       "      <td>0.103449</td>\n",
       "    </tr>\n",
       "    <tr>\n",
       "      <th>2025-05-23</th>\n",
       "      <td>0.102870</td>\n",
       "    </tr>\n",
       "  </tbody>\n",
       "</table>\n",
       "<p>2707 rows × 1 columns</p>\n",
       "</div>"
      ]
     },
     "metadata": {},
     "output_type": "display_data"
    }
   ],
   "execution_count": 22
  },
  {
   "metadata": {
    "ExecuteTime": {
     "end_time": "2025-05-24T19:11:53.892248Z",
     "start_time": "2025-05-24T19:11:53.887620Z"
    }
   },
   "cell_type": "code",
   "source": [
    "er_df['inverse'] = 1 / er_df['CNY/GBP', 'CNYGBP=X']\n",
    "er_df"
   ],
   "id": "51ee3199a7ecbf64",
   "outputs": [
    {
     "data": {
      "text/plain": [
       "Price        CNY/GBP   inverse\n",
       "Ticker      CNYGBP=X          \n",
       "Date                          \n",
       "2015-01-01  0.103420  9.669310\n",
       "2015-01-02  0.103330  9.677731\n",
       "2015-01-05  0.104920  9.531071\n",
       "2015-01-06  0.105350  9.492169\n",
       "2015-01-07  0.106450  9.394082\n",
       "...              ...       ...\n",
       "2025-05-19  0.104254  9.591958\n",
       "2025-05-20  0.103815  9.632520\n",
       "2025-05-21  0.103379  9.673144\n",
       "2025-05-22  0.103449  9.666599\n",
       "2025-05-23  0.102870  9.721007\n",
       "\n",
       "[2707 rows x 2 columns]"
      ],
      "text/html": [
       "<div>\n",
       "<style scoped>\n",
       "    .dataframe tbody tr th:only-of-type {\n",
       "        vertical-align: middle;\n",
       "    }\n",
       "\n",
       "    .dataframe tbody tr th {\n",
       "        vertical-align: top;\n",
       "    }\n",
       "\n",
       "    .dataframe thead tr th {\n",
       "        text-align: left;\n",
       "    }\n",
       "\n",
       "    .dataframe thead tr:last-of-type th {\n",
       "        text-align: right;\n",
       "    }\n",
       "</style>\n",
       "<table border=\"1\" class=\"dataframe\">\n",
       "  <thead>\n",
       "    <tr>\n",
       "      <th>Price</th>\n",
       "      <th>CNY/GBP</th>\n",
       "      <th>inverse</th>\n",
       "    </tr>\n",
       "    <tr>\n",
       "      <th>Ticker</th>\n",
       "      <th>CNYGBP=X</th>\n",
       "      <th></th>\n",
       "    </tr>\n",
       "    <tr>\n",
       "      <th>Date</th>\n",
       "      <th></th>\n",
       "      <th></th>\n",
       "    </tr>\n",
       "  </thead>\n",
       "  <tbody>\n",
       "    <tr>\n",
       "      <th>2015-01-01</th>\n",
       "      <td>0.103420</td>\n",
       "      <td>9.669310</td>\n",
       "    </tr>\n",
       "    <tr>\n",
       "      <th>2015-01-02</th>\n",
       "      <td>0.103330</td>\n",
       "      <td>9.677731</td>\n",
       "    </tr>\n",
       "    <tr>\n",
       "      <th>2015-01-05</th>\n",
       "      <td>0.104920</td>\n",
       "      <td>9.531071</td>\n",
       "    </tr>\n",
       "    <tr>\n",
       "      <th>2015-01-06</th>\n",
       "      <td>0.105350</td>\n",
       "      <td>9.492169</td>\n",
       "    </tr>\n",
       "    <tr>\n",
       "      <th>2015-01-07</th>\n",
       "      <td>0.106450</td>\n",
       "      <td>9.394082</td>\n",
       "    </tr>\n",
       "    <tr>\n",
       "      <th>...</th>\n",
       "      <td>...</td>\n",
       "      <td>...</td>\n",
       "    </tr>\n",
       "    <tr>\n",
       "      <th>2025-05-19</th>\n",
       "      <td>0.104254</td>\n",
       "      <td>9.591958</td>\n",
       "    </tr>\n",
       "    <tr>\n",
       "      <th>2025-05-20</th>\n",
       "      <td>0.103815</td>\n",
       "      <td>9.632520</td>\n",
       "    </tr>\n",
       "    <tr>\n",
       "      <th>2025-05-21</th>\n",
       "      <td>0.103379</td>\n",
       "      <td>9.673144</td>\n",
       "    </tr>\n",
       "    <tr>\n",
       "      <th>2025-05-22</th>\n",
       "      <td>0.103449</td>\n",
       "      <td>9.666599</td>\n",
       "    </tr>\n",
       "    <tr>\n",
       "      <th>2025-05-23</th>\n",
       "      <td>0.102870</td>\n",
       "      <td>9.721007</td>\n",
       "    </tr>\n",
       "  </tbody>\n",
       "</table>\n",
       "<p>2707 rows × 2 columns</p>\n",
       "</div>"
      ]
     },
     "execution_count": 23,
     "metadata": {},
     "output_type": "execute_result"
    }
   ],
   "execution_count": 23
  },
  {
   "metadata": {
    "ExecuteTime": {
     "end_time": "2025-05-24T19:11:54.012005Z",
     "start_time": "2025-05-24T19:11:53.936946Z"
    }
   },
   "cell_type": "code",
   "source": [
    "policy_df = pd.read_excel(\"IR.xlsx\")\n",
    "policy_df['rate_diff'] = policy_df['UK'] - policy_df['CN']\n",
    "\n",
    "model_df = policy_df.copy()"
   ],
   "id": "305bb46dd11fa375",
   "outputs": [],
   "execution_count": 24
  },
  {
   "metadata": {
    "ExecuteTime": {
     "end_time": "2025-05-24T19:11:54.034798Z",
     "start_time": "2025-05-24T19:11:54.030979Z"
    }
   },
   "cell_type": "code",
   "source": [
    "# 确保 Date 是 datetime 类型\n",
    "model_df['Date'] = pd.to_datetime(model_df['Date'])\n",
    "\n",
    "# 保留工作日（周一到周五）\n",
    "df_weekday = model_df[model_df['Date'].dt.dayofweek < 5].copy()\n",
    "\n",
    "# 按日期排序（可选）\n",
    "df_weekday = df_weekday.sort_values('Date').reset_index(drop=True)"
   ],
   "id": "5f306e3d7f9bc5a1",
   "outputs": [],
   "execution_count": 25
  },
  {
   "metadata": {
    "ExecuteTime": {
     "end_time": "2025-05-24T19:11:54.050126Z",
     "start_time": "2025-05-24T19:11:54.041973Z"
    }
   },
   "cell_type": "code",
   "source": [
    "missing_dates = df_weekday[~df_weekday['Date'].isin(er_df.index)]\n",
    "display(missing_dates['Date'].tail(10))\n",
    "\n",
    "# 确保 Date 列格式一致\n",
    "df_weekday['Date'] = pd.to_datetime(df_weekday['Date']).dt.normalize()\n",
    "\n",
    "# 筛选 df_weekday 中仅保留那些出现在 er_df['Date'] 中的行\n",
    "df_weekday_aligned = df_weekday[df_weekday['Date'].isin(er_df.index)].copy()\n",
    "\n",
    "# 重置索引（可选）\n",
    "df_weekday_aligned = df_weekday_aligned.reset_index(drop=True)\n",
    "\n",
    "df_weekday_aligned"
   ],
   "id": "aeafbf9f1211053c",
   "outputs": [
    {
     "data": {
      "text/plain": [
       "658    2017-07-11\n",
       "750    2017-11-16\n",
       "2609   2025-01-01\n",
       "2686   2025-04-18\n",
       "2687   2025-04-21\n",
       "Name: Date, dtype: datetime64[ns]"
      ]
     },
     "metadata": {},
     "output_type": "display_data"
    },
    {
     "data": {
      "text/plain": [
       "           Date    UK   CN  rate_diff\n",
       "0    2015-01-01  0.50  5.6      -5.10\n",
       "1    2015-01-02  0.50  5.6      -5.10\n",
       "2    2015-01-05  0.50  5.6      -5.10\n",
       "3    2015-01-06  0.50  5.6      -5.10\n",
       "4    2015-01-07  0.50  5.6      -5.10\n",
       "...         ...   ...  ...        ...\n",
       "2694 2025-05-07  4.25  3.1       1.15\n",
       "2695 2025-05-08  4.25  3.1       1.15\n",
       "2696 2025-05-09  4.25  3.1       1.15\n",
       "2697 2025-05-12  4.25  3.1       1.15\n",
       "2698 2025-05-13  4.25  3.1       1.15\n",
       "\n",
       "[2699 rows x 4 columns]"
      ],
      "text/html": [
       "<div>\n",
       "<style scoped>\n",
       "    .dataframe tbody tr th:only-of-type {\n",
       "        vertical-align: middle;\n",
       "    }\n",
       "\n",
       "    .dataframe tbody tr th {\n",
       "        vertical-align: top;\n",
       "    }\n",
       "\n",
       "    .dataframe thead th {\n",
       "        text-align: right;\n",
       "    }\n",
       "</style>\n",
       "<table border=\"1\" class=\"dataframe\">\n",
       "  <thead>\n",
       "    <tr style=\"text-align: right;\">\n",
       "      <th></th>\n",
       "      <th>Date</th>\n",
       "      <th>UK</th>\n",
       "      <th>CN</th>\n",
       "      <th>rate_diff</th>\n",
       "    </tr>\n",
       "  </thead>\n",
       "  <tbody>\n",
       "    <tr>\n",
       "      <th>0</th>\n",
       "      <td>2015-01-01</td>\n",
       "      <td>0.50</td>\n",
       "      <td>5.6</td>\n",
       "      <td>-5.10</td>\n",
       "    </tr>\n",
       "    <tr>\n",
       "      <th>1</th>\n",
       "      <td>2015-01-02</td>\n",
       "      <td>0.50</td>\n",
       "      <td>5.6</td>\n",
       "      <td>-5.10</td>\n",
       "    </tr>\n",
       "    <tr>\n",
       "      <th>2</th>\n",
       "      <td>2015-01-05</td>\n",
       "      <td>0.50</td>\n",
       "      <td>5.6</td>\n",
       "      <td>-5.10</td>\n",
       "    </tr>\n",
       "    <tr>\n",
       "      <th>3</th>\n",
       "      <td>2015-01-06</td>\n",
       "      <td>0.50</td>\n",
       "      <td>5.6</td>\n",
       "      <td>-5.10</td>\n",
       "    </tr>\n",
       "    <tr>\n",
       "      <th>4</th>\n",
       "      <td>2015-01-07</td>\n",
       "      <td>0.50</td>\n",
       "      <td>5.6</td>\n",
       "      <td>-5.10</td>\n",
       "    </tr>\n",
       "    <tr>\n",
       "      <th>...</th>\n",
       "      <td>...</td>\n",
       "      <td>...</td>\n",
       "      <td>...</td>\n",
       "      <td>...</td>\n",
       "    </tr>\n",
       "    <tr>\n",
       "      <th>2694</th>\n",
       "      <td>2025-05-07</td>\n",
       "      <td>4.25</td>\n",
       "      <td>3.1</td>\n",
       "      <td>1.15</td>\n",
       "    </tr>\n",
       "    <tr>\n",
       "      <th>2695</th>\n",
       "      <td>2025-05-08</td>\n",
       "      <td>4.25</td>\n",
       "      <td>3.1</td>\n",
       "      <td>1.15</td>\n",
       "    </tr>\n",
       "    <tr>\n",
       "      <th>2696</th>\n",
       "      <td>2025-05-09</td>\n",
       "      <td>4.25</td>\n",
       "      <td>3.1</td>\n",
       "      <td>1.15</td>\n",
       "    </tr>\n",
       "    <tr>\n",
       "      <th>2697</th>\n",
       "      <td>2025-05-12</td>\n",
       "      <td>4.25</td>\n",
       "      <td>3.1</td>\n",
       "      <td>1.15</td>\n",
       "    </tr>\n",
       "    <tr>\n",
       "      <th>2698</th>\n",
       "      <td>2025-05-13</td>\n",
       "      <td>4.25</td>\n",
       "      <td>3.1</td>\n",
       "      <td>1.15</td>\n",
       "    </tr>\n",
       "  </tbody>\n",
       "</table>\n",
       "<p>2699 rows × 4 columns</p>\n",
       "</div>"
      ]
     },
     "execution_count": 26,
     "metadata": {},
     "output_type": "execute_result"
    }
   ],
   "execution_count": 26
  },
  {
   "metadata": {
    "ExecuteTime": {
     "end_time": "2025-05-24T19:11:54.101864Z",
     "start_time": "2025-05-24T19:11:54.095767Z"
    }
   },
   "cell_type": "code",
   "source": [
    "while len(df_weekday_aligned['Date']) < len(er_df.index):\n",
    "    df_weekday_aligned.loc[len(df_weekday_aligned['Date'])] = [er_df.index[len(df_weekday_aligned)], 4.25,3.1,1.15]"
   ],
   "id": "1fde06c098f5dc17",
   "outputs": [],
   "execution_count": 27
  },
  {
   "metadata": {
    "ExecuteTime": {
     "end_time": "2025-05-24T19:11:54.127945Z",
     "start_time": "2025-05-24T19:11:54.122615Z"
    }
   },
   "cell_type": "code",
   "source": [
    "er_mid = er_df['inverse'].reset_index(drop=True)\n",
    "\n",
    "df_weekday_aligned['ER'] = er_mid\n",
    "df_weekday_aligned"
   ],
   "id": "fda0e382bbae6c17",
   "outputs": [
    {
     "data": {
      "text/plain": [
       "           Date    UK   CN  rate_diff        ER\n",
       "0    2015-01-01  0.50  5.6      -5.10  9.669310\n",
       "1    2015-01-02  0.50  5.6      -5.10  9.677731\n",
       "2    2015-01-05  0.50  5.6      -5.10  9.531071\n",
       "3    2015-01-06  0.50  5.6      -5.10  9.492169\n",
       "4    2015-01-07  0.50  5.6      -5.10  9.394082\n",
       "...         ...   ...  ...        ...       ...\n",
       "2702 2025-05-19  4.25  3.1       1.15  9.591958\n",
       "2703 2025-05-20  4.25  3.1       1.15  9.632520\n",
       "2704 2025-05-21  4.25  3.1       1.15  9.673144\n",
       "2705 2025-05-22  4.25  3.1       1.15  9.666599\n",
       "2706 2025-05-23  4.25  3.1       1.15  9.721007\n",
       "\n",
       "[2707 rows x 5 columns]"
      ],
      "text/html": [
       "<div>\n",
       "<style scoped>\n",
       "    .dataframe tbody tr th:only-of-type {\n",
       "        vertical-align: middle;\n",
       "    }\n",
       "\n",
       "    .dataframe tbody tr th {\n",
       "        vertical-align: top;\n",
       "    }\n",
       "\n",
       "    .dataframe thead th {\n",
       "        text-align: right;\n",
       "    }\n",
       "</style>\n",
       "<table border=\"1\" class=\"dataframe\">\n",
       "  <thead>\n",
       "    <tr style=\"text-align: right;\">\n",
       "      <th></th>\n",
       "      <th>Date</th>\n",
       "      <th>UK</th>\n",
       "      <th>CN</th>\n",
       "      <th>rate_diff</th>\n",
       "      <th>ER</th>\n",
       "    </tr>\n",
       "  </thead>\n",
       "  <tbody>\n",
       "    <tr>\n",
       "      <th>0</th>\n",
       "      <td>2015-01-01</td>\n",
       "      <td>0.50</td>\n",
       "      <td>5.6</td>\n",
       "      <td>-5.10</td>\n",
       "      <td>9.669310</td>\n",
       "    </tr>\n",
       "    <tr>\n",
       "      <th>1</th>\n",
       "      <td>2015-01-02</td>\n",
       "      <td>0.50</td>\n",
       "      <td>5.6</td>\n",
       "      <td>-5.10</td>\n",
       "      <td>9.677731</td>\n",
       "    </tr>\n",
       "    <tr>\n",
       "      <th>2</th>\n",
       "      <td>2015-01-05</td>\n",
       "      <td>0.50</td>\n",
       "      <td>5.6</td>\n",
       "      <td>-5.10</td>\n",
       "      <td>9.531071</td>\n",
       "    </tr>\n",
       "    <tr>\n",
       "      <th>3</th>\n",
       "      <td>2015-01-06</td>\n",
       "      <td>0.50</td>\n",
       "      <td>5.6</td>\n",
       "      <td>-5.10</td>\n",
       "      <td>9.492169</td>\n",
       "    </tr>\n",
       "    <tr>\n",
       "      <th>4</th>\n",
       "      <td>2015-01-07</td>\n",
       "      <td>0.50</td>\n",
       "      <td>5.6</td>\n",
       "      <td>-5.10</td>\n",
       "      <td>9.394082</td>\n",
       "    </tr>\n",
       "    <tr>\n",
       "      <th>...</th>\n",
       "      <td>...</td>\n",
       "      <td>...</td>\n",
       "      <td>...</td>\n",
       "      <td>...</td>\n",
       "      <td>...</td>\n",
       "    </tr>\n",
       "    <tr>\n",
       "      <th>2702</th>\n",
       "      <td>2025-05-19</td>\n",
       "      <td>4.25</td>\n",
       "      <td>3.1</td>\n",
       "      <td>1.15</td>\n",
       "      <td>9.591958</td>\n",
       "    </tr>\n",
       "    <tr>\n",
       "      <th>2703</th>\n",
       "      <td>2025-05-20</td>\n",
       "      <td>4.25</td>\n",
       "      <td>3.1</td>\n",
       "      <td>1.15</td>\n",
       "      <td>9.632520</td>\n",
       "    </tr>\n",
       "    <tr>\n",
       "      <th>2704</th>\n",
       "      <td>2025-05-21</td>\n",
       "      <td>4.25</td>\n",
       "      <td>3.1</td>\n",
       "      <td>1.15</td>\n",
       "      <td>9.673144</td>\n",
       "    </tr>\n",
       "    <tr>\n",
       "      <th>2705</th>\n",
       "      <td>2025-05-22</td>\n",
       "      <td>4.25</td>\n",
       "      <td>3.1</td>\n",
       "      <td>1.15</td>\n",
       "      <td>9.666599</td>\n",
       "    </tr>\n",
       "    <tr>\n",
       "      <th>2706</th>\n",
       "      <td>2025-05-23</td>\n",
       "      <td>4.25</td>\n",
       "      <td>3.1</td>\n",
       "      <td>1.15</td>\n",
       "      <td>9.721007</td>\n",
       "    </tr>\n",
       "  </tbody>\n",
       "</table>\n",
       "<p>2707 rows × 5 columns</p>\n",
       "</div>"
      ]
     },
     "execution_count": 28,
     "metadata": {},
     "output_type": "execute_result"
    }
   ],
   "execution_count": 28
  },
  {
   "metadata": {
    "ExecuteTime": {
     "end_time": "2025-05-24T19:11:54.154172Z",
     "start_time": "2025-05-24T19:11:54.149667Z"
    }
   },
   "cell_type": "code",
   "source": [
    "def recalculate_features(df):\n",
    "    df = df.copy()\n",
    "\n",
    "    # 滞后收益率\n",
    "    df['return_1'] = df['ER'].pct_change()\n",
    "    df['SMA_5'] = df['ER'].rolling(window=5).mean()\n",
    "    df['SMA_10'] = df['ER'].rolling(window=10).mean()\n",
    "    df['Momentum_5'] = df['ER'] - df['ER'].shift(5)\n",
    "    df['Volatility_5'] = df['return_1'].rolling(window=5).std()\n",
    "\n",
    "    df['SMA_diff'] = df['SMA_5'] - df['SMA_10']\n",
    "    df['price_SMA5_ratio'] = df['ER'] / df['SMA_5']\n",
    "    df['price_minus_SMA5'] = df['ER'] - df['SMA_5']\n",
    "\n",
    "    df['return_2'] = df['ER'].pct_change(2)\n",
    "    df['return_3'] = df['ER'].pct_change(3)\n",
    "\n",
    "    df['rolling_std_10'] = df['ER'].rolling(window=10).std()\n",
    "\n",
    "    df['vol_mom'] = df['Volatility_5'] * df['Momentum_5']\n",
    "    df['price_return_interact'] = df['price_minus_SMA5'] * df['return_1']\n",
    "\n",
    "    df['shock'] = (df['ER'].pct_change().abs() > 0.2).astype(int)\n",
    "\n",
    "    df['trade_war'] = 0\n",
    "    df.loc[(df['Date'] >= '2018-07-01') & (df['Date'] <= '2019-12-31'), 'trade_war'] = 1\n",
    "    df.loc[(df['Date'] >= '2025-04-02'), 'trade_war'] = 1\n",
    "\n",
    "    df['rolling_return'] = df['ER'].pct_change().rolling(3).sum()\n",
    "    df['shock_flag'] = (df['rolling_return'].abs() > 0.03).astype(int)\n",
    "\n",
    "    # RSI\n",
    "    delta = df['ER'].diff()\n",
    "    gain = delta.where(delta > 0, 0)\n",
    "    loss = -delta.where(delta < 0, 0)\n",
    "    avg_gain = gain.rolling(window=14).mean()\n",
    "    avg_loss = loss.rolling(window=14).mean()\n",
    "    rs = avg_gain / avg_loss\n",
    "    df['RSI_14'] = 100 - (100 / (1 + rs))\n",
    "\n",
    "    return df\n"
   ],
   "id": "bd62c6f33a7ab1c1",
   "outputs": [],
   "execution_count": 29
  },
  {
   "metadata": {
    "ExecuteTime": {
     "end_time": "2025-05-24T19:11:54.179047Z",
     "start_time": "2025-05-24T19:11:54.175347Z"
    }
   },
   "cell_type": "code",
   "source": [
    "latest_features = df[model.feature_names_in_].iloc[-1].values.reshape(1, -1)\n",
    "\n",
    "predicted_tomorrow = model.predict(latest_features)[0]\n",
    "print(f\"✅ 明天的预测汇率是：{predicted_tomorrow:.4f}\")"
   ],
   "id": "1d8f0482c71ece5e",
   "outputs": [
    {
     "name": "stdout",
     "output_type": "stream",
     "text": [
      "✅ 明天的预测汇率是：9.5063\n"
     ]
    }
   ],
   "execution_count": 30
  },
  {
   "metadata": {
    "ExecuteTime": {
     "end_time": "2025-05-24T19:11:54.189052Z",
     "start_time": "2025-05-24T19:11:54.185764Z"
    }
   },
   "cell_type": "code",
   "source": [
    "def predict_next_n_days(df, model, n_days=7):\n",
    "    df_extended = df.copy()\n",
    "    predictions = []\n",
    "    df_extended.index = pd.to_datetime(df_extended.index, errors='coerce')\n",
    "    for i in range(n_days):\n",
    "        # 获取最新一行数据作为输入\n",
    "        latest_features = df_extended[model.feature_names_in_].iloc[-1].values.reshape(1, -1)\n",
    "        pred = model.predict(latest_features)[0]\n",
    "        df_extended.index = pd.to_datetime(df_extended.index)\n",
    "        # 保存预测结果\n",
    "        predictions.append(pred)\n",
    "        # 构造下一行数据：复制最后一行，并替换汇率为预测值\n",
    "        next_day = df_extended.index[-1] + pd.Timedelta(days=1)\n",
    "        new_row = df_extended.iloc[-1].copy()\n",
    "        new_row['ER'] = pred\n",
    "        df_extended.loc[next_day] = new_row  # 自动续上\n",
    "        df_extended = recalculate_features(df_extended)\n",
    "\n",
    "    return predictions\n"
   ],
   "id": "4928e305256bbe9c",
   "outputs": [],
   "execution_count": 31
  },
  {
   "metadata": {
    "ExecuteTime": {
     "end_time": "2025-05-24T19:11:54.259130Z",
     "start_time": "2025-05-24T19:11:54.215658Z"
    }
   },
   "cell_type": "code",
   "source": [
    "pred = predict_next_n_days(df, model, n_days=7)\n",
    "pred"
   ],
   "id": "bae5753ca411b028",
   "outputs": [
    {
     "data": {
      "text/plain": [
       "[np.float32(9.506288),\n",
       " np.float32(9.487847),\n",
       " np.float32(9.453669),\n",
       " np.float32(9.397203),\n",
       " np.float32(9.447822),\n",
       " np.float32(9.435051),\n",
       " np.float32(9.42793)]"
      ]
     },
     "execution_count": 32,
     "metadata": {},
     "output_type": "execute_result"
    }
   ],
   "execution_count": 32
  },
  {
   "metadata": {
    "ExecuteTime": {
     "end_time": "2025-05-24T19:11:54.290208Z",
     "start_time": "2025-05-24T19:11:54.285035Z"
    }
   },
   "cell_type": "code",
   "source": [
    "df_pred = er_df['inverse'].copy()\n",
    "last_date = df_pred.index[-1]\n",
    "future_dates = pd.date_range(start=last_date + pd.Timedelta(days=1), periods=len(pred))\n",
    "\n",
    "for i in range(len(pred)):\n",
    "    df_pred.loc[future_dates[i]] = pred[i]\n",
    "df_pred"
   ],
   "id": "3efd81a937bc8885",
   "outputs": [
    {
     "data": {
      "text/plain": [
       "Date\n",
       "2015-01-01    9.669310\n",
       "2015-01-02    9.677731\n",
       "2015-01-05    9.531071\n",
       "2015-01-06    9.492169\n",
       "2015-01-07    9.394082\n",
       "                ...   \n",
       "2025-05-26    9.453669\n",
       "2025-05-27    9.397203\n",
       "2025-05-28    9.447822\n",
       "2025-05-29    9.435051\n",
       "2025-05-30    9.427930\n",
       "Name: inverse, Length: 2714, dtype: float64"
      ]
     },
     "execution_count": 33,
     "metadata": {},
     "output_type": "execute_result"
    }
   ],
   "execution_count": 33
  },
  {
   "metadata": {
    "ExecuteTime": {
     "end_time": "2025-05-24T19:11:54.336163Z",
     "start_time": "2025-05-24T19:11:54.333558Z"
    }
   },
   "cell_type": "code",
   "source": [
    "def plot_prediction(df_pred, forecast_days=7):\n",
    "    df_pred = df_pred.copy()\n",
    "    df_pred.index = pd.to_datetime(df_pred.index)\n",
    "\n",
    "    # 整段画完整的蓝线\n",
    "    display_range = df_pred.iloc[-(forecast_days + 30):]\n",
    "\n",
    "    plt.figure(figsize=(10, 5))\n",
    "    plt.plot(display_range.index, display_range.values, label='Historical + Forecast', color='blue', linewidth=2)\n",
    "\n",
    "    # 再覆盖预测部分（换颜色、虚线）\n",
    "    forecast = df_pred.iloc[-forecast_days:]\n",
    "    plt.plot(forecast.index, forecast.values, label='Forecast (Next 7 days)', color='orange', linestyle='--', marker='o')\n",
    "\n",
    "    plt.title('CNY/GBP Exchange Rate: Last 30 Days + 7-Day Forecast')\n",
    "    plt.xlabel('Date')\n",
    "    plt.ylabel('Exchange Rate')\n",
    "    plt.legend()\n",
    "    plt.grid()\n",
    "    plt.tight_layout()\n",
    "    plt.show()"
   ],
   "id": "981af11733fbb602",
   "outputs": [],
   "execution_count": 34
  },
  {
   "metadata": {
    "ExecuteTime": {
     "end_time": "2025-05-24T19:11:54.437509Z",
     "start_time": "2025-05-24T19:11:54.359193Z"
    }
   },
   "cell_type": "code",
   "source": "plot_prediction(df_pred, forecast_days=7)",
   "id": "7145dd2a2dde9a9",
   "outputs": [
    {
     "data": {
      "text/plain": [
       "<Figure size 1000x500 with 1 Axes>"
      ],
      "image/png": "[encoded data removed]"
     },
     "metadata": {},
     "output_type": "display_data"
    }
   ],
   "execution_count": 35
  }
 ],
 "metadata": {
  "kernelspec": {
   "display_name": "Python 3",
   "language": "python",
   "name": "python3"
  },
  "language_info": {
   "codemirror_mode": {
    "name": "ipython",
    "version": 2
   },
   "file_extension": ".py",
   "mimetype": "text/x-python",
   "name": "python",
   "nbconvert_exporter": "python",
   "pygments_lexer": "ipython2",
   "version": "2.7.6"
  }
 },
 "nbformat": 4,
 "nbformat_minor": 5
}
