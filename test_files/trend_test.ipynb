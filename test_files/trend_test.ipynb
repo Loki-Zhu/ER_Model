{
 "cells": [
  {
   "metadata": {},
   "cell_type": "markdown",
   "source": "## LSTM测试",
   "id": "b7bbeee07669e3e9"
  },
  {
   "metadata": {
    "ExecuteTime": {
     "end_time": "2025-05-24T20:42:20.685118Z",
     "start_time": "2025-05-24T20:42:20.679815Z"
    }
   },
   "cell_type": "code",
   "source": [
    "import xgboost as xgb\n",
    "from sklearn.metrics import mean_squared_error, mean_absolute_error\n",
    "import matplotlib.pyplot as plt\n",
    "from datetime import date\n",
    "import requests\n",
    "from requests.auth import HTTPBasicAuth\n",
    "import pandas as pd\n",
    "import numpy as np\n",
    "import requests\n",
    "from requests.auth import HTTPBasicAuth\n",
    "from sklearn.metrics import accuracy_score, classification_report, confusion_matrix\n",
    "from datetime import datetime, timedelta\n",
    "import yfinance as yf\n",
    "import numpy as np\n",
    "import pandas as pd\n",
    "from tensorflow.keras.models import Sequential\n",
    "from sklearn.preprocessing import MinMaxScaler\n",
    "import torch\n",
    "from torch import nn\n",
    "from torch.utils.data import DataLoader, TensorDataset\n",
    "import matplotlib.pyplot as plt\n",
    "import joblib\n",
    "import random\n",
    "from tensorflow.keras.layers import LSTM, Dense, Dropout\n",
    "import os\n",
    "from tensorflow.keras.optimizers import Adam\n",
    "import tensorflow as tf"
   ],
   "id": "57637bdddb8d195",
   "outputs": [],
   "execution_count": 23
  },
  {
   "metadata": {
    "ExecuteTime": {
     "end_time": "2025-05-24T20:41:48.785021Z",
     "start_time": "2025-05-24T20:41:48.783221Z"
    }
   },
   "cell_type": "code",
   "source": "today = date.today()",
   "id": "bd73c372bf4b1caf",
   "outputs": [],
   "execution_count": 2
  },
  {
   "metadata": {
    "ExecuteTime": {
     "end_time": "2025-05-24T20:41:49.071115Z",
     "start_time": "2025-05-24T20:41:48.857762Z"
    }
   },
   "cell_type": "code",
   "source": [
    "data = yf.download(\"CNYGBP=X\", start=\"2015-01-01\", end='2025-05-17')\n",
    "all_test_df = data\n",
    "all_test_df['ER'] = (all_test_df['High'] + all_test_df['Low']) / 2\n",
    "all_test_df['inverse'] = 1/all_test_df['ER']\n",
    "er_df = all_test_df[['inverse']].rename(columns={\"Close\": \"CNY/GBP\"})\n",
    "\n",
    "# test average price\n"
   ],
   "id": "214af3e7512d4116",
   "outputs": [
    {
     "name": "stdout",
     "output_type": "stream",
     "text": [
      "YF.download() has changed argument auto_adjust default to True\n"
     ]
    },
    {
     "name": "stderr",
     "output_type": "stream",
     "text": [
      "[*********************100%***********************]  1 of 1 completed\n"
     ]
    }
   ],
   "execution_count": 3
  },
  {
   "metadata": {
    "ExecuteTime": {
     "end_time": "2025-05-24T20:41:49.088298Z",
     "start_time": "2025-05-24T20:41:49.082229Z"
    }
   },
   "cell_type": "code",
   "source": "er_df.tail()",
   "id": "8ba92a0754261fd1",
   "outputs": [
    {
     "data": {
      "text/plain": [
       "Price        inverse\n",
       "Ticker              \n",
       "Date                \n",
       "2025-05-12  9.568874\n",
       "2025-05-13  9.529573\n",
       "2025-05-14  9.601536\n",
       "2025-05-15  9.577489\n",
       "2025-05-16  9.580976"
      ],
      "text/html": [
       "<div>\n",
       "<style scoped>\n",
       "    .dataframe tbody tr th:only-of-type {\n",
       "        vertical-align: middle;\n",
       "    }\n",
       "\n",
       "    .dataframe tbody tr th {\n",
       "        vertical-align: top;\n",
       "    }\n",
       "\n",
       "    .dataframe thead tr th {\n",
       "        text-align: left;\n",
       "    }\n",
       "\n",
       "    .dataframe thead tr:last-of-type th {\n",
       "        text-align: right;\n",
       "    }\n",
       "</style>\n",
       "<table border=\"1\" class=\"dataframe\">\n",
       "  <thead>\n",
       "    <tr>\n",
       "      <th>Price</th>\n",
       "      <th>inverse</th>\n",
       "    </tr>\n",
       "    <tr>\n",
       "      <th>Ticker</th>\n",
       "      <th></th>\n",
       "    </tr>\n",
       "    <tr>\n",
       "      <th>Date</th>\n",
       "      <th></th>\n",
       "    </tr>\n",
       "  </thead>\n",
       "  <tbody>\n",
       "    <tr>\n",
       "      <th>2025-05-12</th>\n",
       "      <td>9.568874</td>\n",
       "    </tr>\n",
       "    <tr>\n",
       "      <th>2025-05-13</th>\n",
       "      <td>9.529573</td>\n",
       "    </tr>\n",
       "    <tr>\n",
       "      <th>2025-05-14</th>\n",
       "      <td>9.601536</td>\n",
       "    </tr>\n",
       "    <tr>\n",
       "      <th>2025-05-15</th>\n",
       "      <td>9.577489</td>\n",
       "    </tr>\n",
       "    <tr>\n",
       "      <th>2025-05-16</th>\n",
       "      <td>9.580976</td>\n",
       "    </tr>\n",
       "  </tbody>\n",
       "</table>\n",
       "</div>"
      ]
     },
     "execution_count": 4,
     "metadata": {},
     "output_type": "execute_result"
    }
   ],
   "execution_count": 4
  },
  {
   "metadata": {
    "ExecuteTime": {
     "end_time": "2025-05-24T20:41:49.336380Z",
     "start_time": "2025-05-24T20:41:49.115407Z"
    }
   },
   "cell_type": "code",
   "source": [
    "policy_df = pd.read_excel(\"IR.xlsx\")\n",
    "policy_df['rate_diff'] = policy_df['UK'] - policy_df['CN']\n",
    "model_df = policy_df.copy()"
   ],
   "id": "6ede8eb89a10740d",
   "outputs": [],
   "execution_count": 5
  },
  {
   "metadata": {
    "ExecuteTime": {
     "end_time": "2025-05-24T20:41:49.359909Z",
     "start_time": "2025-05-24T20:41:49.355677Z"
    }
   },
   "cell_type": "code",
   "source": [
    "# 确保 Date 是 datetime 类型\n",
    "model_df['Date'] = pd.to_datetime(model_df['Date'])\n",
    "\n",
    "# 保留工作日（周一到周五）\n",
    "df_weekday = model_df[model_df['Date'].dt.dayofweek < 5].copy()\n",
    "\n",
    "# 按日期排序（可选）\n",
    "df_weekday = df_weekday.sort_values('Date').reset_index(drop=True)"
   ],
   "id": "a52b3079f7f9adcd",
   "outputs": [],
   "execution_count": 6
  },
  {
   "metadata": {
    "ExecuteTime": {
     "end_time": "2025-05-24T20:41:49.372061Z",
     "start_time": "2025-05-24T20:41:49.367616Z"
    }
   },
   "cell_type": "code",
   "source": "df_weekday",
   "id": "8656e7102fbca659",
   "outputs": [
    {
     "data": {
      "text/plain": [
       "           Date    UK   CN  rate_diff\n",
       "0    2015-01-01  0.50  5.6      -5.10\n",
       "1    2015-01-02  0.50  5.6      -5.10\n",
       "2    2015-01-05  0.50  5.6      -5.10\n",
       "3    2015-01-06  0.50  5.6      -5.10\n",
       "4    2015-01-07  0.50  5.6      -5.10\n",
       "...         ...   ...  ...        ...\n",
       "2699 2025-05-07  4.25  3.1       1.15\n",
       "2700 2025-05-08  4.25  3.1       1.15\n",
       "2701 2025-05-09  4.25  3.1       1.15\n",
       "2702 2025-05-12  4.25  3.1       1.15\n",
       "2703 2025-05-13  4.25  3.1       1.15\n",
       "\n",
       "[2704 rows x 4 columns]"
      ],
      "text/html": [
       "<div>\n",
       "<style scoped>\n",
       "    .dataframe tbody tr th:only-of-type {\n",
       "        vertical-align: middle;\n",
       "    }\n",
       "\n",
       "    .dataframe tbody tr th {\n",
       "        vertical-align: top;\n",
       "    }\n",
       "\n",
       "    .dataframe thead th {\n",
       "        text-align: right;\n",
       "    }\n",
       "</style>\n",
       "<table border=\"1\" class=\"dataframe\">\n",
       "  <thead>\n",
       "    <tr style=\"text-align: right;\">\n",
       "      <th></th>\n",
       "      <th>Date</th>\n",
       "      <th>UK</th>\n",
       "      <th>CN</th>\n",
       "      <th>rate_diff</th>\n",
       "    </tr>\n",
       "  </thead>\n",
       "  <tbody>\n",
       "    <tr>\n",
       "      <th>0</th>\n",
       "      <td>2015-01-01</td>\n",
       "      <td>0.50</td>\n",
       "      <td>5.6</td>\n",
       "      <td>-5.10</td>\n",
       "    </tr>\n",
       "    <tr>\n",
       "      <th>1</th>\n",
       "      <td>2015-01-02</td>\n",
       "      <td>0.50</td>\n",
       "      <td>5.6</td>\n",
       "      <td>-5.10</td>\n",
       "    </tr>\n",
       "    <tr>\n",
       "      <th>2</th>\n",
       "      <td>2015-01-05</td>\n",
       "      <td>0.50</td>\n",
       "      <td>5.6</td>\n",
       "      <td>-5.10</td>\n",
       "    </tr>\n",
       "    <tr>\n",
       "      <th>3</th>\n",
       "      <td>2015-01-06</td>\n",
       "      <td>0.50</td>\n",
       "      <td>5.6</td>\n",
       "      <td>-5.10</td>\n",
       "    </tr>\n",
       "    <tr>\n",
       "      <th>4</th>\n",
       "      <td>2015-01-07</td>\n",
       "      <td>0.50</td>\n",
       "      <td>5.6</td>\n",
       "      <td>-5.10</td>\n",
       "    </tr>\n",
       "    <tr>\n",
       "      <th>...</th>\n",
       "      <td>...</td>\n",
       "      <td>...</td>\n",
       "      <td>...</td>\n",
       "      <td>...</td>\n",
       "    </tr>\n",
       "    <tr>\n",
       "      <th>2699</th>\n",
       "      <td>2025-05-07</td>\n",
       "      <td>4.25</td>\n",
       "      <td>3.1</td>\n",
       "      <td>1.15</td>\n",
       "    </tr>\n",
       "    <tr>\n",
       "      <th>2700</th>\n",
       "      <td>2025-05-08</td>\n",
       "      <td>4.25</td>\n",
       "      <td>3.1</td>\n",
       "      <td>1.15</td>\n",
       "    </tr>\n",
       "    <tr>\n",
       "      <th>2701</th>\n",
       "      <td>2025-05-09</td>\n",
       "      <td>4.25</td>\n",
       "      <td>3.1</td>\n",
       "      <td>1.15</td>\n",
       "    </tr>\n",
       "    <tr>\n",
       "      <th>2702</th>\n",
       "      <td>2025-05-12</td>\n",
       "      <td>4.25</td>\n",
       "      <td>3.1</td>\n",
       "      <td>1.15</td>\n",
       "    </tr>\n",
       "    <tr>\n",
       "      <th>2703</th>\n",
       "      <td>2025-05-13</td>\n",
       "      <td>4.25</td>\n",
       "      <td>3.1</td>\n",
       "      <td>1.15</td>\n",
       "    </tr>\n",
       "  </tbody>\n",
       "</table>\n",
       "<p>2704 rows × 4 columns</p>\n",
       "</div>"
      ]
     },
     "execution_count": 7,
     "metadata": {},
     "output_type": "execute_result"
    }
   ],
   "execution_count": 7
  },
  {
   "metadata": {
    "ExecuteTime": {
     "end_time": "2025-05-24T20:41:49.412056Z",
     "start_time": "2025-05-24T20:41:49.409652Z"
    }
   },
   "cell_type": "code",
   "source": [
    "missing_dates = df_weekday[~df_weekday['Date'].isin(er_df.index)]\n",
    "print(missing_dates['Date'].tail(10))"
   ],
   "id": "bdbd45c054eefd78",
   "outputs": [
    {
     "name": "stdout",
     "output_type": "stream",
     "text": [
      "658    2017-07-11\n",
      "750    2017-11-16\n",
      "2609   2025-01-01\n",
      "2686   2025-04-18\n",
      "2687   2025-04-21\n",
      "Name: Date, dtype: datetime64[ns]\n"
     ]
    }
   ],
   "execution_count": 8
  },
  {
   "metadata": {
    "ExecuteTime": {
     "end_time": "2025-05-24T20:41:49.440973Z",
     "start_time": "2025-05-24T20:41:49.436383Z"
    }
   },
   "cell_type": "code",
   "source": [
    "# 确保 Date 列格式一致\n",
    "df_weekday['Date'] = pd.to_datetime(df_weekday['Date']).dt.normalize()\n",
    "\n",
    "# 筛选 df_weekday 中仅保留那些出现在 er_df['Date'] 中的行\n",
    "df_weekday_aligned = df_weekday[df_weekday['Date'].isin(er_df.index)].copy()\n",
    "\n",
    "df_weekday_aligned = df_weekday_aligned.reset_index(drop=True)"
   ],
   "id": "fa3da0f626d0d011",
   "outputs": [],
   "execution_count": 9
  },
  {
   "metadata": {
    "ExecuteTime": {
     "end_time": "2025-05-24T20:41:49.451416Z",
     "start_time": "2025-05-24T20:41:49.446761Z"
    }
   },
   "cell_type": "code",
   "source": "df_weekday_aligned",
   "id": "dc6791a71e63a52b",
   "outputs": [
    {
     "data": {
      "text/plain": [
       "           Date    UK   CN  rate_diff\n",
       "0    2015-01-01  0.50  5.6      -5.10\n",
       "1    2015-01-02  0.50  5.6      -5.10\n",
       "2    2015-01-05  0.50  5.6      -5.10\n",
       "3    2015-01-06  0.50  5.6      -5.10\n",
       "4    2015-01-07  0.50  5.6      -5.10\n",
       "...         ...   ...  ...        ...\n",
       "2694 2025-05-07  4.25  3.1       1.15\n",
       "2695 2025-05-08  4.25  3.1       1.15\n",
       "2696 2025-05-09  4.25  3.1       1.15\n",
       "2697 2025-05-12  4.25  3.1       1.15\n",
       "2698 2025-05-13  4.25  3.1       1.15\n",
       "\n",
       "[2699 rows x 4 columns]"
      ],
      "text/html": [
       "<div>\n",
       "<style scoped>\n",
       "    .dataframe tbody tr th:only-of-type {\n",
       "        vertical-align: middle;\n",
       "    }\n",
       "\n",
       "    .dataframe tbody tr th {\n",
       "        vertical-align: top;\n",
       "    }\n",
       "\n",
       "    .dataframe thead th {\n",
       "        text-align: right;\n",
       "    }\n",
       "</style>\n",
       "<table border=\"1\" class=\"dataframe\">\n",
       "  <thead>\n",
       "    <tr style=\"text-align: right;\">\n",
       "      <th></th>\n",
       "      <th>Date</th>\n",
       "      <th>UK</th>\n",
       "      <th>CN</th>\n",
       "      <th>rate_diff</th>\n",
       "    </tr>\n",
       "  </thead>\n",
       "  <tbody>\n",
       "    <tr>\n",
       "      <th>0</th>\n",
       "      <td>2015-01-01</td>\n",
       "      <td>0.50</td>\n",
       "      <td>5.6</td>\n",
       "      <td>-5.10</td>\n",
       "    </tr>\n",
       "    <tr>\n",
       "      <th>1</th>\n",
       "      <td>2015-01-02</td>\n",
       "      <td>0.50</td>\n",
       "      <td>5.6</td>\n",
       "      <td>-5.10</td>\n",
       "    </tr>\n",
       "    <tr>\n",
       "      <th>2</th>\n",
       "      <td>2015-01-05</td>\n",
       "      <td>0.50</td>\n",
       "      <td>5.6</td>\n",
       "      <td>-5.10</td>\n",
       "    </tr>\n",
       "    <tr>\n",
       "      <th>3</th>\n",
       "      <td>2015-01-06</td>\n",
       "      <td>0.50</td>\n",
       "      <td>5.6</td>\n",
       "      <td>-5.10</td>\n",
       "    </tr>\n",
       "    <tr>\n",
       "      <th>4</th>\n",
       "      <td>2015-01-07</td>\n",
       "      <td>0.50</td>\n",
       "      <td>5.6</td>\n",
       "      <td>-5.10</td>\n",
       "    </tr>\n",
       "    <tr>\n",
       "      <th>...</th>\n",
       "      <td>...</td>\n",
       "      <td>...</td>\n",
       "      <td>...</td>\n",
       "      <td>...</td>\n",
       "    </tr>\n",
       "    <tr>\n",
       "      <th>2694</th>\n",
       "      <td>2025-05-07</td>\n",
       "      <td>4.25</td>\n",
       "      <td>3.1</td>\n",
       "      <td>1.15</td>\n",
       "    </tr>\n",
       "    <tr>\n",
       "      <th>2695</th>\n",
       "      <td>2025-05-08</td>\n",
       "      <td>4.25</td>\n",
       "      <td>3.1</td>\n",
       "      <td>1.15</td>\n",
       "    </tr>\n",
       "    <tr>\n",
       "      <th>2696</th>\n",
       "      <td>2025-05-09</td>\n",
       "      <td>4.25</td>\n",
       "      <td>3.1</td>\n",
       "      <td>1.15</td>\n",
       "    </tr>\n",
       "    <tr>\n",
       "      <th>2697</th>\n",
       "      <td>2025-05-12</td>\n",
       "      <td>4.25</td>\n",
       "      <td>3.1</td>\n",
       "      <td>1.15</td>\n",
       "    </tr>\n",
       "    <tr>\n",
       "      <th>2698</th>\n",
       "      <td>2025-05-13</td>\n",
       "      <td>4.25</td>\n",
       "      <td>3.1</td>\n",
       "      <td>1.15</td>\n",
       "    </tr>\n",
       "  </tbody>\n",
       "</table>\n",
       "<p>2699 rows × 4 columns</p>\n",
       "</div>"
      ]
     },
     "execution_count": 10,
     "metadata": {},
     "output_type": "execute_result"
    }
   ],
   "execution_count": 10
  },
  {
   "metadata": {
    "ExecuteTime": {
     "end_time": "2025-05-24T20:41:49.484656Z",
     "start_time": "2025-05-24T20:41:49.482564Z"
    }
   },
   "cell_type": "code",
   "source": "df_weekday_aligned.drop(['UK','CN'], axis=1, inplace=True)",
   "id": "61186da5812a285c",
   "outputs": [],
   "execution_count": 11
  },
  {
   "metadata": {
    "ExecuteTime": {
     "end_time": "2025-05-24T20:41:49.511713Z",
     "start_time": "2025-05-24T20:41:49.508131Z"
    }
   },
   "cell_type": "code",
   "source": [
    "er_mid = er_df['inverse'].reset_index(drop=True)\n",
    "er_mid"
   ],
   "id": "c6ba69c0b8bdb873",
   "outputs": [
    {
     "data": {
      "text/plain": [
       "0       9.621861\n",
       "1       9.563429\n",
       "2       9.499834\n",
       "3       9.454924\n",
       "4       9.389671\n",
       "          ...   \n",
       "2697    9.568874\n",
       "2698    9.529573\n",
       "2699    9.601536\n",
       "2700    9.577489\n",
       "2701    9.580976\n",
       "Name: inverse, Length: 2702, dtype: float64"
      ]
     },
     "execution_count": 12,
     "metadata": {},
     "output_type": "execute_result"
    }
   ],
   "execution_count": 12
  },
  {
   "metadata": {
    "ExecuteTime": {
     "end_time": "2025-05-24T20:41:49.521697Z",
     "start_time": "2025-05-24T20:41:49.517531Z"
    }
   },
   "cell_type": "code",
   "source": [
    "while len(df_weekday_aligned) < len(er_mid):\n",
    "    last_date = df_weekday_aligned['Date'].iloc[-1]\n",
    "    # 获取下一个工作日（跳过周末）\n",
    "    next_workday = pd.date_range(start=last_date + pd.Timedelta(days=1), periods=1, freq='B')[0]\n",
    "\n",
    "    new_row = {col: np.nan for col in df_weekday_aligned.columns}\n",
    "    new_row['Date'] = next_workday\n",
    "    new_row['rate_diff'] = 1.15\n",
    "\n",
    "    df_weekday_aligned = pd.concat([df_weekday_aligned, pd.DataFrame([new_row])], ignore_index=True)"
   ],
   "id": "e1bee81d9c3c3206",
   "outputs": [],
   "execution_count": 13
  },
  {
   "metadata": {
    "ExecuteTime": {
     "end_time": "2025-05-24T20:41:49.552249Z",
     "start_time": "2025-05-24T20:41:49.547200Z"
    }
   },
   "cell_type": "code",
   "source": [
    "df_weekday_aligned['ER'] = er_mid\n",
    "\n",
    "df_weekday_aligned"
   ],
   "id": "6873a4c0b932ce6a",
   "outputs": [
    {
     "data": {
      "text/plain": [
       "           Date  rate_diff        ER\n",
       "0    2015-01-01      -5.10  9.621861\n",
       "1    2015-01-02      -5.10  9.563429\n",
       "2    2015-01-05      -5.10  9.499834\n",
       "3    2015-01-06      -5.10  9.454924\n",
       "4    2015-01-07      -5.10  9.389671\n",
       "...         ...        ...       ...\n",
       "2697 2025-05-12       1.15  9.568874\n",
       "2698 2025-05-13       1.15  9.529573\n",
       "2699 2025-05-14       1.15  9.601536\n",
       "2700 2025-05-15       1.15  9.577489\n",
       "2701 2025-05-16       1.15  9.580976\n",
       "\n",
       "[2702 rows x 3 columns]"
      ],
      "text/html": [
       "<div>\n",
       "<style scoped>\n",
       "    .dataframe tbody tr th:only-of-type {\n",
       "        vertical-align: middle;\n",
       "    }\n",
       "\n",
       "    .dataframe tbody tr th {\n",
       "        vertical-align: top;\n",
       "    }\n",
       "\n",
       "    .dataframe thead th {\n",
       "        text-align: right;\n",
       "    }\n",
       "</style>\n",
       "<table border=\"1\" class=\"dataframe\">\n",
       "  <thead>\n",
       "    <tr style=\"text-align: right;\">\n",
       "      <th></th>\n",
       "      <th>Date</th>\n",
       "      <th>rate_diff</th>\n",
       "      <th>ER</th>\n",
       "    </tr>\n",
       "  </thead>\n",
       "  <tbody>\n",
       "    <tr>\n",
       "      <th>0</th>\n",
       "      <td>2015-01-01</td>\n",
       "      <td>-5.10</td>\n",
       "      <td>9.621861</td>\n",
       "    </tr>\n",
       "    <tr>\n",
       "      <th>1</th>\n",
       "      <td>2015-01-02</td>\n",
       "      <td>-5.10</td>\n",
       "      <td>9.563429</td>\n",
       "    </tr>\n",
       "    <tr>\n",
       "      <th>2</th>\n",
       "      <td>2015-01-05</td>\n",
       "      <td>-5.10</td>\n",
       "      <td>9.499834</td>\n",
       "    </tr>\n",
       "    <tr>\n",
       "      <th>3</th>\n",
       "      <td>2015-01-06</td>\n",
       "      <td>-5.10</td>\n",
       "      <td>9.454924</td>\n",
       "    </tr>\n",
       "    <tr>\n",
       "      <th>4</th>\n",
       "      <td>2015-01-07</td>\n",
       "      <td>-5.10</td>\n",
       "      <td>9.389671</td>\n",
       "    </tr>\n",
       "    <tr>\n",
       "      <th>...</th>\n",
       "      <td>...</td>\n",
       "      <td>...</td>\n",
       "      <td>...</td>\n",
       "    </tr>\n",
       "    <tr>\n",
       "      <th>2697</th>\n",
       "      <td>2025-05-12</td>\n",
       "      <td>1.15</td>\n",
       "      <td>9.568874</td>\n",
       "    </tr>\n",
       "    <tr>\n",
       "      <th>2698</th>\n",
       "      <td>2025-05-13</td>\n",
       "      <td>1.15</td>\n",
       "      <td>9.529573</td>\n",
       "    </tr>\n",
       "    <tr>\n",
       "      <th>2699</th>\n",
       "      <td>2025-05-14</td>\n",
       "      <td>1.15</td>\n",
       "      <td>9.601536</td>\n",
       "    </tr>\n",
       "    <tr>\n",
       "      <th>2700</th>\n",
       "      <td>2025-05-15</td>\n",
       "      <td>1.15</td>\n",
       "      <td>9.577489</td>\n",
       "    </tr>\n",
       "    <tr>\n",
       "      <th>2701</th>\n",
       "      <td>2025-05-16</td>\n",
       "      <td>1.15</td>\n",
       "      <td>9.580976</td>\n",
       "    </tr>\n",
       "  </tbody>\n",
       "</table>\n",
       "<p>2702 rows × 3 columns</p>\n",
       "</div>"
      ]
     },
     "execution_count": 14,
     "metadata": {},
     "output_type": "execute_result"
    }
   ],
   "execution_count": 14
  },
  {
   "metadata": {
    "ExecuteTime": {
     "end_time": "2025-05-24T20:41:49.585303Z",
     "start_time": "2025-05-24T20:41:49.582434Z"
    }
   },
   "cell_type": "code",
   "source": [
    "df_weekday_aligned['trade_war'] = 0\n",
    "df_weekday_aligned.loc[(df_weekday_aligned['Date'] >= '2018-03-22') & (df_weekday_aligned['Date'] <= '2018-12-01'), 'trade_war'] = 1\n",
    "df_weekday_aligned.loc[(df_weekday_aligned['Date'] >= '2025-02-01') , 'trade_war'] = 1"
   ],
   "id": "69c611ba44573f7",
   "outputs": [],
   "execution_count": 15
  },
  {
   "metadata": {
    "ExecuteTime": {
     "end_time": "2025-05-24T20:41:49.628786Z",
     "start_time": "2025-05-24T20:41:49.627311Z"
    }
   },
   "cell_type": "code",
   "source": "df_all = df_weekday_aligned",
   "id": "38b01600120b8a98",
   "outputs": [],
   "execution_count": 16
  },
  {
   "metadata": {
    "ExecuteTime": {
     "end_time": "2025-05-24T20:41:49.659251Z",
     "start_time": "2025-05-24T20:41:49.653633Z"
    }
   },
   "cell_type": "code",
   "source": [
    "df_all['prev_change'] = df_all['ER'].pct_change().fillna(0)\n",
    "\n",
    "# Create trend direction label (1 if next day up, 0 if down)\n",
    "df_all['trend_up'] = (df_all['ER'].diff().shift(-1) > 0).astype(int)\n",
    "df_all.dropna(inplace=True)  # drop last row if trend_up for next day is NaN\n",
    "\n",
    "# Display the final feature set\n",
    "display(df_all.tail(5))"
   ],
   "id": "6296c1379c76d0d9",
   "outputs": [
    {
     "data": {
      "text/plain": [
       "           Date  rate_diff        ER  trade_war  prev_change  trend_up\n",
       "2697 2025-05-12       1.15  9.568874          1    -0.002454         0\n",
       "2698 2025-05-13       1.15  9.529573          1    -0.004107         1\n",
       "2699 2025-05-14       1.15  9.601536          1     0.007552         0\n",
       "2700 2025-05-15       1.15  9.577489          1    -0.002504         1\n",
       "2701 2025-05-16       1.15  9.580976          1     0.000364         0"
      ],
      "text/html": [
       "<div>\n",
       "<style scoped>\n",
       "    .dataframe tbody tr th:only-of-type {\n",
       "        vertical-align: middle;\n",
       "    }\n",
       "\n",
       "    .dataframe tbody tr th {\n",
       "        vertical-align: top;\n",
       "    }\n",
       "\n",
       "    .dataframe thead th {\n",
       "        text-align: right;\n",
       "    }\n",
       "</style>\n",
       "<table border=\"1\" class=\"dataframe\">\n",
       "  <thead>\n",
       "    <tr style=\"text-align: right;\">\n",
       "      <th></th>\n",
       "      <th>Date</th>\n",
       "      <th>rate_diff</th>\n",
       "      <th>ER</th>\n",
       "      <th>trade_war</th>\n",
       "      <th>prev_change</th>\n",
       "      <th>trend_up</th>\n",
       "    </tr>\n",
       "  </thead>\n",
       "  <tbody>\n",
       "    <tr>\n",
       "      <th>2697</th>\n",
       "      <td>2025-05-12</td>\n",
       "      <td>1.15</td>\n",
       "      <td>9.568874</td>\n",
       "      <td>1</td>\n",
       "      <td>-0.002454</td>\n",
       "      <td>0</td>\n",
       "    </tr>\n",
       "    <tr>\n",
       "      <th>2698</th>\n",
       "      <td>2025-05-13</td>\n",
       "      <td>1.15</td>\n",
       "      <td>9.529573</td>\n",
       "      <td>1</td>\n",
       "      <td>-0.004107</td>\n",
       "      <td>1</td>\n",
       "    </tr>\n",
       "    <tr>\n",
       "      <th>2699</th>\n",
       "      <td>2025-05-14</td>\n",
       "      <td>1.15</td>\n",
       "      <td>9.601536</td>\n",
       "      <td>1</td>\n",
       "      <td>0.007552</td>\n",
       "      <td>0</td>\n",
       "    </tr>\n",
       "    <tr>\n",
       "      <th>2700</th>\n",
       "      <td>2025-05-15</td>\n",
       "      <td>1.15</td>\n",
       "      <td>9.577489</td>\n",
       "      <td>1</td>\n",
       "      <td>-0.002504</td>\n",
       "      <td>1</td>\n",
       "    </tr>\n",
       "    <tr>\n",
       "      <th>2701</th>\n",
       "      <td>2025-05-16</td>\n",
       "      <td>1.15</td>\n",
       "      <td>9.580976</td>\n",
       "      <td>1</td>\n",
       "      <td>0.000364</td>\n",
       "      <td>0</td>\n",
       "    </tr>\n",
       "  </tbody>\n",
       "</table>\n",
       "</div>"
      ]
     },
     "metadata": {},
     "output_type": "display_data"
    }
   ],
   "execution_count": 17
  },
  {
   "cell_type": "code",
   "id": "initial_id",
   "metadata": {
    "collapsed": true,
    "ExecuteTime": {
     "end_time": "2025-05-24T20:41:49.667513Z",
     "start_time": "2025-05-24T20:41:49.663968Z"
    }
   },
   "source": [
    "lstm_df = df_all.drop(['prev_change'], axis=1)\n",
    "\n",
    "lstm_df['Date'] = pd.to_datetime(lstm_df['Date'])  # 保证为 datetime 类型\n",
    "lstm_df = lstm_df.set_index('Date')  # 设置为 index"
   ],
   "outputs": [],
   "execution_count": 18
  },
  {
   "metadata": {
    "ExecuteTime": {
     "end_time": "2025-05-24T20:41:49.706038Z",
     "start_time": "2025-05-24T20:41:49.703504Z"
    }
   },
   "cell_type": "code",
   "source": [
    "np.random.seed(42)\n",
    "random.seed(42)\n",
    "os.environ['PYTHONHASHSEED'] = str(42)\n",
    "\n",
    "# 固定 TensorFlow 随机种子\n",
    "tf.random.set_seed(42)\n",
    "\n",
    "# 若用GPU，确保 TensorFlow 使用确定性算法\n",
    "# 注意：这会牺牲一定速度\n",
    "from tensorflow.keras import backend as K\n",
    "os.environ['TF_DETERMINISTIC_OPS'] = '1'"
   ],
   "id": "83a25333ac7c25ff",
   "outputs": [],
   "execution_count": 19
  },
  {
   "metadata": {
    "ExecuteTime": {
     "end_time": "2025-05-24T20:45:45.591138Z",
     "start_time": "2025-05-24T20:45:29.335545Z"
    }
   },
   "cell_type": "code",
   "source": [
    "# Split data into training and testing sets using 80/20 ratio\n",
    "split_idx = int(len(lstm_df) * 0.75)\n",
    "train_df = lstm_df.iloc[:split_idx]\n",
    "test_df = lstm_df.iloc[split_idx:]\n",
    "\n",
    "# Separate features (X) and target (y)\n",
    "X_train = train_df#.drop(['rate_diff'],axis=1) # 注意：这里只取特征列\n",
    "y_train = train_df['trend_up']\n",
    "X_test = test_df#.drop(['rate_diff'],axis=1)\n",
    "y_test = test_df['trend_up']\n",
    "\n",
    "# Normalize features and target using Min-Max scaling (fit on training data only)\n",
    "feature_scaler = MinMaxScaler()\n",
    "target_scaler = MinMaxScaler()\n",
    "X_train_scaled = feature_scaler.fit_transform(X_train)\n",
    "X_test_scaled = feature_scaler.transform(X_test)\n",
    "y_train_scaled = target_scaler.fit_transform(y_train.values.reshape(-1, 1))\n",
    "y_test_scaled = target_scaler.transform(y_test.values.reshape(-1, 1))\n",
    "\n",
    "# Prepare data for LSTM: create sequences of length `lookback` for each training example\n",
    "lookback = 12  # use past 12 months to predict the next month\n",
    "X_train_seq, y_train_seq = [], []\n",
    "for i in range(lookback, len(X_train_scaled)):\n",
    "    # sequence of `lookback` feature vectors\n",
    "    X_train_seq.append(X_train_scaled[i-lookback:i])\n",
    "    # target is the exchange rate at this time (one month ahead of last input month)\n",
    "    y_train_seq.append(y_train_scaled[i])\n",
    "X_train_seq = np.array(X_train_seq)\n",
    "y_train_seq = np.array(y_train_seq)\n",
    "\n",
    "# Prepare sequences for the test set (using preceding data for initial sequence)\n",
    "X_test_seq, y_test_seq = [], []\n",
    "# Concatenate train and test for sequence generation to include trailing train data in initial test sequences\n",
    "total_X = np.concatenate((X_train_scaled, X_test_scaled), axis=0)\n",
    "total_y = np.concatenate((y_train_scaled, y_test_scaled), axis=0)\n",
    "train_len = len(X_train_scaled)\n",
    "for i in range(train_len, len(total_X)):\n",
    "    if i < lookback:\n",
    "        continue  # skip until we have enough history\n",
    "    X_test_seq.append(total_X[i-lookback:i])\n",
    "    y_test_seq.append(total_y[i])\n",
    "X_test_seq = np.array(X_test_seq)\n",
    "y_test_seq = np.array(y_test_seq)\n",
    "\n",
    "# Build the LSTM model\n",
    "from keras.models import Sequential\n",
    "from keras.layers import LSTM, Dense, Dropout\n",
    "# 改进后的双层 LSTM 架构\n",
    "model = Sequential()\n",
    "model.add(LSTM(64, return_sequences=True, input_shape=(lookback, X_train_seq.shape[2])))\n",
    "model.add(Dropout(0.2))\n",
    "model.add(LSTM(32))\n",
    "model.add(Dense(1, activation='sigmoid'))\n",
    "\n",
    "# 别忘了这一步！！\n",
    "model.compile(optimizer=Adam(), loss='binary_crossentropy', metrics=['accuracy'])\n",
    "\n",
    "# 然后再训练\n",
    "history = model.fit(X_train_seq, y_train_seq, epochs=50, batch_size=16, validation_split=0.1, verbose=1)"
   ],
   "id": "3d53b9a0387b5b76",
   "outputs": [
    {
     "name": "stdout",
     "output_type": "stream",
     "text": [
      "Epoch 1/50\n"
     ]
    },
    {
     "name": "stderr",
     "output_type": "stream",
     "text": [
      "/Users/loki/PycharmProjects/PythonProject5/.venv/lib/python3.9/site-packages/keras/src/layers/rnn/rnn.py:200: UserWarning: Do not pass an `input_shape`/`input_dim` argument to a layer. When using Sequential models, prefer using an `Input(shape)` object as the first layer in the model instead.\n",
      "  super().__init__(**kwargs)\n",
      "2025-05-24 21:45:29.380328: E tensorflow/core/framework/node_def_util.cc:680] NodeDef mentions attribute use_unbounded_threadpool which is not in the op definition: Op<name=MapDataset; signature=input_dataset:variant, other_arguments: -> handle:variant; attr=f:func; attr=Targuments:list(type),min=0; attr=output_types:list(type),min=1; attr=output_shapes:list(shape),min=1; attr=use_inter_op_parallelism:bool,default=true; attr=preserve_cardinality:bool,default=false; attr=force_synchronous:bool,default=false; attr=metadata:string,default=\"\"> This may be expected if your graph generating binary is newer  than this binary. Unknown attributes will be ignored. NodeDef: {{node ParallelMapDatasetV2/_15}}\n",
      "2025-05-24 21:45:29.380556: E tensorflow/core/framework/node_def_util.cc:680] NodeDef mentions attribute use_unbounded_threadpool which is not in the op definition: Op<name=MapDataset; signature=input_dataset:variant, other_arguments: -> handle:variant; attr=f:func; attr=Targuments:list(type),min=0; attr=output_types:list(type),min=1; attr=output_shapes:list(shape),min=1; attr=use_inter_op_parallelism:bool,default=true; attr=preserve_cardinality:bool,default=false; attr=force_synchronous:bool,default=false; attr=metadata:string,default=\"\"> This may be expected if your graph generating binary is newer  than this binary. Unknown attributes will be ignored. NodeDef: {{node ParallelMapDatasetV2/_15}}\n"
     ]
    },
    {
     "name": "stdout",
     "output_type": "stream",
     "text": [
      "\u001B[1m114/114\u001B[0m \u001B[32m━━━━━━━━━━━━━━━━━━━━\u001B[0m\u001B[37m\u001B[0m \u001B[1m1s\u001B[0m 3ms/step - accuracy: 0.5230 - loss: 0.6930 - val_accuracy: 0.5050 - val_loss: 0.6935\n",
      "Epoch 2/50\n",
      "\u001B[1m114/114\u001B[0m \u001B[32m━━━━━━━━━━━━━━━━━━━━\u001B[0m\u001B[37m\u001B[0m \u001B[1m0s\u001B[0m 3ms/step - accuracy: 0.5163 - loss: 0.6908 - val_accuracy: 0.5050 - val_loss: 0.6913\n",
      "Epoch 3/50\n",
      "\u001B[1m114/114\u001B[0m \u001B[32m━━━━━━━━━━━━━━━━━━━━\u001B[0m\u001B[37m\u001B[0m \u001B[1m0s\u001B[0m 3ms/step - accuracy: 0.5307 - loss: 0.6900 - val_accuracy: 0.5297 - val_loss: 0.6901\n",
      "Epoch 4/50\n",
      "\u001B[1m114/114\u001B[0m \u001B[32m━━━━━━━━━━━━━━━━━━━━\u001B[0m\u001B[37m\u001B[0m \u001B[1m0s\u001B[0m 3ms/step - accuracy: 0.5463 - loss: 0.6887 - val_accuracy: 0.5495 - val_loss: 0.6896\n",
      "Epoch 5/50\n",
      "\u001B[1m114/114\u001B[0m \u001B[32m━━━━━━━━━━━━━━━━━━━━\u001B[0m\u001B[37m\u001B[0m \u001B[1m0s\u001B[0m 3ms/step - accuracy: 0.5507 - loss: 0.6878 - val_accuracy: 0.5743 - val_loss: 0.6889\n",
      "Epoch 6/50\n",
      "\u001B[1m114/114\u001B[0m \u001B[32m━━━━━━━━━━━━━━━━━━━━\u001B[0m\u001B[37m\u001B[0m \u001B[1m0s\u001B[0m 3ms/step - accuracy: 0.5517 - loss: 0.6865 - val_accuracy: 0.5693 - val_loss: 0.6886\n",
      "Epoch 7/50\n",
      "\u001B[1m114/114\u001B[0m \u001B[32m━━━━━━━━━━━━━━━━━━━━\u001B[0m\u001B[37m\u001B[0m \u001B[1m0s\u001B[0m 3ms/step - accuracy: 0.5449 - loss: 0.6860 - val_accuracy: 0.5743 - val_loss: 0.6884\n",
      "Epoch 8/50\n",
      "\u001B[1m114/114\u001B[0m \u001B[32m━━━━━━━━━━━━━━━━━━━━\u001B[0m\u001B[37m\u001B[0m \u001B[1m0s\u001B[0m 3ms/step - accuracy: 0.5482 - loss: 0.6864 - val_accuracy: 0.5594 - val_loss: 0.6878\n",
      "Epoch 9/50\n",
      "\u001B[1m114/114\u001B[0m \u001B[32m━━━━━━━━━━━━━━━━━━━━\u001B[0m\u001B[37m\u001B[0m \u001B[1m0s\u001B[0m 3ms/step - accuracy: 0.5531 - loss: 0.6859 - val_accuracy: 0.5644 - val_loss: 0.6872\n",
      "Epoch 10/50\n",
      "\u001B[1m114/114\u001B[0m \u001B[32m━━━━━━━━━━━━━━━━━━━━\u001B[0m\u001B[37m\u001B[0m \u001B[1m0s\u001B[0m 3ms/step - accuracy: 0.5398 - loss: 0.6854 - val_accuracy: 0.5792 - val_loss: 0.6868\n",
      "Epoch 11/50\n",
      "\u001B[1m114/114\u001B[0m \u001B[32m━━━━━━━━━━━━━━━━━━━━\u001B[0m\u001B[37m\u001B[0m \u001B[1m0s\u001B[0m 3ms/step - accuracy: 0.5485 - loss: 0.6851 - val_accuracy: 0.5792 - val_loss: 0.6859\n",
      "Epoch 12/50\n",
      "\u001B[1m114/114\u001B[0m \u001B[32m━━━━━━━━━━━━━━━━━━━━\u001B[0m\u001B[37m\u001B[0m \u001B[1m0s\u001B[0m 3ms/step - accuracy: 0.5603 - loss: 0.6846 - val_accuracy: 0.5842 - val_loss: 0.6857\n",
      "Epoch 13/50\n",
      "\u001B[1m114/114\u001B[0m \u001B[32m━━━━━━━━━━━━━━━━━━━━\u001B[0m\u001B[37m\u001B[0m \u001B[1m0s\u001B[0m 3ms/step - accuracy: 0.5710 - loss: 0.6836 - val_accuracy: 0.5743 - val_loss: 0.6853\n",
      "Epoch 14/50\n",
      "\u001B[1m114/114\u001B[0m \u001B[32m━━━━━━━━━━━━━━━━━━━━\u001B[0m\u001B[37m\u001B[0m \u001B[1m0s\u001B[0m 3ms/step - accuracy: 0.5772 - loss: 0.6827 - val_accuracy: 0.5743 - val_loss: 0.6850\n",
      "Epoch 15/50\n",
      "\u001B[1m114/114\u001B[0m \u001B[32m━━━━━━━━━━━━━━━━━━━━\u001B[0m\u001B[37m\u001B[0m \u001B[1m0s\u001B[0m 3ms/step - accuracy: 0.5832 - loss: 0.6823 - val_accuracy: 0.5644 - val_loss: 0.6850\n",
      "Epoch 16/50\n",
      "\u001B[1m114/114\u001B[0m \u001B[32m━━━━━━━━━━━━━━━━━━━━\u001B[0m\u001B[37m\u001B[0m \u001B[1m0s\u001B[0m 3ms/step - accuracy: 0.5716 - loss: 0.6808 - val_accuracy: 0.5743 - val_loss: 0.6857\n",
      "Epoch 17/50\n",
      "\u001B[1m114/114\u001B[0m \u001B[32m━━━━━━━━━━━━━━━━━━━━\u001B[0m\u001B[37m\u001B[0m \u001B[1m0s\u001B[0m 3ms/step - accuracy: 0.5686 - loss: 0.6839 - val_accuracy: 0.5594 - val_loss: 0.6844\n",
      "Epoch 18/50\n",
      "\u001B[1m114/114\u001B[0m \u001B[32m━━━━━━━━━━━━━━━━━━━━\u001B[0m\u001B[37m\u001B[0m \u001B[1m0s\u001B[0m 3ms/step - accuracy: 0.5629 - loss: 0.6828 - val_accuracy: 0.5594 - val_loss: 0.6850\n",
      "Epoch 19/50\n",
      "\u001B[1m114/114\u001B[0m \u001B[32m━━━━━━━━━━━━━━━━━━━━\u001B[0m\u001B[37m\u001B[0m \u001B[1m0s\u001B[0m 3ms/step - accuracy: 0.5759 - loss: 0.6810 - val_accuracy: 0.5594 - val_loss: 0.6843\n",
      "Epoch 20/50\n",
      "\u001B[1m114/114\u001B[0m \u001B[32m━━━━━━━━━━━━━━━━━━━━\u001B[0m\u001B[37m\u001B[0m \u001B[1m0s\u001B[0m 3ms/step - accuracy: 0.5742 - loss: 0.6814 - val_accuracy: 0.5594 - val_loss: 0.6844\n",
      "Epoch 21/50\n",
      "\u001B[1m114/114\u001B[0m \u001B[32m━━━━━━━━━━━━━━━━━━━━\u001B[0m\u001B[37m\u001B[0m \u001B[1m0s\u001B[0m 3ms/step - accuracy: 0.5737 - loss: 0.6805 - val_accuracy: 0.5693 - val_loss: 0.6847\n",
      "Epoch 22/50\n",
      "\u001B[1m114/114\u001B[0m \u001B[32m━━━━━━━━━━━━━━━━━━━━\u001B[0m\u001B[37m\u001B[0m \u001B[1m0s\u001B[0m 3ms/step - accuracy: 0.5632 - loss: 0.6812 - val_accuracy: 0.5644 - val_loss: 0.6847\n",
      "Epoch 23/50\n",
      "\u001B[1m114/114\u001B[0m \u001B[32m━━━━━━━━━━━━━━━━━━━━\u001B[0m\u001B[37m\u001B[0m \u001B[1m0s\u001B[0m 3ms/step - accuracy: 0.5722 - loss: 0.6814 - val_accuracy: 0.5594 - val_loss: 0.6839\n",
      "Epoch 24/50\n",
      "\u001B[1m114/114\u001B[0m \u001B[32m━━━━━━━━━━━━━━━━━━━━\u001B[0m\u001B[37m\u001B[0m \u001B[1m0s\u001B[0m 3ms/step - accuracy: 0.5675 - loss: 0.6805 - val_accuracy: 0.5594 - val_loss: 0.6841\n",
      "Epoch 25/50\n",
      "\u001B[1m114/114\u001B[0m \u001B[32m━━━━━━━━━━━━━━━━━━━━\u001B[0m\u001B[37m\u001B[0m \u001B[1m0s\u001B[0m 3ms/step - accuracy: 0.5671 - loss: 0.6810 - val_accuracy: 0.5594 - val_loss: 0.6840\n",
      "Epoch 26/50\n",
      "\u001B[1m114/114\u001B[0m \u001B[32m━━━━━━━━━━━━━━━━━━━━\u001B[0m\u001B[37m\u001B[0m \u001B[1m0s\u001B[0m 3ms/step - accuracy: 0.5721 - loss: 0.6803 - val_accuracy: 0.5644 - val_loss: 0.6837\n",
      "Epoch 27/50\n",
      "\u001B[1m114/114\u001B[0m \u001B[32m━━━━━━━━━━━━━━━━━━━━\u001B[0m\u001B[37m\u001B[0m \u001B[1m0s\u001B[0m 3ms/step - accuracy: 0.5700 - loss: 0.6796 - val_accuracy: 0.5594 - val_loss: 0.6834\n",
      "Epoch 28/50\n",
      "\u001B[1m114/114\u001B[0m \u001B[32m━━━━━━━━━━━━━━━━━━━━\u001B[0m\u001B[37m\u001B[0m \u001B[1m0s\u001B[0m 3ms/step - accuracy: 0.5816 - loss: 0.6787 - val_accuracy: 0.5644 - val_loss: 0.6835\n",
      "Epoch 29/50\n",
      "\u001B[1m114/114\u001B[0m \u001B[32m━━━━━━━━━━━━━━━━━━━━\u001B[0m\u001B[37m\u001B[0m \u001B[1m0s\u001B[0m 3ms/step - accuracy: 0.5834 - loss: 0.6803 - val_accuracy: 0.5446 - val_loss: 0.6840\n",
      "Epoch 30/50\n",
      "\u001B[1m114/114\u001B[0m \u001B[32m━━━━━━━━━━━━━━━━━━━━\u001B[0m\u001B[37m\u001B[0m \u001B[1m0s\u001B[0m 3ms/step - accuracy: 0.5800 - loss: 0.6785 - val_accuracy: 0.5644 - val_loss: 0.6832\n",
      "Epoch 31/50\n",
      "\u001B[1m114/114\u001B[0m \u001B[32m━━━━━━━━━━━━━━━━━━━━\u001B[0m\u001B[37m\u001B[0m \u001B[1m0s\u001B[0m 3ms/step - accuracy: 0.5748 - loss: 0.6778 - val_accuracy: 0.5644 - val_loss: 0.6834\n",
      "Epoch 32/50\n",
      "\u001B[1m114/114\u001B[0m \u001B[32m━━━━━━━━━━━━━━━━━━━━\u001B[0m\u001B[37m\u001B[0m \u001B[1m0s\u001B[0m 3ms/step - accuracy: 0.5641 - loss: 0.6787 - val_accuracy: 0.5594 - val_loss: 0.6823\n",
      "Epoch 33/50\n",
      "\u001B[1m114/114\u001B[0m \u001B[32m━━━━━━━━━━━━━━━━━━━━\u001B[0m\u001B[37m\u001B[0m \u001B[1m0s\u001B[0m 3ms/step - accuracy: 0.5809 - loss: 0.6783 - val_accuracy: 0.5693 - val_loss: 0.6815\n",
      "Epoch 34/50\n",
      "\u001B[1m114/114\u001B[0m \u001B[32m━━━━━━━━━━━━━━━━━━━━\u001B[0m\u001B[37m\u001B[0m \u001B[1m0s\u001B[0m 3ms/step - accuracy: 0.5756 - loss: 0.6799 - val_accuracy: 0.5644 - val_loss: 0.6829\n",
      "Epoch 35/50\n",
      "\u001B[1m114/114\u001B[0m \u001B[32m━━━━━━━━━━━━━━━━━━━━\u001B[0m\u001B[37m\u001B[0m \u001B[1m0s\u001B[0m 3ms/step - accuracy: 0.5744 - loss: 0.6772 - val_accuracy: 0.5792 - val_loss: 0.6825\n",
      "Epoch 36/50\n",
      "\u001B[1m114/114\u001B[0m \u001B[32m━━━━━━━━━━━━━━━━━━━━\u001B[0m\u001B[37m\u001B[0m \u001B[1m0s\u001B[0m 3ms/step - accuracy: 0.5708 - loss: 0.6784 - val_accuracy: 0.5792 - val_loss: 0.6818\n",
      "Epoch 37/50\n",
      "\u001B[1m114/114\u001B[0m \u001B[32m━━━━━━━━━━━━━━━━━━━━\u001B[0m\u001B[37m\u001B[0m \u001B[1m0s\u001B[0m 3ms/step - accuracy: 0.5758 - loss: 0.6767 - val_accuracy: 0.5693 - val_loss: 0.6825\n",
      "Epoch 38/50\n",
      "\u001B[1m114/114\u001B[0m \u001B[32m━━━━━━━━━━━━━━━━━━━━\u001B[0m\u001B[37m\u001B[0m \u001B[1m0s\u001B[0m 3ms/step - accuracy: 0.5766 - loss: 0.6757 - val_accuracy: 0.5693 - val_loss: 0.6806\n",
      "Epoch 39/50\n",
      "\u001B[1m114/114\u001B[0m \u001B[32m━━━━━━━━━━━━━━━━━━━━\u001B[0m\u001B[37m\u001B[0m \u001B[1m0s\u001B[0m 3ms/step - accuracy: 0.5756 - loss: 0.6788 - val_accuracy: 0.5842 - val_loss: 0.6810\n",
      "Epoch 40/50\n",
      "\u001B[1m114/114\u001B[0m \u001B[32m━━━━━━━━━━━━━━━━━━━━\u001B[0m\u001B[37m\u001B[0m \u001B[1m0s\u001B[0m 3ms/step - accuracy: 0.5684 - loss: 0.6792 - val_accuracy: 0.5743 - val_loss: 0.6826\n",
      "Epoch 41/50\n",
      "\u001B[1m114/114\u001B[0m \u001B[32m━━━━━━━━━━━━━━━━━━━━\u001B[0m\u001B[37m\u001B[0m \u001B[1m0s\u001B[0m 3ms/step - accuracy: 0.5708 - loss: 0.6774 - val_accuracy: 0.5644 - val_loss: 0.6861\n",
      "Epoch 42/50\n",
      "\u001B[1m114/114\u001B[0m \u001B[32m━━━━━━━━━━━━━━━━━━━━\u001B[0m\u001B[37m\u001B[0m \u001B[1m0s\u001B[0m 3ms/step - accuracy: 0.5707 - loss: 0.6766 - val_accuracy: 0.5693 - val_loss: 0.6844\n",
      "Epoch 43/50\n",
      "\u001B[1m114/114\u001B[0m \u001B[32m━━━━━━━━━━━━━━━━━━━━\u001B[0m\u001B[37m\u001B[0m \u001B[1m0s\u001B[0m 3ms/step - accuracy: 0.5710 - loss: 0.6799 - val_accuracy: 0.5743 - val_loss: 0.6851\n",
      "Epoch 44/50\n",
      "\u001B[1m114/114\u001B[0m \u001B[32m━━━━━━━━━━━━━━━━━━━━\u001B[0m\u001B[37m\u001B[0m \u001B[1m0s\u001B[0m 3ms/step - accuracy: 0.5809 - loss: 0.6764 - val_accuracy: 0.5990 - val_loss: 0.6834\n",
      "Epoch 45/50\n",
      "\u001B[1m114/114\u001B[0m \u001B[32m━━━━━━━━━━━━━━━━━━━━\u001B[0m\u001B[37m\u001B[0m \u001B[1m0s\u001B[0m 3ms/step - accuracy: 0.5798 - loss: 0.6731 - val_accuracy: 0.5941 - val_loss: 0.6818\n",
      "Epoch 46/50\n",
      "\u001B[1m114/114\u001B[0m \u001B[32m━━━━━━━━━━━━━━━━━━━━\u001B[0m\u001B[37m\u001B[0m \u001B[1m0s\u001B[0m 3ms/step - accuracy: 0.5870 - loss: 0.6750 - val_accuracy: 0.5743 - val_loss: 0.6841\n",
      "Epoch 47/50\n",
      "\u001B[1m114/114\u001B[0m \u001B[32m━━━━━━━━━━━━━━━━━━━━\u001B[0m\u001B[37m\u001B[0m \u001B[1m0s\u001B[0m 3ms/step - accuracy: 0.5747 - loss: 0.6757 - val_accuracy: 0.5743 - val_loss: 0.6843\n",
      "Epoch 48/50\n",
      "\u001B[1m114/114\u001B[0m \u001B[32m━━━━━━━━━━━━━━━━━━━━\u001B[0m\u001B[37m\u001B[0m \u001B[1m0s\u001B[0m 3ms/step - accuracy: 0.5668 - loss: 0.6741 - val_accuracy: 0.5743 - val_loss: 0.6854\n",
      "Epoch 49/50\n",
      "\u001B[1m114/114\u001B[0m \u001B[32m━━━━━━━━━━━━━━━━━━━━\u001B[0m\u001B[37m\u001B[0m \u001B[1m0s\u001B[0m 3ms/step - accuracy: 0.5652 - loss: 0.6724 - val_accuracy: 0.5941 - val_loss: 0.6841\n",
      "Epoch 50/50\n",
      "\u001B[1m114/114\u001B[0m \u001B[32m━━━━━━━━━━━━━━━━━━━━\u001B[0m\u001B[37m\u001B[0m \u001B[1m0s\u001B[0m 3ms/step - accuracy: 0.5809 - loss: 0.6719 - val_accuracy: 0.5594 - val_loss: 0.6855\n"
     ]
    }
   ],
   "execution_count": 28
  },
  {
   "metadata": {
    "ExecuteTime": {
     "end_time": "2025-05-24T20:42:51.556919Z",
     "start_time": "2025-05-24T20:42:51.533537Z"
    }
   },
   "cell_type": "code",
   "source": [
    "# Evaluate the model on the test set\n",
    "test_loss = model.evaluate(X_test_seq, y_test_seq, verbose=0)\n",
    "print(f\"Test MSE Loss: {test_loss:.6f}\")\n",
    "\n",
    "# Make predictions for the test period\n",
    "y_pred_scaled = model.predict(X_test_seq)\n",
    "# Inverse-transform the predictions back to original scale\n",
    "y_pred = target_scaler.inverse_transform(y_pred_scaled)\n",
    "y_actual = target_scaler.inverse_transform(y_test_seq)\n",
    "\n",
    "# Visualize the results: Actual vs Predicted exchange rate\n",
    "\n",
    "plt.figure(figsize=(8,5))\n",
    "plt.plot(y_actual, label='Actual CNY/GBP')\n",
    "plt.plot(y_pred, label='Predicted CNY/GBP')\n",
    "plt.title('Actual vs Predicted CNY/GBP Exchange Rate (Test Set)')\n",
    "plt.xlabel('Month')\n",
    "plt.ylabel('Exchange Rate (CNY per GBP)')\n",
    "plt.legend()\n",
    "plt.grid(True)\n",
    "plt.show()"
   ],
   "id": "84589ccc09358926",
   "outputs": [
    {
     "ename": "NameError",
     "evalue": "name 'X_test_seq' is not defined",
     "output_type": "error",
     "traceback": [
      "\u001B[0;31m---------------------------------------------------------------------------\u001B[0m",
      "\u001B[0;31mNameError\u001B[0m                                 Traceback (most recent call last)",
      "Cell \u001B[0;32mIn[25], line 2\u001B[0m\n\u001B[1;32m      1\u001B[0m \u001B[38;5;66;03m# Evaluate the model on the test set\u001B[39;00m\n\u001B[0;32m----> 2\u001B[0m test_loss \u001B[38;5;241m=\u001B[39m model\u001B[38;5;241m.\u001B[39mevaluate(\u001B[43mX_test_seq\u001B[49m, y_test_seq, verbose\u001B[38;5;241m=\u001B[39m\u001B[38;5;241m0\u001B[39m)\n\u001B[1;32m      3\u001B[0m \u001B[38;5;28mprint\u001B[39m(\u001B[38;5;124mf\u001B[39m\u001B[38;5;124m\"\u001B[39m\u001B[38;5;124mTest MSE Loss: \u001B[39m\u001B[38;5;132;01m{\u001B[39;00mtest_loss\u001B[38;5;132;01m:\u001B[39;00m\u001B[38;5;124m.6f\u001B[39m\u001B[38;5;132;01m}\u001B[39;00m\u001B[38;5;124m\"\u001B[39m)\n\u001B[1;32m      5\u001B[0m \u001B[38;5;66;03m# Make predictions for the test period\u001B[39;00m\n",
      "\u001B[0;31mNameError\u001B[0m: name 'X_test_seq' is not defined"
     ]
    }
   ],
   "execution_count": 25
  },
  {
   "metadata": {
    "ExecuteTime": {
     "end_time": "2025-05-24T20:43:05.347372Z",
     "start_time": "2025-05-24T20:43:05.327895Z"
    }
   },
   "cell_type": "code",
   "source": [
    "pred_df = pd.DataFrame(y_pred)\n",
    "y_test = y_test.iloc[:-1]\n",
    "error_cal = pd.DataFrame({})\n",
    "error_cal['pred'] = pred_df\n",
    "y_mid = y_test.reset_index(drop=True)\n",
    "error_cal['actual'] = y_mid\n",
    "error_cal['error'] = error_cal['pred'] - error_cal['actual']"
   ],
   "id": "71cac1b566a18da5",
   "outputs": [
    {
     "ename": "AttributeError",
     "evalue": "'numpy.ndarray' object has no attribute 'iloc'",
     "output_type": "error",
     "traceback": [
      "\u001B[0;31m---------------------------------------------------------------------------\u001B[0m",
      "\u001B[0;31mAttributeError\u001B[0m                            Traceback (most recent call last)",
      "Cell \u001B[0;32mIn[26], line 2\u001B[0m\n\u001B[1;32m      1\u001B[0m pred_df \u001B[38;5;241m=\u001B[39m pd\u001B[38;5;241m.\u001B[39mDataFrame(y_pred)\n\u001B[0;32m----> 2\u001B[0m y_test \u001B[38;5;241m=\u001B[39m \u001B[43my_test\u001B[49m\u001B[38;5;241;43m.\u001B[39;49m\u001B[43miloc\u001B[49m[:\u001B[38;5;241m-\u001B[39m\u001B[38;5;241m1\u001B[39m]\n\u001B[1;32m      3\u001B[0m error_cal \u001B[38;5;241m=\u001B[39m pd\u001B[38;5;241m.\u001B[39mDataFrame({})\n\u001B[1;32m      4\u001B[0m error_cal[\u001B[38;5;124m'\u001B[39m\u001B[38;5;124mpred\u001B[39m\u001B[38;5;124m'\u001B[39m] \u001B[38;5;241m=\u001B[39m pred_df\n",
      "\u001B[0;31mAttributeError\u001B[0m: 'numpy.ndarray' object has no attribute 'iloc'"
     ]
    }
   ],
   "execution_count": 26
  },
  {
   "metadata": {
    "ExecuteTime": {
     "end_time": "2025-05-24T20:41:49.850444Z",
     "start_time": "2025-05-24T20:15:51.566334Z"
    }
   },
   "cell_type": "code",
   "source": "error_cal",
   "id": "15158217ec8d9ee7",
   "outputs": [
    {
     "data": {
      "text/plain": [
       "         pred  actual     error\n",
       "0    9.591102     0.0  9.591102\n",
       "1    9.549476     1.0  8.549476\n",
       "2    9.576972     1.0  8.576972\n",
       "3    9.570597     1.0  8.570597\n",
       "4    9.571679     1.0  8.571679\n",
       "..        ...     ...       ...\n",
       "671  9.473228     0.0  9.473228\n",
       "672  9.476431     1.0  8.476431\n",
       "673  9.581597     0.0  9.581597\n",
       "674  9.448416     NaN       NaN\n",
       "675  9.585141     NaN       NaN\n",
       "\n",
       "[676 rows x 3 columns]"
      ],
      "text/html": [
       "<div>\n",
       "<style scoped>\n",
       "    .dataframe tbody tr th:only-of-type {\n",
       "        vertical-align: middle;\n",
       "    }\n",
       "\n",
       "    .dataframe tbody tr th {\n",
       "        vertical-align: top;\n",
       "    }\n",
       "\n",
       "    .dataframe thead th {\n",
       "        text-align: right;\n",
       "    }\n",
       "</style>\n",
       "<table border=\"1\" class=\"dataframe\">\n",
       "  <thead>\n",
       "    <tr style=\"text-align: right;\">\n",
       "      <th></th>\n",
       "      <th>pred</th>\n",
       "      <th>actual</th>\n",
       "      <th>error</th>\n",
       "    </tr>\n",
       "  </thead>\n",
       "  <tbody>\n",
       "    <tr>\n",
       "      <th>0</th>\n",
       "      <td>9.591102</td>\n",
       "      <td>0.0</td>\n",
       "      <td>9.591102</td>\n",
       "    </tr>\n",
       "    <tr>\n",
       "      <th>1</th>\n",
       "      <td>9.549476</td>\n",
       "      <td>1.0</td>\n",
       "      <td>8.549476</td>\n",
       "    </tr>\n",
       "    <tr>\n",
       "      <th>2</th>\n",
       "      <td>9.576972</td>\n",
       "      <td>1.0</td>\n",
       "      <td>8.576972</td>\n",
       "    </tr>\n",
       "    <tr>\n",
       "      <th>3</th>\n",
       "      <td>9.570597</td>\n",
       "      <td>1.0</td>\n",
       "      <td>8.570597</td>\n",
       "    </tr>\n",
       "    <tr>\n",
       "      <th>4</th>\n",
       "      <td>9.571679</td>\n",
       "      <td>1.0</td>\n",
       "      <td>8.571679</td>\n",
       "    </tr>\n",
       "    <tr>\n",
       "      <th>...</th>\n",
       "      <td>...</td>\n",
       "      <td>...</td>\n",
       "      <td>...</td>\n",
       "    </tr>\n",
       "    <tr>\n",
       "      <th>671</th>\n",
       "      <td>9.473228</td>\n",
       "      <td>0.0</td>\n",
       "      <td>9.473228</td>\n",
       "    </tr>\n",
       "    <tr>\n",
       "      <th>672</th>\n",
       "      <td>9.476431</td>\n",
       "      <td>1.0</td>\n",
       "      <td>8.476431</td>\n",
       "    </tr>\n",
       "    <tr>\n",
       "      <th>673</th>\n",
       "      <td>9.581597</td>\n",
       "      <td>0.0</td>\n",
       "      <td>9.581597</td>\n",
       "    </tr>\n",
       "    <tr>\n",
       "      <th>674</th>\n",
       "      <td>9.448416</td>\n",
       "      <td>NaN</td>\n",
       "      <td>NaN</td>\n",
       "    </tr>\n",
       "    <tr>\n",
       "      <th>675</th>\n",
       "      <td>9.585141</td>\n",
       "      <td>NaN</td>\n",
       "      <td>NaN</td>\n",
       "    </tr>\n",
       "  </tbody>\n",
       "</table>\n",
       "<p>676 rows × 3 columns</p>\n",
       "</div>"
      ]
     },
     "execution_count": 38,
     "metadata": {},
     "output_type": "execute_result"
    }
   ],
   "execution_count": 38
  },
  {
   "metadata": {
    "ExecuteTime": {
     "end_time": "2025-05-24T20:41:49.850611Z",
     "start_time": "2025-05-24T20:15:53.807296Z"
    }
   },
   "cell_type": "code",
   "source": [
    "# 计算实际值和预测值的变化趋势（相邻天数差）\n",
    "actual_diff = error_cal['actual'].diff()\n",
    "pred_diff = error_cal['pred'].diff()\n",
    "\n",
    "# 判断趋势是否一致（同为正或同为负 → 相乘大于0）\n",
    "trend_correct = (actual_diff * pred_diff) > 0\n",
    "\n",
    "# 去除第一个 NaN（因为 diff 会在第一行生成 NaN）\n",
    "trend_correct = trend_correct[1:-1]\n",
    "\n",
    "# 计算正确比例\n",
    "trend_accuracy = trend_correct.sum() / len(trend_correct)\n",
    "\n",
    "# 输出\n",
    "print(f\"趋势判断正确的比例为: {trend_accuracy:.2%}\")\n",
    "\n",
    "threshold = 0.05\n",
    "proportion = (error_cal['error'].abs() > threshold).mean()\n",
    "\n",
    "print(f\"误差小于 0.05 的比例为：{(1-proportion):.2%}\")"
   ],
   "id": "11eaad5fdc4f49ca",
   "outputs": [
    {
     "name": "stdout",
     "output_type": "stream",
     "text": [
      "趋势判断正确的比例为: 17.51%\n",
      "误差小于 0.05 的比例为：0.30%\n"
     ]
    }
   ],
   "execution_count": 39
  }
 ],
 "metadata": {
  "kernelspec": {
   "display_name": "Python 3",
   "language": "python",
   "name": "python3"
  },
  "language_info": {
   "codemirror_mode": {
    "name": "ipython",
    "version": 2
   },
   "file_extension": ".py",
   "mimetype": "text/x-python",
   "name": "python",
   "nbconvert_exporter": "python",
   "pygments_lexer": "ipython2",
   "version": "2.7.6"
  }
 },
 "nbformat": 4,
 "nbformat_minor": 5
}
